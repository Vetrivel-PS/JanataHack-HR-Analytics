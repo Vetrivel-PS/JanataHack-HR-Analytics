{
 "cells": [
  {
   "cell_type": "code",
   "execution_count": 1,
   "metadata": {
    "_cell_guid": "b1076dfc-b9ad-4769-8c92-a6c4dae69d19",
    "_uuid": "8f2839f25d086af736a60e9eeb907d3b93b6e0e5"
   },
   "outputs": [
    {
     "name": "stdout",
     "output_type": "stream",
     "text": [
      "/kaggle/input/av-janatahr-042020/train.csv\n",
      "/kaggle/input/av-janatahr-042020/test.csv\n",
      "/kaggle/input/av-janatahr-042020/sample_submission.csv\n"
     ]
    }
   ],
   "source": [
    "# This Python 3 environment comes with many helpful analytics libraries installed\n",
    "# It is defined by the kaggle/python Docker image: https://github.com/kaggle/docker-python\n",
    "# For example, here's several helpful packages to load\n",
    "\n",
    "import numpy as np # linear algebra\n",
    "import pandas as pd # data processing, CSV file I/O (e.g. pd.read_csv)\n",
    "\n",
    "# Input data files are available in the read-only \"../input/\" directory\n",
    "# For example, running this (by clicking run or pressing Shift+Enter) will list all files under the input directory\n",
    "\n",
    "import os\n",
    "for dirname, _, filenames in os.walk('/kaggle/input'):\n",
    "    for filename in filenames:\n",
    "        print(os.path.join(dirname, filename))\n",
    "\n",
    "# You can write up to 5GB to the current directory (/kaggle/working/) that gets preserved as output when you create a version using \"Save & Run All\" \n",
    "# You can also write temporary files to /kaggle/temp/, but they won't be saved outside of the current session"
   ]
  },
  {
   "cell_type": "code",
   "execution_count": 2,
   "metadata": {},
   "outputs": [],
   "source": [
    "#v3: 2400, v23: 673040 #v24 6727"
   ]
  },
  {
   "cell_type": "code",
   "execution_count": 3,
   "metadata": {},
   "outputs": [
    {
     "name": "stdout",
     "output_type": "stream",
     "text": [
      "(18359, 14) (15021, 13) (15021, 2)\n"
     ]
    }
   ],
   "source": [
    "import pandas as pd\n",
    "import numpy as np\n",
    "from sklearn.preprocessing import StandardScaler\n",
    "from sklearn.metrics import auc,roc_auc_score\n",
    "from catboost import CatBoostClassifier,Pool, cv\n",
    "from sklearn.preprocessing import LabelEncoder\n",
    "from lightgbm import LGBMClassifier\n",
    "from sklearn.metrics import roc_curve, auc, classification_report, confusion_matrix, accuracy_score\n",
    "from sklearn.model_selection import train_test_split, cross_val_score, KFold, StratifiedKFold\n",
    "\n",
    "train = pd.read_csv('../input/av-janatahr-042020/train.csv')\n",
    "test = pd.read_csv('../input/av-janatahr-042020/test.csv')\n",
    "sample = pd.read_csv('../input/av-janatahr-042020/sample_submission.csv')\n",
    "print(train.shape, test.shape, sample.shape)"
   ]
  },
  {
   "cell_type": "code",
   "execution_count": 4,
   "metadata": {},
   "outputs": [
    {
     "name": "stdout",
     "output_type": "stream",
     "text": [
      "(33380, 14) (18359, 14) (15021, 13)\n"
     ]
    }
   ],
   "source": [
    "df = pd.concat([train, test])\n",
    "print(df.shape, train.shape, test.shape)"
   ]
  },
  {
   "cell_type": "code",
   "execution_count": 5,
   "metadata": {},
   "outputs": [],
   "source": [
    "#2\n",
    "indx_group = []#\n",
    "\n",
    "for row in df['city_development_index']:\n",
    "    if row <= 0.80:\n",
    "        indx_group.append(0.80)\n",
    "    elif row >0.80 and  row <= 0.83:\n",
    "        indx_group.append(0.83)\n",
    "    elif row > 0.83 and row <= 0.86:\n",
    "        indx_group.append(0.86)\n",
    "    elif row > 0.86 and row <= 0.89:\n",
    "        indx_group.append(0.89)\n",
    "    elif row > 0.80 and row <= 0.90:\n",
    "        indx_group.append(0.90)\n",
    "    elif row > 0.90 and row <= 0.91:\n",
    "        indx_group.append(0.91)\n",
    "    elif row > 0.91 and row <= 0.92:\n",
    "        indx_group.append(0.92)\n",
    "    elif row > 0.92 and row <= 0.93:\n",
    "        indx_group.append(0.93)\n",
    "    elif row > 0.93 and row <= 0.97:\n",
    "        indx_group.append(0.97)\n",
    "df['indx_group'] = indx_group\n",
    "df['indx_group'] = df['indx_group']"
   ]
  },
  {
   "cell_type": "code",
   "execution_count": 6,
   "metadata": {},
   "outputs": [],
   "source": [
    "#2\n",
    "#hrs = []\n",
    "#for row in df['training_hours']:\n",
    "#    if row <= 5:\n",
    "#        hrs.append(5)\n",
    "#    elif row > 5 and row <= 10:\n",
    "#        hrs.append(10)\n",
    "#    elif row > 10 and row <= 15:\n",
    "#        hrs.append(15)\n",
    "#    elif row > 15 and row <= 20:\n",
    "#        hrs.append(20)\n",
    "#    elif row > 20 row <= 25:\n",
    "#        hrs.append(25)\n",
    "#    elif row > 25 and row <= 30:\n",
    "#        hrs.append(30)\n",
    "#    elif row > 30 and row <= 35:\n",
    "#        hrs.append(35)\n",
    "#    elif row > 35 and row <= 40:\n",
    "#        hrs.append(40)\n",
    "#    elif row > 40 and row <= 45:\n",
    "#        hrs.append(45)\n",
    "#    elif row > 45 and row <= 50:\n",
    "#        hrs.append(50)\n",
    "#    elif row > 50 and row <= 60:\n",
    "#        hrs.append(60)\n",
    "#    elif row >60 row <= 70:\n",
    "#        hrs.append(70)\n",
    "#    elif row >70 and row <= 80:\n",
    "#        hrs.append(80)\n",
    "#    elif row >80 and row <= 90:\n",
    "#        hrs.append(90)\n",
    "#    elif row >90 and row <= 100:\n",
    "#        hrs.append(100)\n",
    "#    elif row <= 130:\n",
    "#        hrs.append(130)\n",
    "#    elif row <= 150:\n",
    "#        hrs.append(150)\n",
    "#    elif row <= 170:\n",
    "#        hrs.append(170)\n",
    "#    elif row <= 200:\n",
    "#        hrs.append(200)\n",
    "#    elif row <= 250:\n",
    "#        hrs.append(250)\n",
    "#    elif row <= 500:\n",
    "#        hrs.append(500)\n",
    "#df['hrs'] = hrs\n",
    "#df['hrs'] = df['hrs']"
   ]
  },
  {
   "cell_type": "code",
   "execution_count": 7,
   "metadata": {},
   "outputs": [
    {
     "data": {
      "text/plain": [
       "Pvt Ltd                18114\n",
       "Public Sector           1792\n",
       "Other                    223\n",
       "NGO                      973\n",
       "Funded Startup          1880\n",
       "Early Stage Startup     1029\n",
       "Name: company_type, dtype: int64"
      ]
     },
     "execution_count": 7,
     "metadata": {},
     "output_type": "execute_result"
    }
   ],
   "source": [
    "df['company_type'].value_counts().sort_index(ascending=False)"
   ]
  },
  {
   "cell_type": "code",
   "execution_count": 8,
   "metadata": {},
   "outputs": [],
   "source": [
    "#1\n",
    "df['company_size'].fillna('99999', inplace=True)\n",
    "df['company_type'].fillna('unknown', inplace=True)\n",
    "df['gender'].fillna('Other', inplace=True)\n",
    "df['enrolled_university'].fillna('unknown', inplace=True)\n",
    "df['education_level'].fillna('unknown', inplace=True)\n",
    "df['major_discipline'].fillna('unknown', inplace=True)\n",
    "df['experience'].fillna('<1', inplace=True)\n",
    "df['last_new_job'].fillna('never', inplace=True)"
   ]
  },
  {
   "cell_type": "code",
   "execution_count": 9,
   "metadata": {},
   "outputs": [],
   "source": [
    "#2\n",
    "comp_size = []\n",
    "\n",
    "for row in df['company_size']:\n",
    "    if row == '<10':\n",
    "        comp_size.append(10)\n",
    "    elif row == '10/49':\n",
    "        comp_size.append(50)\n",
    "    elif row == '50-99':\n",
    "        comp_size.append(100)\n",
    "    elif row == '100-500':\n",
    "        comp_size.append(500)\n",
    "    elif row == '500-999':\n",
    "        comp_size.append(1000)\n",
    "    elif row == '1000-4999':\n",
    "        comp_size.append(5000)\n",
    "    elif row == '5000-9999':\n",
    "        comp_size.append(10000)\n",
    "    elif row == '10000+':\n",
    "        comp_size.append(50000)\n",
    "    else:\n",
    "        comp_size.append(row)\n",
    "df['comp_size'] = comp_size\n",
    "df['comp_size'] = df['comp_size'].astype('int32')"
   ]
  },
  {
   "cell_type": "code",
   "execution_count": 10,
   "metadata": {},
   "outputs": [],
   "source": [
    "#3\n",
    "exp = []\n",
    "for row in df['experience']:\n",
    "    if row == '<1':\n",
    "        exp.append('0')\n",
    "    elif row == '>20':\n",
    "        exp.append('21')\n",
    "    else:\n",
    "        exp.append(row)\n",
    "df['exp'] = exp\n",
    "df['exp'] = df['exp'].astype('int32')"
   ]
  },
  {
   "cell_type": "code",
   "execution_count": 11,
   "metadata": {},
   "outputs": [],
   "source": [
    "#4\n",
    "lnj = []\n",
    "for row in df['last_new_job']:\n",
    "    if row == '>4':\n",
    "        lnj.append(5)\n",
    "    elif row == '4':\n",
    "        lnj.append(4)\n",
    "    elif row == '3':\n",
    "        lnj.append(3)\n",
    "    elif row == '2':\n",
    "        lnj.append(2)\n",
    "    elif row == '1':\n",
    "        lnj.append(1)\n",
    "    elif row == 'never':\n",
    "        lnj.append(0)\n",
    "df['lnj'] = lnj\n",
    "df['lnj'] = df['lnj'].astype('int32')"
   ]
  },
  {
   "cell_type": "code",
   "execution_count": 12,
   "metadata": {},
   "outputs": [],
   "source": [
    "#6\n",
    "df.drop(['company_size', 'experience', 'last_new_job'], axis=1, inplace=True)"
   ]
  },
  {
   "cell_type": "code",
   "execution_count": 13,
   "metadata": {},
   "outputs": [],
   "source": [
    "#7\n",
    "cols = ['city', 'city_development_index', \n",
    "'gender', 'relevent_experience', 'enrolled_university',\n",
    "'major_discipline', 'company_type', 'comp_size', 'exp', 'lnj', 'training_hours', 'indx_group',\n",
    "] #training_hours\n",
    "for c in cols:\n",
    "    df['count_'+c] = (df[c].map(df[c].value_counts())).astype('int32')"
   ]
  },
  {
   "cell_type": "code",
   "execution_count": 14,
   "metadata": {},
   "outputs": [],
   "source": [
    "#7\n",
    "cols = ['gender', 'relevent_experience', 'enrolled_university',\n",
    "'major_discipline', 'company_type', 'comp_size', 'lnj', 'training_hours'\n",
    "] #training_hours\n",
    "for c in cols:\n",
    "    df['countexp_'+c] = (df[c].map(df[c].value_counts()))/df['exp']\n",
    "df['city_indx_div'] = df['city_development_index']/(df['city'].map(df['city'].value_counts()))"
   ]
  },
  {
   "cell_type": "code",
   "execution_count": 15,
   "metadata": {},
   "outputs": [],
   "source": [
    "#df['uni_edu_maj'] = df['enrolled_university'].astype('str')+'_'+df['education_level'].astype('str')+'_'+df['major_discipline'].astype('str')\n",
    "#df['type_size'] = df['company_type'].astype('str')+'_'+df['comp_size'].astype('str')\n",
    "#df['rev_exp'] = df['relevent_experience'].astype('str')+'_'+df['exp'].astype('str')\n",
    "#df['rev_exp_lnj'] = df['relevent_experience'].astype('str')+'_'+df['exp'].astype('str')+'_'+df['lnj'].astype('str')"
   ]
  },
  {
   "cell_type": "code",
   "execution_count": 16,
   "metadata": {},
   "outputs": [],
   "source": [
    "#df['cnt_typ_siz_exp'] = df.groupby(['company_type','comp_size'])['exp'].transform('mean')\n",
    "#df['cnt_typ_lnj_exp'] = df.groupby(['company_type','comp_size', 'lnj'])['exp'].transform('mean') \n",
    "##df['cnt_rev_exp_hrs'] = df.groupby(['relevent_experience','exp'])['training_hours'].transform('mean')\n",
    "##df['cnt_revlnj_exp_hrs'] = df.groupby(['relevent_experience','lnj','exp'])['training_hours'].transform('mean')\n",
    "#df['cnt_maj_edu_uni_hrs'] = df.groupby(['education_level', 'major_discipline', 'enrolled_university'])['training_hours'].transform('mean')\n",
    "#df['cnt_maj_edu_uni_exp'] = df.groupby(['education_level', 'major_discipline', 'enrolled_university'])['exp'].transform('mean')\n",
    "#df['cnt_city_inx_typ'] = df.groupby(['city', 'city_development_index'])['company_type'].transform('count')\n",
    "#df['cnt_city_typ_siz'] = df.groupby(['city', 'company_type'])['comp_size'].transform('count')\n",
    "#df['cnt_gndr_edu_maj'] = df.groupby(['gender', 'education_level', 'major_discipline'])['exp'].transform('count')\n",
    "#df['cnt_maj_edu_exp'] = df.groupby(['education_level', 'major_discipline'])['exp'].transform('count')\n",
    "#df['cnt_exp_maj_edu_hrs'] = df.groupby(['exp', 'education_level', 'major_discipline'])['training_hours'].transform('count')"
   ]
  },
  {
   "cell_type": "code",
   "execution_count": 17,
   "metadata": {},
   "outputs": [],
   "source": [
    "#8\n",
    "df['m_p'] = (np.where(np.logical_or(df['education_level']=='Masters',\n",
    "                                   df['education_level']=='Phd'), 1, 2)).astype('int32')"
   ]
  },
  {
   "cell_type": "code",
   "execution_count": 18,
   "metadata": {},
   "outputs": [],
   "source": [
    "#9\n",
    "grad_m_p = []\n",
    "for row in df['education_level']:\n",
    "    if row == 'Masters':\n",
    "        grad_m_p.append(1)\n",
    "    elif row == 'Phd':\n",
    "        grad_m_p.append(1)\n",
    "    elif row == 'Graduate':\n",
    "        grad_m_p.append(1)\n",
    "    else:\n",
    "        grad_m_p.append(0)\n",
    "df['grad_m_p'] = grad_m_p\n",
    "df['grad_m_p'] = df['grad_m_p'].astype('int32')"
   ]
  },
  {
   "cell_type": "code",
   "execution_count": 19,
   "metadata": {},
   "outputs": [],
   "source": [
    "#10\n",
    "df['full'] = (np.where(df['enrolled_university']=='Full time course', 1, 2)).astype('int32')\n",
    "df['stem'] = (np.where(df['major_discipline']=='STEM', 1, 2)).astype('int32')\n",
    "df['full_stem'] = (np.where(np.logical_and(df['major_discipline']=='STEM',\n",
    "                                          df['enrolled_university']=='Full time course'), 1, 2)).astype('int32')\n",
    "df['mp_stem'] = (np.where(np.logical_and(df['major_discipline']=='STEM',\n",
    "                                         df['m_p']==1), 1, 2)).astype('int32')\n",
    "df['gradmp_stem'] = (np.where(np.logical_and(df['major_discipline']=='STEM',\n",
    "                                             df['grad_m_p']==1), 1, 2)).astype('int32')"
   ]
  },
  {
   "cell_type": "code",
   "execution_count": 20,
   "metadata": {},
   "outputs": [],
   "source": [
    "#11\n",
    "p_stup = []\n",
    "for row in df['company_type']:\n",
    "    if row == 'Pvt Ltd':\n",
    "        p_stup.append(1)\n",
    "    elif row == 'Funded Startup':\n",
    "        p_stup.append(2)\n",
    "    elif row == 'Early Stage Startup':\n",
    "        p_stup.append(3)\n",
    "    else:\n",
    "        p_stup.append(0)\n",
    "df['p_stup'] = p_stup"
   ]
  },
  {
   "cell_type": "code",
   "execution_count": 21,
   "metadata": {},
   "outputs": [],
   "source": [
    "#12\n",
    "startup = []\n",
    "for row in df['company_type']:\n",
    "    if row == 'Funded Startup':\n",
    "        startup.append(1)\n",
    "    elif row == 'Early Stage Startup':\n",
    "        startup.append(2)\n",
    "    else:\n",
    "        startup.append(0)\n",
    "df['startup'] = startup"
   ]
  },
  {
   "cell_type": "code",
   "execution_count": 22,
   "metadata": {},
   "outputs": [],
   "source": [
    "#13\n",
    "exp_01 = []\n",
    "for row in df['exp']:\n",
    "    if row == 0:\n",
    "        exp_01.append(1)\n",
    "    elif row == 1:\n",
    "        exp_01.append(1)\n",
    "    else:\n",
    "        exp_01.append(0)\n",
    "df['exp_01'] = exp_01\n",
    "df['exp_01'] = df['exp_01'].astype('int32')"
   ]
  },
  {
   "cell_type": "code",
   "execution_count": 23,
   "metadata": {},
   "outputs": [],
   "source": [
    "#14\n",
    "exp_0123 = []\n",
    "for row in df['exp']:\n",
    "    if row == 0:\n",
    "        exp_0123.append(1)\n",
    "    elif row == 1:\n",
    "        exp_0123.append(1)\n",
    "    elif row == 2:\n",
    "        exp_0123.append(1)\n",
    "    elif row == 3:\n",
    "        exp_0123.append(1)\n",
    "    else:\n",
    "        exp_0123.append(0)\n",
    "df['exp_0123'] = exp_0123\n",
    "df['exp_0123'] = df['exp_0123'].astype('int32')"
   ]
  },
  {
   "cell_type": "code",
   "execution_count": 24,
   "metadata": {},
   "outputs": [],
   "source": [
    "#15\n",
    "exp_012345 = []\n",
    "for row in df['exp']:\n",
    "    if row == 0:\n",
    "        exp_012345.append(1)\n",
    "    elif row == 1:\n",
    "        exp_012345.append(1)\n",
    "    elif row == 2:\n",
    "        exp_012345.append(1)\n",
    "    elif row == 3:\n",
    "        exp_012345.append(1)\n",
    "    elif row == 4:\n",
    "        exp_012345.append(1)\n",
    "    elif row == 5:\n",
    "        exp_012345.append(1)\n",
    "    else:\n",
    "        exp_012345.append(0)\n",
    "df['exp_012345'] = exp_012345\n",
    "df['exp_012345'] = df['exp_012345'].astype('int32')"
   ]
  },
  {
   "cell_type": "code",
   "execution_count": 25,
   "metadata": {},
   "outputs": [],
   "source": [
    "#16\n",
    "exp_0123a = []\n",
    "for row in df['exp']:\n",
    "    if row == 0:\n",
    "        exp_0123a.append(0)\n",
    "    elif row == 1:\n",
    "        exp_0123a.append(1)\n",
    "    elif row == 2:\n",
    "        exp_0123a.append(2)\n",
    "    elif row == 3:\n",
    "        exp_0123a.append(3)\n",
    "    else:\n",
    "        exp_0123a.append(10)\n",
    "df['exp_0123a'] = exp_0123a\n",
    "df['exp_0123a'] = df['exp_0123a'].astype('int32')"
   ]
  },
  {
   "cell_type": "code",
   "execution_count": 26,
   "metadata": {},
   "outputs": [],
   "source": [
    "#17\n",
    "exp_012345a = []\n",
    "for row in df['exp']:\n",
    "    if row == 0:\n",
    "        exp_012345a.append(0)\n",
    "    elif row == 1:\n",
    "        exp_012345a.append(1)\n",
    "    elif row == 2:\n",
    "        exp_012345a.append(2)\n",
    "    elif row == 3:\n",
    "        exp_012345a.append(3)\n",
    "    elif row == 4:\n",
    "        exp_012345a.append(4)\n",
    "    elif row == 5:\n",
    "        exp_012345a.append(5)\n",
    "    else:\n",
    "        exp_012345a.append(10)\n",
    "df['exp_012345a'] = exp_012345a\n",
    "df['exp_012345a'] = df['exp_012345a'].astype('int32')"
   ]
  },
  {
   "cell_type": "code",
   "execution_count": 27,
   "metadata": {},
   "outputs": [],
   "source": [
    "#18\n",
    "exp_by3 = []\n",
    "for row in df['exp']:\n",
    "    if row == 0:\n",
    "        exp_by3.append(0)\n",
    "    elif row == 1:\n",
    "        exp_by3.append(1)\n",
    "    elif row == 2:\n",
    "        exp_by3.append(2)\n",
    "    elif row == 3:\n",
    "        exp_by3.append(3)\n",
    "    elif row == 4:\n",
    "        exp_by3.append(6)\n",
    "    elif row == 5:\n",
    "        exp_by3.append(6)\n",
    "    elif row == 6:\n",
    "        exp_by3.append(6)\n",
    "    elif row == 7:\n",
    "        exp_by3.append(9)\n",
    "    elif row == 8:\n",
    "        exp_by3.append(9)\n",
    "    elif row == 9:\n",
    "        exp_by3.append(9)\n",
    "    elif row == 10:\n",
    "        exp_by3.append(12)\n",
    "    elif row == 11:\n",
    "        exp_by3.append(12)\n",
    "    elif row == 12:\n",
    "        exp_by3.append(12)\n",
    "    elif row == 13:\n",
    "        exp_by3.append(15)\n",
    "    elif row == 14:\n",
    "        exp_by3.append(15)\n",
    "    elif row == 15:\n",
    "        exp_by3.append(15)\n",
    "    elif row == 16:\n",
    "        exp_by3.append(18)\n",
    "    elif row == 17:\n",
    "        exp_by3.append(18)    \n",
    "    elif row == 18:\n",
    "        exp_by3.append(18)\n",
    "    elif row == 19:\n",
    "        exp_by3.append(21)\n",
    "    elif row == 20:\n",
    "        exp_by3.append(21)\n",
    "    elif row == 21:\n",
    "        exp_by3.append(24)\n",
    "df['exp_by3'] = exp_by3\n",
    "df['exp_by3'] = df['exp_by3'].astype('int32')"
   ]
  },
  {
   "cell_type": "code",
   "execution_count": 28,
   "metadata": {},
   "outputs": [],
   "source": [
    "#19\n",
    "exp_by5 = []\n",
    "for row in df['exp']:\n",
    "    if row == 0:\n",
    "        exp_by5.append(0)\n",
    "    elif row == 1:\n",
    "        exp_by5.append(1)\n",
    "    elif row == 2:\n",
    "        exp_by5.append(2)\n",
    "    elif row == 3:\n",
    "        exp_by5.append(3)\n",
    "    elif row == 4:\n",
    "        exp_by5.append(4)\n",
    "    elif row == 5:\n",
    "        exp_by5.append(5)\n",
    "    elif row == 6:\n",
    "        exp_by5.append(10)\n",
    "    elif row == 7:\n",
    "        exp_by5.append(10)\n",
    "    elif row == 8:\n",
    "        exp_by5.append(10)\n",
    "    elif row == 9:\n",
    "        exp_by5.append(10)\n",
    "    elif row == 10:\n",
    "        exp_by5.append(10)\n",
    "    elif row == 11:\n",
    "        exp_by5.append(15)\n",
    "    elif row == 12:\n",
    "        exp_by5.append(15)\n",
    "    elif row == 13:\n",
    "        exp_by5.append(15)\n",
    "    elif row == 14:\n",
    "        exp_by5.append(15)\n",
    "    elif row == 15:\n",
    "        exp_by5.append(15)\n",
    "    elif row == 16:\n",
    "        exp_by5.append(20)\n",
    "    elif row == 17:\n",
    "        exp_by5.append(20)    \n",
    "    elif row == 18:\n",
    "        exp_by5.append(20)\n",
    "    elif row == 19:\n",
    "        exp_by5.append(20)\n",
    "    elif row == 20:\n",
    "        exp_by5.append(20)\n",
    "    elif row == 21:\n",
    "        exp_by5.append(25)\n",
    "df['exp_by5'] = exp_by5\n",
    "df['exp_by5'] = df['exp_by5'].astype('int32')"
   ]
  },
  {
   "cell_type": "code",
   "execution_count": 29,
   "metadata": {},
   "outputs": [],
   "source": [
    "#20\n",
    "cols = ['exp_01', 'exp_0123', 'exp_012345', 'exp_0123a', 'exp_012345a', 'exp_by3', 'exp_by5'] #training_hours\n",
    "for c in cols:\n",
    "    df['count_'+c] = (df[c].map(df[c].value_counts())).astype('int32')"
   ]
  },
  {
   "cell_type": "code",
   "execution_count": 30,
   "metadata": {},
   "outputs": [],
   "source": [
    "#21\n",
    "lj_12 = []\n",
    "for row in df['lnj']:\n",
    "    if row == 0:\n",
    "        lj_12.append(0)\n",
    "    elif row == 1:\n",
    "        lj_12.append(1)\n",
    "    elif row == 2:\n",
    "        lj_12.append(2)\n",
    "    elif row == 3:\n",
    "        lj_12.append(0)\n",
    "    elif row == 4:\n",
    "        lj_12.append(0)\n",
    "    elif row == 5:\n",
    "        lj_12.append(0)\n",
    "df['lj_12'] = lj_12\n",
    "df['lj_12'] = df['lj_12'].astype('int32')"
   ]
  },
  {
   "cell_type": "code",
   "execution_count": 31,
   "metadata": {},
   "outputs": [],
   "source": [
    "#22\n",
    "lj_123 = []\n",
    "for row in df['lnj']:\n",
    "    if row == 0:\n",
    "        lj_123.append(0)\n",
    "    elif row == 1:\n",
    "        lj_123.append(1)\n",
    "    elif row == 2:\n",
    "        lj_123.append(2)\n",
    "    elif row == 3:\n",
    "        lj_123.append(3)\n",
    "    elif row == 4:\n",
    "        lj_123.append(0)\n",
    "    elif row == 5:\n",
    "        lj_123.append(0)\n",
    "df['lj_123'] = lj_123\n",
    "df['lj_123'] = df['lj_123'].astype('int32')"
   ]
  },
  {
   "cell_type": "code",
   "execution_count": 32,
   "metadata": {},
   "outputs": [],
   "source": [
    "#23\n",
    "lj_12a = []\n",
    "for row in df['lnj']:\n",
    "    if row == 0:\n",
    "        lj_12a.append(0)\n",
    "    elif row == 1:\n",
    "        lj_12a.append(1)\n",
    "    elif row == 2:\n",
    "        lj_12a.append(1)\n",
    "    elif row == 3:\n",
    "        lj_12a.append(0)\n",
    "    elif row == 4:\n",
    "        lj_12a.append(0)\n",
    "    elif row == 5:\n",
    "        lj_12a.append(0)\n",
    "df['lj_12a'] = lj_12a\n",
    "df['lj_12a'] = df['lj_12a'].astype('int32')"
   ]
  },
  {
   "cell_type": "code",
   "execution_count": 33,
   "metadata": {},
   "outputs": [],
   "source": [
    "#24\n",
    "cs_1050 = []\n",
    "for row in df['comp_size']:\n",
    "    if row == 10:\n",
    "        cs_1050.append(1)\n",
    "    elif row == 50:\n",
    "        cs_1050.append(1)\n",
    "    else:\n",
    "        cs_1050.append(0)\n",
    "df['cs_1050'] = cs_1050\n",
    "df['cs_1050'] = df['cs_1050'].astype('int32')"
   ]
  },
  {
   "cell_type": "code",
   "execution_count": 34,
   "metadata": {},
   "outputs": [],
   "source": [
    "#25\n",
    "cs_1050100 = []\n",
    "for row in df['comp_size']:\n",
    "    if row == 10:\n",
    "        cs_1050100.append(1)\n",
    "    elif row == 50:\n",
    "        cs_1050100.append(1)\n",
    "    elif row == 100:\n",
    "        cs_1050100.append(1)\n",
    "    else:\n",
    "        cs_1050100.append(0)\n",
    "df['cs_1050100'] = cs_1050100\n",
    "df['cs_1050100'] = df['cs_1050100'].astype('int32')"
   ]
  },
  {
   "cell_type": "code",
   "execution_count": 35,
   "metadata": {},
   "outputs": [],
   "source": [
    "#26\n",
    "cs_10500 = []\n",
    "for row in df['comp_size']:\n",
    "    if row == 10:\n",
    "        cs_10500.append(1)\n",
    "    elif row == 50:\n",
    "        cs_10500.append(1)\n",
    "    elif row == 100:\n",
    "        cs_10500.append(1)\n",
    "    elif row == 500:\n",
    "        cs_10500.append(1)\n",
    "    else:\n",
    "        cs_10500.append(0)\n",
    "df['cs_10500'] = cs_10500\n",
    "df['cs_10500'] = df['cs_10500'].astype('int32')"
   ]
  },
  {
   "cell_type": "code",
   "execution_count": 36,
   "metadata": {},
   "outputs": [],
   "source": [
    "#27\n",
    "cs_1000 = []\n",
    "for row in df['comp_size']:\n",
    "    if row == 10:\n",
    "        cs_1000.append(10)\n",
    "    elif row == 50:\n",
    "        cs_1000.append(50)\n",
    "    elif row == 100:\n",
    "        cs_1000.append(100)\n",
    "    elif row == 500:\n",
    "        cs_1000.append(500)\n",
    "    elif row == 1000:\n",
    "        cs_1000.append(1000)\n",
    "    else:\n",
    "        cs_1000.append(10000)\n",
    "df['cs_1000'] = cs_1000\n",
    "df['cs_1000'] = df['cs_1000'].astype('int32')"
   ]
  },
  {
   "cell_type": "code",
   "execution_count": 37,
   "metadata": {},
   "outputs": [],
   "source": [
    "#28\n",
    "def city_most(columnname, limit = 500):\n",
    "    vc = df[columnname].value_counts()\n",
    "    common = vc > limit\n",
    "    common = set(common.index[common].values)\n",
    "    df.loc[df[columnname].map(lambda x: x not in common), columnname] = 'city_9999'\n",
    "    print(\"now there are\", df[columnname].nunique(), \"categories in df\")"
   ]
  },
  {
   "cell_type": "code",
   "execution_count": 38,
   "metadata": {},
   "outputs": [],
   "source": [
    "#29\n",
    "df['city_copy'] = df['city']"
   ]
  },
  {
   "cell_type": "code",
   "execution_count": 39,
   "metadata": {},
   "outputs": [
    {
     "name": "stdout",
     "output_type": "stream",
     "text": [
      "now there are 14 categories in df\n"
     ]
    }
   ],
   "source": [
    "#30\n",
    "city_most('city_copy')"
   ]
  },
  {
   "cell_type": "code",
   "execution_count": 40,
   "metadata": {},
   "outputs": [],
   "source": [
    "#31\n",
    "city_group = []\n",
    "for row in df['city']:\n",
    "    if row == 'city_103':\n",
    "        city_group.append(1)\n",
    "    elif row == 'city_21':\n",
    "        city_group.append(1)\n",
    "    elif row == 'city_16':\n",
    "        city_group.append(1)\n",
    "    elif row == 'city_114':\n",
    "        city_group.append(1)\n",
    "    elif row == 'city_160':\n",
    "        city_group.append(1)\n",
    "    elif row == 'city_136':\n",
    "        city_group.append(1)\n",
    "    elif row == 'city_67':\n",
    "        city_group.append(1)\n",
    "    elif row == 'city_75':\n",
    "        city_group.append(1)\n",
    "    elif row == 'city_102':\n",
    "        city_group.append(1)\n",
    "    elif row == 'city_104':\n",
    "        city_group.append(1)\n",
    "    elif row == 'city_71':\n",
    "        city_group.append(1)\n",
    "    elif row == 'city_73':\n",
    "        city_group.append(1)\n",
    "    elif row == 'city_100':\n",
    "        city_group.append(1)\n",
    "        \n",
    "    elif row == 'city_61':\n",
    "        city_group.append(2)\n",
    "    elif row == 'city_28':\n",
    "        city_group.append(2)\n",
    "    elif row == 'city_23':\n",
    "        city_group.append(2)\n",
    "    elif row == 'city_65':\n",
    "        city_group.append(2)\n",
    "    elif row == 'city_90':\n",
    "        city_group.append(2)\n",
    "    elif row == 'city_36':\n",
    "        city_group.append(2)\n",
    "        \n",
    "    elif row == 'city_173':\n",
    "        city_group.append(3)\n",
    "    elif row == 'city_11':\n",
    "        city_group.append(3)\n",
    "    elif row == 'city_50':\n",
    "        city_group.append(3)\n",
    "    elif row == 'city_83':\n",
    "        city_group.append(3)\n",
    "    elif row == 'city_116':\n",
    "        city_group.append(3)\n",
    "    elif row == 'city_64':\n",
    "        city_group.append(3)\n",
    "    elif row == 'city_46':\n",
    "        city_group.append(3)\n",
    "    elif row == 'city_162':\n",
    "        city_group.append(3)\n",
    "    elif row == 'city_45':\n",
    "        city_group.append(3)\n",
    "    elif row == 'city_138':\n",
    "        city_group.append(3)\n",
    "    elif row == 'city_97':\n",
    "        city_group.append(3)#\n",
    "\n",
    "    elif row == 'city_149':\n",
    "        city_group.append(4)\n",
    "    elif row == 'city_57':\n",
    "        city_group.append(4)\n",
    "    elif row == 'city_10':\n",
    "        city_group.append(4)\n",
    "    elif row == 'city_19':\n",
    "        city_group.append(4)\n",
    "    elif row == 'city_159':\n",
    "        city_group.append(4)\n",
    "    elif row == 'city_98':\n",
    "        city_group.append(4)\n",
    "    elif row == 'city_105':\n",
    "        city_group.append(4)\n",
    "    elif row == 'city_99':\n",
    "        city_group.append(4)\n",
    "    elif row == 'city_165':\n",
    "        city_group.append(4)\n",
    "    elif row == 'city_41':\n",
    "        city_group.append(4)\n",
    "    elif row == 'city_123':\n",
    "        city_group.append(4)\n",
    "    elif row == 'city_40':\n",
    "        city_group.append(4)\n",
    "    elif row == 'city_150':\n",
    "        city_group.append(4)\n",
    "    elif row == 'city_89':\n",
    "        city_group.append(4)\n",
    "    elif row == 'city_74':\n",
    "        city_group.append(4)\n",
    "    elif row == 'city_27':\n",
    "        city_group.append(4)\n",
    "    elif row == 'city_24':\n",
    "        city_group.append(4)\n",
    "    elif row == 'city_115':\n",
    "        city_group.append(4)\n",
    "    elif row == 'city_128':\n",
    "        city_group.append(4)\n",
    "    elif row == 'city_13':\n",
    "        city_group.append(4)#\n",
    "\n",
    "    elif row == 'city_158':\n",
    "        city_group.append(5)\n",
    "    elif row == 'city_142':\n",
    "        city_group.append(5)\n",
    "    elif row == 'city_152':\n",
    "        city_group.append(5)\n",
    "    elif row == 'city_101':\n",
    "        city_group.append(5)\n",
    "    elif row == 'city_91':\n",
    "        city_group.append(5)\n",
    "    elif row == 'city_134':\n",
    "        city_group.append(5)\n",
    "    elif row == 'city_76':\n",
    "        city_group.append(5)\n",
    "    elif row == 'city_70':\n",
    "        city_group.append(5)\n",
    "    elif row == 'city_143':\n",
    "        city_group.append(5)\n",
    "    elif row == 'city_145':\n",
    "        city_group.append(5)\n",
    "    elif row == 'city_1':\n",
    "        city_group.append(5)\n",
    "    elif row == 'city_77':\n",
    "        city_group.append(5)\n",
    "    elif row == 'city_144':\n",
    "        city_group.append(5)\n",
    "    elif row == 'city_20':\n",
    "        city_group.append(5)\n",
    "    elif row == 'city_93':\n",
    "        city_group.append(5)\n",
    "    elif row == 'city_14':\n",
    "        city_group.append(5)\n",
    "    \n",
    "    else:\n",
    "        city_group.append(6)#\n",
    "\n",
    "df['city_group'] = city_group\n",
    "df['city_group'] = df['city_group'].astype('int32')"
   ]
  },
  {
   "cell_type": "code",
   "execution_count": 41,
   "metadata": {},
   "outputs": [],
   "source": [
    "#32\n",
    "#mp\n",
    "df['mpst_01_lj12'] = df['mp_stem'].astype('str')+'_'+df['exp_01'].astype('str')+'_'+df['lj_12'].astype('str')\n",
    "df['mpst_0123_lj12'] = df['mp_stem'].astype('str')+'_'+df['exp_0123'].astype('str')+'_'+df['lj_12'].astype('str')\n",
    "df['mpst_012345_lj12'] = df['mp_stem'].astype('str')+'_'+df['exp_012345'].astype('str')+'_'+df['lj_12'].astype('str')\n",
    "df['mpst_0123a_lj12'] = df['mp_stem'].astype('str')+'_'+df['exp_0123a'].astype('str')+'_'+df['lj_12'].astype('str')\n",
    "df['mpst_012345a_lj12'] = df['mp_stem'].astype('str')+'_'+df['exp_012345a'].astype('str')+'_'+df['lj_12'].astype('str')\n",
    "#grad_mp\n",
    "df['gmpst_01_lj12'] = df['gradmp_stem'].astype('str')+'_'+df['exp_01'].astype('str')+'_'+df['lj_12'].astype('str')\n",
    "df['gmpst_0123_lj12'] = df['gradmp_stem'].astype('str')+'_'+df['exp_0123'].astype('str')+'_'+df['lj_12'].astype('str')\n",
    "df['gmpst_012345_lj12'] = df['gradmp_stem'].astype('str')+'_'+df['exp_012345'].astype('str')+'_'+df['lj_12'].astype('str')\n",
    "df['gmpst_0123a_lj12'] = df['gradmp_stem'].astype('str')+'_'+df['exp_0123a'].astype('str')+'_'+df['lj_12'].astype('str')\n",
    "df['gmpst_012345a_lj12'] = df['gradmp_stem'].astype('str')+'_'+df['exp_012345a'].astype('str')+'_'+df['lj_12'].astype('str')\n",
    "#mp_rev\n",
    "df['mpstrev_01_lj12'] = df['mp_stem'].astype('str')+'_'+df['exp_01'].astype('str')+'_'+df['relevent_experience'].astype('str')+'_'+df['lj_12'].astype('str')\n",
    "df['mpstrev_0123_lj12'] = df['mp_stem'].astype('str')+'_'+df['exp_0123'].astype('str')+'_'+df['relevent_experience'].astype('str')+'_'+df['lj_12'].astype('str')\n",
    "df['mpstrev_012345_lj12'] = df['mp_stem'].astype('str')+'_'+df['exp_012345'].astype('str')+'_'+df['relevent_experience'].astype('str')+'_'+df['lj_12'].astype('str')\n",
    "df['mpstrev_0123a_lj12'] = df['mp_stem'].astype('str')+'_'+df['exp_0123a'].astype('str')+'_'+df['relevent_experience'].astype('str')+'_'+df['lj_12'].astype('str')\n",
    "df['mpstrev_012345a_lj12'] = df['mp_stem'].astype('str')+'_'+df['exp_012345a'].astype('str')+'_'+df['relevent_experience'].astype('str')+'_'+df['lj_12'].astype('str')\n",
    "#grad_rev\n",
    "df['gmpstrev_01_lj12'] = df['gradmp_stem'].astype('str')+'_'+df['exp_01'].astype('str')+'_'+df['relevent_experience'].astype('str')+'_'+df['lj_12'].astype('str')\n",
    "df['gmpstrev_0123_lj12'] = df['gradmp_stem'].astype('str')+'_'+df['exp_0123'].astype('str')+'_'+df['relevent_experience'].astype('str')+'_'+df['lj_12'].astype('str')\n",
    "df['gmpstrev_012345_lj12'] = df['gradmp_stem'].astype('str')+'_'+df['exp_012345'].astype('str')+'_'+df['relevent_experience'].astype('str')+'_'+df['lj_12'].astype('str')\n",
    "df['gmpstrev_0123a_lj12'] = df['gradmp_stem'].astype('str')+'_'+df['exp_0123a'].astype('str')+'_'+df['relevent_experience'].astype('str')+'_'+df['lj_12'].astype('str')\n",
    "df['gmpstrev_012345a_lj12'] = df['gradmp_stem'].astype('str')+'_'+df['exp_012345a'].astype('str')+'_'+df['relevent_experience'].astype('str')+'_'+df['lj_12'].astype('str')\n",
    "#startup_1050, 1050100\n",
    "df['stup_1050'] = df['startup'].astype('str')+'_'+df['cs_1050'].astype('str')+'_'+df['city'].astype('str')\n",
    "df['stup_1050100'] = df['startup'].astype('str')+'_'+df['cs_1050100'].astype('str')+'_'+df['city'].astype('str')\n",
    "#df['stup_1050_a'] = df['exp_0123'].astype('str')+'_'+df['startup'].astype('str')+'_'+df['cs_1050'].astype('str')\n",
    "#df['stup_1050100_a'] = df['exp_0123'].astype('str')+'_'+df['startup'].astype('str')+'_'+df['cs_1050100'].astype('str')\n",
    "#df['stup_1050_b'] = df['exp_0123a'].astype('str')+'_'+df['startup'].astype('str')+'_'+df['cs_1050'].astype('str')\n",
    "#df['stup_1050100_b'] = df['exp_0123a'].astype('str')+'_'+df['startup'].astype('str')+'_'+df['cs_1050100'].astype('str')\n",
    "df['pstup_500'] = df['p_stup'].astype('str')+'_'+df['cs_10500'].astype('str')+'_'+df['city'].astype('str')\n",
    "df['pstup_1000'] = df['p_stup'].astype('str')+'_'+df['cs_1000'].astype('str')+'_'+df['city'].astype('str')"
   ]
  },
  {
   "cell_type": "code",
   "execution_count": 42,
   "metadata": {},
   "outputs": [],
   "source": [
    "#33\n",
    "cols = ['mpst_01_lj12', 'mpst_0123_lj12', 'mpst_012345_lj12', 'mpst_0123a_lj12', 'mpst_012345a_lj12',\n",
    "'gmpst_01_lj12', 'gmpst_0123_lj12', 'gmpst_012345_lj12', 'gmpst_0123a_lj12', 'gmpst_012345a_lj12',\n",
    "'mpstrev_01_lj12', 'mpstrev_0123_lj12', 'mpstrev_012345_lj12', 'mpstrev_0123a_lj12', 'mpstrev_012345a_lj12',\n",
    "'gmpstrev_01_lj12', 'gmpstrev_0123_lj12', 'gmpstrev_012345_lj12', 'gmpstrev_0123a_lj12', 'gmpstrev_012345a_lj12',\n",
    "'stup_1050', 'stup_1050100', 'pstup_500', 'pstup_1000', 'indx_group',\n",
    "#'lj_12','lj_123',\n",
    "#'exp_by3', 'exp_by5',\n",
    "#'exp_01', 'exp_0123',\n",
    "    ]\n",
    "for c in cols:\n",
    "    df['count_'+c] = (df[c].map(df[c].value_counts())).astype('int32')"
   ]
  },
  {
   "cell_type": "code",
   "execution_count": 43,
   "metadata": {},
   "outputs": [],
   "source": [
    "#33a\n",
    "cat_cols = ['city', 'gender', 'relevent_experience', 'enrolled_university', 'education_level',\n",
    "'major_discipline', 'company_type', 'comp_size', 'exp', 'lnj', \n",
    "'exp_01', 'exp_0123', 'exp_012345', 'exp_0123a', 'exp_012345a',\n",
    " 'stup_1050', 'stup_1050100', \n",
    "'m_p', 'grad_m_p', 'p_stup', 'startup', 'cs_1050', 'cs_1050100', 'cs_10500', 'cs_1000',\n",
    "#'city_group', 'city_copy',\n",
    "'mpst_01_lj12', 'mpst_0123_lj12', 'mpst_0123a_lj12',\n",
    "'gmpst_01_lj12', 'gmpst_0123_lj12', 'gmpst_0123a_lj12',\n",
    "'mpstrev_01_lj12', 'mpstrev_0123_lj12', 'mpstrev_0123a_lj12',\n",
    "'gmpstrev_01_lj12', 'gm[pstrev_0123_lj12', 'gmpstrev_0123a_lj12',\n",
    "]"
   ]
  },
  {
   "cell_type": "code",
   "execution_count": 44,
   "metadata": {},
   "outputs": [],
   "source": [
    "#34\n",
    "cols = ['count_mpstrev_01_lj12', 'count_mpstrev_0123_lj12', 'count_mpstrev_012345_lj12', 'count_mpstrev_0123a_lj12', 'count_mpstrev_012345a_lj12',\n",
    "'count_gmpstrev_01_lj12', 'count_gmpstrev_0123_lj12', 'count_gmpstrev_012345_lj12', 'count_gmpstrev_0123a_lj12', 'count_gmpstrev_012345a_lj12']\n",
    "for c in cols:\n",
    "    df['divlj12_'+c] = df[c]/df['lj_12'].map(df['lj_12'].value_counts())\n",
    "    #df['divlj123_'+c] = df[c]/df['lj_123'].map(df['lj_123'].value_counts())\n",
    "    #df['divst50_'+c] = df[c]/df['city_group'].map(df['city_group'].value_counts())\n",
    "    #df['divst100_'+c] = df[c]/df['exp'].map(df['exp'].value_counts())"
   ]
  },
  {
   "cell_type": "code",
   "execution_count": 45,
   "metadata": {},
   "outputs": [],
   "source": [
    "#35\n",
    "cols = ['count_mpstrev_01_lj12', 'count_mpstrev_0123_lj12', 'count_mpstrev_012345_lj12', 'count_mpstrev_0123a_lj12', 'count_mpstrev_012345a_lj12']\n",
    "for c in cols:\n",
    "    df['divmp_'+c] = df[c]/df['m_p'].map(df['m_p'].value_counts())\n",
    "    #df['divmp1_'+c] = df[c]/df['full_stem'].map(df['full_stem'].value_counts())\n",
    "cols = ['count_gmpstrev_01_lj12', 'count_gmpstrev_0123_lj12', 'count_gmpstrev_012345_lj12', 'count_gmpstrev_0123a_lj12', 'count_gmpstrev_012345a_lj12']\n",
    "for c in cols:\n",
    "    df['divgmp_'+c] = df[c]/df['grad_m_p'].map(df['grad_m_p'].value_counts())\n",
    "    #df['divgmp1_'+c] = df[c]/df['full_stem'].map(df['full_stem'].value_counts())"
   ]
  },
  {
   "cell_type": "code",
   "execution_count": 46,
   "metadata": {},
   "outputs": [],
   "source": [
    "#36\n",
    "df['div_01'] = df['count_mpstrev_01_lj12']/df['exp_01'].map(df['exp_01'].value_counts())\n",
    "df['div_0123'] = df['count_mpstrev_0123_lj12']/df['exp_0123'].map(df['exp_0123'].value_counts())\n",
    "df['div_012345'] = df['count_mpstrev_012345_lj12']/df['exp_012345'].map(df['exp_012345'].value_counts())\n",
    "df['div_0123a'] = df['count_mpstrev_0123a_lj12']/df['exp_0123a'].map(df['exp_0123a'].value_counts())\n",
    "df['div_012345a'] = df['count_mpstrev_012345a_lj12']/df['exp_012345a'].map(df['exp_012345a'].value_counts())\n",
    "\n",
    "df['gdiv_01'] = df['count_gmpstrev_01_lj12']/df['exp_01'].map(df['exp_01'].value_counts())\n",
    "df['gdiv_0123'] = df['count_gmpstrev_0123_lj12']/df['exp_0123'].map(df['exp_0123'].value_counts())\n",
    "df['gdiv_012345'] = df['count_gmpstrev_012345_lj12']/df['exp_012345'].map(df['exp_012345'].value_counts())\n",
    "df['gdiv_0123a'] = df['count_gmpstrev_0123a_lj12']/df['exp_0123a'].map(df['exp_0123a'].value_counts())\n",
    "df['gdiv_012345a'] = df['count_gmpstrev_012345a_lj12']/df['exp_012345a'].map(df['exp_012345a'].value_counts())"
   ]
  },
  {
   "cell_type": "code",
   "execution_count": 47,
   "metadata": {},
   "outputs": [],
   "source": [
    "#df['sdiv_01'] = df['count_stup_1050']/df['city'].map(df['exp_01'].value_counts())\n",
    "#df['sdiv_0123'] = df['count_stup_1050100']/df['exp_01'].map(df['exp_0123'].value_counts())\n",
    "#df['sdiv_012345'] = df['count_pstup_1050']/df['exp_0123'].map(df['exp_012345'].value_counts())\n",
    "#df['sdiv_0123a'] = df['count_pstup_1050100']/df['exp_0123'].map(df['exp_0123a'].value_counts())\n",
    "#df['sdiv_012345a'] = df['count_stup_1050_b']/df['exp_0123a'].map(df['exp_012345a'].value_counts())\n",
    "#df['sdiv_012345a'] = df['count_stup_1050100_b']/df['exp_0123a'].map(df['exp_012345a'].value_counts())"
   ]
  },
  {
   "cell_type": "code",
   "execution_count": 48,
   "metadata": {},
   "outputs": [],
   "source": [
    "#37\n",
    "cols = ['mpstrev_012345a_lj12', 'gmpstrev_012345a_lj12', #'pstup_1000'\n",
    "       ]\n",
    "for c in cols:\n",
    "    df['minexp_'+c] = df.groupby([c])['exp'].transform('min')\n",
    "    df['meanexp_'+c] = df.groupby([c])['exp'].transform('mean')\n",
    "    df['minhrs_'+c] = df.groupby([c])['training_hours'].transform('min')\n",
    "    df['meanhrs_'+c] = df.groupby([c])['training_hours'].transform('mean')\n",
    "    df['maxindx_'+c] = df.groupby([c])['city_development_index'].transform('max')\n",
    "    df['meanindx_'+c] = df.groupby([c])['city_development_index'].transform('mean')\n",
    "    \n",
    "df['ct1_'] = df.groupby(['gmpstrev_012345a_lj12', 'stup_1050100'])['exp'].transform('count')\n",
    "#df['ct1cc_'] = df.groupby(['gmpstrev_012345a_lj12', 'stup_1050100'])['exp'].cumcount()\n",
    "df['min1_'] = df.groupby(['gmpstrev_012345a_lj12', 'stup_1050100'])['exp'].transform('min')\n",
    "df['mean1_'] = df.groupby(['gmpstrev_012345a_lj12', 'stup_1050100'])['exp'].transform('mean')\n",
    " \n",
    "df['ct2_'] = df.groupby(['gmpstrev_012345a_lj12', 'exp'])['training_hours'].transform('count')\n",
    "#df['ct2cc_'] = df.groupby(['gmpstrev_012345a_lj12', 'exp'])['training_hours'].cumcount()\n",
    "df['min2_'] = df.groupby(['gmpstrev_012345a_lj12', 'exp'])['training_hours'].transform('min')\n",
    "df['mean2_'] = df.groupby(['gmpstrev_012345a_lj12', 'exp'])['training_hours'].transform('mean')\n",
    "\n",
    "#df['ct3_'] = df.groupby(['city', 'exp'])['city_development_index'].transform('count')\n",
    "#df['min3_'] = df.groupby(['city', 'exp'])['city_development_index'].transform('max')\n",
    "#df['mean3_'] = df.groupby(['city', 'exp'])['city_development_index'].transform('mean')\n",
    "\n",
    "#df['ct3_'] = df.groupby(['city_group', 'exp','gmpstrev_012345a_lj12'])['city_development_index'].transform('count')\n",
    "#df['min3_'] = df.groupby(['city_group', 'exp','gmpstrev_012345a_lj12'])['city_development_index'].transform('min')\n",
    "#df['mean3_'] = df.groupby(['city_group', 'exp','gmpstrev_012345a_lj12'])['city_development_index'].transform('mean') "
   ]
  },
  {
   "cell_type": "code",
   "execution_count": 49,
   "metadata": {},
   "outputs": [],
   "source": [
    "#df['mean_2_1'] = df['mean2_']/df['mean1_']\n",
    "#df['min_2_1'] = df['min2_']/df['min1_']\n",
    "#df['count_2_1'] = df['ct2_']/df['ct1_']"
   ]
  },
  {
   "cell_type": "code",
   "execution_count": 50,
   "metadata": {},
   "outputs": [],
   "source": [
    "#df['exp_mean_1'] = df['exp']-(df.groupby(['gmpstrev_012345a_lj12', 'stup_1050100'])['exp'].transform('min'))\n",
    "#df['exp_mean_2'] = df['exp']-(df.groupby(['gmpst_012345a_lj12', 'stup_1050100'])['exp'].transform('min'))\n",
    "#df['exp_mean_3'] = df['exp']-(df.groupby(['mpstrev_012345a_lj12', 'stup_1050100'])['exp'].transform('mean'))\n",
    "#df['exp_mean_4'] = df['exp']-(df.groupby(['mpst_012345a_lj12', 'stup_1050100'])['exp'].transform('mean'))\n",
    "\n",
    "#df['hrs_mean_1'] = df['training_hours']-(df.groupby(['gmpstrev_012345a_lj12', 'exp'])['training_hours'].transform('mean'))\n",
    "#df['hrs_mean_2'] = df['training_hours']-(df.groupby(['gmpst_012345a_lj12', 'exp'])['training_hours'].transform('mean'))\n",
    "#df['hrs_mean_3'] = df['training_hours']-(df.groupby(['mpstrev_012345a_lj12', 'exp'])['training_hours'].transform('mean'))\n",
    "#df['hrs_mean_4'] = df['training_hours']-(df.groupby(['mpst_012345a_lj12', 'exp'])['training_hours'].transform('mean'))"
   ]
  },
  {
   "cell_type": "code",
   "execution_count": 51,
   "metadata": {},
   "outputs": [],
   "source": [
    "df['exp_hrs_mean'] = df.groupby(['exp'])['training_hours'].transform('mean')\n",
    "df['indx_hrs_mean'] = df.groupby(['city_development_index'])['training_hours'].transform('mean')\n",
    "#df['indx_exp'] = df['indx_hrs_mean']/df['exp_hrs_mean']"
   ]
  },
  {
   "cell_type": "code",
   "execution_count": 52,
   "metadata": {},
   "outputs": [],
   "source": [
    "#38\n",
    "cols = [c for c in df.columns if df[c].dtypes=='object']\n",
    "for c in cols:\n",
    "    le = LabelEncoder()\n",
    "    df[c] = (le.fit_transform(df[c])).astype('int64')"
   ]
  },
  {
   "cell_type": "code",
   "execution_count": 53,
   "metadata": {},
   "outputs": [],
   "source": [
    "#cols = ['gender', 'relevent_experience', 'enrolled_university', 'education_level',\n",
    "#'major_discipline', 'company_type', 'comp_size', 'exp', 'lnj', \n",
    "#'exp_01', 'exp_0123', 'exp_012345', 'exp_0123a', 'exp_012345a',\n",
    "#'m_p', 'grad_m_p', 'p_stup', 'startup', 'cs_1050', 'cs_1050100',# 'cs_10500', 'cs_1000',\n",
    "#'city_group', 'city_copy'\n",
    "#       ]\n",
    "#for c in cols:\n",
    "#    df[c] = df[c].astype('category')"
   ]
  },
  {
   "cell_type": "code",
   "execution_count": 54,
   "metadata": {},
   "outputs": [
    {
     "name": "stdout",
     "output_type": "stream",
     "text": [
      "(18359, 166) (15021, 166)\n"
     ]
    }
   ],
   "source": [
    "#39\n",
    "df_train=df[df['target'].isnull()==False].copy()\n",
    "df_test=df[df['target'].isnull()==True].copy()\n",
    "\n",
    "print(df_train.shape,df_test.shape)"
   ]
  },
  {
   "cell_type": "code",
   "execution_count": 55,
   "metadata": {},
   "outputs": [],
   "source": [
    "df_train['target'] = df_train['target'].astype('int32')"
   ]
  },
  {
   "cell_type": "code",
   "execution_count": 56,
   "metadata": {},
   "outputs": [],
   "source": [
    "#40\n",
    "col_to_drop=['enrollee_id','target']\n",
    "X,y=df_train.drop(col_to_drop,axis=1),df_train['target']\n",
    "Xtest=df_test.drop(col_to_drop,axis=1)"
   ]
  },
  {
   "cell_type": "code",
   "execution_count": 57,
   "metadata": {},
   "outputs": [],
   "source": [
    "#41\n",
    "#print(X.shape,Xtest.shape)\n",
    "#X_train,X_val,y_train,y_val = train_test_split(X,y,test_size=0.3,random_state = 1994,stratify=y)"
   ]
  },
  {
   "cell_type": "code",
   "execution_count": 58,
   "metadata": {},
   "outputs": [
    {
     "name": "stdout",
     "output_type": "stream",
     "text": [
      "Training until validation scores don't improve for 500 rounds\n",
      "[100]\ttraining's auc: 0.748293\ttraining's binary_logloss: 0.357292\tvalid_1's auc: 0.648575\tvalid_1's binary_logloss: 0.376296\n",
      "[200]\ttraining's auc: 0.777399\ttraining's binary_logloss: 0.342263\tvalid_1's auc: 0.652014\tvalid_1's binary_logloss: 0.374531\n",
      "[300]\ttraining's auc: 0.803786\ttraining's binary_logloss: 0.331055\tvalid_1's auc: 0.651085\tvalid_1's binary_logloss: 0.374758\n",
      "[400]\ttraining's auc: 0.826244\ttraining's binary_logloss: 0.32156\tvalid_1's auc: 0.648569\tvalid_1's binary_logloss: 0.375714\n",
      "[500]\ttraining's auc: 0.84404\ttraining's binary_logloss: 0.313374\tvalid_1's auc: 0.646841\tvalid_1's binary_logloss: 0.376614\n",
      "[600]\ttraining's auc: 0.859051\ttraining's binary_logloss: 0.305972\tvalid_1's auc: 0.644274\tvalid_1's binary_logloss: 0.377723\n",
      "Early stopping, best iteration is:\n",
      "[197]\ttraining's auc: 0.776587\ttraining's binary_logloss: 0.342636\tvalid_1's auc: 0.652348\tvalid_1's binary_logloss: 0.374475\n",
      "err:  0.6523479729183312\n",
      "Training until validation scores don't improve for 500 rounds\n",
      "[100]\ttraining's auc: 0.74048\ttraining's binary_logloss: 0.360244\tvalid_1's auc: 0.695748\tvalid_1's binary_logloss: 0.369743\n",
      "[200]\ttraining's auc: 0.772404\ttraining's binary_logloss: 0.345986\tvalid_1's auc: 0.697752\tvalid_1's binary_logloss: 0.364912\n",
      "[300]\ttraining's auc: 0.801019\ttraining's binary_logloss: 0.33515\tvalid_1's auc: 0.697557\tvalid_1's binary_logloss: 0.363681\n",
      "[400]\ttraining's auc: 0.824604\ttraining's binary_logloss: 0.325906\tvalid_1's auc: 0.69532\tvalid_1's binary_logloss: 0.363782\n",
      "[500]\ttraining's auc: 0.842433\ttraining's binary_logloss: 0.318139\tvalid_1's auc: 0.693349\tvalid_1's binary_logloss: 0.363962\n",
      "[600]\ttraining's auc: 0.857056\ttraining's binary_logloss: 0.311086\tvalid_1's auc: 0.691969\tvalid_1's binary_logloss: 0.364243\n",
      "[700]\ttraining's auc: 0.870417\ttraining's binary_logloss: 0.304183\tvalid_1's auc: 0.689568\tvalid_1's binary_logloss: 0.364719\n",
      "Early stopping, best iteration is:\n",
      "[221]\ttraining's auc: 0.77808\ttraining's binary_logloss: 0.343576\tvalid_1's auc: 0.698305\tvalid_1's binary_logloss: 0.364435\n",
      "err:  0.6983046461300579\n",
      "Training until validation scores don't improve for 500 rounds\n",
      "[100]\ttraining's auc: 0.744321\ttraining's binary_logloss: 0.359388\tvalid_1's auc: 0.67473\tvalid_1's binary_logloss: 0.370144\n",
      "[200]\ttraining's auc: 0.773686\ttraining's binary_logloss: 0.344828\tvalid_1's auc: 0.673381\tvalid_1's binary_logloss: 0.366648\n",
      "[300]\ttraining's auc: 0.800198\ttraining's binary_logloss: 0.333864\tvalid_1's auc: 0.672504\tvalid_1's binary_logloss: 0.366023\n",
      "[400]\ttraining's auc: 0.823357\ttraining's binary_logloss: 0.324433\tvalid_1's auc: 0.672043\tvalid_1's binary_logloss: 0.366169\n",
      "[500]\ttraining's auc: 0.841572\ttraining's binary_logloss: 0.316567\tvalid_1's auc: 0.670648\tvalid_1's binary_logloss: 0.366653\n",
      "[600]\ttraining's auc: 0.856242\ttraining's binary_logloss: 0.309327\tvalid_1's auc: 0.669455\tvalid_1's binary_logloss: 0.367283\n",
      "Early stopping, best iteration is:\n",
      "[105]\ttraining's auc: 0.745824\ttraining's binary_logloss: 0.358516\tvalid_1's auc: 0.675115\tvalid_1's binary_logloss: 0.369789\n",
      "err:  0.6751154011625837\n",
      "Training until validation scores don't improve for 500 rounds\n",
      "[100]\ttraining's auc: 0.74526\ttraining's binary_logloss: 0.358065\tvalid_1's auc: 0.659386\tvalid_1's binary_logloss: 0.374226\n",
      "[200]\ttraining's auc: 0.774474\ttraining's binary_logloss: 0.343117\tvalid_1's auc: 0.660826\tvalid_1's binary_logloss: 0.372002\n",
      "[300]\ttraining's auc: 0.801182\ttraining's binary_logloss: 0.332244\tvalid_1's auc: 0.66207\tvalid_1's binary_logloss: 0.37187\n",
      "[400]\ttraining's auc: 0.823466\ttraining's binary_logloss: 0.322937\tvalid_1's auc: 0.66029\tvalid_1's binary_logloss: 0.372681\n",
      "[500]\ttraining's auc: 0.841249\ttraining's binary_logloss: 0.315027\tvalid_1's auc: 0.659271\tvalid_1's binary_logloss: 0.37335\n",
      "[600]\ttraining's auc: 0.856255\ttraining's binary_logloss: 0.307871\tvalid_1's auc: 0.657723\tvalid_1's binary_logloss: 0.374096\n",
      "[700]\ttraining's auc: 0.868207\ttraining's binary_logloss: 0.301541\tvalid_1's auc: 0.656112\tvalid_1's binary_logloss: 0.374858\n",
      "Early stopping, best iteration is:\n",
      "[289]\ttraining's auc: 0.798486\ttraining's binary_logloss: 0.333352\tvalid_1's auc: 0.662082\tvalid_1's binary_logloss: 0.371746\n",
      "err:  0.6620824289397326\n",
      "Training until validation scores don't improve for 500 rounds\n",
      "[100]\ttraining's auc: 0.742813\ttraining's binary_logloss: 0.358888\tvalid_1's auc: 0.677929\tvalid_1's binary_logloss: 0.37237\n",
      "[200]\ttraining's auc: 0.773407\ttraining's binary_logloss: 0.344452\tvalid_1's auc: 0.679392\tvalid_1's binary_logloss: 0.368887\n",
      "[300]\ttraining's auc: 0.802363\ttraining's binary_logloss: 0.333707\tvalid_1's auc: 0.676107\tvalid_1's binary_logloss: 0.368767\n",
      "[400]\ttraining's auc: 0.826339\ttraining's binary_logloss: 0.324234\tvalid_1's auc: 0.676963\tvalid_1's binary_logloss: 0.368759\n",
      "[500]\ttraining's auc: 0.844419\ttraining's binary_logloss: 0.316149\tvalid_1's auc: 0.676811\tvalid_1's binary_logloss: 0.36876\n",
      "[600]\ttraining's auc: 0.859387\ttraining's binary_logloss: 0.308917\tvalid_1's auc: 0.674098\tvalid_1's binary_logloss: 0.369551\n",
      "Early stopping, best iteration is:\n",
      "[164]\ttraining's auc: 0.762596\ttraining's binary_logloss: 0.349021\tvalid_1's auc: 0.680343\tvalid_1's binary_logloss: 0.369439\n",
      "err:  0.6803431248827021\n"
     ]
    }
   ],
   "source": [
    "err=[]\n",
    "y_pred_tot=[]\n",
    "\n",
    "feature_importance_df = pd.DataFrame()\n",
    "\n",
    "from sklearn.model_selection import KFold,StratifiedKFold\n",
    "fold=StratifiedKFold(n_splits=5,shuffle=True,random_state=1994)\n",
    "i=1\n",
    "for train_index, test_index in fold.split(X,y):\n",
    "    X_train, X_test = X.iloc[train_index], X.iloc[test_index]\n",
    "    y_train, y_test = y[train_index], y[test_index]\n",
    "    m=LGBMClassifier(n_estimators=5000,\n",
    "                     random_state=1994,\n",
    "                     learning_rate=0.01,\n",
    "                     num_leaves=31,\n",
    "                     max_depth=-1,\n",
    "                     bagging_frequency=4,\n",
    "                     bagging_fraction=0.3,\n",
    "                     bagging_seed=1994,\n",
    "                     min_data_in_leaf=40,\n",
    "                     feature_fraction=0.2\n",
    "                     #reg_alpha=0.2,colsample_bytree=0.5\n",
    "                    )\n",
    "    m.fit(X_train,y_train,eval_set=[(X_train,y_train),(X_test, y_test)],eval_metric='auc',\n",
    "          early_stopping_rounds=500,verbose=100)\n",
    "    \n",
    "    preds=m.predict_proba(X_test,num_iteration=m.best_iteration_)[:,-1]\n",
    "    \n",
    "    fold_importance_df = pd.DataFrame()\n",
    "    fold_importance_df[\"feature\"] = X_train.columns\n",
    "    fold_importance_df[\"importance\"] = m.feature_importances_\n",
    "    fold_importance_df[\"fold\"] = i + 1\n",
    "    feature_importance_df = pd.concat([feature_importance_df, fold_importance_df], axis=0)\n",
    "    \n",
    "    \n",
    "    print(\"err: \",roc_auc_score(y_test,preds))\n",
    "    err.append(roc_auc_score(y_test,preds))\n",
    "    p = m.predict_proba(Xtest, num_iteration=m.best_iteration_)[:,-1]\n",
    "    i=i+1\n",
    "    y_pred_tot.append(p)"
   ]
  },
  {
   "cell_type": "code",
   "execution_count": 59,
   "metadata": {},
   "outputs": [
    {
     "data": {
      "text/plain": [
       "0.6736387148066815"
      ]
     },
     "execution_count": 59,
     "metadata": {},
     "output_type": "execute_result"
    }
   ],
   "source": [
    "np.mean(err,0) #0.6724081054054132 #0.6725543976933509 #0.6727011097324567"
   ]
  },
  {
   "cell_type": "code",
   "execution_count": 60,
   "metadata": {},
   "outputs": [
    {
     "data": {
      "text/html": [
       "<div>\n",
       "<style scoped>\n",
       "    .dataframe tbody tr th:only-of-type {\n",
       "        vertical-align: middle;\n",
       "    }\n",
       "\n",
       "    .dataframe tbody tr th {\n",
       "        vertical-align: top;\n",
       "    }\n",
       "\n",
       "    .dataframe thead th {\n",
       "        text-align: right;\n",
       "    }\n",
       "</style>\n",
       "<table border=\"1\" class=\"dataframe\">\n",
       "  <thead>\n",
       "    <tr style=\"text-align: right;\">\n",
       "      <th></th>\n",
       "      <th>enrollee_id</th>\n",
       "      <th>target</th>\n",
       "    </tr>\n",
       "  </thead>\n",
       "  <tbody>\n",
       "    <tr>\n",
       "      <th>0</th>\n",
       "      <td>16548</td>\n",
       "      <td>0.348758</td>\n",
       "    </tr>\n",
       "    <tr>\n",
       "      <th>1</th>\n",
       "      <td>12036</td>\n",
       "      <td>0.088692</td>\n",
       "    </tr>\n",
       "    <tr>\n",
       "      <th>2</th>\n",
       "      <td>11061</td>\n",
       "      <td>0.239933</td>\n",
       "    </tr>\n",
       "    <tr>\n",
       "      <th>3</th>\n",
       "      <td>5032</td>\n",
       "      <td>0.082245</td>\n",
       "    </tr>\n",
       "    <tr>\n",
       "      <th>4</th>\n",
       "      <td>17599</td>\n",
       "      <td>0.138697</td>\n",
       "    </tr>\n",
       "  </tbody>\n",
       "</table>\n",
       "</div>"
      ],
      "text/plain": [
       "   enrollee_id    target\n",
       "0        16548  0.348758\n",
       "1        12036  0.088692\n",
       "2        11061  0.239933\n",
       "3         5032  0.082245\n",
       "4        17599  0.138697"
      ]
     },
     "execution_count": 60,
     "metadata": {},
     "output_type": "execute_result"
    }
   ],
   "source": [
    "sample['target']=np.mean(y_pred_tot,0)\n",
    "sample.head()"
   ]
  },
  {
   "cell_type": "code",
   "execution_count": 61,
   "metadata": {},
   "outputs": [
    {
     "data": {
      "text/plain": [
       "0"
      ]
     },
     "execution_count": 61,
     "metadata": {},
     "output_type": "execute_result"
    }
   ],
   "source": [
    "sum(sample.target>=0.5)"
   ]
  },
  {
   "cell_type": "code",
   "execution_count": 62,
   "metadata": {},
   "outputs": [
    {
     "data": {
      "text/plain": [
       "(15021, 2)"
      ]
     },
     "execution_count": 62,
     "metadata": {},
     "output_type": "execute_result"
    }
   ],
   "source": [
    "sample.to_csv('sub_673638714lgbm_indxonly.csv',index=False)\n",
    "sample.shape"
   ]
  },
  {
   "cell_type": "code",
   "execution_count": null,
   "metadata": {},
   "outputs": [],
   "source": []
  },
  {
   "cell_type": "code",
   "execution_count": null,
   "metadata": {},
   "outputs": [],
   "source": []
  },
  {
   "cell_type": "code",
   "execution_count": null,
   "metadata": {},
   "outputs": [],
   "source": []
  },
  {
   "cell_type": "code",
   "execution_count": null,
   "metadata": {},
   "outputs": [],
   "source": []
  },
  {
   "cell_type": "code",
   "execution_count": null,
   "metadata": {},
   "outputs": [],
   "source": []
  },
  {
   "cell_type": "code",
   "execution_count": null,
   "metadata": {},
   "outputs": [],
   "source": []
  },
  {
   "cell_type": "code",
   "execution_count": null,
   "metadata": {},
   "outputs": [],
   "source": []
  },
  {
   "cell_type": "code",
   "execution_count": null,
   "metadata": {},
   "outputs": [],
   "source": []
  },
  {
   "cell_type": "code",
   "execution_count": null,
   "metadata": {},
   "outputs": [],
   "source": []
  },
  {
   "cell_type": "code",
   "execution_count": null,
   "metadata": {},
   "outputs": [],
   "source": []
  },
  {
   "cell_type": "code",
   "execution_count": null,
   "metadata": {},
   "outputs": [],
   "source": []
  }
 ],
 "metadata": {
  "kernelspec": {
   "display_name": "Python 3",
   "language": "python",
   "name": "python3"
  },
  "language_info": {
   "codemirror_mode": {
    "name": "ipython",
    "version": 3
   },
   "file_extension": ".py",
   "mimetype": "text/x-python",
   "name": "python",
   "nbconvert_exporter": "python",
   "pygments_lexer": "ipython3",
   "version": "3.7.6"
  }
 },
 "nbformat": 4,
 "nbformat_minor": 4
}
