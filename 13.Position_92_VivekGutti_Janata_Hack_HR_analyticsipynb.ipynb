{
 "cells": [
  {
   "cell_type": "code",
   "execution_count": 1,
   "metadata": {},
   "outputs": [],
   "source": [
    "# import libraries\n",
    "import pandas as pd\n",
    "import numpy as np \n",
    "import matplotlib.pyplot as plt\n",
    "%matplotlib inline \n",
    "import os\n",
    "from catboost import CatBoostClassifier\n",
    "from sklearn.model_selection import train_test_split\n",
    "from sklearn.metrics import roc_auc_score"
   ]
  },
  {
   "cell_type": "code",
   "execution_count": 3,
   "metadata": {},
   "outputs": [],
   "source": [
    "train=pd.read_csv('train_jqd04QH.csv')\n",
    "test=pd.read_csv('test_KaymcHn.csv')\n",
    "sub=pd.read_csv('sample_submission_sxfcbdx.csv')"
   ]
  },
  {
   "cell_type": "code",
   "execution_count": 4,
   "metadata": {},
   "outputs": [],
   "source": [
    "for column in ['gender', 'enrolled_university', 'education_level', 'major_discipline', 'experience','company_size',\n",
    "              'company_type','last_new_job']:\n",
    "    train[column].fillna(train[column].mode()[0], inplace=True)\n",
    "    test[column].fillna(test[column].mode()[0], inplace=True)"
   ]
  },
  {
   "cell_type": "code",
   "execution_count": 5,
   "metadata": {},
   "outputs": [],
   "source": [
    "#prepare features , target\t\n",
    "train_x = train.drop(columns=['target','enrollee_id'],axis=1)\n",
    "train_y = train['target']\n",
    "\n",
    "test = test.drop(columns='enrollee_id',axis=1)"
   ]
  },
  {
   "cell_type": "code",
   "execution_count": 6,
   "metadata": {},
   "outputs": [],
   "source": [
    "#specifying categorical variables indexes\n",
    "categorical_var = np.array([ 0, 2, 3,  4,  5,  6, 7,   8,  9, 10])"
   ]
  },
  {
   "cell_type": "code",
   "execution_count": 7,
   "metadata": {},
   "outputs": [
    {
     "name": "stdout",
     "output_type": "stream",
     "text": [
      "Learning rate set to 0.297025\n",
      "0:\tlearn: 0.5548394\ttotal: 363ms\tremaining: 35.9s\n",
      "1:\tlearn: 0.4801362\ttotal: 401ms\tremaining: 19.6s\n",
      "2:\tlearn: 0.4388694\ttotal: 428ms\tremaining: 13.8s\n",
      "3:\tlearn: 0.4135842\ttotal: 446ms\tremaining: 10.7s\n",
      "4:\tlearn: 0.3987017\ttotal: 466ms\tremaining: 8.84s\n",
      "5:\tlearn: 0.3909748\ttotal: 484ms\tremaining: 7.57s\n",
      "6:\tlearn: 0.3852647\ttotal: 493ms\tremaining: 6.55s\n",
      "7:\tlearn: 0.3805353\ttotal: 509ms\tremaining: 5.86s\n",
      "8:\tlearn: 0.3792507\ttotal: 518ms\tremaining: 5.24s\n",
      "9:\tlearn: 0.3780563\ttotal: 543ms\tremaining: 4.89s\n",
      "10:\tlearn: 0.3765352\ttotal: 567ms\tremaining: 4.58s\n",
      "11:\tlearn: 0.3752354\ttotal: 583ms\tremaining: 4.28s\n",
      "12:\tlearn: 0.3741626\ttotal: 600ms\tremaining: 4.01s\n",
      "13:\tlearn: 0.3736078\ttotal: 620ms\tremaining: 3.81s\n",
      "14:\tlearn: 0.3733830\ttotal: 640ms\tremaining: 3.63s\n",
      "15:\tlearn: 0.3724824\ttotal: 657ms\tremaining: 3.45s\n",
      "16:\tlearn: 0.3724125\ttotal: 673ms\tremaining: 3.29s\n",
      "17:\tlearn: 0.3714443\ttotal: 695ms\tremaining: 3.17s\n",
      "18:\tlearn: 0.3711336\ttotal: 729ms\tremaining: 3.11s\n",
      "19:\tlearn: 0.3708686\ttotal: 775ms\tremaining: 3.1s\n",
      "20:\tlearn: 0.3705004\ttotal: 807ms\tremaining: 3.03s\n",
      "21:\tlearn: 0.3701689\ttotal: 839ms\tremaining: 2.97s\n",
      "22:\tlearn: 0.3697856\ttotal: 877ms\tremaining: 2.93s\n",
      "23:\tlearn: 0.3692382\ttotal: 928ms\tremaining: 2.94s\n",
      "24:\tlearn: 0.3690488\ttotal: 971ms\tremaining: 2.91s\n",
      "25:\tlearn: 0.3689218\ttotal: 1000ms\tremaining: 2.85s\n",
      "26:\tlearn: 0.3689096\ttotal: 1.02s\tremaining: 2.77s\n",
      "27:\tlearn: 0.3684857\ttotal: 1.07s\tremaining: 2.74s\n",
      "28:\tlearn: 0.3680592\ttotal: 1.1s\tremaining: 2.7s\n",
      "29:\tlearn: 0.3679348\ttotal: 1.14s\tremaining: 2.65s\n",
      "30:\tlearn: 0.3672548\ttotal: 1.16s\tremaining: 2.58s\n",
      "31:\tlearn: 0.3670297\ttotal: 1.18s\tremaining: 2.51s\n",
      "32:\tlearn: 0.3668870\ttotal: 1.2s\tremaining: 2.44s\n",
      "33:\tlearn: 0.3665992\ttotal: 1.22s\tremaining: 2.36s\n",
      "34:\tlearn: 0.3664319\ttotal: 1.23s\tremaining: 2.29s\n",
      "35:\tlearn: 0.3662382\ttotal: 1.25s\tremaining: 2.22s\n",
      "36:\tlearn: 0.3660643\ttotal: 1.26s\tremaining: 2.15s\n",
      "37:\tlearn: 0.3659834\ttotal: 1.28s\tremaining: 2.09s\n",
      "38:\tlearn: 0.3657718\ttotal: 1.29s\tremaining: 2.02s\n",
      "39:\tlearn: 0.3656850\ttotal: 1.32s\tremaining: 1.98s\n",
      "40:\tlearn: 0.3656490\ttotal: 1.33s\tremaining: 1.92s\n",
      "41:\tlearn: 0.3655884\ttotal: 1.35s\tremaining: 1.86s\n",
      "42:\tlearn: 0.3655580\ttotal: 1.36s\tremaining: 1.81s\n",
      "43:\tlearn: 0.3655067\ttotal: 1.38s\tremaining: 1.76s\n",
      "44:\tlearn: 0.3653272\ttotal: 1.4s\tremaining: 1.71s\n",
      "45:\tlearn: 0.3650170\ttotal: 1.42s\tremaining: 1.66s\n",
      "46:\tlearn: 0.3649536\ttotal: 1.43s\tremaining: 1.62s\n",
      "47:\tlearn: 0.3645954\ttotal: 1.45s\tremaining: 1.57s\n",
      "48:\tlearn: 0.3645460\ttotal: 1.47s\tremaining: 1.53s\n",
      "49:\tlearn: 0.3645012\ttotal: 1.49s\tremaining: 1.49s\n",
      "50:\tlearn: 0.3641395\ttotal: 1.51s\tremaining: 1.45s\n",
      "51:\tlearn: 0.3636880\ttotal: 1.53s\tremaining: 1.41s\n",
      "52:\tlearn: 0.3636078\ttotal: 1.55s\tremaining: 1.38s\n",
      "53:\tlearn: 0.3635506\ttotal: 1.57s\tremaining: 1.34s\n",
      "54:\tlearn: 0.3631103\ttotal: 1.59s\tremaining: 1.3s\n",
      "55:\tlearn: 0.3630772\ttotal: 1.61s\tremaining: 1.26s\n",
      "56:\tlearn: 0.3626941\ttotal: 1.63s\tremaining: 1.23s\n",
      "57:\tlearn: 0.3625415\ttotal: 1.65s\tremaining: 1.19s\n",
      "58:\tlearn: 0.3624671\ttotal: 1.68s\tremaining: 1.17s\n",
      "59:\tlearn: 0.3624148\ttotal: 1.7s\tremaining: 1.13s\n",
      "60:\tlearn: 0.3623759\ttotal: 1.72s\tremaining: 1.1s\n",
      "61:\tlearn: 0.3623195\ttotal: 1.74s\tremaining: 1.06s\n",
      "62:\tlearn: 0.3621678\ttotal: 1.76s\tremaining: 1.03s\n",
      "63:\tlearn: 0.3620637\ttotal: 1.78s\tremaining: 1s\n",
      "64:\tlearn: 0.3619695\ttotal: 1.8s\tremaining: 969ms\n",
      "65:\tlearn: 0.3618622\ttotal: 1.82s\tremaining: 939ms\n",
      "66:\tlearn: 0.3618213\ttotal: 1.84s\tremaining: 907ms\n",
      "67:\tlearn: 0.3616134\ttotal: 1.87s\tremaining: 879ms\n",
      "68:\tlearn: 0.3615296\ttotal: 1.89s\tremaining: 850ms\n",
      "69:\tlearn: 0.3614061\ttotal: 1.91s\tremaining: 819ms\n",
      "70:\tlearn: 0.3614047\ttotal: 1.93s\tremaining: 790ms\n",
      "71:\tlearn: 0.3613996\ttotal: 1.95s\tremaining: 760ms\n",
      "72:\tlearn: 0.3613013\ttotal: 1.98s\tremaining: 733ms\n",
      "73:\tlearn: 0.3612391\ttotal: 2.02s\tremaining: 711ms\n",
      "74:\tlearn: 0.3612343\ttotal: 2.07s\tremaining: 689ms\n",
      "75:\tlearn: 0.3609681\ttotal: 2.11s\tremaining: 667ms\n",
      "76:\tlearn: 0.3605244\ttotal: 2.19s\tremaining: 654ms\n",
      "77:\tlearn: 0.3604488\ttotal: 2.24s\tremaining: 633ms\n",
      "78:\tlearn: 0.3603691\ttotal: 2.34s\tremaining: 622ms\n",
      "79:\tlearn: 0.3602614\ttotal: 2.42s\tremaining: 606ms\n",
      "80:\tlearn: 0.3601456\ttotal: 2.5s\tremaining: 586ms\n",
      "81:\tlearn: 0.3600565\ttotal: 2.56s\tremaining: 563ms\n",
      "82:\tlearn: 0.3600117\ttotal: 2.65s\tremaining: 542ms\n",
      "83:\tlearn: 0.3600031\ttotal: 2.69s\tremaining: 513ms\n",
      "84:\tlearn: 0.3599927\ttotal: 2.73s\tremaining: 481ms\n",
      "85:\tlearn: 0.3599598\ttotal: 2.76s\tremaining: 450ms\n",
      "86:\tlearn: 0.3597465\ttotal: 2.8s\tremaining: 419ms\n",
      "87:\tlearn: 0.3596739\ttotal: 2.83s\tremaining: 386ms\n",
      "88:\tlearn: 0.3596114\ttotal: 2.88s\tremaining: 356ms\n",
      "89:\tlearn: 0.3595160\ttotal: 2.91s\tremaining: 324ms\n",
      "90:\tlearn: 0.3593424\ttotal: 2.94s\tremaining: 291ms\n",
      "91:\tlearn: 0.3590557\ttotal: 2.96s\tremaining: 257ms\n",
      "92:\tlearn: 0.3589216\ttotal: 2.98s\tremaining: 224ms\n",
      "93:\tlearn: 0.3588994\ttotal: 3s\tremaining: 192ms\n",
      "94:\tlearn: 0.3586236\ttotal: 3.02s\tremaining: 159ms\n",
      "95:\tlearn: 0.3585019\ttotal: 3.05s\tremaining: 127ms\n",
      "96:\tlearn: 0.3582626\ttotal: 3.06s\tremaining: 94.8ms\n",
      "97:\tlearn: 0.3581905\ttotal: 3.08s\tremaining: 62.9ms\n",
      "98:\tlearn: 0.3581334\ttotal: 3.1s\tremaining: 31.3ms\n",
      "99:\tlearn: 0.3580181\ttotal: 3.12s\tremaining: 0us\n"
     ]
    },
    {
     "data": {
      "text/plain": [
       "<catboost.core.CatBoostClassifier at 0xda92d98320>"
      ]
     },
     "execution_count": 7,
     "metadata": {},
     "output_type": "execute_result"
    }
   ],
   "source": [
    "#fitting catboost classifier model\n",
    "model = CatBoostClassifier(n_estimators=100\n",
    "                          )\n",
    "model.fit(train_x,train_y,cat_features=categorical_var,verbose=True)"
   ]
  },
  {
   "cell_type": "code",
   "execution_count": 8,
   "metadata": {},
   "outputs": [],
   "source": [
    "#predict probability on test data\n",
    "predict_test = model.predict_proba(test)[:,1]"
   ]
  },
  {
   "cell_type": "code",
   "execution_count": 9,
   "metadata": {},
   "outputs": [],
   "source": [
    "sub.target = predict_test\n",
    "sub.to_csv('cb_100.csv',index = False)"
   ]
  },
  {
   "cell_type": "code",
   "execution_count": null,
   "metadata": {},
   "outputs": [],
   "source": []
  }
 ],
 "metadata": {
  "kernelspec": {
   "display_name": "Python 3",
   "language": "python",
   "name": "python3"
  },
  "language_info": {
   "codemirror_mode": {
    "name": "ipython",
    "version": 3
   },
   "file_extension": ".py",
   "mimetype": "text/x-python",
   "name": "python",
   "nbconvert_exporter": "python",
   "pygments_lexer": "ipython3",
   "version": "3.7.3"
  }
 },
 "nbformat": 4,
 "nbformat_minor": 2
}
