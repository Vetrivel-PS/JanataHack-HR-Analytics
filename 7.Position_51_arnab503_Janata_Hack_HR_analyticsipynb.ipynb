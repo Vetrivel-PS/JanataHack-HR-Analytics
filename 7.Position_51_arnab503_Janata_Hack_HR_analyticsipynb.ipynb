{
 "cells": [
  {
   "cell_type": "code",
   "execution_count": 64,
   "metadata": {},
   "outputs": [],
   "source": [
    "import numpy as np\n",
    "import pandas as pd\n",
    "import seaborn as sns\n",
    "from sklearn import preprocessing\n",
    "import matplotlib.pyplot as plt\n",
    "from sklearn.model_selection import train_test_split\n",
    "from sklearn.linear_model import LogisticRegression\n",
    "from sklearn.metrics import accuracy_score \n",
    "from sklearn.metrics import confusion_matrix \n",
    "from sklearn.metrics import roc_auc_score"
   ]
  },
  {
   "cell_type": "code",
   "execution_count": 55,
   "metadata": {},
   "outputs": [],
   "source": [
    "data = pd.read_csv('C:/Users/hp/Downloads/train_jqd04QH.csv')"
   ]
  },
  {
   "cell_type": "code",
   "execution_count": 56,
   "metadata": {},
   "outputs": [
    {
     "data": {
      "text/plain": [
       "company_type              5039\n",
       "company_size              4779\n",
       "gender                    4098\n",
       "major_discipline          2838\n",
       "education_level            457\n",
       "last_new_job               367\n",
       "enrolled_university        342\n",
       "experience                  59\n",
       "target                       0\n",
       "training_hours               0\n",
       "relevent_experience          0\n",
       "city_development_index       0\n",
       "city                         0\n",
       "enrollee_id                  0\n",
       "dtype: int64"
      ]
     },
     "execution_count": 56,
     "metadata": {},
     "output_type": "execute_result"
    }
   ],
   "source": [
    "data.isnull().sum().sort_values(ascending=False)"
   ]
  },
  {
   "cell_type": "code",
   "execution_count": 57,
   "metadata": {},
   "outputs": [],
   "source": [
    "data = data.drop(['enrollee_id','city_development_index'], axis = 1)"
   ]
  },
  {
   "cell_type": "code",
   "execution_count": 58,
   "metadata": {},
   "outputs": [
    {
     "data": {
      "text/plain": [
       "Graduate          10769\n",
       "Masters            4319\n",
       "High School        2032\n",
       "Phd                 459\n",
       "Primary School      323\n",
       "Name: education_level, dtype: int64"
      ]
     },
     "execution_count": 58,
     "metadata": {},
     "output_type": "execute_result"
    }
   ],
   "source": [
    "#Baseline Model\n",
    "data['education_level'].value_counts()"
   ]
  },
  {
   "cell_type": "code",
   "execution_count": 59,
   "metadata": {},
   "outputs": [
    {
     "name": "stdout",
     "output_type": "stream",
     "text": [
      "last_new_job            1     2    3    4    >4  never\n",
      "company_type                                          \n",
      "Early Stage Startup   362    84   18   27    30     45\n",
      "Funded Startup        622   198   63   56    71     18\n",
      "NGO                   275    69   28   28   106     21\n",
      "Other                  47    17    6    5    32      8\n",
      "Public Sector         359   200   83   53   236     50\n",
      "Pvt Ltd              3966  1688  667  686  2267    667\n"
     ]
    }
   ],
   "source": [
    "data_crosstab = pd.crosstab(data['company_type'], \n",
    "                            [data['last_new_job']],\n",
    "                               margins = False) \n",
    "print(data_crosstab) "
   ]
  },
  {
   "cell_type": "code",
   "execution_count": 60,
   "metadata": {},
   "outputs": [],
   "source": [
    "data['enrolled_university'].fillna(value = \"no_enrollment\", inplace = True)"
   ]
  },
  {
   "cell_type": "code",
   "execution_count": 61,
   "metadata": {},
   "outputs": [
    {
     "name": "stderr",
     "output_type": "stream",
     "text": [
      "C:\\Users\\hp\\Anaconda3\\lib\\site-packages\\ipykernel_launcher.py:8: SettingWithCopyWarning: \n",
      "A value is trying to be set on a copy of a slice from a DataFrame\n",
      "\n",
      "See the caveats in the documentation: http://pandas.pydata.org/pandas-docs/stable/indexing.html#indexing-view-versus-copy\n",
      "  \n",
      "C:\\Users\\hp\\Anaconda3\\lib\\site-packages\\ipykernel_launcher.py:4: SettingWithCopyWarning: \n",
      "A value is trying to be set on a copy of a slice from a DataFrame\n",
      "\n",
      "See the caveats in the documentation: http://pandas.pydata.org/pandas-docs/stable/indexing.html#indexing-view-versus-copy\n",
      "  after removing the cwd from sys.path.\n",
      "C:\\Users\\hp\\Anaconda3\\lib\\site-packages\\ipykernel_launcher.py:6: SettingWithCopyWarning: \n",
      "A value is trying to be set on a copy of a slice from a DataFrame\n",
      "\n",
      "See the caveats in the documentation: http://pandas.pydata.org/pandas-docs/stable/indexing.html#indexing-view-versus-copy\n",
      "  \n"
     ]
    }
   ],
   "source": [
    "for ind in data.index:    \n",
    "    if pd.isnull(data['experience'][ind]):\n",
    "        if data['enrolled_university'][ind] == \"Full time course\":\n",
    "            data['experience'][ind] = \"4\"\n",
    "        elif data['enrolled_university'][ind] == \"Part time course\":\n",
    "            data['experience'][ind] = \"5\"\n",
    "        else :\n",
    "            data['experience'][ind] = \">20\"\n",
    "            "
   ]
  },
  {
   "cell_type": "code",
   "execution_count": 62,
   "metadata": {},
   "outputs": [
    {
     "data": {
      "image/png": "[encoded data removed]",
      "text/plain": [
       "<Figure size 432x288 with 1 Axes>"
      ]
     },
     "metadata": {},
     "output_type": "display_data"
    }
   ],
   "source": [
    "sns.set(style=\"whitegrid\")\n",
    "ax = sns.boxplot(x=\"education_level\", y=\"training_hours\", data=data)"
   ]
  },
  {
   "cell_type": "code",
   "execution_count": 63,
   "metadata": {},
   "outputs": [
    {
     "name": "stderr",
     "output_type": "stream",
     "text": [
      "C:\\Users\\hp\\Anaconda3\\lib\\site-packages\\ipykernel_launcher.py:10: SettingWithCopyWarning: \n",
      "A value is trying to be set on a copy of a slice from a DataFrame\n",
      "\n",
      "See the caveats in the documentation: http://pandas.pydata.org/pandas-docs/stable/indexing.html#indexing-view-versus-copy\n",
      "  # Remove the CWD from sys.path while we load stuff.\n",
      "C:\\Users\\hp\\Anaconda3\\lib\\site-packages\\ipykernel_launcher.py:8: SettingWithCopyWarning: \n",
      "A value is trying to be set on a copy of a slice from a DataFrame\n",
      "\n",
      "See the caveats in the documentation: http://pandas.pydata.org/pandas-docs/stable/indexing.html#indexing-view-versus-copy\n",
      "  \n",
      "C:\\Users\\hp\\Anaconda3\\lib\\site-packages\\ipykernel_launcher.py:6: SettingWithCopyWarning: \n",
      "A value is trying to be set on a copy of a slice from a DataFrame\n",
      "\n",
      "See the caveats in the documentation: http://pandas.pydata.org/pandas-docs/stable/indexing.html#indexing-view-versus-copy\n",
      "  \n",
      "C:\\Users\\hp\\Anaconda3\\lib\\site-packages\\ipykernel_launcher.py:4: SettingWithCopyWarning: \n",
      "A value is trying to be set on a copy of a slice from a DataFrame\n",
      "\n",
      "See the caveats in the documentation: http://pandas.pydata.org/pandas-docs/stable/indexing.html#indexing-view-versus-copy\n",
      "  after removing the cwd from sys.path.\n"
     ]
    }
   ],
   "source": [
    "for ind in data.index:    \n",
    "    if pd.isnull(data['company_size'][ind]):  \n",
    "        if data['company_type'][ind] == \"Early Stage Startup\" :\n",
    "            data['company_size'][ind] = \"<10\"\n",
    "        elif data['company_type'][ind] == \"NGO\":\n",
    "            data['company_size'][ind] = \" 100-500\"\n",
    "        elif data['company_type'][ind] == \"Public Sector\":\n",
    "            data['company_size'][ind] = \" 1000-4999\"\n",
    "        else :\n",
    "            data['company_size'][ind] = \" 50-99\""
   ]
  },
  {
   "cell_type": "code",
   "execution_count": 65,
   "metadata": {},
   "outputs": [],
   "source": [
    "data['gender'].fillna(value = \"Male\", inplace = True)\n",
    "data['major_discipline'].fillna(value = \"STEM\", inplace = True)\n",
    "data['education_level'].fillna(value = \"Graduate\", inplace = True)\n",
    "data['last_new_job'].fillna(value = 1, inplace = True)\n",
    "data['company_type'].fillna(value = \"Pvt Ltd\", inplace = True)\n",
    "\n",
    "\n"
   ]
  },
  {
   "cell_type": "code",
   "execution_count": 66,
   "metadata": {},
   "outputs": [],
   "source": [
    "data['company_size'] = data['company_size'].astype(str)\n",
    "data['last_new_job'] = data['last_new_job'].astype(str)"
   ]
  },
  {
   "cell_type": "code",
   "execution_count": 67,
   "metadata": {},
   "outputs": [],
   "source": [
    "data['last_new_job'] = data['last_new_job'].replace(\">4\",\"5\")\n",
    "data['company_size'] = data['company_size'].replace(\"<10\",\"0\")\n",
    "data['company_size'] = data['company_size'].replace(\"10000+\",\"10000\")\n",
    "data['experience'] = data['experience'].replace(\"<1\",\"0\")\n",
    "data['experience'] = data['experience'].replace(\">20\",\"21\")"
   ]
  },
  {
   "cell_type": "code",
   "execution_count": 68,
   "metadata": {},
   "outputs": [],
   "source": [
    "label_encoder = preprocessing.LabelEncoder()\n",
    "data['city']= label_encoder.fit_transform(data['city'])\n",
    "data['gender']= label_encoder.fit_transform(data['gender'])\n",
    "data['relevent_experience']= label_encoder.fit_transform(data['relevent_experience'])\n",
    "data['enrolled_university']= label_encoder.fit_transform(data['enrolled_university'])\n",
    "data['education_level']= label_encoder.fit_transform(data['education_level'])\n",
    "data['major_discipline']= label_encoder.fit_transform(data['major_discipline'])\n",
    "data['experience']= label_encoder.fit_transform(data['experience'])\n",
    "data['company_size']= label_encoder.fit_transform(data['company_size'])\n",
    "data['company_type']= label_encoder.fit_transform(data['company_type'])\n",
    "data['last_new_job']= label_encoder.fit_transform(data['last_new_job'])"
   ]
  },
  {
   "cell_type": "code",
   "execution_count": 69,
   "metadata": {},
   "outputs": [],
   "source": [
    "city_df=pd.get_dummies(data['city'],prefix='c',drop_first=True)\n",
    "major_discipline_df=pd.get_dummies(data['major_discipline'],prefix='ma',drop_first=True)\n",
    "company_type_df=pd.get_dummies(data['company_type'],prefix='ct',drop_first=True)\n",
    "gender_df=pd.get_dummies(data['gender'],prefix='g',drop_first=True)\n",
    "relevent_experience_df=pd.get_dummies(data['relevent_experience'],prefix='re',drop_first=True)\n",
    "enrolled_university_df=pd.get_dummies(data['enrolled_university'],prefix='eu',drop_first=True)\n",
    "education_level_df=pd.get_dummies(data['education_level'],prefix='el',drop_first=True)\n",
    "experience_df=pd.get_dummies(data['experience'],prefix='e',drop_first=True)\n",
    "company_size_df=pd.get_dummies(data['company_size'],prefix='cs',drop_first=True)\n",
    "last_new_job_df=pd.get_dummies(data['last_new_job'],prefix='lnj',drop_first=True)"
   ]
  },
  {
   "cell_type": "code",
   "execution_count": 70,
   "metadata": {},
   "outputs": [],
   "source": [
    "data=data.join(city_df)\n",
    "data=data.join(major_discipline_df)\n",
    "data=data.join(company_type_df)\n",
    "data=data.join(gender_df)\n",
    "data=data.join(last_new_job_df)\n",
    "data=data.join(relevent_experience_df)\n",
    "data=data.join(enrolled_university_df)\n",
    "data=data.join(education_level_df)\n",
    "data=data.join(experience_df)\n",
    "data=data.join(company_size_df)"
   ]
  },
  {
   "cell_type": "code",
   "execution_count": 71,
   "metadata": {},
   "outputs": [],
   "source": [
    "data = data.drop(['city','major_discipline','company_type','gender','relevent_experience','enrolled_university','company_size','education_level','experience','last_new_job'],axis=1)"
   ]
  },
  {
   "cell_type": "code",
   "execution_count": 72,
   "metadata": {},
   "outputs": [],
   "source": [
    "y=data.target\n",
    "x= data.drop('target',axis=1)"
   ]
  },
  {
   "cell_type": "code",
   "execution_count": 73,
   "metadata": {},
   "outputs": [],
   "source": [
    "X_train, X_test, y_train, y_test = train_test_split(x, y, \n",
    "                                                        shuffle=True,\n",
    "                                                        test_size=0.2, \n",
    "                                                        random_state=80)\n"
   ]
  },
  {
   "cell_type": "code",
   "execution_count": 74,
   "metadata": {},
   "outputs": [
    {
     "name": "stderr",
     "output_type": "stream",
     "text": [
      "C:\\Users\\hp\\Anaconda3\\lib\\site-packages\\sklearn\\linear_model\\logistic.py:432: FutureWarning: Default solver will be changed to 'lbfgs' in 0.22. Specify a solver to silence this warning.\n",
      "  FutureWarning)\n"
     ]
    },
    {
     "data": {
      "text/plain": [
       "KNeighborsClassifier(algorithm='auto', leaf_size=30, metric='minkowski',\n",
       "                     metric_params=None, n_jobs=None, n_neighbors=5, p=2,\n",
       "                     weights='uniform')"
      ]
     },
     "execution_count": 74,
     "metadata": {},
     "output_type": "execute_result"
    }
   ],
   "source": [
    "classifier = LogisticRegression() \n",
    "classifier.fit(x, y) \n"
   ]
  },
  {
   "cell_type": "code",
   "execution_count": 106,
   "metadata": {},
   "outputs": [
    {
     "data": {
      "text/plain": [
       "0.6843559433862395"
      ]
     },
     "execution_count": 106,
     "metadata": {},
     "output_type": "execute_result"
    }
   ],
   "source": [
    "y_pred_train = classifier.predict_proba(X_train)\n",
    "acc_log = roc_auc_score(y_train, y_pred_train[:,1])\n",
    "acc_log\n"
   ]
  },
  {
   "cell_type": "code",
   "execution_count": 108,
   "metadata": {},
   "outputs": [
    {
     "data": {
      "text/plain": [
       "0.6775535386822641"
      ]
     },
     "execution_count": 108,
     "metadata": {},
     "output_type": "execute_result"
    }
   ],
   "source": [
    "Y_pred = classifier.predict_proba(X_test)\n",
    "acc_log = roc_auc_score(y_test, Y_pred[:,1])\n",
    "acc_log"
   ]
  },
  {
   "cell_type": "code",
   "execution_count": null,
   "metadata": {},
   "outputs": [],
   "source": [
    "data.info()"
   ]
  },
  {
   "cell_type": "code",
   "execution_count": null,
   "metadata": {},
   "outputs": [],
   "source": [
    "### Testdata"
   ]
  },
  {
   "cell_type": "code",
   "execution_count": 78,
   "metadata": {},
   "outputs": [],
   "source": [
    "testdata = data = pd.read_csv('C:/Users/hp/Downloads/test_KaymcHn.csv')"
   ]
  },
  {
   "cell_type": "code",
   "execution_count": 79,
   "metadata": {},
   "outputs": [],
   "source": [
    "submission = pd.DataFrame()"
   ]
  },
  {
   "cell_type": "code",
   "execution_count": 80,
   "metadata": {},
   "outputs": [],
   "source": [
    "submission['enrollee_id'] = testdata['enrollee_id']"
   ]
  },
  {
   "cell_type": "code",
   "execution_count": 81,
   "metadata": {},
   "outputs": [],
   "source": [
    "testdata = testdata.drop(['enrollee_id','city_development_index'], axis = 1)"
   ]
  },
  {
   "cell_type": "code",
   "execution_count": 82,
   "metadata": {},
   "outputs": [],
   "source": [
    "testdata['enrolled_university'].fillna(value = \"no_enrollment\", inplace = True)"
   ]
  },
  {
   "cell_type": "code",
   "execution_count": 83,
   "metadata": {},
   "outputs": [
    {
     "name": "stderr",
     "output_type": "stream",
     "text": [
      "C:\\Users\\hp\\Anaconda3\\lib\\site-packages\\ipykernel_launcher.py:4: SettingWithCopyWarning: \n",
      "A value is trying to be set on a copy of a slice from a DataFrame\n",
      "\n",
      "See the caveats in the documentation: http://pandas.pydata.org/pandas-docs/stable/indexing.html#indexing-view-versus-copy\n",
      "  after removing the cwd from sys.path.\n",
      "C:\\Users\\hp\\Anaconda3\\lib\\site-packages\\ipykernel_launcher.py:8: SettingWithCopyWarning: \n",
      "A value is trying to be set on a copy of a slice from a DataFrame\n",
      "\n",
      "See the caveats in the documentation: http://pandas.pydata.org/pandas-docs/stable/indexing.html#indexing-view-versus-copy\n",
      "  \n",
      "C:\\Users\\hp\\Anaconda3\\lib\\site-packages\\ipykernel_launcher.py:6: SettingWithCopyWarning: \n",
      "A value is trying to be set on a copy of a slice from a DataFrame\n",
      "\n",
      "See the caveats in the documentation: http://pandas.pydata.org/pandas-docs/stable/indexing.html#indexing-view-versus-copy\n",
      "  \n"
     ]
    }
   ],
   "source": [
    "for ind in testdata.index:    \n",
    "    if pd.isnull(testdata['experience'][ind]):  \n",
    "        if testdata['enrolled_university'][ind] == \"Full time course\":\n",
    "            testdata['experience'][ind] = \"4\"\n",
    "        elif testdata['enrolled_university'][ind] == \"Part time course\":\n",
    "            testdata['experience'][ind] = \"5\"\n",
    "        else :\n",
    "            testdata['experience'][ind] = \">20\""
   ]
  },
  {
   "cell_type": "code",
   "execution_count": 84,
   "metadata": {},
   "outputs": [
    {
     "name": "stderr",
     "output_type": "stream",
     "text": [
      "C:\\Users\\hp\\Anaconda3\\lib\\site-packages\\ipykernel_launcher.py:10: SettingWithCopyWarning: \n",
      "A value is trying to be set on a copy of a slice from a DataFrame\n",
      "\n",
      "See the caveats in the documentation: http://pandas.pydata.org/pandas-docs/stable/indexing.html#indexing-view-versus-copy\n",
      "  # Remove the CWD from sys.path while we load stuff.\n",
      "C:\\Users\\hp\\Anaconda3\\lib\\site-packages\\ipykernel_launcher.py:8: SettingWithCopyWarning: \n",
      "A value is trying to be set on a copy of a slice from a DataFrame\n",
      "\n",
      "See the caveats in the documentation: http://pandas.pydata.org/pandas-docs/stable/indexing.html#indexing-view-versus-copy\n",
      "  \n",
      "C:\\Users\\hp\\Anaconda3\\lib\\site-packages\\ipykernel_launcher.py:6: SettingWithCopyWarning: \n",
      "A value is trying to be set on a copy of a slice from a DataFrame\n",
      "\n",
      "See the caveats in the documentation: http://pandas.pydata.org/pandas-docs/stable/indexing.html#indexing-view-versus-copy\n",
      "  \n",
      "C:\\Users\\hp\\Anaconda3\\lib\\site-packages\\ipykernel_launcher.py:4: SettingWithCopyWarning: \n",
      "A value is trying to be set on a copy of a slice from a DataFrame\n",
      "\n",
      "See the caveats in the documentation: http://pandas.pydata.org/pandas-docs/stable/indexing.html#indexing-view-versus-copy\n",
      "  after removing the cwd from sys.path.\n"
     ]
    }
   ],
   "source": [
    "for ind in testdata.index:    \n",
    "    if pd.isnull(testdata['company_size'][ind]):  \n",
    "        if testdata['company_type'][ind] == \"Early Stage Startup\" :\n",
    "            testdata['company_size'][ind] = \"<10\"\n",
    "        elif testdata['company_type'][ind] == \"NGO\":\n",
    "            testdata['company_size'][ind] = \" 100-500\"\n",
    "        elif testdata['company_type'][ind] == \"Public Sector\":\n",
    "            testdata['company_size'][ind] = \" 1000-4999\"\n",
    "        else :\n",
    "            testdata['company_size'][ind] = \" 50-99\"\n"
   ]
  },
  {
   "cell_type": "code",
   "execution_count": 85,
   "metadata": {},
   "outputs": [],
   "source": [
    "testdata['gender'].fillna(value = \"Male\", inplace = True)\n",
    "testdata['major_discipline'].fillna(value = \"STEM\", inplace = True)\n",
    "testdata['education_level'].fillna(value = \"Graduate\", inplace = True)\n",
    "testdata['last_new_job'].fillna(value = 1, inplace = True)\n",
    "testdata['company_type'].fillna(value = \"Pvt Ltd\", inplace = True)"
   ]
  },
  {
   "cell_type": "code",
   "execution_count": 86,
   "metadata": {},
   "outputs": [],
   "source": [
    "testdata['company_size'] = testdata['company_size'].astype(str)\n",
    "testdata['last_new_job'] = testdata['last_new_job'].astype(str)"
   ]
  },
  {
   "cell_type": "code",
   "execution_count": 87,
   "metadata": {},
   "outputs": [],
   "source": [
    "testdata['last_new_job'] = testdata['last_new_job'].replace(\">4\",\"5\")\n",
    "testdata['company_size'] = testdata['company_size'].replace(\"<10\",\"0\")\n",
    "testdata['company_size'] = testdata['company_size'].replace(\"10000+\",\"10000\")\n",
    "testdata['experience'] = testdata['experience'].replace(\"<1\",\"0\")\n",
    "testdata['experience'] = testdata['experience'].replace(\">20\",\"21\")"
   ]
  },
  {
   "cell_type": "code",
   "execution_count": 88,
   "metadata": {},
   "outputs": [],
   "source": [
    "label_encoder = preprocessing.LabelEncoder()\n",
    "testdata['city']= label_encoder.fit_transform(testdata['city'])\n",
    "testdata['gender']= label_encoder.fit_transform(testdata['gender'])\n",
    "testdata['relevent_experience']= label_encoder.fit_transform(testdata['relevent_experience'])\n",
    "testdata['enrolled_university']= label_encoder.fit_transform(testdata['enrolled_university'])\n",
    "testdata['education_level']= label_encoder.fit_transform(testdata['education_level'])\n",
    "testdata['major_discipline']= label_encoder.fit_transform(testdata['major_discipline'])\n",
    "testdata['experience']= label_encoder.fit_transform(testdata['experience'])\n",
    "testdata['company_size']= label_encoder.fit_transform(testdata['company_size'])\n",
    "testdata['company_type']= label_encoder.fit_transform(testdata['company_type'])\n",
    "testdata['last_new_job']= label_encoder.fit_transform(testdata['last_new_job'])"
   ]
  },
  {
   "cell_type": "code",
   "execution_count": 89,
   "metadata": {},
   "outputs": [],
   "source": [
    "city_df=pd.get_dummies(testdata['city'],prefix='c',drop_first=True)\n",
    "major_discipline_df=pd.get_dummies(testdata['major_discipline'],prefix='ma',drop_first=True)\n",
    "company_type_df=pd.get_dummies(testdata['company_type'],prefix='ct',drop_first=True)\n",
    "gender_df=pd.get_dummies(testdata['gender'],prefix='g',drop_first=True)\n",
    "relevent_experience_df=pd.get_dummies(testdata['relevent_experience'],prefix='re',drop_first=True)\n",
    "enrolled_university_df=pd.get_dummies(testdata['enrolled_university'],prefix='eu',drop_first=True)\n",
    "education_level_df=pd.get_dummies(testdata['education_level'],prefix='el',drop_first=True)\n",
    "experience_df=pd.get_dummies(testdata['experience'],prefix='e',drop_first=True)\n",
    "company_size_df=pd.get_dummies(testdata['company_size'],prefix='cs',drop_first=True)\n",
    "last_new_job_df=pd.get_dummies(testdata['last_new_job'],prefix='lnj',drop_first=True)\n"
   ]
  },
  {
   "cell_type": "code",
   "execution_count": 90,
   "metadata": {},
   "outputs": [],
   "source": [
    "testdata=testdata.join(city_df)\n",
    "testdata=testdata.join(major_discipline_df)\n",
    "testdata=testdata.join(company_type_df)\n",
    "testdata=testdata.join(gender_df)\n",
    "testdata=testdata.join(last_new_job_df)\n",
    "testdata=testdata.join(relevent_experience_df)\n",
    "testdata=testdata.join(enrolled_university_df)\n",
    "testdata=testdata.join(education_level_df)\n",
    "testdata=testdata.join(experience_df)\n",
    "testdata=testdata.join(company_size_df)"
   ]
  },
  {
   "cell_type": "code",
   "execution_count": 91,
   "metadata": {},
   "outputs": [],
   "source": [
    "testdata = testdata.drop(['city','major_discipline','company_type','gender','relevent_experience','enrolled_university','company_size','education_level','experience','last_new_job'],axis=1)\n"
   ]
  },
  {
   "cell_type": "code",
   "execution_count": 102,
   "metadata": {},
   "outputs": [],
   "source": [
    "y_pred1 = classifier.predict_proba(testdata)\n"
   ]
  },
  {
   "cell_type": "code",
   "execution_count": 103,
   "metadata": {},
   "outputs": [
    {
     "data": {
      "text/plain": [
       "array([[0.41553483, 0.58446517],\n",
       "       [0.94230461, 0.05769539],\n",
       "       [0.71727004, 0.28272996],\n",
       "       ...,\n",
       "       [0.93626604, 0.06373396],\n",
       "       [0.77662699, 0.22337301],\n",
       "       [0.59607887, 0.40392113]])"
      ]
     },
     "execution_count": 103,
     "metadata": {},
     "output_type": "execute_result"
    }
   ],
   "source": [
    "y_pred1"
   ]
  },
  {
   "cell_type": "code",
   "execution_count": 104,
   "metadata": {},
   "outputs": [],
   "source": [
    "submission['target'] = pd.DataFrame(y_pred1[:,1])"
   ]
  },
  {
   "cell_type": "code",
   "execution_count": 105,
   "metadata": {},
   "outputs": [],
   "source": [
    "submit = submission.to_csv(\"C:/Users/hp/Downloads/output19.csv\",index = False)"
   ]
  },
  {
   "cell_type": "code",
   "execution_count": null,
   "metadata": {},
   "outputs": [],
   "source": []
  }
 ],
 "metadata": {
  "kernelspec": {
   "display_name": "Python 3",
   "language": "python",
   "name": "python3"
  },
  "language_info": {
   "codemirror_mode": {
    "name": "ipython",
    "version": 3
   },
   "file_extension": ".py",
   "mimetype": "text/x-python",
   "name": "python",
   "nbconvert_exporter": "python",
   "pygments_lexer": "ipython3",
   "version": "3.7.3"
  }
 },
 "nbformat": 4,
 "nbformat_minor": 2
}
