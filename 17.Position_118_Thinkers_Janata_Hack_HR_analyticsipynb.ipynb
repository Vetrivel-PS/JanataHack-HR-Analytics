{
 "cells": [
  {
   "cell_type": "code",
   "execution_count": 1,
   "metadata": {},
   "outputs": [],
   "source": [
    "#loading the libraries\n",
    "import os\n",
    "import pandas as pd\n",
    "import numpy as np\n",
    "from sklearn.linear_model import LogisticRegression\n",
    "from sklearn.ensemble import RandomForestClassifier\n",
    "from sklearn.tree import DecisionTreeClassifier\n",
    "from xgboost import XGBClassifier\n",
    "import lightgbm as gbm"
   ]
  },
  {
   "cell_type": "code",
   "execution_count": 2,
   "metadata": {},
   "outputs": [],
   "source": [
    "os.chdir('D:/janata_hack/')"
   ]
  },
  {
   "cell_type": "code",
   "execution_count": 3,
   "metadata": {},
   "outputs": [
    {
     "name": "stdout",
     "output_type": "stream",
     "text": [
      " Volume in drive D is New Volume\n",
      " Volume Serial Number is 9C5A-0CCF\n",
      "\n",
      " Directory of D:\\janata_hack\n",
      "\n",
      "10-05-2020  02:33    <DIR>          .\n",
      "10-05-2020  02:33    <DIR>          ..\n",
      "10-05-2020  02:33           160,246 rf_test.csv\n",
      "09-05-2020  02:09           115,182 sample_submission_sxfcbdx.csv\n",
      "09-05-2020  02:09         1,453,325 test_KaymcHn.csv\n",
      "09-05-2020  02:09         1,817,701 train_jqd04QH.csv\n",
      "               4 File(s)      3,546,454 bytes\n",
      "               2 Dir(s)  308,895,301,632 bytes free\n"
     ]
    }
   ],
   "source": [
    "ls"
   ]
  },
  {
   "cell_type": "code",
   "execution_count": 4,
   "metadata": {},
   "outputs": [],
   "source": [
    "#reading the training and testing data\n",
    "train_data = pd.read_csv('train_jqd04QH.csv')\n",
    "test_data = pd.read_csv('test_KaymcHn.csv')"
   ]
  },
  {
   "cell_type": "code",
   "execution_count": 5,
   "metadata": {},
   "outputs": [
    {
     "name": "stdout",
     "output_type": "stream",
     "text": [
      "Shape of training data: (18359, 14)\n",
      "Shape of testing data: (15021, 13)\n"
     ]
    }
   ],
   "source": [
    "#shape of training and testing data\n",
    "print(\"Shape of training data:\", train_data.shape)\n",
    "print(\"Shape of testing data:\", test_data.shape)"
   ]
  },
  {
   "cell_type": "code",
   "execution_count": 6,
   "metadata": {},
   "outputs": [],
   "source": [
    "#combining test and train into one dataframe because some variables might have more or less categories in the train or test data\n",
    "train_data['source']='train'\n",
    "test_data['source']='test'\n",
    "final_df = pd.concat([train_data, test_data],ignore_index=True,sort=True)\n",
    "data = final_df.copy()"
   ]
  },
  {
   "cell_type": "code",
   "execution_count": 7,
   "metadata": {},
   "outputs": [
    {
     "name": "stdout",
     "output_type": "stream",
     "text": [
      "Shape of data (33380, 15)\n"
     ]
    }
   ],
   "source": [
    "print(\"Shape of data\", data.shape)"
   ]
  },
  {
   "cell_type": "code",
   "execution_count": 8,
   "metadata": {},
   "outputs": [
    {
     "data": {
      "text/plain": [
       "city                       object\n",
       "city_development_index    float64\n",
       "company_size               object\n",
       "company_type               object\n",
       "education_level            object\n",
       "enrolled_university        object\n",
       "enrollee_id                 int64\n",
       "experience                 object\n",
       "gender                     object\n",
       "last_new_job               object\n",
       "major_discipline           object\n",
       "relevent_experience        object\n",
       "source                     object\n",
       "target                    float64\n",
       "training_hours              int64\n",
       "dtype: object"
      ]
     },
     "execution_count": 8,
     "metadata": {},
     "output_type": "execute_result"
    }
   ],
   "source": [
    "#check for datatypes\n",
    "data.dtypes"
   ]
  },
  {
   "cell_type": "code",
   "execution_count": 9,
   "metadata": {},
   "outputs": [
    {
     "name": "stdout",
     "output_type": "stream",
     "text": [
      "                        percent_missing\n",
      "city                           0.000000\n",
      "city_development_index         0.000000\n",
      "company_size                  26.452966\n",
      "company_type                  28.067705\n",
      "education_level                2.552427\n",
      "enrolled_university            1.860395\n",
      "enrollee_id                    0.000000\n",
      "experience                     0.308568\n",
      "gender                        22.426603\n",
      "last_new_job                   2.010186\n",
      "major_discipline              15.671061\n",
      "relevent_experience            0.000000\n",
      "source                         0.000000\n",
      "target                        45.000000\n",
      "training_hours                 0.000000\n"
     ]
    }
   ],
   "source": [
    "#checking for missing value percentage\n",
    "percent_missing = data.isnull().sum() * 100 / len(data)\n",
    "missing_value_df = pd.DataFrame({'percent_missing': percent_missing})\n",
    "print(missing_value_df)"
   ]
  },
  {
   "cell_type": "code",
   "execution_count": 10,
   "metadata": {},
   "outputs": [
    {
     "name": "stdout",
     "output_type": "stream",
     "text": [
      "city                          0\n",
      "city_development_index        0\n",
      "company_size               8830\n",
      "company_type               9369\n",
      "education_level             852\n",
      "enrolled_university         621\n",
      "enrollee_id                   0\n",
      "experience                  103\n",
      "gender                     7486\n",
      "last_new_job                671\n",
      "major_discipline           5231\n",
      "relevent_experience           0\n",
      "source                        0\n",
      "target                    15021\n",
      "training_hours                0\n",
      "dtype: int64\n"
     ]
    }
   ],
   "source": [
    "#check for no of missing values\n",
    "print(data.isnull().sum())"
   ]
  },
  {
   "cell_type": "code",
   "execution_count": 11,
   "metadata": {},
   "outputs": [],
   "source": [
    "#converting categorical bins to ordinal data\n",
    "def coding(col, codeDict):\n",
    "    colCoded = pd.Series(col, copy=True)\n",
    "    for key, value in codeDict.items():\n",
    "        colCoded.replace(key, value, inplace=True)\n",
    "    return colCoded"
   ]
  },
  {
   "cell_type": "code",
   "execution_count": 12,
   "metadata": {},
   "outputs": [
    {
     "name": "stdout",
     "output_type": "stream",
     "text": [
      "3.0    5697\n",
      "4.0    4845\n",
      "8.0    3666\n",
      "2.0    2664\n",
      "6.0    2513\n",
      "1.0    2464\n",
      "5.0    1639\n",
      "7.0    1062\n",
      "Name: company_size, dtype: int64\n"
     ]
    }
   ],
   "source": [
    "#Replacing 10/49 by 10-49 for consistency and converting it into a categorical ordering \n",
    "data.company_size.replace('10/49', '10-49', inplace=True)\n",
    "data['company_size'] = coding(data['company_size'], {'<10':1,'10-49':2,'50-99':3,'100-500':4,\\\n",
    "                                                     '500-999':5, '1000-4999':6, '5000-9999':7, '10000+':8})\n",
    "print(data.company_size.value_counts())"
   ]
  },
  {
   "cell_type": "code",
   "execution_count": 13,
   "metadata": {},
   "outputs": [
    {
     "name": "stdout",
     "output_type": "stream",
     "text": [
      "Pvt Ltd                18114\n",
      "Funded Startup          1880\n",
      "Public Sector           1792\n",
      "Early Stage Startup     1029\n",
      "NGO                      973\n",
      "Other                    223\n",
      "Name: company_type, dtype: int64\n"
     ]
    }
   ],
   "source": [
    "#Checking company type\n",
    "print(data.company_type.value_counts())"
   ]
  },
  {
   "cell_type": "code",
   "execution_count": 14,
   "metadata": {},
   "outputs": [
    {
     "data": {
      "text/plain": [
       "company_type         company_size\n",
       "Early Stage Startup  1.0              511\n",
       "                     2.0              288\n",
       "                     3.0              185\n",
       "                     4.0               38\n",
       "                     5.0                2\n",
       "Funded Startup       3.0              745\n",
       "                     4.0              403\n",
       "                     2.0              356\n",
       "                     1.0              267\n",
       "                     5.0              100\n",
       "NGO                  4.0              334\n",
       "                     3.0              144\n",
       "                     6.0              130\n",
       "                     8.0               80\n",
       "                     5.0               69\n",
       "                     1.0               62\n",
       "                     2.0               55\n",
       "                     7.0               54\n",
       "Other                3.0               39\n",
       "                     8.0               38\n",
       "                     4.0               33\n",
       "                     6.0               26\n",
       "                     1.0               21\n",
       "                     2.0               20\n",
       "                     5.0               17\n",
       "                     7.0               17\n",
       "Public Sector        6.0              339\n",
       "                     4.0              299\n",
       "                     8.0              299\n",
       "                     3.0              213\n",
       "                     5.0              162\n",
       "                     7.0              161\n",
       "                     2.0               67\n",
       "                     1.0               66\n",
       "Pvt Ltd              3.0             3946\n",
       "                     4.0             3451\n",
       "                     8.0             3103\n",
       "                     6.0             1903\n",
       "                     2.0             1662\n",
       "                     1.0             1400\n",
       "                     5.0             1168\n",
       "                     7.0              763\n",
       "Name: company_size, dtype: int64"
      ]
     },
     "execution_count": 14,
     "metadata": {},
     "output_type": "execute_result"
    }
   ],
   "source": [
    "#Company size and company type can be correlated logically\n",
    "data.groupby('company_type')['company_size'].value_counts()"
   ]
  },
  {
   "cell_type": "code",
   "execution_count": 15,
   "metadata": {},
   "outputs": [],
   "source": [
    "#Missing values as -999 for company size and mode for companytype\n",
    "data['company_size'].fillna(-1, inplace=True)\n",
    "data['company_type'].fillna('Pvt Ltd', inplace=True)"
   ]
  },
  {
   "cell_type": "code",
   "execution_count": 16,
   "metadata": {},
   "outputs": [],
   "source": [
    "#Replacing company type and size according to the distributions, \n",
    "#Like replacing company size as 1(<10) for early startup company type in case of missing values\n",
    "data['company_size'] = np.where((data['company_size'] == -1) & \n",
    "                                (data['company_type'] == 'Early Stage Startup'), 1, data['company_size'])\n",
    "data['company_size'] = np.where((data['company_size'] == -1) & \n",
    "                                (data['company_type'] == 'Funded Startup'), 3, data['company_size'])\n",
    "data['company_size'] = np.where((data['company_size'] == -1) & \n",
    "                                (data['company_type'] == 'NGO'), 4, data['company_size'])\n",
    "data['company_size'] = np.where((data['company_size'] == -1) & \n",
    "                                (data['company_type'] == 'Other'), 6, data['company_size'])\n",
    "data['company_size'] = np.where((data['company_size'] == -1) & \n",
    "                                (data['company_type'] == 'Public Sector'), 6, data['company_size'])\n",
    "data['company_size'] = np.where((data['company_size'] == -1) & \n",
    "                                (data['company_type'] == 'Pvt Ltd'), 3, data['company_size'])"
   ]
  },
  {
   "cell_type": "code",
   "execution_count": 17,
   "metadata": {},
   "outputs": [
    {
     "name": "stdout",
     "output_type": "stream",
     "text": [
      "no_enrollment       25508\n",
      "Full time course     5752\n",
      "Part time course     2120\n",
      "Name: enrolled_university, dtype: int64\n"
     ]
    }
   ],
   "source": [
    "#Analyzing enrolled university\n",
    "data['enrolled_university'].fillna('no_enrollment', inplace=True)\n",
    "print(data['enrolled_university'].value_counts())"
   ]
  },
  {
   "cell_type": "code",
   "execution_count": 18,
   "metadata": {},
   "outputs": [
    {
     "name": "stdout",
     "output_type": "stream",
     "text": [
      "3.0    19512\n",
      "4.0     7797\n",
      "2.0     3708\n",
      "5.0      881\n",
      "1.0      630\n",
      "Name: education_level, dtype: int64\n"
     ]
    }
   ],
   "source": [
    "#Analyzing education level\n",
    "data['education_level'] = coding(data['education_level'], {'Primary School':1, 'High School':2, \n",
    "                                                          'Graduate':3, 'Masters':4, 'Phd':5})\n",
    "print(data['education_level'].value_counts())"
   ]
  },
  {
   "cell_type": "code",
   "execution_count": 19,
   "metadata": {},
   "outputs": [
    {
     "name": "stdout",
     "output_type": "stream",
     "text": [
      "1.0    10162\n",
      "2.0     8716\n",
      "5.0     6150\n",
      "3.0     5182\n",
      "4.0     3067\n",
      "Name: experience, dtype: int64\n"
     ]
    }
   ],
   "source": [
    "#Analyzing experience\n",
    "#Looking at the distribution dividing into 6 buckets with intervals of 5\n",
    "data['experience'] = coding(data['experience'], {'<1':1,'1':1,'2':1,'3':1,'4':1,'5':1,'6':2,'7':2,'8':2,'9':2,'10':2,\n",
    "'11':3,'12':3,'13':3,'14':3,'15':3,'16':4,'17':4,'18':4,'19':4,'20':4,'>20':5})\n",
    "print(data['experience'].value_counts())"
   ]
  },
  {
   "cell_type": "code",
   "execution_count": 20,
   "metadata": {},
   "outputs": [
    {
     "data": {
      "text/plain": [
       "education_level  experience\n",
       "1.0              1.0            429\n",
       "                 2.0            113\n",
       "                 5.0             36\n",
       "                 3.0             35\n",
       "                 4.0             13\n",
       "2.0              1.0           2026\n",
       "                 2.0            926\n",
       "                 3.0            307\n",
       "                 5.0            265\n",
       "                 4.0            176\n",
       "3.0              1.0           5868\n",
       "                 2.0           5388\n",
       "                 5.0           3393\n",
       "                 3.0           3081\n",
       "                 4.0           1736\n",
       "4.0              2.0           1983\n",
       "                 5.0           1909\n",
       "                 3.0           1559\n",
       "                 1.0           1341\n",
       "                 4.0            979\n",
       "5.0              5.0            447\n",
       "                 3.0            138\n",
       "                 2.0            126\n",
       "                 4.0            115\n",
       "                 1.0             52\n",
       "Name: experience, dtype: int64"
      ]
     },
     "execution_count": 20,
     "metadata": {},
     "output_type": "execute_result"
    }
   ],
   "source": [
    "#Education and experience can be correlated logically\n",
    "data.groupby('education_level')['experience'].value_counts()"
   ]
  },
  {
   "cell_type": "code",
   "execution_count": 21,
   "metadata": {},
   "outputs": [],
   "source": [
    "#Replacing missing values\n",
    "data['education_level'].fillna(3, inplace=True)\n",
    "data['experience'].fillna(-1, inplace=True)"
   ]
  },
  {
   "cell_type": "code",
   "execution_count": 22,
   "metadata": {},
   "outputs": [],
   "source": [
    "#Replacing education and experience according to distribution\n",
    "data['experience'] = np.where((data['experience'] == -1) & \n",
    "                                (data['education_level'] == 1), 1, data['experience'])\n",
    "data['experience'] = np.where((data['experience'] == -1) & \n",
    "                                (data['education_level'] == 2), 1, data['experience'])\n",
    "data['experience'] = np.where((data['experience'] == -1) & \n",
    "                                (data['education_level'] == 3), 1, data['experience'])\n",
    "data['experience'] = np.where((data['experience'] == -1) & \n",
    "                                (data['education_level'] == 4), 2, data['experience'])\n",
    "data['experience'] = np.where((data['experience'] == -1) & \n",
    "                                (data['education_level'] == 5), 5, data['experience'])"
   ]
  },
  {
   "cell_type": "code",
   "execution_count": 23,
   "metadata": {},
   "outputs": [
    {
     "name": "stdout",
     "output_type": "stream",
     "text": [
      "Male      30948\n",
      "Female     2085\n",
      "Other       347\n",
      "Name: gender, dtype: int64\n"
     ]
    }
   ],
   "source": [
    "#Replacing gender na values with mode\n",
    "data['gender'].fillna('Male', inplace=True)\n",
    "print(data['gender'].value_counts())"
   ]
  },
  {
   "cell_type": "code",
   "execution_count": 24,
   "metadata": {},
   "outputs": [
    {
     "name": "stdout",
     "output_type": "stream",
     "text": [
      "1.0    14484\n",
      "5.0     6023\n",
      "2.0     5133\n",
      "0.0     3943\n",
      "3.0     1922\n",
      "4.0     1875\n",
      "Name: last_new_job, dtype: int64\n"
     ]
    }
   ],
   "source": [
    "#Last new job\n",
    "data['last_new_job'] = coding(data['last_new_job'], {'never':0,'1':1,'2':2,'3':3,'4':4,'>4':5})\n",
    "data['last_new_job'].fillna(1, inplace=True)\n",
    "print(data['last_new_job'].value_counts())"
   ]
  },
  {
   "cell_type": "code",
   "execution_count": 25,
   "metadata": {},
   "outputs": [
    {
     "name": "stdout",
     "output_type": "stream",
     "text": [
      "STEM               30086\n",
      "Humanities          1212\n",
      "Other                678\n",
      "Business Degree      585\n",
      "Arts                 432\n",
      "No Major             387\n",
      "Name: major_discipline, dtype: int64\n"
     ]
    }
   ],
   "source": [
    "#Major discipline\n",
    "data['major_discipline'].fillna('STEM', inplace=True)\n",
    "print(data['major_discipline'].value_counts())"
   ]
  },
  {
   "cell_type": "code",
   "execution_count": 26,
   "metadata": {},
   "outputs": [],
   "source": [
    "#Relevant experience\n",
    "data['relevent_experience']=data['relevent_experience'].map(lambda x: 0 if x == 'No relevent experience' else 1)"
   ]
  },
  {
   "cell_type": "code",
   "execution_count": 27,
   "metadata": {},
   "outputs": [],
   "source": [
    "#Separte train and test data\n",
    "data['source']=data['source'].map(lambda x: 0 if x == 'train' else 1)"
   ]
  },
  {
   "cell_type": "code",
   "execution_count": 28,
   "metadata": {},
   "outputs": [
    {
     "data": {
      "text/plain": [
       "city                          0\n",
       "city_development_index        0\n",
       "company_size                  0\n",
       "company_type                  0\n",
       "education_level               0\n",
       "enrolled_university           0\n",
       "enrollee_id                   0\n",
       "experience                    0\n",
       "gender                        0\n",
       "last_new_job                  0\n",
       "major_discipline              0\n",
       "relevent_experience           0\n",
       "source                        0\n",
       "target                    15021\n",
       "training_hours                0\n",
       "dtype: int64"
      ]
     },
     "execution_count": 28,
     "metadata": {},
     "output_type": "execute_result"
    }
   ],
   "source": [
    "#Checking for null_values\n",
    "data.isnull().sum()"
   ]
  },
  {
   "cell_type": "code",
   "execution_count": 29,
   "metadata": {},
   "outputs": [
    {
     "data": {
      "text/html": [
       "<div>\n",
       "<style scoped>\n",
       "    .dataframe tbody tr th:only-of-type {\n",
       "        vertical-align: middle;\n",
       "    }\n",
       "\n",
       "    .dataframe tbody tr th {\n",
       "        vertical-align: top;\n",
       "    }\n",
       "\n",
       "    .dataframe thead th {\n",
       "        text-align: right;\n",
       "    }\n",
       "</style>\n",
       "<table border=\"1\" class=\"dataframe\">\n",
       "  <thead>\n",
       "    <tr style=\"text-align: right;\">\n",
       "      <th></th>\n",
       "      <th>city</th>\n",
       "      <th>city_development_index</th>\n",
       "      <th>company_size</th>\n",
       "      <th>company_type</th>\n",
       "      <th>education_level</th>\n",
       "      <th>enrolled_university</th>\n",
       "      <th>enrollee_id</th>\n",
       "      <th>experience</th>\n",
       "      <th>gender</th>\n",
       "      <th>last_new_job</th>\n",
       "      <th>major_discipline</th>\n",
       "      <th>relevent_experience</th>\n",
       "      <th>source</th>\n",
       "      <th>target</th>\n",
       "      <th>training_hours</th>\n",
       "    </tr>\n",
       "  </thead>\n",
       "  <tbody>\n",
       "    <tr>\n",
       "      <th>0</th>\n",
       "      <td>city_149</td>\n",
       "      <td>0.689</td>\n",
       "      <td>4.0</td>\n",
       "      <td>Pvt Ltd</td>\n",
       "      <td>3.0</td>\n",
       "      <td>no_enrollment</td>\n",
       "      <td>23798</td>\n",
       "      <td>1.0</td>\n",
       "      <td>Male</td>\n",
       "      <td>1.0</td>\n",
       "      <td>STEM</td>\n",
       "      <td>1</td>\n",
       "      <td>0</td>\n",
       "      <td>0.0</td>\n",
       "      <td>106</td>\n",
       "    </tr>\n",
       "    <tr>\n",
       "      <th>1</th>\n",
       "      <td>city_83</td>\n",
       "      <td>0.923</td>\n",
       "      <td>1.0</td>\n",
       "      <td>Funded Startup</td>\n",
       "      <td>3.0</td>\n",
       "      <td>no_enrollment</td>\n",
       "      <td>29166</td>\n",
       "      <td>3.0</td>\n",
       "      <td>Male</td>\n",
       "      <td>1.0</td>\n",
       "      <td>STEM</td>\n",
       "      <td>1</td>\n",
       "      <td>0</td>\n",
       "      <td>0.0</td>\n",
       "      <td>69</td>\n",
       "    </tr>\n",
       "    <tr>\n",
       "      <th>2</th>\n",
       "      <td>city_16</td>\n",
       "      <td>0.910</td>\n",
       "      <td>3.0</td>\n",
       "      <td>Public Sector</td>\n",
       "      <td>3.0</td>\n",
       "      <td>no_enrollment</td>\n",
       "      <td>46</td>\n",
       "      <td>2.0</td>\n",
       "      <td>Male</td>\n",
       "      <td>2.0</td>\n",
       "      <td>STEM</td>\n",
       "      <td>1</td>\n",
       "      <td>0</td>\n",
       "      <td>0.0</td>\n",
       "      <td>4</td>\n",
       "    </tr>\n",
       "    <tr>\n",
       "      <th>3</th>\n",
       "      <td>city_64</td>\n",
       "      <td>0.666</td>\n",
       "      <td>3.0</td>\n",
       "      <td>Pvt Ltd</td>\n",
       "      <td>3.0</td>\n",
       "      <td>no_enrollment</td>\n",
       "      <td>18527</td>\n",
       "      <td>3.0</td>\n",
       "      <td>Male</td>\n",
       "      <td>1.0</td>\n",
       "      <td>STEM</td>\n",
       "      <td>1</td>\n",
       "      <td>0</td>\n",
       "      <td>0.0</td>\n",
       "      <td>26</td>\n",
       "    </tr>\n",
       "    <tr>\n",
       "      <th>4</th>\n",
       "      <td>city_100</td>\n",
       "      <td>0.887</td>\n",
       "      <td>3.0</td>\n",
       "      <td>Pvt Ltd</td>\n",
       "      <td>4.0</td>\n",
       "      <td>no_enrollment</td>\n",
       "      <td>21751</td>\n",
       "      <td>2.0</td>\n",
       "      <td>Male</td>\n",
       "      <td>2.0</td>\n",
       "      <td>STEM</td>\n",
       "      <td>0</td>\n",
       "      <td>0</td>\n",
       "      <td>1.0</td>\n",
       "      <td>88</td>\n",
       "    </tr>\n",
       "  </tbody>\n",
       "</table>\n",
       "</div>"
      ],
      "text/plain": [
       "       city  city_development_index  company_size    company_type  \\\n",
       "0  city_149                   0.689           4.0         Pvt Ltd   \n",
       "1   city_83                   0.923           1.0  Funded Startup   \n",
       "2   city_16                   0.910           3.0   Public Sector   \n",
       "3   city_64                   0.666           3.0         Pvt Ltd   \n",
       "4  city_100                   0.887           3.0         Pvt Ltd   \n",
       "\n",
       "   education_level enrolled_university  enrollee_id  experience gender  \\\n",
       "0              3.0       no_enrollment        23798         1.0   Male   \n",
       "1              3.0       no_enrollment        29166         3.0   Male   \n",
       "2              3.0       no_enrollment           46         2.0   Male   \n",
       "3              3.0       no_enrollment        18527         3.0   Male   \n",
       "4              4.0       no_enrollment        21751         2.0   Male   \n",
       "\n",
       "   last_new_job major_discipline  relevent_experience  source  target  \\\n",
       "0           1.0             STEM                    1       0     0.0   \n",
       "1           1.0             STEM                    1       0     0.0   \n",
       "2           2.0             STEM                    1       0     0.0   \n",
       "3           1.0             STEM                    1       0     0.0   \n",
       "4           2.0             STEM                    0       0     1.0   \n",
       "\n",
       "   training_hours  \n",
       "0             106  \n",
       "1              69  \n",
       "2               4  \n",
       "3              26  \n",
       "4              88  "
      ]
     },
     "execution_count": 29,
     "metadata": {},
     "output_type": "execute_result"
    }
   ],
   "source": [
    "data.head()"
   ]
  },
  {
   "cell_type": "code",
   "execution_count": 30,
   "metadata": {},
   "outputs": [
    {
     "data": {
      "text/plain": [
       "count    33380.000000\n",
       "mean        65.565638\n",
       "std         60.363572\n",
       "min          1.000000\n",
       "25%         23.000000\n",
       "50%         47.000000\n",
       "75%         89.000000\n",
       "max        336.000000\n",
       "Name: training_hours, dtype: float64"
      ]
     },
     "execution_count": 30,
     "metadata": {},
     "output_type": "execute_result"
    }
   ],
   "source": [
    "data.training_hours.describe()"
   ]
  },
  {
   "cell_type": "code",
   "execution_count": 31,
   "metadata": {},
   "outputs": [
    {
     "data": {
      "text/html": [
       "<div>\n",
       "<style scoped>\n",
       "    .dataframe tbody tr th:only-of-type {\n",
       "        vertical-align: middle;\n",
       "    }\n",
       "\n",
       "    .dataframe tbody tr th {\n",
       "        vertical-align: top;\n",
       "    }\n",
       "\n",
       "    .dataframe thead th {\n",
       "        text-align: right;\n",
       "    }\n",
       "</style>\n",
       "<table border=\"1\" class=\"dataframe\">\n",
       "  <thead>\n",
       "    <tr style=\"text-align: right;\">\n",
       "      <th></th>\n",
       "      <th>city_development_index</th>\n",
       "      <th>company_size</th>\n",
       "      <th>education_level</th>\n",
       "      <th>enrollee_id</th>\n",
       "      <th>experience</th>\n",
       "      <th>last_new_job</th>\n",
       "      <th>relevent_experience</th>\n",
       "      <th>source</th>\n",
       "      <th>target</th>\n",
       "      <th>training_hours</th>\n",
       "    </tr>\n",
       "  </thead>\n",
       "  <tbody>\n",
       "    <tr>\n",
       "      <th>city_development_index</th>\n",
       "      <td>1.000000</td>\n",
       "      <td>0.100313</td>\n",
       "      <td>0.032743</td>\n",
       "      <td>-0.033087</td>\n",
       "      <td>0.288075</td>\n",
       "      <td>0.173196</td>\n",
       "      <td>0.062545</td>\n",
       "      <td>-0.002066</td>\n",
       "      <td>-0.135700</td>\n",
       "      <td>0.003372</td>\n",
       "    </tr>\n",
       "    <tr>\n",
       "      <th>company_size</th>\n",
       "      <td>0.100313</td>\n",
       "      <td>1.000000</td>\n",
       "      <td>0.146638</td>\n",
       "      <td>0.000804</td>\n",
       "      <td>0.125745</td>\n",
       "      <td>0.141082</td>\n",
       "      <td>0.070138</td>\n",
       "      <td>-0.007316</td>\n",
       "      <td>-0.021184</td>\n",
       "      <td>-0.005375</td>\n",
       "    </tr>\n",
       "    <tr>\n",
       "      <th>education_level</th>\n",
       "      <td>0.032743</td>\n",
       "      <td>0.146638</td>\n",
       "      <td>1.000000</td>\n",
       "      <td>-0.019462</td>\n",
       "      <td>0.277382</td>\n",
       "      <td>0.202814</td>\n",
       "      <td>0.230039</td>\n",
       "      <td>-0.002872</td>\n",
       "      <td>-0.002285</td>\n",
       "      <td>-0.004750</td>\n",
       "    </tr>\n",
       "    <tr>\n",
       "      <th>enrollee_id</th>\n",
       "      <td>-0.033087</td>\n",
       "      <td>0.000804</td>\n",
       "      <td>-0.019462</td>\n",
       "      <td>1.000000</td>\n",
       "      <td>-0.024008</td>\n",
       "      <td>-0.020753</td>\n",
       "      <td>-0.034115</td>\n",
       "      <td>-0.004458</td>\n",
       "      <td>0.033873</td>\n",
       "      <td>0.002380</td>\n",
       "    </tr>\n",
       "    <tr>\n",
       "      <th>experience</th>\n",
       "      <td>0.288075</td>\n",
       "      <td>0.125745</td>\n",
       "      <td>0.277382</td>\n",
       "      <td>-0.024008</td>\n",
       "      <td>1.000000</td>\n",
       "      <td>0.452170</td>\n",
       "      <td>0.317712</td>\n",
       "      <td>-0.004133</td>\n",
       "      <td>-0.082359</td>\n",
       "      <td>-0.002724</td>\n",
       "    </tr>\n",
       "    <tr>\n",
       "      <th>last_new_job</th>\n",
       "      <td>0.173196</td>\n",
       "      <td>0.141082</td>\n",
       "      <td>0.202814</td>\n",
       "      <td>-0.020753</td>\n",
       "      <td>0.452170</td>\n",
       "      <td>1.000000</td>\n",
       "      <td>0.237980</td>\n",
       "      <td>-0.002153</td>\n",
       "      <td>-0.029527</td>\n",
       "      <td>0.001234</td>\n",
       "    </tr>\n",
       "    <tr>\n",
       "      <th>relevent_experience</th>\n",
       "      <td>0.062545</td>\n",
       "      <td>0.070138</td>\n",
       "      <td>0.230039</td>\n",
       "      <td>-0.034115</td>\n",
       "      <td>0.317712</td>\n",
       "      <td>0.237980</td>\n",
       "      <td>1.000000</td>\n",
       "      <td>-0.001661</td>\n",
       "      <td>-0.074088</td>\n",
       "      <td>0.005862</td>\n",
       "    </tr>\n",
       "    <tr>\n",
       "      <th>source</th>\n",
       "      <td>-0.002066</td>\n",
       "      <td>-0.007316</td>\n",
       "      <td>-0.002872</td>\n",
       "      <td>-0.004458</td>\n",
       "      <td>-0.004133</td>\n",
       "      <td>-0.002153</td>\n",
       "      <td>-0.001661</td>\n",
       "      <td>1.000000</td>\n",
       "      <td>NaN</td>\n",
       "      <td>-0.006106</td>\n",
       "    </tr>\n",
       "    <tr>\n",
       "      <th>target</th>\n",
       "      <td>-0.135700</td>\n",
       "      <td>-0.021184</td>\n",
       "      <td>-0.002285</td>\n",
       "      <td>0.033873</td>\n",
       "      <td>-0.082359</td>\n",
       "      <td>-0.029527</td>\n",
       "      <td>-0.074088</td>\n",
       "      <td>NaN</td>\n",
       "      <td>1.000000</td>\n",
       "      <td>-0.004735</td>\n",
       "    </tr>\n",
       "    <tr>\n",
       "      <th>training_hours</th>\n",
       "      <td>0.003372</td>\n",
       "      <td>-0.005375</td>\n",
       "      <td>-0.004750</td>\n",
       "      <td>0.002380</td>\n",
       "      <td>-0.002724</td>\n",
       "      <td>0.001234</td>\n",
       "      <td>0.005862</td>\n",
       "      <td>-0.006106</td>\n",
       "      <td>-0.004735</td>\n",
       "      <td>1.000000</td>\n",
       "    </tr>\n",
       "  </tbody>\n",
       "</table>\n",
       "</div>"
      ],
      "text/plain": [
       "                        city_development_index  company_size  education_level  \\\n",
       "city_development_index                1.000000      0.100313         0.032743   \n",
       "company_size                          0.100313      1.000000         0.146638   \n",
       "education_level                       0.032743      0.146638         1.000000   \n",
       "enrollee_id                          -0.033087      0.000804        -0.019462   \n",
       "experience                            0.288075      0.125745         0.277382   \n",
       "last_new_job                          0.173196      0.141082         0.202814   \n",
       "relevent_experience                   0.062545      0.070138         0.230039   \n",
       "source                               -0.002066     -0.007316        -0.002872   \n",
       "target                               -0.135700     -0.021184        -0.002285   \n",
       "training_hours                        0.003372     -0.005375        -0.004750   \n",
       "\n",
       "                        enrollee_id  experience  last_new_job  \\\n",
       "city_development_index    -0.033087    0.288075      0.173196   \n",
       "company_size               0.000804    0.125745      0.141082   \n",
       "education_level           -0.019462    0.277382      0.202814   \n",
       "enrollee_id                1.000000   -0.024008     -0.020753   \n",
       "experience                -0.024008    1.000000      0.452170   \n",
       "last_new_job              -0.020753    0.452170      1.000000   \n",
       "relevent_experience       -0.034115    0.317712      0.237980   \n",
       "source                    -0.004458   -0.004133     -0.002153   \n",
       "target                     0.033873   -0.082359     -0.029527   \n",
       "training_hours             0.002380   -0.002724      0.001234   \n",
       "\n",
       "                        relevent_experience    source    target  \\\n",
       "city_development_index             0.062545 -0.002066 -0.135700   \n",
       "company_size                       0.070138 -0.007316 -0.021184   \n",
       "education_level                    0.230039 -0.002872 -0.002285   \n",
       "enrollee_id                       -0.034115 -0.004458  0.033873   \n",
       "experience                         0.317712 -0.004133 -0.082359   \n",
       "last_new_job                       0.237980 -0.002153 -0.029527   \n",
       "relevent_experience                1.000000 -0.001661 -0.074088   \n",
       "source                            -0.001661  1.000000       NaN   \n",
       "target                            -0.074088       NaN  1.000000   \n",
       "training_hours                     0.005862 -0.006106 -0.004735   \n",
       "\n",
       "                        training_hours  \n",
       "city_development_index        0.003372  \n",
       "company_size                 -0.005375  \n",
       "education_level              -0.004750  \n",
       "enrollee_id                   0.002380  \n",
       "experience                   -0.002724  \n",
       "last_new_job                  0.001234  \n",
       "relevent_experience           0.005862  \n",
       "source                       -0.006106  \n",
       "target                       -0.004735  \n",
       "training_hours                1.000000  "
      ]
     },
     "execution_count": 31,
     "metadata": {},
     "output_type": "execute_result"
    }
   ],
   "source": [
    "#check for correlation\n",
    "data.corr()"
   ]
  },
  {
   "cell_type": "code",
   "execution_count": 32,
   "metadata": {},
   "outputs": [],
   "source": [
    "#dummies for categorical stuff and city cuz\n",
    "gender_d=pd.get_dummies(data.gender, prefix='gender').iloc[:, 1:]\n",
    "enrolled_university_d=pd.get_dummies(data.enrolled_university, prefix='enrolled_university')\n",
    "major_discipline_d=pd.get_dummies(data.major_discipline, prefix='major_discipline').iloc[:, 1:]\n",
    "company_type_d=pd.get_dummies(data.company_type, prefix='company_type').iloc[:, 1:]"
   ]
  },
  {
   "cell_type": "code",
   "execution_count": 33,
   "metadata": {},
   "outputs": [
    {
     "data": {
      "text/plain": [
       "(33380, 10)"
      ]
     },
     "execution_count": 33,
     "metadata": {},
     "output_type": "execute_result"
    }
   ],
   "source": [
    "#dropping columns for whom dummy was created and city as it does not seem useful\n",
    "data.drop(['gender','enrolled_university','major_discipline','company_type','city'], axis=1, inplace=True)\n",
    "data.shape"
   ]
  },
  {
   "cell_type": "code",
   "execution_count": 34,
   "metadata": {},
   "outputs": [
    {
     "data": {
      "text/html": [
       "<div>\n",
       "<style scoped>\n",
       "    .dataframe tbody tr th:only-of-type {\n",
       "        vertical-align: middle;\n",
       "    }\n",
       "\n",
       "    .dataframe tbody tr th {\n",
       "        vertical-align: top;\n",
       "    }\n",
       "\n",
       "    .dataframe thead th {\n",
       "        text-align: right;\n",
       "    }\n",
       "</style>\n",
       "<table border=\"1\" class=\"dataframe\">\n",
       "  <thead>\n",
       "    <tr style=\"text-align: right;\">\n",
       "      <th></th>\n",
       "      <th>city_development_index</th>\n",
       "      <th>company_size</th>\n",
       "      <th>education_level</th>\n",
       "      <th>enrollee_id</th>\n",
       "      <th>experience</th>\n",
       "      <th>last_new_job</th>\n",
       "      <th>relevent_experience</th>\n",
       "      <th>source</th>\n",
       "      <th>target</th>\n",
       "      <th>training_hours</th>\n",
       "      <th>...</th>\n",
       "      <th>major_discipline_Business Degree</th>\n",
       "      <th>major_discipline_Humanities</th>\n",
       "      <th>major_discipline_No Major</th>\n",
       "      <th>major_discipline_Other</th>\n",
       "      <th>major_discipline_STEM</th>\n",
       "      <th>company_type_Funded Startup</th>\n",
       "      <th>company_type_NGO</th>\n",
       "      <th>company_type_Other</th>\n",
       "      <th>company_type_Public Sector</th>\n",
       "      <th>company_type_Pvt Ltd</th>\n",
       "    </tr>\n",
       "  </thead>\n",
       "  <tbody>\n",
       "    <tr>\n",
       "      <th>0</th>\n",
       "      <td>0.689</td>\n",
       "      <td>4.0</td>\n",
       "      <td>3.0</td>\n",
       "      <td>23798</td>\n",
       "      <td>1.0</td>\n",
       "      <td>1.0</td>\n",
       "      <td>1</td>\n",
       "      <td>0</td>\n",
       "      <td>0.0</td>\n",
       "      <td>106</td>\n",
       "      <td>...</td>\n",
       "      <td>0</td>\n",
       "      <td>0</td>\n",
       "      <td>0</td>\n",
       "      <td>0</td>\n",
       "      <td>1</td>\n",
       "      <td>0</td>\n",
       "      <td>0</td>\n",
       "      <td>0</td>\n",
       "      <td>0</td>\n",
       "      <td>1</td>\n",
       "    </tr>\n",
       "    <tr>\n",
       "      <th>1</th>\n",
       "      <td>0.923</td>\n",
       "      <td>1.0</td>\n",
       "      <td>3.0</td>\n",
       "      <td>29166</td>\n",
       "      <td>3.0</td>\n",
       "      <td>1.0</td>\n",
       "      <td>1</td>\n",
       "      <td>0</td>\n",
       "      <td>0.0</td>\n",
       "      <td>69</td>\n",
       "      <td>...</td>\n",
       "      <td>0</td>\n",
       "      <td>0</td>\n",
       "      <td>0</td>\n",
       "      <td>0</td>\n",
       "      <td>1</td>\n",
       "      <td>1</td>\n",
       "      <td>0</td>\n",
       "      <td>0</td>\n",
       "      <td>0</td>\n",
       "      <td>0</td>\n",
       "    </tr>\n",
       "    <tr>\n",
       "      <th>2</th>\n",
       "      <td>0.910</td>\n",
       "      <td>3.0</td>\n",
       "      <td>3.0</td>\n",
       "      <td>46</td>\n",
       "      <td>2.0</td>\n",
       "      <td>2.0</td>\n",
       "      <td>1</td>\n",
       "      <td>0</td>\n",
       "      <td>0.0</td>\n",
       "      <td>4</td>\n",
       "      <td>...</td>\n",
       "      <td>0</td>\n",
       "      <td>0</td>\n",
       "      <td>0</td>\n",
       "      <td>0</td>\n",
       "      <td>1</td>\n",
       "      <td>0</td>\n",
       "      <td>0</td>\n",
       "      <td>0</td>\n",
       "      <td>1</td>\n",
       "      <td>0</td>\n",
       "    </tr>\n",
       "    <tr>\n",
       "      <th>3</th>\n",
       "      <td>0.666</td>\n",
       "      <td>3.0</td>\n",
       "      <td>3.0</td>\n",
       "      <td>18527</td>\n",
       "      <td>3.0</td>\n",
       "      <td>1.0</td>\n",
       "      <td>1</td>\n",
       "      <td>0</td>\n",
       "      <td>0.0</td>\n",
       "      <td>26</td>\n",
       "      <td>...</td>\n",
       "      <td>0</td>\n",
       "      <td>0</td>\n",
       "      <td>0</td>\n",
       "      <td>0</td>\n",
       "      <td>1</td>\n",
       "      <td>0</td>\n",
       "      <td>0</td>\n",
       "      <td>0</td>\n",
       "      <td>0</td>\n",
       "      <td>1</td>\n",
       "    </tr>\n",
       "    <tr>\n",
       "      <th>4</th>\n",
       "      <td>0.887</td>\n",
       "      <td>3.0</td>\n",
       "      <td>4.0</td>\n",
       "      <td>21751</td>\n",
       "      <td>2.0</td>\n",
       "      <td>2.0</td>\n",
       "      <td>0</td>\n",
       "      <td>0</td>\n",
       "      <td>1.0</td>\n",
       "      <td>88</td>\n",
       "      <td>...</td>\n",
       "      <td>0</td>\n",
       "      <td>0</td>\n",
       "      <td>0</td>\n",
       "      <td>0</td>\n",
       "      <td>1</td>\n",
       "      <td>0</td>\n",
       "      <td>0</td>\n",
       "      <td>0</td>\n",
       "      <td>0</td>\n",
       "      <td>1</td>\n",
       "    </tr>\n",
       "  </tbody>\n",
       "</table>\n",
       "<p>5 rows × 25 columns</p>\n",
       "</div>"
      ],
      "text/plain": [
       "   city_development_index  company_size  education_level  enrollee_id  \\\n",
       "0                   0.689           4.0              3.0        23798   \n",
       "1                   0.923           1.0              3.0        29166   \n",
       "2                   0.910           3.0              3.0           46   \n",
       "3                   0.666           3.0              3.0        18527   \n",
       "4                   0.887           3.0              4.0        21751   \n",
       "\n",
       "   experience  last_new_job  relevent_experience  source  target  \\\n",
       "0         1.0           1.0                    1       0     0.0   \n",
       "1         3.0           1.0                    1       0     0.0   \n",
       "2         2.0           2.0                    1       0     0.0   \n",
       "3         3.0           1.0                    1       0     0.0   \n",
       "4         2.0           2.0                    0       0     1.0   \n",
       "\n",
       "   training_hours  ...  major_discipline_Business Degree  \\\n",
       "0             106  ...                                 0   \n",
       "1              69  ...                                 0   \n",
       "2               4  ...                                 0   \n",
       "3              26  ...                                 0   \n",
       "4              88  ...                                 0   \n",
       "\n",
       "   major_discipline_Humanities  major_discipline_No Major  \\\n",
       "0                            0                          0   \n",
       "1                            0                          0   \n",
       "2                            0                          0   \n",
       "3                            0                          0   \n",
       "4                            0                          0   \n",
       "\n",
       "   major_discipline_Other  major_discipline_STEM  company_type_Funded Startup  \\\n",
       "0                       0                      1                            0   \n",
       "1                       0                      1                            1   \n",
       "2                       0                      1                            0   \n",
       "3                       0                      1                            0   \n",
       "4                       0                      1                            0   \n",
       "\n",
       "   company_type_NGO  company_type_Other  company_type_Public Sector  \\\n",
       "0                 0                   0                           0   \n",
       "1                 0                   0                           0   \n",
       "2                 0                   0                           1   \n",
       "3                 0                   0                           0   \n",
       "4                 0                   0                           0   \n",
       "\n",
       "   company_type_Pvt Ltd  \n",
       "0                     1  \n",
       "1                     0  \n",
       "2                     0  \n",
       "3                     1  \n",
       "4                     1  \n",
       "\n",
       "[5 rows x 25 columns]"
      ]
     },
     "execution_count": 34,
     "metadata": {},
     "output_type": "execute_result"
    }
   ],
   "source": [
    "data=pd.concat([data, gender_d,enrolled_university_d,major_discipline_d,company_type_d], axis=1)\n",
    "data.head()"
   ]
  },
  {
   "cell_type": "code",
   "execution_count": 35,
   "metadata": {},
   "outputs": [],
   "source": [
    "#segregating train and test data like how they were \n",
    "train = data.loc[data['source']==0]\n",
    "test = data.loc[data['source']==1]"
   ]
  },
  {
   "cell_type": "code",
   "execution_count": 36,
   "metadata": {},
   "outputs": [],
   "source": [
    "train=train.drop('source',axis=1)\n",
    "test=test.drop(['source','target'],axis=1)"
   ]
  },
  {
   "cell_type": "code",
   "execution_count": 37,
   "metadata": {},
   "outputs": [
    {
     "data": {
      "text/plain": [
       "0.9954790565934963"
      ]
     },
     "execution_count": 37,
     "metadata": {},
     "output_type": "execute_result"
    }
   ],
   "source": [
    "#defining the independent and dependent variables for test and train\n",
    "x_train=train.drop(['enrollee_id','target'],axis=1)\n",
    "y_train=train['target']\n",
    "x_test=test.drop('enrollee_id',axis=1)\n",
    "\n",
    "#applying random forest\n",
    "rf=RandomForestClassifier(n_estimators=100, n_jobs=-1)\n",
    "\n",
    "#fitting a model\n",
    "rf.fit(x_train,y_train)\n",
    "\n",
    "#prediction\n",
    "pred_rand=rf.predict(x_test)\n",
    "\n",
    "#accuracy of the training data\n",
    "rf.score(x_train,y_train)"
   ]
  },
  {
   "cell_type": "code",
   "execution_count": 38,
   "metadata": {},
   "outputs": [],
   "source": [
    "#exporting to csv\n",
    "predictions = pd.DataFrame()\n",
    "predictions['enrollee_id'] = test['enrollee_id']\n",
    "predictions['target'] = pred_rand\n",
    "predictions.to_csv('rf_test.csv', index=False)"
   ]
  },
  {
   "cell_type": "code",
   "execution_count": 39,
   "metadata": {},
   "outputs": [
    {
     "name": "stderr",
     "output_type": "stream",
     "text": [
      "C:\\Users\\Think Analytics\\Anaconda3\\lib\\site-packages\\sklearn\\linear_model\\logistic.py:432: FutureWarning: Default solver will be changed to 'lbfgs' in 0.22. Specify a solver to silence this warning.\n",
      "  FutureWarning)\n"
     ]
    },
    {
     "data": {
      "text/plain": [
       "0.867912195653358"
      ]
     },
     "execution_count": 39,
     "metadata": {},
     "output_type": "execute_result"
    }
   ],
   "source": [
    "#applying logisitc regression\n",
    "logreg=LogisticRegression()\n",
    "\n",
    "#fitting a model\n",
    "logreg.fit(x_train,y_train)\n",
    "\n",
    "#prediction\n",
    "pred_log=logreg.predict(x_test)\n",
    "\n",
    "#accuracy of the training data\n",
    "logreg.score(x_train,y_train)"
   ]
  },
  {
   "cell_type": "code",
   "execution_count": 40,
   "metadata": {},
   "outputs": [],
   "source": [
    "#exporting to csv\n",
    "predictions = pd.DataFrame()\n",
    "predictions['enrollee_id'] = test['enrollee_id']\n",
    "predictions['target'] = pred_log\n",
    "predictions.to_csv('logistic_test.csv', index=False)"
   ]
  },
  {
   "cell_type": "code",
   "execution_count": 41,
   "metadata": {},
   "outputs": [
    {
     "data": {
      "text/plain": [
       "0.995533525791165"
      ]
     },
     "execution_count": 41,
     "metadata": {},
     "output_type": "execute_result"
    }
   ],
   "source": [
    "#applying decision tree\n",
    "clf=DecisionTreeClassifier()\n",
    "\n",
    "#fitting a model\n",
    "clf.fit(x_train,y_train)\n",
    "\n",
    "#prediction\n",
    "pred_dec=clf.predict(x_test)\n",
    "\n",
    "#accuracy of the training data\n",
    "clf.score(x_train,y_train)"
   ]
  },
  {
   "cell_type": "code",
   "execution_count": 42,
   "metadata": {},
   "outputs": [],
   "source": [
    "#exporting to csv\n",
    "predictions = pd.DataFrame()\n",
    "predictions['enrollee_id'] = test['enrollee_id']\n",
    "predictions['target'] = pred_dec\n",
    "predictions.to_csv('decisiontree_test.csv', index=False)"
   ]
  },
  {
   "cell_type": "code",
   "execution_count": 43,
   "metadata": {},
   "outputs": [
    {
     "data": {
      "text/plain": [
       "0.8698730867694319"
      ]
     },
     "execution_count": 43,
     "metadata": {},
     "output_type": "execute_result"
    }
   ],
   "source": [
    "xg=XGBClassifier(min_child_weight=10,colsample_bytree=0.8,max_depth=8,nthread=4,eta=0.1,subsample=0.8,alpha=0,n_jobs=-1)\n",
    "xg.fit(x_train,y_train)\n",
    "pred_xgb=xg.predict(x_test)\n",
    "xg.score(x_train,y_train)"
   ]
  },
  {
   "cell_type": "code",
   "execution_count": 44,
   "metadata": {},
   "outputs": [],
   "source": [
    "predictions = pd.DataFrame()\n",
    "predictions['enrollee_id'] = test['enrollee_id']\n",
    "predictions['target'] = pred_xgb\n",
    "predictions.to_csv('xgb_test.csv', index=False)"
   ]
  },
  {
   "cell_type": "code",
   "execution_count": 45,
   "metadata": {},
   "outputs": [],
   "source": [
    "params = {\"objective\" : \"binary\",\n",
    "        \"num_leaves\" : 120,\n",
    "        \"learning_rate\" : 0.05,\n",
    "        \"bagging_fraction\" : 0.8,\n",
    "        \"feature_fraction\" : 0.9,\n",
    "        \"bagging_frequency\" : 5,\n",
    "        \"verbosity\" : -1,\n",
    "        \"max depth\" : 10,\n",
    "        \"boosting_type\" : \"gbdt\",\n",
    "        \"metric\": \"binary_logloss\"\n",
    "    }\n",
    "\n",
    "train_data=gbm.Dataset(x_train,y_train)\n",
    "model= gbm.train(params, train_data, 100)\n",
    "pred_gbm=model.predict(x_test)"
   ]
  },
  {
   "cell_type": "code",
   "execution_count": 46,
   "metadata": {},
   "outputs": [],
   "source": [
    "#exporting to csv\n",
    "predictions = pd.DataFrame()\n",
    "predictions['enrollee_id'] = test['enrollee_id']\n",
    "predictions['target'] = pred_gbm\n",
    "predictions.to_csv('gbm_test.csv', index=False)"
   ]
  },
  {
   "cell_type": "code",
   "execution_count": null,
   "metadata": {},
   "outputs": [],
   "source": []
  }
 ],
 "metadata": {
  "kernelspec": {
   "display_name": "Python 3",
   "language": "python",
   "name": "python3"
  },
  "language_info": {
   "codemirror_mode": {
    "name": "ipython",
    "version": 3
   },
   "file_extension": ".py",
   "mimetype": "text/x-python",
   "name": "python",
   "nbconvert_exporter": "python",
   "pygments_lexer": "ipython3",
   "version": "3.7.3"
  }
 },
 "nbformat": 4,
 "nbformat_minor": 2
}
