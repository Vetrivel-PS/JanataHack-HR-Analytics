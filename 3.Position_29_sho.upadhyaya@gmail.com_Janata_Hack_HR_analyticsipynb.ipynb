{
 "cells": [
  {
   "cell_type": "code",
   "execution_count": 1,
   "metadata": {
    "_cell_guid": "b1076dfc-b9ad-4769-8c92-a6c4dae69d19",
    "_uuid": "8f2839f25d086af736a60e9eeb907d3b93b6e0e5"
   },
   "outputs": [
    {
     "name": "stdout",
     "output_type": "stream",
     "text": [
      "/kaggle/input/avhranalytics/test_KaymcHn.csv\n",
      "/kaggle/input/avhranalytics/train_jqd04QH.csv\n",
      "/kaggle/input/avhranalytics/sample_submission_sxfcbdx.csv\n"
     ]
    }
   ],
   "source": [
    "# This Python 3 environment comes with many helpful analytics libraries installed\n",
    "# It is defined by the kaggle/python Docker image: https://github.com/kaggle/docker-python\n",
    "# For example, here's several helpful packages to load\n",
    "\n",
    "import numpy as np # linear algebra\n",
    "import pandas as pd # data processing, CSV file I/O (e.g. pd.read_csv)\n",
    "\n",
    "# Input data files are available in the read-only \"../input/\" directory\n",
    "# For example, running this (by clicking run or pressing Shift+Enter) will list all files under the input directory\n",
    "\n",
    "import os\n",
    "for dirname, _, filenames in os.walk('/kaggle/input'):\n",
    "    for filename in filenames:\n",
    "        print(os.path.join(dirname, filename))\n",
    "\n",
    "# You can write up to 5GB to the current directory (/kaggle/working/) that gets preserved as output when you create a version using \"Save & Run All\" \n",
    "# You can also write temporary files to /kaggle/temp/, but they won't be saved outside of the current session"
   ]
  },
  {
   "cell_type": "code",
   "execution_count": 2,
   "metadata": {},
   "outputs": [],
   "source": [
    "import warnings\n",
    "warnings.filterwarnings(\"ignore\")\n",
    "\n",
    "import os\n",
    "import gc\n",
    "import joblib\n",
    "import pandas as pd\n",
    "import numpy as np\n",
    "import tensorflow as tf\n",
    "from sklearn.model_selection import StratifiedKFold\n",
    "from sklearn import metrics, preprocessing\n",
    "from tensorflow.keras import layers\n",
    "from tensorflow.keras import optimizers\n",
    "from tensorflow.keras.models import Model, load_model\n",
    "from tensorflow.keras import callbacks\n",
    "from tensorflow.keras import backend as K\n",
    "from tensorflow.keras import utils\n",
    "\n",
    "import pandas as pd\n",
    "import numpy as np\n",
    "from sklearn.preprocessing import LabelEncoder\n",
    "from sklearn.model_selection import train_test_split, GridSearchCV\n",
    "from sklearn.ensemble import RandomForestClassifier\n",
    "from sklearn.model_selection import StratifiedKFold\n",
    "from sklearn.metrics import roc_auc_score\n",
    "import matplotlib.pyplot as plt\n",
    "import seaborn as sns\n",
    "%matplotlib inline"
   ]
  },
  {
   "cell_type": "code",
   "execution_count": 3,
   "metadata": {},
   "outputs": [],
   "source": [
    "SEED = 1\n",
    "from numpy.random import seed\n",
    "seed(SEED)\n",
    "import os\n",
    "os.environ['PYTHONHASHSEED']=str(SEED)\n",
    "\n",
    "tf.random.set_seed(SEED)"
   ]
  },
  {
   "cell_type": "code",
   "execution_count": 4,
   "metadata": {
    "_cell_guid": "79c7e3d0-c299-4dcb-8224-4455121ee9b0",
    "_uuid": "d629ff2d2480ee46fbb7e2d37f6b5fab8052498a"
   },
   "outputs": [],
   "source": [
    "train_df = pd.read_csv(\"/kaggle/input/avhranalytics/train_jqd04QH.csv\")\n",
    "test_df = pd.read_csv(\"/kaggle/input/avhranalytics/test_KaymcHn.csv\")\n",
    "sample_sub = pd.read_csv(\"/kaggle/input/avhranalytics/sample_submission_sxfcbdx.csv\")"
   ]
  },
  {
   "cell_type": "code",
   "execution_count": 5,
   "metadata": {},
   "outputs": [
    {
     "data": {
      "text/plain": [
       "((18359, 14), (15021, 13), (15021, 2))"
      ]
     },
     "execution_count": 5,
     "metadata": {},
     "output_type": "execute_result"
    }
   ],
   "source": [
    "train_df.shape, test_df.shape, sample_sub.shape"
   ]
  },
  {
   "cell_type": "code",
   "execution_count": 6,
   "metadata": {},
   "outputs": [
    {
     "data": {
      "text/html": [
       "<div>\n",
       "<style scoped>\n",
       "    .dataframe tbody tr th:only-of-type {\n",
       "        vertical-align: middle;\n",
       "    }\n",
       "\n",
       "    .dataframe tbody tr th {\n",
       "        vertical-align: top;\n",
       "    }\n",
       "\n",
       "    .dataframe thead th {\n",
       "        text-align: right;\n",
       "    }\n",
       "</style>\n",
       "<table border=\"1\" class=\"dataframe\">\n",
       "  <thead>\n",
       "    <tr style=\"text-align: right;\">\n",
       "      <th></th>\n",
       "      <th>enrollee_id</th>\n",
       "      <th>city</th>\n",
       "      <th>city_development_index</th>\n",
       "      <th>gender</th>\n",
       "      <th>relevent_experience</th>\n",
       "      <th>enrolled_university</th>\n",
       "      <th>education_level</th>\n",
       "      <th>major_discipline</th>\n",
       "      <th>experience</th>\n",
       "      <th>company_size</th>\n",
       "      <th>company_type</th>\n",
       "      <th>last_new_job</th>\n",
       "      <th>training_hours</th>\n",
       "      <th>target</th>\n",
       "    </tr>\n",
       "  </thead>\n",
       "  <tbody>\n",
       "    <tr>\n",
       "      <th>0</th>\n",
       "      <td>23798</td>\n",
       "      <td>city_149</td>\n",
       "      <td>0.689</td>\n",
       "      <td>Male</td>\n",
       "      <td>Has relevent experience</td>\n",
       "      <td>no_enrollment</td>\n",
       "      <td>Graduate</td>\n",
       "      <td>STEM</td>\n",
       "      <td>3</td>\n",
       "      <td>100-500</td>\n",
       "      <td>Pvt Ltd</td>\n",
       "      <td>1</td>\n",
       "      <td>106</td>\n",
       "      <td>0</td>\n",
       "    </tr>\n",
       "    <tr>\n",
       "      <th>1</th>\n",
       "      <td>29166</td>\n",
       "      <td>city_83</td>\n",
       "      <td>0.923</td>\n",
       "      <td>Male</td>\n",
       "      <td>Has relevent experience</td>\n",
       "      <td>no_enrollment</td>\n",
       "      <td>Graduate</td>\n",
       "      <td>STEM</td>\n",
       "      <td>14</td>\n",
       "      <td>&lt;10</td>\n",
       "      <td>Funded Startup</td>\n",
       "      <td>1</td>\n",
       "      <td>69</td>\n",
       "      <td>0</td>\n",
       "    </tr>\n",
       "    <tr>\n",
       "      <th>2</th>\n",
       "      <td>46</td>\n",
       "      <td>city_16</td>\n",
       "      <td>0.910</td>\n",
       "      <td>NaN</td>\n",
       "      <td>Has relevent experience</td>\n",
       "      <td>no_enrollment</td>\n",
       "      <td>Graduate</td>\n",
       "      <td>STEM</td>\n",
       "      <td>6</td>\n",
       "      <td>50-99</td>\n",
       "      <td>Public Sector</td>\n",
       "      <td>2</td>\n",
       "      <td>4</td>\n",
       "      <td>0</td>\n",
       "    </tr>\n",
       "    <tr>\n",
       "      <th>3</th>\n",
       "      <td>18527</td>\n",
       "      <td>city_64</td>\n",
       "      <td>0.666</td>\n",
       "      <td>Male</td>\n",
       "      <td>Has relevent experience</td>\n",
       "      <td>no_enrollment</td>\n",
       "      <td>Graduate</td>\n",
       "      <td>STEM</td>\n",
       "      <td>14</td>\n",
       "      <td>50-99</td>\n",
       "      <td>Pvt Ltd</td>\n",
       "      <td>1</td>\n",
       "      <td>26</td>\n",
       "      <td>0</td>\n",
       "    </tr>\n",
       "    <tr>\n",
       "      <th>4</th>\n",
       "      <td>21751</td>\n",
       "      <td>city_100</td>\n",
       "      <td>0.887</td>\n",
       "      <td>NaN</td>\n",
       "      <td>No relevent experience</td>\n",
       "      <td>no_enrollment</td>\n",
       "      <td>Masters</td>\n",
       "      <td>STEM</td>\n",
       "      <td>8</td>\n",
       "      <td>NaN</td>\n",
       "      <td>NaN</td>\n",
       "      <td>2</td>\n",
       "      <td>88</td>\n",
       "      <td>1</td>\n",
       "    </tr>\n",
       "  </tbody>\n",
       "</table>\n",
       "</div>"
      ],
      "text/plain": [
       "   enrollee_id      city  city_development_index gender  \\\n",
       "0        23798  city_149                   0.689   Male   \n",
       "1        29166   city_83                   0.923   Male   \n",
       "2           46   city_16                   0.910    NaN   \n",
       "3        18527   city_64                   0.666   Male   \n",
       "4        21751  city_100                   0.887    NaN   \n",
       "\n",
       "       relevent_experience enrolled_university education_level  \\\n",
       "0  Has relevent experience       no_enrollment        Graduate   \n",
       "1  Has relevent experience       no_enrollment        Graduate   \n",
       "2  Has relevent experience       no_enrollment        Graduate   \n",
       "3  Has relevent experience       no_enrollment        Graduate   \n",
       "4   No relevent experience       no_enrollment         Masters   \n",
       "\n",
       "  major_discipline experience company_size    company_type last_new_job  \\\n",
       "0             STEM          3      100-500         Pvt Ltd            1   \n",
       "1             STEM         14          <10  Funded Startup            1   \n",
       "2             STEM          6        50-99   Public Sector            2   \n",
       "3             STEM         14        50-99         Pvt Ltd            1   \n",
       "4             STEM          8          NaN             NaN            2   \n",
       "\n",
       "   training_hours  target  \n",
       "0             106       0  \n",
       "1              69       0  \n",
       "2               4       0  \n",
       "3              26       0  \n",
       "4              88       1  "
      ]
     },
     "execution_count": 6,
     "metadata": {},
     "output_type": "execute_result"
    }
   ],
   "source": [
    "train_df.head()"
   ]
  },
  {
   "cell_type": "code",
   "execution_count": null,
   "metadata": {},
   "outputs": [],
   "source": []
  },
  {
   "cell_type": "code",
   "execution_count": null,
   "metadata": {},
   "outputs": [],
   "source": []
  },
  {
   "cell_type": "code",
   "execution_count": 7,
   "metadata": {},
   "outputs": [],
   "source": [
    "experience_mapping = {\n",
    "    '<1' : 'entry_level',\n",
    "    '1' : 'entry_level',\n",
    "    '2' : 'mid_level',\n",
    "    '3' : 'mid_level',\n",
    "    '4' : 'mid_level',\n",
    "    '5' : 'mid_level',\n",
    "    '6' : 'senior_level',\n",
    "    '7' : 'senior_level',\n",
    "    '8' : 'senior_level',\n",
    "    '9' : 'senior_level',\n",
    "    '10' : 'senior_level',\n",
    "    '11' : 'executive_level',\n",
    "    '12' : 'executive_level',\n",
    "    '13' : 'executive_level',\n",
    "    '14' : 'executive_level',\n",
    "    '15' : 'executive_level',\n",
    "    '16' : 'senior_executive_level',\n",
    "    '17' : 'senior_executive_level',\n",
    "    '18' : 'senior_executive_level',\n",
    "    '19' : 'senior_executive_level',\n",
    "    '20' : 'senior_executive_level',\n",
    "    '>20' : 'senior_executive_level',    \n",
    "    'Unknown': 'Unknown'\n",
    "}"
   ]
  },
  {
   "cell_type": "code",
   "execution_count": 8,
   "metadata": {},
   "outputs": [],
   "source": [
    "def experience_foo(exp):\n",
    "#     print(exp, exp in experience_mapping)\n",
    "    return experience_mapping[exp]"
   ]
  },
  {
   "cell_type": "code",
   "execution_count": 9,
   "metadata": {},
   "outputs": [],
   "source": [
    "# test_df.experience.apply(experience_foo)"
   ]
  },
  {
   "cell_type": "code",
   "execution_count": 10,
   "metadata": {},
   "outputs": [
    {
     "data": {
      "text/plain": [
       "company_type\n",
       "Early Stage Startup    0.127148\n",
       "Funded Startup         0.092486\n",
       "NGO                    0.129213\n",
       "Other                  0.159664\n",
       "Public Sector          0.152610\n",
       "Pvt Ltd                0.109143\n",
       "Name: target, dtype: float64"
      ]
     },
     "execution_count": 10,
     "metadata": {},
     "output_type": "execute_result"
    }
   ],
   "source": [
    "train_df.groupby(['company_type'])['target'].mean()"
   ]
  },
  {
   "cell_type": "code",
   "execution_count": 11,
   "metadata": {},
   "outputs": [],
   "source": [
    "X = train_df.drop(['enrollee_id', 'target'], axis=1)\n",
    "y = train_df.target\n",
    "XTest = test_df.drop(['enrollee_id'], axis=1)"
   ]
  },
  {
   "cell_type": "markdown",
   "metadata": {},
   "source": [
    "# Analysis of duplicate enteries"
   ]
  },
  {
   "cell_type": "code",
   "execution_count": 12,
   "metadata": {},
   "outputs": [
    {
     "data": {
      "text/plain": [
       "Index(['city', 'city_development_index', 'gender', 'relevent_experience',\n",
       "       'enrolled_university', 'education_level', 'major_discipline',\n",
       "       'experience', 'company_size', 'company_type', 'last_new_job',\n",
       "       'training_hours'],\n",
       "      dtype='object')"
      ]
     },
     "execution_count": 12,
     "metadata": {},
     "output_type": "execute_result"
    }
   ],
   "source": [
    "X.columns"
   ]
  },
  {
   "cell_type": "code",
   "execution_count": null,
   "metadata": {},
   "outputs": [],
   "source": []
  },
  {
   "cell_type": "code",
   "execution_count": null,
   "metadata": {},
   "outputs": [],
   "source": []
  },
  {
   "cell_type": "code",
   "execution_count": null,
   "metadata": {},
   "outputs": [],
   "source": []
  },
  {
   "cell_type": "code",
   "execution_count": null,
   "metadata": {},
   "outputs": [],
   "source": []
  },
  {
   "cell_type": "code",
   "execution_count": null,
   "metadata": {},
   "outputs": [],
   "source": []
  },
  {
   "cell_type": "code",
   "execution_count": null,
   "metadata": {},
   "outputs": [],
   "source": []
  },
  {
   "cell_type": "code",
   "execution_count": null,
   "metadata": {},
   "outputs": [],
   "source": []
  },
  {
   "cell_type": "code",
   "execution_count": 13,
   "metadata": {},
   "outputs": [],
   "source": [
    "# X['city_development_index_qcut'] = pd.qcut(X.city_development_index.values.reshape(-1), 5, duplicates='drop', labels=False)\n",
    "# XTest['city_development_index_qcut'] = pd.qcut(XTest.city_development_index.values.reshape(-1), 5, duplicates='drop', labels=False)\n",
    "\n",
    "# X['training_hours_qcut'] = pd.qcut(X.training_hours.values.reshape(-1), 5, duplicates='drop', labels=False)\n",
    "# XTest['training_hours_qcut'] = pd.qcut(XTest.training_hours.values.reshape(-1), 5, duplicates='drop', labels=False)\n"
   ]
  },
  {
   "cell_type": "code",
   "execution_count": 14,
   "metadata": {},
   "outputs": [],
   "source": [
    "def auc(y_true, y_pred):\n",
    "    def fallback_auc(y_true, y_pred):\n",
    "        try:\n",
    "            return metrics.roc_auc_score(y_true, y_pred)\n",
    "        except:\n",
    "            return 0.5\n",
    "    return tf.py_function(fallback_auc, (y_true, y_pred), tf.double)"
   ]
  },
  {
   "cell_type": "code",
   "execution_count": 15,
   "metadata": {},
   "outputs": [],
   "source": [
    "def create_model(data, catcols):    \n",
    "    inputs = []\n",
    "    outputs = []\n",
    "    for c in catcols:\n",
    "        num_unique_values = int(data[c].nunique())\n",
    "        embed_dim = int(min(np.ceil((num_unique_values)/2), 50))\n",
    "        inp = layers.Input(shape=(1,))\n",
    "        out = layers.Embedding(num_unique_values + 1, embed_dim, name=c)(inp)\n",
    "        out = layers.SpatialDropout1D(0.3)(out)\n",
    "        out = layers.Reshape(target_shape=(embed_dim, ))(out)\n",
    "        inputs.append(inp)\n",
    "        outputs.append(out)\n",
    "    \n",
    "    x = layers.Concatenate()(outputs)\n",
    "    x = layers.BatchNormalization()(x)\n",
    "    \n",
    "    x = layers.Dense(300, activation=\"relu\")(x)\n",
    "    x = layers.Dropout(0.3)(x)\n",
    "    x = layers.BatchNormalization()(x)\n",
    "    \n",
    "    x = layers.Dense(300, activation=\"relu\")(x)\n",
    "    x = layers.Dropout(0.3)(x)\n",
    "    x = layers.BatchNormalization()(x)\n",
    "    \n",
    "    y = layers.Dense(2, activation=\"softmax\")(x)\n",
    "\n",
    "    model = Model(inputs=inputs, outputs=y)\n",
    "    return model"
   ]
  },
  {
   "cell_type": "code",
   "execution_count": 16,
   "metadata": {},
   "outputs": [],
   "source": [
    "data = pd.concat([X, XTest]).reset_index(drop=True)\n",
    "\n",
    "features = [x for x in data.columns ]\n",
    "\n",
    "for feat in features:\n",
    "    lbl_enc = LabelEncoder()\n",
    "    data[feat] = lbl_enc.fit_transform(data[feat].fillna(\"-1\").astype(str).values)"
   ]
  },
  {
   "cell_type": "code",
   "execution_count": 17,
   "metadata": {},
   "outputs": [],
   "source": [
    "train = data[:X.shape[0]]\n",
    "test = data[X.shape[0]:]"
   ]
  },
  {
   "cell_type": "code",
   "execution_count": 18,
   "metadata": {},
   "outputs": [
    {
     "data": {
      "text/plain": [
       "((18359, 12), (15021, 12))"
      ]
     },
     "execution_count": 18,
     "metadata": {},
     "output_type": "execute_result"
    }
   ],
   "source": [
    "train.shape, test.shape"
   ]
  },
  {
   "cell_type": "code",
   "execution_count": 19,
   "metadata": {},
   "outputs": [],
   "source": [
    "n_splits = 5"
   ]
  },
  {
   "cell_type": "code",
   "execution_count": 20,
   "metadata": {},
   "outputs": [],
   "source": [
    "# test_data = [test.loc[:, features].values[:, k] for k in range(test.loc[:, features].values.shape[1])]\n",
    "# oof_preds = np.zeros((len(train)))\n",
    "# test_preds = np.zeros((len(test)))\n",
    "# skf = StratifiedKFold(n_splits=n_splits)\n",
    "# for train_index, test_index in skf.split(train, y):\n",
    "#     X_train, X_test = train.iloc[train_index], train.iloc[test_index]\n",
    "#     X_train = X_train.reset_index(drop=True)\n",
    "#     X_test = X_test.reset_index(drop=True)\n",
    "#     y_train, y_test = y[train_index],  y[test_index]\n",
    "# #     y_train, y_test = X_train.target.values, X_test.target.values\n",
    "#     model = create_model(data, features)\n",
    "#     model.compile(loss='binary_crossentropy', optimizer='adam', metrics=[auc])\n",
    "#     X_train = [X_train.loc[:, features].values[:, k] for k in range(X_train.loc[:, features].values.shape[1])]\n",
    "#     X_test = [X_test.loc[:, features].values[:, k] for k in range(X_test.loc[:, features].values.shape[1])]\n",
    "    \n",
    "#     es = callbacks.EarlyStopping(monitor='val_auc', min_delta=0.001, patience=5,\n",
    "#                                  verbose=1, mode='max', baseline=None, restore_best_weights=True)\n",
    "\n",
    "#     rlr = callbacks.ReduceLROnPlateau(monitor='val_auc', factor=0.5,\n",
    "#                                       patience=3, min_lr=1e-6, mode='max', verbose=1)\n",
    "    \n",
    "#     model.fit(X_train,\n",
    "#               utils.to_categorical(y_train),\n",
    "#               validation_data=(X_test, utils.to_categorical(y_test)),\n",
    "#               verbose=1,\n",
    "#               batch_size=1024,\n",
    "#               callbacks=[es, rlr],\n",
    "#               epochs=100\n",
    "#              )\n",
    "#     valid_fold_preds = model.predict(X_test)[:, 1]\n",
    "#     test_fold_preds = model.predict(test_data)[:, 1]\n",
    "#     oof_preds[test_index] = valid_fold_preds.ravel()\n",
    "#     test_preds += test_fold_preds.ravel()\n",
    "#     print(metrics.roc_auc_score(y_test, valid_fold_preds))\n",
    "#     K.clear_session()"
   ]
  },
  {
   "cell_type": "code",
   "execution_count": 21,
   "metadata": {},
   "outputs": [],
   "source": [
    "# print(\"Overall AUC={}\".format(metrics.roc_auc_score(y, oof_preds)))"
   ]
  },
  {
   "cell_type": "code",
   "execution_count": 22,
   "metadata": {},
   "outputs": [],
   "source": [
    "# test_preds /= n_splits \n",
    "# test_ids = sample_sub.enrollee_id.values\n",
    "# print(\"Saving submission file\")\n",
    "# mlp_submission = pd.DataFrame.from_dict({\n",
    "#     'enrollee_id': test_ids,\n",
    "#     'target': test_preds\n",
    "# })\n",
    "# mlp_submission.to_csv(\"mlp_submission.csv\", index=False)"
   ]
  },
  {
   "cell_type": "code",
   "execution_count": 23,
   "metadata": {},
   "outputs": [],
   "source": [
    "# sns.distplot(mlp_submission.target)"
   ]
  },
  {
   "cell_type": "code",
   "execution_count": null,
   "metadata": {},
   "outputs": [],
   "source": []
  },
  {
   "cell_type": "markdown",
   "metadata": {},
   "source": [
    "# Add target encoding + OHE"
   ]
  },
  {
   "cell_type": "code",
   "execution_count": 24,
   "metadata": {},
   "outputs": [],
   "source": [
    "train_df = pd.read_csv(\"/kaggle/input/avhranalytics/train_jqd04QH.csv\")\n",
    "test_df = pd.read_csv(\"/kaggle/input/avhranalytics/test_KaymcHn.csv\")\n",
    "sample_sub = pd.read_csv(\"/kaggle/input/avhranalytics/sample_submission_sxfcbdx.csv\")"
   ]
  },
  {
   "cell_type": "code",
   "execution_count": null,
   "metadata": {},
   "outputs": [],
   "source": []
  },
  {
   "cell_type": "code",
   "execution_count": 25,
   "metadata": {},
   "outputs": [],
   "source": [
    "# train_df[train_df.city.isnull()][['city','city_development_index']]"
   ]
  },
  {
   "cell_type": "code",
   "execution_count": 26,
   "metadata": {},
   "outputs": [],
   "source": [
    "train_df.fillna('Unknown', inplace=True)\n",
    "test_df.fillna('Unknown', inplace=True)\n"
   ]
  },
  {
   "cell_type": "code",
   "execution_count": 27,
   "metadata": {},
   "outputs": [],
   "source": [
    "X = train_df.drop(['enrollee_id','target', 'city_development_index'], axis=1)\n",
    "y = train_df['target'].copy()\n",
    "XTest = test_df.drop(['enrollee_id', 'city_development_index'], axis=1)"
   ]
  },
  {
   "cell_type": "code",
   "execution_count": 28,
   "metadata": {},
   "outputs": [],
   "source": [
    "# X['is_duplicated'] = X.duplicated()\n",
    "# XTest['is_duplicated'] = XTest.duplicated()"
   ]
  },
  {
   "cell_type": "code",
   "execution_count": 29,
   "metadata": {},
   "outputs": [],
   "source": [
    "high_cardinality_features =  X.columns"
   ]
  },
  {
   "cell_type": "code",
   "execution_count": 30,
   "metadata": {},
   "outputs": [],
   "source": [
    "oof = pd.DataFrame([])\n",
    "smoothing = 0.50"
   ]
  },
  {
   "cell_type": "code",
   "execution_count": 31,
   "metadata": {},
   "outputs": [],
   "source": [
    "import category_encoders as ce"
   ]
  },
  {
   "cell_type": "code",
   "execution_count": 32,
   "metadata": {},
   "outputs": [],
   "source": [
    "for tr_idx, oof_idx in StratifiedKFold(n_splits=5, random_state=2020, shuffle=True).split(X, y):\n",
    "    ce_target_encoder = ce.TargetEncoder(cols = high_cardinality_features, smoothing=smoothing)\n",
    "    ce_target_encoder.fit(X.iloc[tr_idx, :], y.iloc[tr_idx])\n",
    "    oof = oof.append(ce_target_encoder.transform(X.iloc[oof_idx, :]), ignore_index=False)\n",
    "ce_target_encoder = ce.TargetEncoder(cols = high_cardinality_features, smoothing=smoothing)"
   ]
  },
  {
   "cell_type": "code",
   "execution_count": 33,
   "metadata": {},
   "outputs": [],
   "source": [
    "ce_target_encoder = ce.TargetEncoder(cols = high_cardinality_features, smoothing=smoothing)\n",
    "ce_target_encoder.fit(X, y);  \n",
    "test = ce_target_encoder.transform(XTest)"
   ]
  },
  {
   "cell_type": "code",
   "execution_count": 34,
   "metadata": {},
   "outputs": [],
   "source": [
    "oof = oof.sort_index()"
   ]
  },
  {
   "cell_type": "code",
   "execution_count": 35,
   "metadata": {},
   "outputs": [
    {
     "data": {
      "text/html": [
       "<div>\n",
       "<style scoped>\n",
       "    .dataframe tbody tr th:only-of-type {\n",
       "        vertical-align: middle;\n",
       "    }\n",
       "\n",
       "    .dataframe tbody tr th {\n",
       "        vertical-align: top;\n",
       "    }\n",
       "\n",
       "    .dataframe thead th {\n",
       "        text-align: right;\n",
       "    }\n",
       "</style>\n",
       "<table border=\"1\" class=\"dataframe\">\n",
       "  <thead>\n",
       "    <tr style=\"text-align: right;\">\n",
       "      <th></th>\n",
       "      <th>city</th>\n",
       "      <th>gender</th>\n",
       "      <th>relevent_experience</th>\n",
       "      <th>enrolled_university</th>\n",
       "      <th>education_level</th>\n",
       "      <th>major_discipline</th>\n",
       "      <th>experience</th>\n",
       "      <th>company_size</th>\n",
       "      <th>company_type</th>\n",
       "      <th>last_new_job</th>\n",
       "      <th>training_hours</th>\n",
       "    </tr>\n",
       "  </thead>\n",
       "  <tbody>\n",
       "    <tr>\n",
       "      <th>0</th>\n",
       "      <td>0.113924</td>\n",
       "      <td>0.124420</td>\n",
       "      <td>0.116659</td>\n",
       "      <td>0.115402</td>\n",
       "      <td>0.142325</td>\n",
       "      <td>0.136733</td>\n",
       "      <td>0.152452</td>\n",
       "      <td>0.100561</td>\n",
       "      <td>0.108682</td>\n",
       "      <td>0.134267</td>\n",
       "      <td>0.108108</td>\n",
       "    </tr>\n",
       "    <tr>\n",
       "      <th>1</th>\n",
       "      <td>0.116667</td>\n",
       "      <td>0.121218</td>\n",
       "      <td>0.117788</td>\n",
       "      <td>0.115325</td>\n",
       "      <td>0.142277</td>\n",
       "      <td>0.137095</td>\n",
       "      <td>0.131524</td>\n",
       "      <td>0.105215</td>\n",
       "      <td>0.094952</td>\n",
       "      <td>0.136009</td>\n",
       "      <td>0.129630</td>\n",
       "    </tr>\n",
       "    <tr>\n",
       "      <th>2</th>\n",
       "      <td>0.086503</td>\n",
       "      <td>0.151112</td>\n",
       "      <td>0.116659</td>\n",
       "      <td>0.115402</td>\n",
       "      <td>0.142325</td>\n",
       "      <td>0.136733</td>\n",
       "      <td>0.138239</td>\n",
       "      <td>0.097377</td>\n",
       "      <td>0.158163</td>\n",
       "      <td>0.134394</td>\n",
       "      <td>0.109948</td>\n",
       "    </tr>\n",
       "    <tr>\n",
       "      <th>3</th>\n",
       "      <td>0.073684</td>\n",
       "      <td>0.122668</td>\n",
       "      <td>0.118063</td>\n",
       "      <td>0.117851</td>\n",
       "      <td>0.141038</td>\n",
       "      <td>0.136801</td>\n",
       "      <td>0.131846</td>\n",
       "      <td>0.103641</td>\n",
       "      <td>0.110449</td>\n",
       "      <td>0.133970</td>\n",
       "      <td>0.113514</td>\n",
       "    </tr>\n",
       "    <tr>\n",
       "      <th>4</th>\n",
       "      <td>0.148325</td>\n",
       "      <td>0.154315</td>\n",
       "      <td>0.175416</td>\n",
       "      <td>0.115272</td>\n",
       "      <td>0.119356</td>\n",
       "      <td>0.136849</td>\n",
       "      <td>0.114379</td>\n",
       "      <td>0.190550</td>\n",
       "      <td>0.180833</td>\n",
       "      <td>0.143234</td>\n",
       "      <td>0.146667</td>\n",
       "    </tr>\n",
       "  </tbody>\n",
       "</table>\n",
       "</div>"
      ],
      "text/plain": [
       "       city    gender  relevent_experience  enrolled_university  \\\n",
       "0  0.113924  0.124420             0.116659             0.115402   \n",
       "1  0.116667  0.121218             0.117788             0.115325   \n",
       "2  0.086503  0.151112             0.116659             0.115402   \n",
       "3  0.073684  0.122668             0.118063             0.117851   \n",
       "4  0.148325  0.154315             0.175416             0.115272   \n",
       "\n",
       "   education_level  major_discipline  experience  company_size  company_type  \\\n",
       "0         0.142325          0.136733    0.152452      0.100561      0.108682   \n",
       "1         0.142277          0.137095    0.131524      0.105215      0.094952   \n",
       "2         0.142325          0.136733    0.138239      0.097377      0.158163   \n",
       "3         0.141038          0.136801    0.131846      0.103641      0.110449   \n",
       "4         0.119356          0.136849    0.114379      0.190550      0.180833   \n",
       "\n",
       "   last_new_job  training_hours  \n",
       "0      0.134267        0.108108  \n",
       "1      0.136009        0.129630  \n",
       "2      0.134394        0.109948  \n",
       "3      0.133970        0.113514  \n",
       "4      0.143234        0.146667  "
      ]
     },
     "execution_count": 35,
     "metadata": {},
     "output_type": "execute_result"
    }
   ],
   "source": [
    "oof.head()"
   ]
  },
  {
   "cell_type": "code",
   "execution_count": 36,
   "metadata": {},
   "outputs": [],
   "source": [
    "X_trans = oof\n",
    "XTest_trans = test"
   ]
  },
  {
   "cell_type": "code",
   "execution_count": 37,
   "metadata": {},
   "outputs": [],
   "source": [
    "X_raw = train_df.drop(['enrollee_id', 'target'], axis=1)\n",
    "XTest_raw = test_df.drop(['enrollee_id'], axis=1)\n"
   ]
  },
  {
   "cell_type": "code",
   "execution_count": 38,
   "metadata": {},
   "outputs": [],
   "source": [
    "# X_raw['is_duplicated'] = X_raw.duplicated()\n",
    "# XTest_raw['is_duplicated'] = XTest_raw.duplicated()"
   ]
  },
  {
   "cell_type": "code",
   "execution_count": 39,
   "metadata": {},
   "outputs": [],
   "source": [
    "exp_map = train_df.groupby(['experience'])['target'].mean()"
   ]
  },
  {
   "cell_type": "code",
   "execution_count": 40,
   "metadata": {},
   "outputs": [],
   "source": [
    "# X_raw.experience.map(exp_map)"
   ]
  },
  {
   "cell_type": "code",
   "execution_count": 41,
   "metadata": {},
   "outputs": [],
   "source": [
    "X_raw['city_development_index_qcut'] = pd.qcut(X_raw.city_development_index.values.reshape(-1), 5, duplicates='drop', labels=False)\n",
    "XTest_raw['city_development_index_qcut'] = pd.qcut(XTest_raw.city_development_index.values.reshape(-1), 5, duplicates='drop', labels=False)\n",
    "\n",
    "X_raw['training_hours_qcut'] = pd.qcut(X_raw.training_hours.values.reshape(-1), 5, duplicates='drop', labels=False)\n",
    "XTest_raw['training_hours_qcut'] = pd.qcut(XTest_raw.training_hours.values.reshape(-1), 5, duplicates='drop', labels=False)\n",
    "\n",
    "X_raw['city_development_index_qcut_10'] = pd.qcut(X_raw.city_development_index.values.reshape(-1), 10, duplicates='drop', labels=False)\n",
    "XTest_raw['city_development_index_qcut_10'] = pd.qcut(XTest_raw.city_development_index.values.reshape(-1), 10, duplicates='drop', labels=False)\n",
    "\n",
    "X_raw['training_hours_qcut_10'] = pd.qcut(X_raw.training_hours.values.reshape(-1), 10, duplicates='drop', labels=False)\n",
    "XTest_raw['training_hours_qcut_10'] = pd.qcut(XTest_raw.training_hours.values.reshape(-1), 10, duplicates='drop', labels=False)\n",
    "\n",
    "\n",
    "X_raw['experience_level_cat'] = X_raw.experience.apply(experience_foo)\n",
    "XTest_raw['experience_level_cat'] = XTest_raw.experience.apply(experience_foo)\n",
    "\n",
    "\n",
    "# X_raw['experience_me'] = X_raw.experience.apply(experience_foo)\n",
    "# XTest_raw['experience_me'] = XTest_raw.experience.apply(experience_foo)"
   ]
  },
  {
   "cell_type": "code",
   "execution_count": 42,
   "metadata": {},
   "outputs": [],
   "source": [
    "X_raw.drop(['city_development_index'], axis=1, inplace=True)\n",
    "XTest_raw.drop(['city_development_index'], axis=1, inplace=True)\n",
    "\n",
    "# X_raw.drop(['training_hours'], axis=1, inplace=True)\n",
    "# XTest_raw.drop(['training_hours'], axis=1, inplace=True)\n"
   ]
  },
  {
   "cell_type": "code",
   "execution_count": 43,
   "metadata": {},
   "outputs": [
    {
     "data": {
      "text/plain": [
       "Index(['city', 'gender', 'relevent_experience', 'enrolled_university',\n",
       "       'education_level', 'major_discipline', 'experience', 'company_size',\n",
       "       'company_type', 'last_new_job', 'training_hours',\n",
       "       'city_development_index_qcut', 'training_hours_qcut',\n",
       "       'city_development_index_qcut_10', 'training_hours_qcut_10',\n",
       "       'experience_level_cat'],\n",
       "      dtype='object')"
      ]
     },
     "execution_count": 43,
     "metadata": {},
     "output_type": "execute_result"
    }
   ],
   "source": [
    "X_raw.columns"
   ]
  },
  {
   "cell_type": "code",
   "execution_count": 44,
   "metadata": {},
   "outputs": [
    {
     "data": {
      "text/plain": [
       "Index(['city', 'gender', 'relevent_experience', 'enrolled_university',\n",
       "       'education_level', 'major_discipline', 'experience', 'company_size',\n",
       "       'company_type', 'last_new_job', 'training_hours',\n",
       "       'city_development_index_qcut', 'training_hours_qcut',\n",
       "       'city_development_index_qcut_10', 'training_hours_qcut_10',\n",
       "       'experience_level_cat'],\n",
       "      dtype='object')"
      ]
     },
     "execution_count": 44,
     "metadata": {},
     "output_type": "execute_result"
    }
   ],
   "source": [
    "XTest_raw.columns"
   ]
  },
  {
   "cell_type": "code",
   "execution_count": 45,
   "metadata": {},
   "outputs": [
    {
     "data": {
      "text/plain": [
       "((18359, 16), (15021, 16))"
      ]
     },
     "execution_count": 45,
     "metadata": {},
     "output_type": "execute_result"
    }
   ],
   "source": [
    "X_raw.shape, XTest_raw.shape"
   ]
  },
  {
   "cell_type": "code",
   "execution_count": 46,
   "metadata": {},
   "outputs": [],
   "source": [
    "from sklearn.preprocessing import OneHotEncoder"
   ]
  },
  {
   "cell_type": "code",
   "execution_count": 47,
   "metadata": {},
   "outputs": [],
   "source": [
    "ohe = OneHotEncoder(sparse=False)"
   ]
  },
  {
   "cell_type": "code",
   "execution_count": 48,
   "metadata": {},
   "outputs": [
    {
     "data": {
      "text/plain": [
       "OneHotEncoder(categories='auto', drop=None, dtype=<class 'numpy.float64'>,\n",
       "              handle_unknown='error', sparse=False)"
      ]
     },
     "execution_count": 48,
     "metadata": {},
     "output_type": "execute_result"
    }
   ],
   "source": [
    "ohe.fit(X_raw)"
   ]
  },
  {
   "cell_type": "code",
   "execution_count": 49,
   "metadata": {},
   "outputs": [],
   "source": [
    "X_ohe = pd.DataFrame(ohe.transform(X_raw), columns=ohe.get_feature_names())\n",
    "XTest_ohe = pd.DataFrame(ohe.transform(XTest_raw), columns=ohe.get_feature_names())"
   ]
  },
  {
   "cell_type": "code",
   "execution_count": 50,
   "metadata": {},
   "outputs": [],
   "source": [
    "X_ohe['city_development_index'] = train_df.city_development_index\n",
    "XTest_ohe['city_development_index'] = test_df.city_development_index"
   ]
  },
  {
   "cell_type": "code",
   "execution_count": 51,
   "metadata": {},
   "outputs": [],
   "source": [
    "# X_ohe['training_hours'] = train_df.training_hours\n",
    "# XTest_ohe['training_hours'] = test_df.training_hours\n"
   ]
  },
  {
   "cell_type": "code",
   "execution_count": 52,
   "metadata": {},
   "outputs": [
    {
     "data": {
      "text/plain": [
       "((18359, 467), (15021, 467))"
      ]
     },
     "execution_count": 52,
     "metadata": {},
     "output_type": "execute_result"
    }
   ],
   "source": [
    "X_ohe.shape, XTest_ohe.shape"
   ]
  },
  {
   "cell_type": "code",
   "execution_count": 53,
   "metadata": {},
   "outputs": [],
   "source": [
    "X_all = pd.concat([X_trans, X_ohe], axis=1)\n",
    "XTest_all = pd.concat([XTest_trans, XTest_ohe], axis=1)"
   ]
  },
  {
   "cell_type": "code",
   "execution_count": 54,
   "metadata": {},
   "outputs": [
    {
     "data": {
      "text/plain": [
       "((18359, 478), (15021, 478))"
      ]
     },
     "execution_count": 54,
     "metadata": {},
     "output_type": "execute_result"
    }
   ],
   "source": [
    "X_all.shape, XTest_all.shape"
   ]
  },
  {
   "cell_type": "code",
   "execution_count": 55,
   "metadata": {},
   "outputs": [],
   "source": [
    "RANDOM_SEED = 1"
   ]
  },
  {
   "cell_type": "code",
   "execution_count": 56,
   "metadata": {},
   "outputs": [],
   "source": [
    "import xgboost as xgb\n",
    "import lightgbm as lgb\n",
    "from hyperopt import STATUS_OK, Trials, fmin, hp, tpe"
   ]
  },
  {
   "cell_type": "code",
   "execution_count": 57,
   "metadata": {},
   "outputs": [],
   "source": [
    "X_train, X_valid, y_train, y_valid = train_test_split(X_all, y, \n",
    "                                                      random_state=RANDOM_SEED, \n",
    "                                                      test_size=0.2)"
   ]
  },
  {
   "cell_type": "code",
   "execution_count": 58,
   "metadata": {},
   "outputs": [
    {
     "data": {
      "text/plain": [
       "((14687, 478), (3672, 478))"
      ]
     },
     "execution_count": 58,
     "metadata": {},
     "output_type": "execute_result"
    }
   ],
   "source": [
    "X_train.shape, X_valid.shape"
   ]
  },
  {
   "cell_type": "code",
   "execution_count": 59,
   "metadata": {},
   "outputs": [],
   "source": [
    "hyperopt_params = []"
   ]
  },
  {
   "cell_type": "code",
   "execution_count": 60,
   "metadata": {},
   "outputs": [],
   "source": [
    "def score(params):\n",
    "#     try:\n",
    "\n",
    "    print(\"Training with params: \",params)\n",
    "#     num_round = int(params['n_estimators'])\n",
    "    del params['n_estimators']\n",
    "    num_round = 10000\n",
    "    dtrain = xgb.DMatrix(X_train.values, label=y_train)\n",
    "    dvalid = xgb.DMatrix(X_valid.values, label=y_valid)\n",
    "    watchlist = [(dtrain, 'train'),(dvalid, 'eval')]\n",
    "    gbm_model = xgb.train(params, dtrain, num_round,\n",
    "                          evals=watchlist,\n",
    "                          verbose_eval=100,\n",
    "                         early_stopping_rounds=100,\n",
    "                         )\n",
    "    predictions = gbm_model.predict(dvalid,\n",
    "                                    ntree_limit=gbm_model.best_iteration + 1)\n",
    "#         predictions = (predictions >= 0.5).astype('int')\n",
    "    score = roc_auc_score(y_valid, predictions)\n",
    "    print(\"+++++++++++++++++++++++++++++++++++++\")\n",
    "    print(\"Estimator\",gbm_model.best_iteration)\n",
    "    print(\"\\tScore {0}\\n\\n\".format(score))\n",
    "    hyperopt_params.append((score, params, gbm_model.best_iteration))\n",
    "    print(\"/////////////////////////////////////////\")\n",
    "\n",
    "    # The score function should return the loss (1-score)\n",
    "    # since the optimize function looks for the minimum\n",
    "    loss = 1 - score\n",
    "    return {'loss': loss, 'status': STATUS_OK}\n",
    "\n",
    "\n",
    "# In case of any exception or assertionerror making score 0, so that It can return maximum loss (ie 1)\n",
    "#     except AssertionError as obj:\n",
    "#         print(\"AssertionError: \",obj)\n",
    "#         loss = 1 - 0\n",
    "#         return {'loss': loss, 'status': STATUS_OK}\n",
    "\n",
    "#     except Exception as obj:\n",
    "#         print(\"Exception: \",obj)\n",
    "#         loss = 1 - 0\n",
    "#         return {'loss': loss, 'status': STATUS_OK}"
   ]
  },
  {
   "cell_type": "code",
   "execution_count": 61,
   "metadata": {},
   "outputs": [],
   "source": [
    "def optimize(\n",
    "             trials, \n",
    "             max_evals, \n",
    "             random_state=RANDOM_SEED):\n",
    "\n",
    "\n",
    "    \"\"\"\n",
    "    This is the optimization function that given a space (space here) of \n",
    "    hyperparameters and a scoring function (score here), finds the best hyperparameters.\n",
    "    \"\"\"\n",
    "    # To learn more about XGBoost parameters, head to this page: \n",
    "    # https://github.com/dmlc/xgboost/blob/master/doc/parameter.md\n",
    "    space = {\n",
    "        'n_estimators': hp.quniform('n_estimators', 10, 300, 1),\n",
    "        'eta': hp.quniform('eta', 0.025, 0.5, 0.025),\n",
    "        # A problem with max_depth casted to float instead of int with\n",
    "        # the hp.quniform method.\n",
    "        'max_depth':  hp.choice('max_depth', np.arange(1, 7, dtype=int)),\n",
    "        'min_child_weight': hp.quniform('min_child_weight', 1, 6, 1),\n",
    "        'subsample': hp.quniform('subsample', 0.5, 1, 0.05),\n",
    "        'gamma': hp.quniform('gamma', 0, 1, 0.05),\n",
    "        'colsample_bytree': hp.quniform('colsample_bytree', 0.5, 1, 0.05),\n",
    "        'scale_pos_weight': hp.quniform('scale_pos_weight', 1,4, 0.05),\n",
    "        \"reg_alpha\": hp.quniform('reg_alpha', 0, 1, 0.05),\n",
    "        \"reg_lambda\": hp.quniform('reg_lambda', 1, 5, 0.05),\n",
    "        'eval_metric': 'logloss',\n",
    "        'objective': 'binary:logistic',\n",
    "        # Increase this number if you have more cores. Otherwise, remove it and it will default \n",
    "        # to the maxium number. \n",
    "        'nthread': 4,\n",
    "        'booster': 'gbtree',\n",
    "        'tree_method': 'exact',\n",
    "        'silent': 1,\n",
    "        'seed': random_state,\n",
    "        'eval_metric': 'auc'\n",
    "    }\n",
    "    # Use the fmin function from Hyperopt to find the best hyperparameters\n",
    "    best = fmin(score, \n",
    "                space, \n",
    "                algo=tpe.suggest, \n",
    "                trials=trials, \n",
    "                max_evals=max_evals)\n",
    "    return best"
   ]
  },
  {
   "cell_type": "code",
   "execution_count": 62,
   "metadata": {},
   "outputs": [
    {
     "name": "stdout",
     "output_type": "stream",
     "text": [
      "Training with params: \n",
      "{'booster': 'gbtree', 'colsample_bytree': 0.65, 'eta': 0.275, 'eval_metric': 'auc', 'gamma': 0.1, 'max_depth': 4, 'min_child_weight': 6.0, 'n_estimators': 209.0, 'nthread': 4, 'objective': 'binary:logistic', 'reg_alpha': 0.25, 'reg_lambda': 1.6500000000000001, 'scale_pos_weight': 3.9000000000000004, 'seed': 1, 'silent': 1, 'subsample': 0.55, 'tree_method': 'exact'}\n",
      "[0]\ttrain-auc:0.65195\teval-auc:0.65099\n",
      "\n",
      "Multiple eval metrics have been passed: 'eval-auc' will be used for early stopping.\n",
      "\n",
      "\n",
      "Will train until eval-auc hasn't improved in 100 rounds.\n",
      "\n",
      "[100]\ttrain-auc:0.81996\teval-auc:0.65846\n",
      "\n",
      "Stopping. Best iteration:\n",
      "[9]\ttrain-auc:0.70222\teval-auc:0.66794\n",
      "\n",
      "\n",
      "+++++++++++++++++++++++++++++++++++++\n",
      "Estimator\n",
      "9\n",
      "\tScore 0.667941579066275\n",
      "\n",
      "\n",
      "/////////////////////////////////////////\n",
      "Training with params: \n",
      "{'booster': 'gbtree', 'colsample_bytree': 0.6000000000000001, 'eta': 0.275, 'eval_metric': 'auc', 'gamma': 0.9, 'max_depth': 6, 'min_child_weight': 4.0, 'n_estimators': 99.0, 'nthread': 4, 'objective': 'binary:logistic', 'reg_alpha': 0.4, 'reg_lambda': 1.4000000000000001, 'scale_pos_weight': 3.7, 'seed': 1, 'silent': 1, 'subsample': 0.55, 'tree_method': 'exact'}\n",
      "[0]\ttrain-auc:0.66199\teval-auc:0.64609\n",
      "\n",
      "Multiple eval metrics have been passed: 'eval-auc' will be used for early stopping.\n",
      "\n",
      "\n",
      "Will train until eval-auc hasn't improved in 100 rounds.\n",
      "\n",
      "[100]\ttrain-auc:0.91497\teval-auc:0.65533\n",
      "\n",
      "Stopping. Best iteration:\n",
      "[9]\ttrain-auc:0.74265\teval-auc:0.67352\n",
      "\n",
      "\n",
      "+++++++++++++++++++++++++++++++++++++\n",
      "Estimator\n",
      "9\n",
      "\tScore 0.6735188778290164\n",
      "\n",
      "\n",
      "/////////////////////////////////////////\n",
      "Training with params: \n",
      "{'booster': 'gbtree', 'colsample_bytree': 0.8500000000000001, 'eta': 0.15000000000000002, 'eval_metric': 'auc', 'gamma': 0.30000000000000004, 'max_depth': 1, 'min_child_weight': 4.0, 'n_estimators': 268.0, 'nthread': 4, 'objective': 'binary:logistic', 'reg_alpha': 1.0, 'reg_lambda': 1.0, 'scale_pos_weight': 1.25, 'seed': 1, 'silent': 1, 'subsample': 0.7000000000000001, 'tree_method': 'exact'}\n",
      "[0]\ttrain-auc:0.56905\teval-auc:0.55963\n",
      "\n",
      "Multiple eval metrics have been passed: 'eval-auc' will be used for early stopping.\n",
      "\n",
      "\n",
      "Will train until eval-auc hasn't improved in 100 rounds.\n",
      "\n",
      "[100]\ttrain-auc:0.67073\teval-auc:0.67050\n",
      "\n",
      "[200]\ttrain-auc:0.68231\teval-auc:0.67559\n",
      "\n",
      "[300]\ttrain-auc:0.69062\teval-auc:0.67644\n",
      "\n",
      "[400]\ttrain-auc:0.69626\teval-auc:0.67847\n",
      "\n",
      "Stopping. Best iteration:\n",
      "[380]\ttrain-auc:0.69461\teval-auc:0.68038\n",
      "\n",
      "\n",
      "+++++++++++++++++++++++++++++++++++++\n",
      "Estimator\n",
      "380\n",
      "\tScore 0.6803779552673196\n",
      "\n",
      "\n",
      "/////////////////////////////////////////\n",
      "Training with params: \n",
      "{'booster': 'gbtree', 'colsample_bytree': 0.8500000000000001, 'eta': 0.30000000000000004, 'eval_metric': 'auc', 'gamma': 0.9, 'max_depth': 5, 'min_child_weight': 2.0, 'n_estimators': 227.0, 'nthread': 4, 'objective': 'binary:logistic', 'reg_alpha': 0.9, 'reg_lambda': 3.6, 'scale_pos_weight': 3.8000000000000003, 'seed': 1, 'silent': 1, 'subsample': 0.7000000000000001, 'tree_method': 'exact'}\n",
      "[0]\ttrain-auc:0.66516\teval-auc:0.64480\n",
      "\n",
      "Multiple eval metrics have been passed: 'eval-auc' will be used for early stopping.\n",
      "\n",
      "\n",
      "Will train until eval-auc hasn't improved in 100 rounds.\n",
      "\n",
      "[100]\ttrain-auc:0.90649\teval-auc:0.65869\n",
      "\n",
      "Stopping. Best iteration:\n",
      "[11]\ttrain-auc:0.74392\teval-auc:0.68070\n",
      "\n",
      "\n",
      "+++++++++++++++++++++++++++++++++++++\n",
      "Estimator\n",
      "11\n",
      "\tScore 0.680702220686539\n",
      "\n",
      "\n",
      "/////////////////////////////////////////\n",
      "Training with params: \n",
      "{'booster': 'gbtree', 'colsample_bytree': 0.7000000000000001, 'eta': 0.47500000000000003, 'eval_metric': 'auc', 'gamma': 0.15000000000000002, 'max_depth': 6, 'min_child_weight': 3.0, 'n_estimators': 280.0, 'nthread': 4, 'objective': 'binary:logistic', 'reg_alpha': 1.0, 'reg_lambda': 2.7, 'scale_pos_weight': 3.6500000000000004, 'seed': 1, 'silent': 1, 'subsample': 0.8500000000000001, 'tree_method': 'exact'}\n",
      "[0]\ttrain-auc:0.67767\teval-auc:0.63762\n",
      "\n",
      "Multiple eval metrics have been passed: 'eval-auc' will be used for early stopping.\n",
      "\n",
      "\n",
      "Will train until eval-auc hasn't improved in 100 rounds.\n",
      "\n",
      "[100]\ttrain-auc:0.96719\teval-auc:0.64153\n",
      "\n",
      "Stopping. Best iteration:\n",
      "[8]\ttrain-auc:0.79119\teval-auc:0.67514\n",
      "\n",
      "\n",
      "+++++++++++++++++++++++++++++++++++++\n",
      "Estimator\n",
      "8\n",
      "\tScore 0.6751412016425904\n",
      "\n",
      "\n",
      "/////////////////////////////////////////\n",
      "Training with params: \n",
      "{'booster': 'gbtree', 'colsample_bytree': 0.8, 'eta': 0.42500000000000004, 'eval_metric': 'auc', 'gamma': 0.25, 'max_depth': 2, 'min_child_weight': 2.0, 'n_estimators': 59.0, 'nthread': 4, 'objective': 'binary:logistic', 'reg_alpha': 0.45, 'reg_lambda': 2.6, 'scale_pos_weight': 2.0, 'seed': 1, 'silent': 1, 'subsample': 0.65, 'tree_method': 'exact'}\n",
      "[0]\ttrain-auc:0.62022\teval-auc:0.62164\n",
      "\n",
      "Multiple eval metrics have been passed: 'eval-auc' will be used for early stopping.\n",
      "\n",
      "\n",
      "Will train until eval-auc hasn't improved in 100 rounds.\n",
      "\n",
      "[100]\ttrain-auc:0.74050\teval-auc:0.67946\n",
      "\n",
      "Stopping. Best iteration:\n",
      "[90]\ttrain-auc:0.73610\teval-auc:0.68261\n",
      "\n",
      "\n",
      "+++++++++++++++++++++++++++++++++++++\n",
      "Estimator\n",
      "90\n",
      "\tScore 0.6826152537642697\n",
      "\n",
      "\n",
      "/////////////////////////////////////////\n",
      "Training with params: \n",
      "{'booster': 'gbtree', 'colsample_bytree': 1.0, 'eta': 0.5, 'eval_metric': 'auc', 'gamma': 0.2, 'max_depth': 4, 'min_child_weight': 5.0, 'n_estimators': 286.0, 'nthread': 4, 'objective': 'binary:logistic', 'reg_alpha': 0.7000000000000001, 'reg_lambda': 1.2000000000000002, 'scale_pos_weight': 3.0, 'seed': 1, 'silent': 1, 'subsample': 0.55, 'tree_method': 'exact'}\n",
      "[0]\ttrain-auc:0.64881\teval-auc:0.63755\n",
      "\n",
      "Multiple eval metrics have been passed: 'eval-auc' will be used for early stopping.\n",
      "\n",
      "\n",
      "Will train until eval-auc hasn't improved in 100 rounds.\n",
      "\n",
      "[100]\ttrain-auc:0.85803\teval-auc:0.63783\n",
      "\n",
      "Stopping. Best iteration:\n",
      "[28]\ttrain-auc:0.76275\teval-auc:0.67038\n",
      "\n",
      "\n",
      "+++++++++++++++++++++++++++++++++++++\n",
      "Estimator\n",
      "28\n",
      "\tScore 0.6703838691243504\n",
      "\n",
      "\n",
      "/////////////////////////////////////////\n",
      "Training with params: \n",
      "{'booster': 'gbtree', 'colsample_bytree': 0.9, 'eta': 0.07500000000000001, 'eval_metric': 'auc', 'gamma': 0.15000000000000002, 'max_depth': 6, 'min_child_weight': 3.0, 'n_estimators': 286.0, 'nthread': 4, 'objective': 'binary:logistic', 'reg_alpha': 0.7000000000000001, 'reg_lambda': 1.9000000000000001, 'scale_pos_weight': 1.6500000000000001, 'seed': 1, 'silent': 1, 'subsample': 0.7000000000000001, 'tree_method': 'exact'}\n",
      "[0]\ttrain-auc:0.66029\teval-auc:0.63885\n",
      "\n",
      "Multiple eval metrics have been passed: 'eval-auc' will be used for early stopping.\n",
      "\n",
      "\n",
      "Will train until eval-auc hasn't improved in 100 rounds.\n",
      "\n",
      "[100]\ttrain-auc:0.83831\teval-auc:0.67787\n",
      "\n",
      "Stopping. Best iteration:\n",
      "[38]\ttrain-auc:0.77617\teval-auc:0.68377\n",
      "\n",
      "\n",
      "+++++++++++++++++++++++++++++++++++++\n",
      "Estimator\n",
      "38\n",
      "\tScore 0.6837731072335109\n",
      "\n",
      "\n",
      "/////////////////////////////////////////\n",
      "Training with params: \n",
      "{'booster': 'gbtree', 'colsample_bytree': 0.8, 'eta': 0.375, 'eval_metric': 'auc', 'gamma': 0.2, 'max_depth': 3, 'min_child_weight': 5.0, 'n_estimators': 292.0, 'nthread': 4, 'objective': 'binary:logistic', 'reg_alpha': 0.25, 'reg_lambda': 2.15, 'scale_pos_weight': 1.55, 'seed': 1, 'silent': 1, 'subsample': 0.9500000000000001, 'tree_method': 'exact'}\n",
      "[0]\ttrain-auc:0.63704\teval-auc:0.62612\n",
      "\n",
      "Multiple eval metrics have been passed: 'eval-auc' will be used for early stopping.\n",
      "\n",
      "\n",
      "Will train until eval-auc hasn't improved in 100 rounds.\n",
      "\n",
      "[100]\ttrain-auc:0.78500\teval-auc:0.67027\n",
      "\n",
      "Stopping. Best iteration:\n",
      "[20]\ttrain-auc:0.70907\teval-auc:0.67979\n",
      "\n",
      "\n",
      "+++++++++++++++++++++++++++++++++++++\n",
      "Estimator\n",
      "20\n",
      "\tScore 0.6797895597166664\n",
      "\n",
      "\n",
      "/////////////////////////////////////////\n",
      "Training with params: \n",
      "{'booster': 'gbtree', 'colsample_bytree': 0.9, 'eta': 0.15000000000000002, 'eval_metric': 'auc', 'gamma': 0.8500000000000001, 'max_depth': 2, 'min_child_weight': 4.0, 'n_estimators': 250.0, 'nthread': 4, 'objective': 'binary:logistic', 'reg_alpha': 0.55, 'reg_lambda': 2.85, 'scale_pos_weight': 1.55, 'seed': 1, 'silent': 1, 'subsample': 0.8500000000000001, 'tree_method': 'exact'}\n",
      "[0]\ttrain-auc:0.62018\teval-auc:0.62170\n",
      "\n",
      "Multiple eval metrics have been passed: 'eval-auc' will be used for early stopping.\n",
      "\n",
      "\n",
      "Will train until eval-auc hasn't improved in 100 rounds.\n",
      "\n",
      "[100]\ttrain-auc:0.70563\teval-auc:0.68464\n",
      "\n",
      "[200]\ttrain-auc:0.73008\teval-auc:0.67892\n",
      "\n",
      "Stopping. Best iteration:\n",
      "[101]\ttrain-auc:0.70608\teval-auc:0.68521\n",
      "\n",
      "\n",
      "+++++++++++++++++++++++++++++++++++++\n",
      "Estimator\n",
      "101\n",
      "\tScore 0.6852120350312969\n",
      "\n",
      "\n",
      "/////////////////////////////////////////\n",
      "Training with params: \n",
      "{'booster': 'gbtree', 'colsample_bytree': 0.8, 'eta': 0.07500000000000001, 'eval_metric': 'auc', 'gamma': 0.45, 'max_depth': 6, 'min_child_weight': 6.0, 'n_estimators': 224.0, 'nthread': 4, 'objective': 'binary:logistic', 'reg_alpha': 0.05, 'reg_lambda': 3.0, 'scale_pos_weight': 2.3000000000000003, 'seed': 1, 'silent': 1, 'subsample': 0.7000000000000001, 'tree_method': 'exact'}\n",
      "[0]\ttrain-auc:0.66514\teval-auc:0.65109\n",
      "\n",
      "Multiple eval metrics have been passed: 'eval-auc' will be used for early stopping.\n",
      "\n",
      "\n",
      "Will train until eval-auc hasn't improved in 100 rounds.\n",
      "\n",
      "[100]\ttrain-auc:0.82703\teval-auc:0.67444\n",
      "\n",
      "Stopping. Best iteration:\n",
      "[19]\ttrain-auc:0.74089\teval-auc:0.68051\n",
      "\n",
      "\n",
      "+++++++++++++++++++++++++++++++++++++\n",
      "Estimator\n",
      "19\n",
      "\tScore 0.6805135088442065\n",
      "\n",
      "\n",
      "/////////////////////////////////////////\n",
      "Training with params: \n",
      "{'booster': 'gbtree', 'colsample_bytree': 0.7000000000000001, 'eta': 0.2, 'eval_metric': 'auc', 'gamma': 0.2, 'max_depth': 4, 'min_child_weight': 2.0, 'n_estimators': 57.0, 'nthread': 4, 'objective': 'binary:logistic', 'reg_alpha': 1.0, 'reg_lambda': 4.4, 'scale_pos_weight': 3.9000000000000004, 'seed': 1, 'silent': 1, 'subsample': 0.65, 'tree_method': 'exact'}\n",
      "[0]\ttrain-auc:0.65211\teval-auc:0.63236\n",
      "\n",
      "Multiple eval metrics have been passed: 'eval-auc' will be used for early stopping.\n",
      "\n",
      "\n",
      "Will train until eval-auc hasn't improved in 100 rounds.\n",
      "\n",
      "[100]\ttrain-auc:0.82038\teval-auc:0.66876\n",
      "\n",
      "Stopping. Best iteration:\n",
      "[17]\ttrain-auc:0.71919\teval-auc:0.67601\n",
      "\n",
      "\n",
      "+++++++++++++++++++++++++++++++++++++\n",
      "Estimator\n",
      "17\n",
      "\tScore 0.6760070168910388\n",
      "\n",
      "\n",
      "/////////////////////////////////////////\n",
      "Training with params: \n",
      "{'booster': 'gbtree', 'colsample_bytree': 0.9, 'eta': 0.4, 'eval_metric': 'auc', 'gamma': 0.5, 'max_depth': 3, 'min_child_weight': 4.0, 'n_estimators': 272.0, 'nthread': 4, 'objective': 'binary:logistic', 'reg_alpha': 0.35000000000000003, 'reg_lambda': 4.9, 'scale_pos_weight': 2.7, 'seed': 1, 'silent': 1, 'subsample': 0.55, 'tree_method': 'exact'}\n",
      "[0]\ttrain-auc:0.63823\teval-auc:0.63238\n",
      "\n",
      "Multiple eval metrics have been passed: 'eval-auc' will be used for early stopping.\n",
      "\n",
      "\n",
      "Will train until eval-auc hasn't improved in 100 rounds.\n",
      "\n",
      "[100]\ttrain-auc:0.79133\teval-auc:0.66875\n",
      "\n",
      "Stopping. Best iteration:\n",
      "[19]\ttrain-auc:0.70832\teval-auc:0.68061\n",
      "\n",
      "\n",
      "+++++++++++++++++++++++++++++++++++++\n",
      "Estimator\n",
      "19\n",
      "\tScore 0.6806111871569631\n",
      "\n",
      "\n",
      "/////////////////////////////////////////\n",
      "Training with params: \n",
      "{'booster': 'gbtree', 'colsample_bytree': 0.75, 'eta': 0.375, 'eval_metric': 'auc', 'gamma': 0.5, 'max_depth': 5, 'min_child_weight': 5.0, 'n_estimators': 233.0, 'nthread': 4, 'objective': 'binary:logistic', 'reg_alpha': 0.55, 'reg_lambda': 2.6, 'scale_pos_weight': 1.0, 'seed': 1, 'silent': 1, 'subsample': 0.65, 'tree_method': 'exact'}\n",
      "[0]\ttrain-auc:0.64693\teval-auc:0.63560\n",
      "\n",
      "Multiple eval metrics have been passed: 'eval-auc' will be used for early stopping.\n",
      "\n",
      "\n",
      "Will train until eval-auc hasn't improved in 100 rounds.\n",
      "\n",
      "[100]\ttrain-auc:0.88443\teval-auc:0.62371\n",
      "\n",
      "Stopping. Best iteration:\n",
      "[7]\ttrain-auc:0.71102\teval-auc:0.66831\n",
      "\n",
      "\n",
      "+++++++++++++++++++++++++++++++++++++\n",
      "Estimator\n",
      "7\n",
      "\tScore 0.6683113612502825\n",
      "\n",
      "\n",
      "/////////////////////////////////////////\n",
      "Training with params: \n",
      "{'booster': 'gbtree', 'colsample_bytree': 1.0, 'eta': 0.07500000000000001, 'eval_metric': 'auc', 'gamma': 0.65, 'max_depth': 6, 'min_child_weight': 2.0, 'n_estimators': 192.0, 'nthread': 4, 'objective': 'binary:logistic', 'reg_alpha': 0.8, 'reg_lambda': 4.25, 'scale_pos_weight': 3.45, 'seed': 1, 'silent': 1, 'subsample': 0.75, 'tree_method': 'exact'}\n",
      "[0]\ttrain-auc:0.67647\teval-auc:0.64759\n",
      "\n",
      "Multiple eval metrics have been passed: 'eval-auc' will be used for early stopping.\n",
      "\n",
      "\n",
      "Will train until eval-auc hasn't improved in 100 rounds.\n",
      "\n",
      "[100]\ttrain-auc:0.85666\teval-auc:0.68793\n",
      "\n",
      "Stopping. Best iteration:\n",
      "[46]\ttrain-auc:0.80486\teval-auc:0.69134\n",
      "\n",
      "\n",
      "+++++++++++++++++++++++++++++++++++++\n",
      "Estimator\n",
      "46\n",
      "\tScore 0.6913352027323347\n",
      "\n",
      "\n",
      "/////////////////////////////////////////\n",
      "Training with params: \n",
      "{'booster': 'gbtree', 'colsample_bytree': 0.8500000000000001, 'eta': 0.42500000000000004, 'eval_metric': 'auc', 'gamma': 0.25, 'max_depth': 2, 'min_child_weight': 6.0, 'n_estimators': 226.0, 'nthread': 4, 'objective': 'binary:logistic', 'reg_alpha': 0.30000000000000004, 'reg_lambda': 3.75, 'scale_pos_weight': 1.3, 'seed': 1, 'silent': 1, 'subsample': 0.8500000000000001, 'tree_method': 'exact'}\n",
      "[0]\ttrain-auc:0.61944\teval-auc:0.62023\n",
      "\n",
      "Multiple eval metrics have been passed: 'eval-auc' will be used for early stopping.\n",
      "\n",
      "\n",
      "Will train until eval-auc hasn't improved in 100 rounds.\n",
      "\n",
      "[100]\ttrain-auc:0.73951\teval-auc:0.68361\n",
      "\n",
      "Stopping. Best iteration:\n",
      "[38]\ttrain-auc:0.70398\teval-auc:0.68627\n",
      "\n",
      "\n",
      "+++++++++++++++++++++++++++++++++++++\n",
      "Estimator\n",
      "38\n",
      "\tScore 0.6862718779486225\n",
      "\n",
      "\n",
      "/////////////////////////////////////////\n",
      "Training with params: \n",
      "{'booster': 'gbtree', 'colsample_bytree': 0.65, 'eta': 0.17500000000000002, 'eval_metric': 'auc', 'gamma': 0.6000000000000001, 'max_depth': 1, 'min_child_weight': 4.0, 'n_estimators': 193.0, 'nthread': 4, 'objective': 'binary:logistic', 'reg_alpha': 0.45, 'reg_lambda': 3.1500000000000004, 'scale_pos_weight': 1.9000000000000001, 'seed': 1, 'silent': 1, 'subsample': 0.9500000000000001, 'tree_method': 'exact'}\n",
      "[0]\ttrain-auc:0.56905\teval-auc:0.55963\n",
      "\n",
      "Multiple eval metrics have been passed: 'eval-auc' will be used for early stopping.\n",
      "\n",
      "\n",
      "Will train until eval-auc hasn't improved in 100 rounds.\n",
      "\n",
      "[100]\ttrain-auc:0.67103\teval-auc:0.67182\n",
      "\n",
      "[200]\ttrain-auc:0.68280\teval-auc:0.67480\n",
      "\n",
      "[300]\ttrain-auc:0.69100\teval-auc:0.67291\n",
      "\n",
      "[400]\ttrain-auc:0.69700\teval-auc:0.67599\n",
      "\n",
      "[500]\ttrain-auc:0.70193\teval-auc:0.67686\n",
      "\n",
      "[600]\ttrain-auc:0.70656\teval-auc:0.67690\n",
      "\n",
      "Stopping. Best iteration:\n",
      "[539]\ttrain-auc:0.70341\teval-auc:0.67846\n",
      "\n",
      "\n",
      "+++++++++++++++++++++++++++++++++++++\n",
      "Estimator\n",
      "539\n",
      "\tScore 0.6784582774064083\n",
      "\n",
      "\n",
      "/////////////////////////////////////////\n",
      "Training with params: \n",
      "{'booster': 'gbtree', 'colsample_bytree': 0.9500000000000001, 'eta': 0.42500000000000004, 'eval_metric': 'auc', 'gamma': 0.65, 'max_depth': 2, 'min_child_weight': 3.0, 'n_estimators': 24.0, 'nthread': 4, 'objective': 'binary:logistic', 'reg_alpha': 0.45, 'reg_lambda': 3.1500000000000004, 'scale_pos_weight': 2.6, 'seed': 1, 'silent': 1, 'subsample': 0.9, 'tree_method': 'exact'}\n",
      "[0]\ttrain-auc:0.62018\teval-auc:0.62170\n",
      "\n",
      "Multiple eval metrics have been passed: 'eval-auc' will be used for early stopping.\n",
      "\n",
      "\n",
      "Will train until eval-auc hasn't improved in 100 rounds.\n",
      "\n",
      "[100]\ttrain-auc:0.74988\teval-auc:0.67636\n",
      "\n",
      "Stopping. Best iteration:\n",
      "[38]\ttrain-auc:0.71063\teval-auc:0.67973\n",
      "\n",
      "\n",
      "+++++++++++++++++++++++++++++++++++++\n",
      "Estimator\n",
      "38\n",
      "\tScore 0.679730753385517\n",
      "\n",
      "\n",
      "/////////////////////////////////////////\n",
      "Training with params: \n",
      "{'booster': 'gbtree', 'colsample_bytree': 0.55, 'eta': 0.325, 'eval_metric': 'auc', 'gamma': 0.5, 'max_depth': 3, 'min_child_weight': 5.0, 'n_estimators': 274.0, 'nthread': 4, 'objective': 'binary:logistic', 'reg_alpha': 0.4, 'reg_lambda': 4.1000000000000005, 'scale_pos_weight': 1.8, 'seed': 1, 'silent': 1, 'subsample': 0.55, 'tree_method': 'exact'}\n",
      "[0]\ttrain-auc:0.63172\teval-auc:0.61980\n",
      "\n",
      "Multiple eval metrics have been passed: 'eval-auc' will be used for early stopping.\n",
      "\n",
      "\n",
      "Will train until eval-auc hasn't improved in 100 rounds.\n",
      "\n",
      "[100]\ttrain-auc:0.77136\teval-auc:0.66917\n",
      "\n",
      "Stopping. Best iteration:\n",
      "[16]\ttrain-auc:0.69631\teval-auc:0.67652\n",
      "\n",
      "\n",
      "+++++++++++++++++++++++++++++++++++++\n",
      "Estimator\n",
      "16\n",
      "\tScore 0.6765233165441811\n",
      "\n",
      "\n",
      "/////////////////////////////////////////\n",
      "Training with params: \n",
      "{'booster': 'gbtree', 'colsample_bytree': 0.9500000000000001, 'eta': 0.47500000000000003, 'eval_metric': 'auc', 'gamma': 0.75, 'max_depth': 3, 'min_child_weight': 2.0, 'n_estimators': 61.0, 'nthread': 4, 'objective': 'binary:logistic', 'reg_alpha': 0.05, 'reg_lambda': 1.9000000000000001, 'scale_pos_weight': 3.25, 'seed': 1, 'silent': 1, 'subsample': 0.65, 'tree_method': 'exact'}\n",
      "[0]\ttrain-auc:0.63899\teval-auc:0.63237\n",
      "\n",
      "Multiple eval metrics have been passed: 'eval-auc' will be used for early stopping.\n",
      "\n",
      "\n",
      "Will train until eval-auc hasn't improved in 100 rounds.\n",
      "\n",
      "[100]\ttrain-auc:0.81079\teval-auc:0.64337\n",
      "\n",
      "Stopping. Best iteration:\n",
      "[7]\ttrain-auc:0.68633\teval-auc:0.66677\n",
      "\n",
      "\n",
      "+++++++++++++++++++++++++++++++++++++\n",
      "Estimator\n",
      "7\n",
      "\tScore 0.6667744229005808\n",
      "\n",
      "\n",
      "/////////////////////////////////////////\n",
      "Training with params: \n",
      "{'booster': 'gbtree', 'colsample_bytree': 1.0, 'eta': 0.025, 'eval_metric': 'auc', 'gamma': 0.35000000000000003, 'max_depth': 2, 'min_child_weight': 1.0, 'n_estimators': 160.0, 'nthread': 4, 'objective': 'binary:logistic', 'reg_alpha': 0.8, 'reg_lambda': 5.0, 'scale_pos_weight': 3.35, 'seed': 1, 'silent': 1, 'subsample': 0.8, 'tree_method': 'exact'}\n",
      "[0]\ttrain-auc:0.62018\teval-auc:0.62170\n",
      "\n",
      "Multiple eval metrics have been passed: 'eval-auc' will be used for early stopping.\n",
      "\n",
      "\n",
      "Will train until eval-auc hasn't improved in 100 rounds.\n",
      "\n",
      "[100]\ttrain-auc:0.66278\teval-auc:0.66803\n",
      "\n",
      "[200]\ttrain-auc:0.67821\teval-auc:0.67756\n",
      "\n",
      "[300]\ttrain-auc:0.68842\teval-auc:0.68032\n",
      "\n",
      "[400]\ttrain-auc:0.69611\teval-auc:0.68150\n",
      "\n",
      "[500]\ttrain-auc:0.70391\teval-auc:0.68268\n",
      "\n",
      "[600]\ttrain-auc:0.71035\teval-auc:0.68349\n",
      "\n",
      "[700]\ttrain-auc:0.71638\teval-auc:0.68430\n",
      "\n",
      "[800]\ttrain-auc:0.72155\teval-auc:0.68517\n",
      "\n",
      "[900]\ttrain-auc:0.72672\teval-auc:0.68554\n",
      "\n",
      "[1000]\ttrain-auc:0.73142\teval-auc:0.68501\n",
      "\n",
      "Stopping. Best iteration:\n",
      "[926]\ttrain-auc:0.72833\teval-auc:0.68614\n",
      "\n",
      "\n",
      "+++++++++++++++++++++++++++++++++++++\n",
      "Estimator\n",
      "926\n",
      "\tScore 0.6861389822850081\n",
      "\n",
      "\n",
      "/////////////////////////////////////////\n",
      "Training with params: \n",
      "{'booster': 'gbtree', 'colsample_bytree': 0.9500000000000001, 'eta': 0.025, 'eval_metric': 'auc', 'gamma': 0.0, 'max_depth': 2, 'min_child_weight': 1.0, 'n_estimators': 156.0, 'nthread': 4, 'objective': 'binary:logistic', 'reg_alpha': 0.25, 'reg_lambda': 3.85, 'scale_pos_weight': 2.35, 'seed': 1, 'silent': 1, 'subsample': 0.8, 'tree_method': 'exact'}\n",
      "[0]\ttrain-auc:0.62018\teval-auc:0.62170\n",
      "\n",
      "Multiple eval metrics have been passed: 'eval-auc' will be used for early stopping.\n",
      "\n",
      "\n",
      "Will train until eval-auc hasn't improved in 100 rounds.\n",
      "\n",
      "[100]\ttrain-auc:0.66297\teval-auc:0.66802\n",
      "\n",
      "[200]\ttrain-auc:0.67716\teval-auc:0.67696\n",
      "\n",
      "[300]\ttrain-auc:0.68760\teval-auc:0.67992\n",
      "\n",
      "[400]\ttrain-auc:0.69575\teval-auc:0.68135\n",
      "\n",
      "[500]\ttrain-auc:0.70337\teval-auc:0.68247\n",
      "\n",
      "[600]\ttrain-auc:0.71010\teval-auc:0.68357\n",
      "\n",
      "[700]\ttrain-auc:0.71577\teval-auc:0.68428\n",
      "\n",
      "[800]\ttrain-auc:0.72125\teval-auc:0.68473\n",
      "\n",
      "Stopping. Best iteration:\n",
      "[733]\ttrain-auc:0.71774\teval-auc:0.68520\n",
      "\n",
      "\n",
      "+++++++++++++++++++++++++++++++++++++\n",
      "Estimator\n",
      "733\n",
      "\tScore 0.6852047257697982\n",
      "\n",
      "\n",
      "/////////////////////////////////////////\n",
      "Training with params: \n",
      "{'booster': 'gbtree', 'colsample_bytree': 1.0, 'eta': 0.225, 'eval_metric': 'auc', 'gamma': 0.0, 'max_depth': 6, 'min_child_weight': 1.0, 'n_estimators': 182.0, 'nthread': 4, 'objective': 'binary:logistic', 'reg_alpha': 0.15000000000000002, 'reg_lambda': 4.55, 'scale_pos_weight': 1.0, 'seed': 1, 'silent': 1, 'subsample': 1.0, 'tree_method': 'exact'}\n",
      "[0]\ttrain-auc:0.63473\teval-auc:0.62215\n",
      "\n",
      "Multiple eval metrics have been passed: 'eval-auc' will be used for early stopping.\n",
      "\n",
      "\n",
      "Will train until eval-auc hasn't improved in 100 rounds.\n",
      "\n",
      "[100]\ttrain-auc:0.88812\teval-auc:0.66027\n",
      "\n",
      "Stopping. Best iteration:\n",
      "[10]\ttrain-auc:0.74582\teval-auc:0.67578\n",
      "\n",
      "\n",
      "+++++++++++++++++++++++++++++++++++++\n",
      "Estimator\n",
      "10\n",
      "\tScore 0.67577910082794\n",
      "\n",
      "\n",
      "/////////////////////////////////////////\n",
      "Training with params: \n",
      "{'booster': 'gbtree', 'colsample_bytree': 0.8500000000000001, 'eta': 0.07500000000000001, 'eval_metric': 'auc', 'gamma': 0.4, 'max_depth': 1, 'min_child_weight': 3.0, 'n_estimators': 122.0, 'nthread': 4, 'objective': 'binary:logistic', 'reg_alpha': 0.75, 'reg_lambda': 3.6, 'scale_pos_weight': 2.9000000000000004, 'seed': 1, 'silent': 1, 'subsample': 0.8, 'tree_method': 'exact'}\n",
      "[0]\ttrain-auc:0.56905\teval-auc:0.55963\n",
      "\n",
      "Multiple eval metrics have been passed: 'eval-auc' will be used for early stopping.\n",
      "\n",
      "\n",
      "Will train until eval-auc hasn't improved in 100 rounds.\n",
      "\n",
      "[100]\ttrain-auc:0.66027\teval-auc:0.66498\n",
      "\n",
      "[200]\ttrain-auc:0.67169\teval-auc:0.67323\n",
      "\n",
      "[300]\ttrain-auc:0.67817\teval-auc:0.67405\n",
      "\n",
      "Stopping. Best iteration:\n",
      "[243]\ttrain-auc:0.67454\teval-auc:0.67500\n",
      "\n",
      "\n",
      "+++++++++++++++++++++++++++++++++++++\n",
      "Estimator\n",
      "243\n",
      "\tScore 0.6749976743258868\n",
      "\n",
      "\n",
      "/////////////////////////////////////////\n",
      "Training with params: \n",
      "{'booster': 'gbtree', 'colsample_bytree': 0.75, 'eta': 0.325, 'eval_metric': 'auc', 'gamma': 0.65, 'max_depth': 5, 'min_child_weight': 6.0, 'n_estimators': 127.0, 'nthread': 4, 'objective': 'binary:logistic', 'reg_alpha': 0.65, 'reg_lambda': 4.6000000000000005, 'scale_pos_weight': 3.3000000000000003, 'seed': 1, 'silent': 1, 'subsample': 0.75, 'tree_method': 'exact'}\n",
      "[0]\ttrain-auc:0.66001\teval-auc:0.63364\n",
      "\n",
      "Multiple eval metrics have been passed: 'eval-auc' will be used for early stopping.\n",
      "\n",
      "\n",
      "Will train until eval-auc hasn't improved in 100 rounds.\n",
      "\n",
      "[100]\ttrain-auc:0.88761\teval-auc:0.64020\n",
      "\n",
      "Stopping. Best iteration:\n",
      "[12]\ttrain-auc:0.75073\teval-auc:0.68434\n",
      "\n",
      "\n",
      "+++++++++++++++++++++++++++++++++++++\n",
      "Estimator\n",
      "12\n",
      "\tScore 0.68434223291294\n",
      "\n",
      "\n",
      "/////////////////////////////////////////\n",
      "100%|██████████| 25/25 [06:51<00:00, 16.46s/trial, best loss: 0.30866479726766527]\n",
      "The best hyperparameters are:  \n",
      "\n",
      "{'colsample_bytree': 1.0, 'eta': 0.07500000000000001, 'gamma': 0.65, 'max_depth': 5, 'min_child_weight': 2.0, 'n_estimators': 192.0, 'reg_alpha': 0.8, 'reg_lambda': 4.25, 'scale_pos_weight': 3.45, 'subsample': 0.75}\n"
     ]
    }
   ],
   "source": [
    "trials = Trials()\n",
    "MAX_EVALS = 25\n",
    "\n",
    "best_hyperparams = optimize(trials, MAX_EVALS)\n",
    "print(\"The best hyperparameters are: \", \"\\n\")\n",
    "print(best_hyperparams)"
   ]
  },
  {
   "cell_type": "code",
   "execution_count": 63,
   "metadata": {},
   "outputs": [],
   "source": [
    "# sorted(hyperopt_params, reverse=True)"
   ]
  },
  {
   "cell_type": "code",
   "execution_count": 64,
   "metadata": {},
   "outputs": [],
   "source": [
    "# best_hyperparams"
   ]
  },
  {
   "cell_type": "code",
   "execution_count": 65,
   "metadata": {},
   "outputs": [],
   "source": [
    "# param = best_hyperparams\n",
    "# num_round = int(param['n_estimators'])\n",
    "# del param['n_estimators']"
   ]
  },
  {
   "cell_type": "code",
   "execution_count": 66,
   "metadata": {},
   "outputs": [],
   "source": [
    "best_till_now = (0.6893537283878427,\n",
    " {'booster': 'gbtree',\n",
    "  'colsample_bytree': 0.9500000000000001,\n",
    "  'eta': 0.2,\n",
    "  'eval_metric': 'auc',\n",
    "  'gamma': 0.9500000000000001,\n",
    "  'max_depth': 2,\n",
    "  'min_child_weight': 2.0,\n",
    "  'nthread': 4,\n",
    "  'objective': 'binary:logistic',\n",
    "  'reg_alpha': 0.35000000000000003,\n",
    "  'reg_lambda': 4.25,\n",
    "  'scale_pos_weight': 1.05,\n",
    "  'seed': 1,\n",
    "  'silent': 1,\n",
    "  'subsample': 0.75,\n",
    "  'tree_method': 'exact',\n",
    "  'validate_parameters': 1},\n",
    " 138)"
   ]
  },
  {
   "cell_type": "code",
   "execution_count": 67,
   "metadata": {},
   "outputs": [],
   "source": [
    "current_best = sorted(hyperopt_params, reverse=True)[0]"
   ]
  },
  {
   "cell_type": "code",
   "execution_count": 68,
   "metadata": {},
   "outputs": [
    {
     "name": "stdout",
     "output_type": "stream",
     "text": [
      "Found new best\n",
      "(0.6913352027323347, {'booster': 'gbtree', 'colsample_bytree': 1.0, 'eta': 0.07500000000000001, 'eval_metric': 'auc', 'gamma': 0.65, 'max_depth': 6, 'min_child_weight': 2.0, 'nthread': 4, 'objective': 'binary:logistic', 'reg_alpha': 0.8, 'reg_lambda': 4.25, 'scale_pos_weight': 3.45, 'seed': 1, 'silent': 1, 'subsample': 0.75, 'tree_method': 'exact', 'validate_parameters': 1}, 46)\n"
     ]
    },
    {
     "data": {
      "text/plain": [
       "{'booster': 'gbtree',\n",
       " 'colsample_bytree': 1.0,\n",
       " 'eta': 0.07500000000000001,\n",
       " 'eval_metric': 'auc',\n",
       " 'gamma': 0.65,\n",
       " 'max_depth': 6,\n",
       " 'min_child_weight': 2.0,\n",
       " 'nthread': 4,\n",
       " 'objective': 'binary:logistic',\n",
       " 'reg_alpha': 0.8,\n",
       " 'reg_lambda': 4.25,\n",
       " 'scale_pos_weight': 3.45,\n",
       " 'seed': 1,\n",
       " 'silent': 1,\n",
       " 'subsample': 0.75,\n",
       " 'tree_method': 'exact',\n",
       " 'validate_parameters': 1,\n",
       " 'n_estimators': 46}"
      ]
     },
     "execution_count": 68,
     "metadata": {},
     "output_type": "execute_result"
    }
   ],
   "source": [
    "if current_best[0] > best_till_now[0]:\n",
    "    print(\"Found new best\")\n",
    "    print(current_best)\n",
    "    param = current_best[1]\n",
    "    param['n_estimators'] = current_best[2]\n",
    "else:\n",
    "    print(\"using previous best\")\n",
    "    print(best_till_now)\n",
    "    param = best_till_now[1]\n",
    "    param['n_estimators'] = best_till_now[2]\n",
    "\n",
    "# del param['seed']\n",
    "param "
   ]
  },
  {
   "cell_type": "code",
   "execution_count": 69,
   "metadata": {},
   "outputs": [],
   "source": [
    "# param = {'colsample_bytree': 0.65,\n",
    "#  'eta': 0.025,\n",
    "#  'gamma': 0.8500000000000001,\n",
    "#  'max_depth': 4,\n",
    "#  'min_child_weight': 1.0,\n",
    "#  'n_estimators': 107.0,\n",
    "#  'reg_alpha': 1.0,\n",
    "#  'reg_lambda': 3.35,\n",
    "#  'scale_pos_weight': 2.1,\n",
    "#  'subsample': 0.9,\n",
    "#  'eval_metric': 'auc'\n",
    "# }\n",
    "\n",
    "# num_round = int(param['n_estimators'])\n",
    "# del param['n_estimators']\n",
    "\n",
    "\n",
    "# {'booster': 'gbtree',\n",
    "#   'colsample_bytree': 0.9500000000000001,\n",
    "#   'eta': 0.2,\n",
    "#   'eval_metric': 'auc',\n",
    "#   'gamma': 0.9500000000000001,\n",
    "#   'max_depth': 2,\n",
    "#   'min_child_weight': 2.0,\n",
    "#   'nthread': 4,\n",
    "#   'objective': 'binary:logistic',\n",
    "#   'reg_alpha': 0.35000000000000003,\n",
    "#   'reg_lambda': 4.25,\n",
    "#   'scale_pos_weight': 1.05,\n",
    "#   'seed': 1,\n",
    "#   'silent': 1,\n",
    "#   'subsample': 0.75,\n",
    "#   'tree_method': 'exact',\n",
    "#   'validate_parameters': 1,\n",
    "#   'n_estimators': 138\n",
    "# }"
   ]
  },
  {
   "cell_type": "code",
   "execution_count": 70,
   "metadata": {},
   "outputs": [],
   "source": [
    "# num_round = 10000\n",
    "# dtrain = xgb.DMatrix(X_train.values, label=y_train)\n",
    "# dvalid = xgb.DMatrix(X_valid.values, label=y_valid)\n",
    "# watchlist = [(dtrain, 'train'),(dvalid, 'eval')]\n",
    "# gbm_model = xgb.train(param, dtrain, num_round,\n",
    "#                       evals=watchlist,\n",
    "#                       verbose_eval=100,\n",
    "#                      early_stopping_rounds=100,\n",
    "#                      )\n",
    "# predictions = gbm_model.predict(dvalid,\n",
    "#                                 ntree_limit=gbm_model.best_iteration + 1)\n",
    "# #         predictions = (predictions >= 0.5).astype('int')\n",
    "# score = roc_auc_score(y_valid, predictions)\n",
    "# print(\"+++++++++++++++++++++++++++++++++++++\")\n",
    "# print(\"Estimator\",gbm_model.best_iteration)\n",
    "# print(\"\\tScore {0}\\n\\n\".format(score))\n"
   ]
  },
  {
   "cell_type": "code",
   "execution_count": null,
   "metadata": {},
   "outputs": [],
   "source": []
  },
  {
   "cell_type": "code",
   "execution_count": 71,
   "metadata": {},
   "outputs": [],
   "source": [
    "num_round = param['n_estimators']"
   ]
  },
  {
   "cell_type": "code",
   "execution_count": 72,
   "metadata": {},
   "outputs": [],
   "source": [
    "# model = xgb.XGBClassifier(random_state=RANDOM_SEED, seed=RANDOM_SEED, **param, n_estimators=num_round)\n",
    "# model = xgb.XGBClassifier(random_state=RANDOM_SEED, seed=RANDOM_SEED, **param)\n",
    "\n",
    "dtrain_full = xgb.DMatrix(X_all.values, label=y)\n",
    "\n",
    "model = xgb.train(param, dtrain_full, \n",
    "                  num_round,\n",
    "                  verbose_eval=100,\n",
    "                 )\n",
    "# predictions = gbm_model.predict(dvalid, ntree_limit=gbm_model.best_iteration + 1)"
   ]
  },
  {
   "cell_type": "code",
   "execution_count": null,
   "metadata": {},
   "outputs": [],
   "source": []
  },
  {
   "cell_type": "code",
   "execution_count": 73,
   "metadata": {},
   "outputs": [],
   "source": [
    "# model.fit(X_all.values, y)"
   ]
  },
  {
   "cell_type": "code",
   "execution_count": 74,
   "metadata": {},
   "outputs": [],
   "source": [
    "dxtest = xgb.DMatrix(XTest_all.values)"
   ]
  },
  {
   "cell_type": "code",
   "execution_count": 75,
   "metadata": {},
   "outputs": [],
   "source": [
    "# pred_test = model.predict_proba(XTest_all.values)[:,1]\n",
    "pred_test = model.predict(dxtest, ntree_limit=model.best_iteration + 1)"
   ]
  },
  {
   "cell_type": "code",
   "execution_count": 76,
   "metadata": {},
   "outputs": [
    {
     "name": "stdout",
     "output_type": "stream",
     "text": [
      "Saving submission file\n"
     ]
    }
   ],
   "source": [
    "test_ids = sample_sub.enrollee_id.values\n",
    "print(\"Saving submission file\")\n",
    "xgb_best_param_with_full_data_training = pd.DataFrame.from_dict({\n",
    "    'enrollee_id': test_ids,\n",
    "    'target': pred_test.reshape(-1)\n",
    "})\n",
    "xgb_best_param_with_full_data_training.to_csv(\"xgb_best_param_with_full_data_training.csv\", index=False)"
   ]
  },
  {
   "cell_type": "code",
   "execution_count": 77,
   "metadata": {},
   "outputs": [
    {
     "data": {
      "text/plain": [
       "<matplotlib.axes._subplots.AxesSubplot at 0x7f8989424750>"
      ]
     },
     "execution_count": 77,
     "metadata": {},
     "output_type": "execute_result"
    },
    {
     "data": {
      "image/png": "[encoded data removed]",
      "text/plain": [
       "<Figure size 432x288 with 1 Axes>"
      ]
     },
     "metadata": {
      "needs_background": "light"
     },
     "output_type": "display_data"
    }
   ],
   "source": [
    "sns.distplot(xgb_best_param_with_full_data_training.target)"
   ]
  },
  {
   "cell_type": "code",
   "execution_count": 78,
   "metadata": {},
   "outputs": [],
   "source": [
    "from xgboost import XGBClassifier"
   ]
  },
  {
   "cell_type": "code",
   "execution_count": null,
   "metadata": {},
   "outputs": [],
   "source": []
  },
  {
   "cell_type": "code",
   "execution_count": 79,
   "metadata": {},
   "outputs": [
    {
     "name": "stdout",
     "output_type": "stream",
     "text": [
      "(15021, 1)\n",
      "FOLD ....  1\n",
      "[0]\ttrain-auc:0.67749\teval-auc:0.66594\n",
      "Multiple eval metrics have been passed: 'eval-auc' will be used for early stopping.\n",
      "\n",
      "Will train until eval-auc hasn't improved in 100 rounds.\n",
      "[50]\ttrain-auc:0.80006\teval-auc:0.70193\n",
      "[100]\ttrain-auc:0.84434\teval-auc:0.69666\n",
      "Stopping. Best iteration:\n",
      "[42]\ttrain-auc:0.79094\teval-auc:0.70301\n",
      "\n",
      "trained....\n",
      "0.703\n",
      "(15021,)\n",
      "FOLD ....  2\n",
      "[0]\ttrain-auc:0.67732\teval-auc:0.62060\n",
      "Multiple eval metrics have been passed: 'eval-auc' will be used for early stopping.\n",
      "\n",
      "Will train until eval-auc hasn't improved in 100 rounds.\n",
      "[50]\ttrain-auc:0.80438\teval-auc:0.68173\n",
      "[100]\ttrain-auc:0.84853\teval-auc:0.67926\n",
      "Stopping. Best iteration:\n",
      "[27]\ttrain-auc:0.76977\teval-auc:0.68671\n",
      "\n",
      "trained....\n",
      "0.6867\n",
      "(15021,)\n",
      "FOLD ....  3\n",
      "[0]\ttrain-auc:0.67758\teval-auc:0.63326\n",
      "Multiple eval metrics have been passed: 'eval-auc' will be used for early stopping.\n",
      "\n",
      "Will train until eval-auc hasn't improved in 100 rounds.\n",
      "[50]\ttrain-auc:0.80480\teval-auc:0.64569\n",
      "[100]\ttrain-auc:0.84793\teval-auc:0.64149\n",
      "Stopping. Best iteration:\n",
      "[16]\ttrain-auc:0.74419\teval-auc:0.65689\n",
      "\n",
      "trained....\n",
      "0.6569\n",
      "(15021,)\n",
      "FOLD ....  4\n",
      "[0]\ttrain-auc:0.67917\teval-auc:0.63671\n",
      "Multiple eval metrics have been passed: 'eval-auc' will be used for early stopping.\n",
      "\n",
      "Will train until eval-auc hasn't improved in 100 rounds.\n",
      "[50]\ttrain-auc:0.80233\teval-auc:0.67163\n",
      "[100]\ttrain-auc:0.84510\teval-auc:0.67086\n",
      "Stopping. Best iteration:\n",
      "[34]\ttrain-auc:0.78248\teval-auc:0.67697\n",
      "\n",
      "trained....\n",
      "0.677\n",
      "(15021,)\n",
      "FOLD ....  5\n",
      "[0]\ttrain-auc:0.67705\teval-auc:0.61413\n",
      "Multiple eval metrics have been passed: 'eval-auc' will be used for early stopping.\n",
      "\n",
      "Will train until eval-auc hasn't improved in 100 rounds.\n",
      "[50]\ttrain-auc:0.79810\teval-auc:0.62290\n",
      "[100]\ttrain-auc:0.84724\teval-auc:0.62415\n",
      "Stopping. Best iteration:\n",
      "[3]\ttrain-auc:0.71336\teval-auc:0.63990\n",
      "\n",
      "trained....\n",
      "0.6399\n",
      "(15021,)\n",
      "FOLD ....  6\n",
      "[0]\ttrain-auc:0.67976\teval-auc:0.64264\n",
      "Multiple eval metrics have been passed: 'eval-auc' will be used for early stopping.\n",
      "\n",
      "Will train until eval-auc hasn't improved in 100 rounds.\n",
      "[50]\ttrain-auc:0.80382\teval-auc:0.66569\n",
      "[100]\ttrain-auc:0.85016\teval-auc:0.66405\n",
      "[150]\ttrain-auc:0.87668\teval-auc:0.66070\n",
      "Stopping. Best iteration:\n",
      "[68]\ttrain-auc:0.82322\teval-auc:0.66938\n",
      "\n",
      "trained....\n",
      "0.6694\n",
      "(15021,)\n",
      "FOLD ....  7\n",
      "[0]\ttrain-auc:0.67995\teval-auc:0.64405\n",
      "Multiple eval metrics have been passed: 'eval-auc' will be used for early stopping.\n",
      "\n",
      "Will train until eval-auc hasn't improved in 100 rounds.\n",
      "[50]\ttrain-auc:0.80226\teval-auc:0.65324\n",
      "[100]\ttrain-auc:0.84703\teval-auc:0.66600\n",
      "Stopping. Best iteration:\n",
      "[5]\ttrain-auc:0.71834\teval-auc:0.66951\n",
      "\n",
      "trained....\n",
      "0.6695\n",
      "(15021,)\n",
      "FOLD ....  8\n",
      "[0]\ttrain-auc:0.68151\teval-auc:0.59971\n",
      "Multiple eval metrics have been passed: 'eval-auc' will be used for early stopping.\n",
      "\n",
      "Will train until eval-auc hasn't improved in 100 rounds.\n",
      "[50]\ttrain-auc:0.80264\teval-auc:0.62271\n",
      "[100]\ttrain-auc:0.85005\teval-auc:0.62269\n",
      "Stopping. Best iteration:\n",
      "[18]\ttrain-auc:0.74945\teval-auc:0.63275\n",
      "\n",
      "trained....\n",
      "0.6328\n",
      "(15021,)\n",
      "FOLD ....  9\n",
      "[0]\ttrain-auc:0.67563\teval-auc:0.72459\n",
      "Multiple eval metrics have been passed: 'eval-auc' will be used for early stopping.\n",
      "\n",
      "Will train until eval-auc hasn't improved in 100 rounds.\n",
      "[50]\ttrain-auc:0.80012\teval-auc:0.75935\n",
      "[100]\ttrain-auc:0.84491\teval-auc:0.75307\n",
      "Stopping. Best iteration:\n",
      "[38]\ttrain-auc:0.78964\teval-auc:0.75980\n",
      "\n",
      "trained....\n",
      "0.7598\n",
      "(15021,)\n",
      "FOLD ....  10\n",
      "[0]\ttrain-auc:0.68464\teval-auc:0.54821\n",
      "Multiple eval metrics have been passed: 'eval-auc' will be used for early stopping.\n",
      "\n",
      "Will train until eval-auc hasn't improved in 100 rounds.\n",
      "[50]\ttrain-auc:0.80588\teval-auc:0.59838\n",
      "[100]\ttrain-auc:0.84747\teval-auc:0.60962\n",
      "[150]\ttrain-auc:0.87516\teval-auc:0.60482\n",
      "[200]\ttrain-auc:0.89778\teval-auc:0.60274\n",
      "Stopping. Best iteration:\n",
      "[111]\ttrain-auc:0.85366\teval-auc:0.60994\n",
      "\n",
      "trained....\n",
      "0.6099\n",
      "(15021,)\n",
      "FOLD ....  11\n",
      "[0]\ttrain-auc:0.67391\teval-auc:0.60891\n",
      "Multiple eval metrics have been passed: 'eval-auc' will be used for early stopping.\n",
      "\n",
      "Will train until eval-auc hasn't improved in 100 rounds.\n",
      "[50]\ttrain-auc:0.80330\teval-auc:0.63463\n",
      "[100]\ttrain-auc:0.84660\teval-auc:0.62177\n",
      "Stopping. Best iteration:\n",
      "[12]\ttrain-auc:0.73776\teval-auc:0.66278\n",
      "\n",
      "trained....\n",
      "0.6628\n",
      "(15021,)\n",
      "FOLD ....  12\n",
      "[0]\ttrain-auc:0.68170\teval-auc:0.61023\n",
      "Multiple eval metrics have been passed: 'eval-auc' will be used for early stopping.\n",
      "\n",
      "Will train until eval-auc hasn't improved in 100 rounds.\n",
      "[50]\ttrain-auc:0.80766\teval-auc:0.64843\n",
      "[100]\ttrain-auc:0.85377\teval-auc:0.64202\n",
      "[150]\ttrain-auc:0.88135\teval-auc:0.64141\n",
      "Stopping. Best iteration:\n",
      "[69]\ttrain-auc:0.82825\teval-auc:0.65386\n",
      "\n",
      "trained....\n",
      "0.6539\n",
      "(15021,)\n",
      "FOLD ....  13\n",
      "[0]\ttrain-auc:0.68447\teval-auc:0.61040\n",
      "Multiple eval metrics have been passed: 'eval-auc' will be used for early stopping.\n",
      "\n",
      "Will train until eval-auc hasn't improved in 100 rounds.\n",
      "[50]\ttrain-auc:0.80798\teval-auc:0.64643\n",
      "[100]\ttrain-auc:0.84806\teval-auc:0.65488\n",
      "[150]\ttrain-auc:0.87819\teval-auc:0.65897\n",
      "[200]\ttrain-auc:0.90136\teval-auc:0.66674\n",
      "[250]\ttrain-auc:0.91938\teval-auc:0.66546\n",
      "[300]\ttrain-auc:0.93323\teval-auc:0.66708\n",
      "[350]\ttrain-auc:0.94409\teval-auc:0.66879\n",
      "[400]\ttrain-auc:0.95439\teval-auc:0.66969\n",
      "[450]\ttrain-auc:0.96144\teval-auc:0.67044\n",
      "Stopping. Best iteration:\n",
      "[374]\ttrain-auc:0.94930\teval-auc:0.67226\n",
      "\n",
      "trained....\n",
      "0.6723\n",
      "(15021,)\n",
      "FOLD ....  14\n",
      "[0]\ttrain-auc:0.68593\teval-auc:0.60596\n",
      "Multiple eval metrics have been passed: 'eval-auc' will be used for early stopping.\n",
      "\n",
      "Will train until eval-auc hasn't improved in 100 rounds.\n",
      "[50]\ttrain-auc:0.80365\teval-auc:0.65629\n",
      "[100]\ttrain-auc:0.84738\teval-auc:0.66442\n",
      "[150]\ttrain-auc:0.87686\teval-auc:0.66189\n",
      "Stopping. Best iteration:\n",
      "[99]\ttrain-auc:0.84692\teval-auc:0.66529\n",
      "\n",
      "trained....\n",
      "0.6653\n",
      "(15021,)\n",
      "FOLD ....  15\n",
      "[0]\ttrain-auc:0.67314\teval-auc:0.65910\n",
      "Multiple eval metrics have been passed: 'eval-auc' will be used for early stopping.\n",
      "\n",
      "Will train until eval-auc hasn't improved in 100 rounds.\n",
      "[50]\ttrain-auc:0.80463\teval-auc:0.69234\n",
      "[100]\ttrain-auc:0.84575\teval-auc:0.68812\n",
      "Stopping. Best iteration:\n",
      "[7]\ttrain-auc:0.72445\teval-auc:0.70522\n",
      "\n",
      "trained....\n",
      "0.7052\n",
      "(15021,)\n",
      "FOLD ....  16\n",
      "[0]\ttrain-auc:0.67439\teval-auc:0.68266\n",
      "Multiple eval metrics have been passed: 'eval-auc' will be used for early stopping.\n",
      "\n",
      "Will train until eval-auc hasn't improved in 100 rounds.\n",
      "[50]\ttrain-auc:0.80109\teval-auc:0.68310\n",
      "[100]\ttrain-auc:0.84550\teval-auc:0.68554\n",
      "[150]\ttrain-auc:0.87872\teval-auc:0.68477\n",
      "Stopping. Best iteration:\n",
      "[69]\ttrain-auc:0.81917\teval-auc:0.69198\n",
      "\n",
      "trained....\n",
      "0.692\n",
      "(15021,)\n",
      "FOLD ....  17\n",
      "[0]\ttrain-auc:0.67634\teval-auc:0.65348\n",
      "Multiple eval metrics have been passed: 'eval-auc' will be used for early stopping.\n",
      "\n",
      "Will train until eval-auc hasn't improved in 100 rounds.\n",
      "[50]\ttrain-auc:0.80414\teval-auc:0.65152\n",
      "[100]\ttrain-auc:0.84227\teval-auc:0.63890\n",
      "Stopping. Best iteration:\n",
      "[9]\ttrain-auc:0.72894\teval-auc:0.67663\n",
      "\n",
      "trained....\n",
      "0.6766\n",
      "(15021,)\n",
      "FOLD ....  18\n",
      "[0]\ttrain-auc:0.67522\teval-auc:0.67410\n",
      "Multiple eval metrics have been passed: 'eval-auc' will be used for early stopping.\n",
      "\n",
      "Will train until eval-auc hasn't improved in 100 rounds.\n",
      "[50]\ttrain-auc:0.80794\teval-auc:0.70605\n",
      "[100]\ttrain-auc:0.84960\teval-auc:0.70061\n",
      "Stopping. Best iteration:\n",
      "[3]\ttrain-auc:0.70977\teval-auc:0.71142\n",
      "\n",
      "trained....\n",
      "0.7114\n",
      "(15021,)\n",
      "FOLD ....  19\n",
      "[0]\ttrain-auc:0.68076\teval-auc:0.58282\n",
      "Multiple eval metrics have been passed: 'eval-auc' will be used for early stopping.\n",
      "\n",
      "Will train until eval-auc hasn't improved in 100 rounds.\n",
      "[50]\ttrain-auc:0.79998\teval-auc:0.64690\n",
      "[100]\ttrain-auc:0.84123\teval-auc:0.65469\n",
      "Stopping. Best iteration:\n",
      "[26]\ttrain-auc:0.76576\teval-auc:0.65597\n",
      "\n",
      "trained....\n",
      "0.656\n",
      "(15021,)\n",
      "FOLD ....  20\n",
      "[0]\ttrain-auc:0.67672\teval-auc:0.64096\n",
      "Multiple eval metrics have been passed: 'eval-auc' will be used for early stopping.\n",
      "\n",
      "Will train until eval-auc hasn't improved in 100 rounds.\n",
      "[50]\ttrain-auc:0.80792\teval-auc:0.66165\n",
      "[100]\ttrain-auc:0.85157\teval-auc:0.65225\n",
      "Stopping. Best iteration:\n",
      "[24]\ttrain-auc:0.76765\teval-auc:0.67405\n",
      "\n",
      "trained....\n",
      "0.674\n",
      "(15021,)\n"
     ]
    }
   ],
   "source": [
    "dxtest = xgb.DMatrix(XTest_all.values)\n",
    "\n",
    "num_splits = 20\n",
    "skf = StratifiedKFold(n_splits= num_splits, random_state=42, shuffle=False)\n",
    "\n",
    "# y_test_pred = np.zeros((XTest_trans.shape[0], 1))\n",
    "y_test_pred = np.zeros((XTest_all.shape[0], 1))\n",
    "\n",
    "print(y_test_pred.shape)\n",
    "y_valid_scores = []\n",
    "\n",
    "X = X_all\n",
    "# clf = lgb_clf\n",
    "\n",
    "fold_cnt = 1\n",
    "for train_index, test_index in skf.split(X, y):\n",
    "    print(\"FOLD .... \",fold_cnt)\n",
    "    fold_cnt += 1\n",
    "    \n",
    "    #print(\"TRAIN:\", train_index, \"TEST:\", test_index)\n",
    "    X_train, X_valid = X.iloc[train_index].values, X.iloc[test_index].values\n",
    "    y_train, y_valid = y[train_index], y[test_index]\n",
    "    \n",
    "    dtrain = xgb.DMatrix(X_train, label=y_train)\n",
    "    dvalid = xgb.DMatrix(X_valid, label=y_valid)\n",
    "    \n",
    "    evallist = [(dtrain, 'train'), (dvalid, 'eval')]\n",
    "\n",
    "    # Training xgb model\n",
    "    num_round = 10000\n",
    "    bst = xgb.train(param, dtrain, num_round, evallist, verbose_eval=50, early_stopping_rounds=100)\n",
    "    \n",
    "    # Predict Validation\n",
    "#     y_pred_valid = bst.predict(dvalid, ntree_limit=bst.best_iteration + 1)\n",
    "    \n",
    "#     clf = clf.fit(X_train, y_train,\n",
    "#                           eval_set = [(X_train, y_train), \n",
    "#                                       (X_valid, y_valid)],\n",
    "#                           verbose = 1000,\n",
    "#                           eval_metric = 'auc',\n",
    "#                           early_stopping_rounds = 10)\n",
    "        \n",
    "#     clf.fit(X_train, y_train)\n",
    "    print(\"trained....\")\n",
    "    \n",
    "    #Predict validation data\n",
    "    y_pred_valid = bst.predict(dvalid, ntree_limit=bst.best_iteration+1)\n",
    "    print(np.round(roc_auc_score(y_valid, y_pred_valid),4))\n",
    "    y_valid_scores.append(roc_auc_score(y_valid, y_pred_valid))\n",
    "    \n",
    "    #Predict test data\n",
    "#     y_pred = clf.predict_proba(XTest_trans.values)[:,1]\n",
    "    y_pred = bst.predict(dxtest, ntree_limit=bst.best_iteration+1)\n",
    "    \n",
    "    print(y_pred.shape)\n",
    "    y_test_pred += y_pred.reshape(-1,1)"
   ]
  },
  {
   "cell_type": "code",
   "execution_count": 80,
   "metadata": {},
   "outputs": [
    {
     "data": {
      "text/plain": [
       "array([0.703 , 0.6867, 0.6569, 0.677 , 0.6399, 0.6694, 0.6695, 0.6328,\n",
       "       0.7598, 0.6099, 0.6628, 0.6539, 0.6723, 0.6653, 0.7052, 0.692 ,\n",
       "       0.6766, 0.7114, 0.656 , 0.674 ])"
      ]
     },
     "execution_count": 80,
     "metadata": {},
     "output_type": "execute_result"
    }
   ],
   "source": [
    "np.round(y_valid_scores,4)"
   ]
  },
  {
   "cell_type": "code",
   "execution_count": 81,
   "metadata": {},
   "outputs": [
    {
     "data": {
      "text/plain": [
       "0.6737166393637644"
      ]
     },
     "execution_count": 81,
     "metadata": {},
     "output_type": "execute_result"
    }
   ],
   "source": [
    "np.mean(y_valid_scores)"
   ]
  },
  {
   "cell_type": "code",
   "execution_count": 82,
   "metadata": {},
   "outputs": [
    {
     "data": {
      "text/plain": [
       "0.6713033440878389"
      ]
     },
     "execution_count": 82,
     "metadata": {},
     "output_type": "execute_result"
    }
   ],
   "source": [
    "0.6713033440878389"
   ]
  },
  {
   "cell_type": "code",
   "execution_count": 83,
   "metadata": {},
   "outputs": [],
   "source": [
    "y_test_pred /= num_splits"
   ]
  },
  {
   "cell_type": "code",
   "execution_count": 84,
   "metadata": {},
   "outputs": [
    {
     "data": {
      "text/plain": [
       "array([0.54161397, 0.26367144, 0.63486437, ..., 0.26488244, 0.44768284,\n",
       "       0.44622528])"
      ]
     },
     "execution_count": 84,
     "metadata": {},
     "output_type": "execute_result"
    }
   ],
   "source": [
    "y_test_pred.reshape(-1)"
   ]
  },
  {
   "cell_type": "code",
   "execution_count": 85,
   "metadata": {},
   "outputs": [
    {
     "name": "stdout",
     "output_type": "stream",
     "text": [
      "Saving submission file\n"
     ]
    }
   ],
   "source": [
    "test_ids = sample_sub.enrollee_id.values\n",
    "print(\"Saving submission file\")\n",
    "xgb_submission = pd.DataFrame.from_dict({\n",
    "    'enrollee_id': test_ids,\n",
    "    'target': y_test_pred.reshape(-1)\n",
    "})\n",
    "xgb_submission.to_csv(\"xgb_submission.csv\", index=False)"
   ]
  },
  {
   "cell_type": "code",
   "execution_count": 86,
   "metadata": {},
   "outputs": [
    {
     "data": {
      "text/plain": [
       "<matplotlib.axes._subplots.AxesSubplot at 0x7f899af21e50>"
      ]
     },
     "execution_count": 86,
     "metadata": {},
     "output_type": "execute_result"
    },
    {
     "data": {
      "image/png": "[encoded data removed]",
      "text/plain": [
       "<Figure size 432x288 with 1 Axes>"
      ]
     },
     "metadata": {
      "needs_background": "light"
     },
     "output_type": "display_data"
    }
   ],
   "source": [
    "sns.distplot(xgb_submission.target)"
   ]
  },
  {
   "cell_type": "code",
   "execution_count": 87,
   "metadata": {},
   "outputs": [
    {
     "data": {
      "text/plain": [
       "<matplotlib.axes._subplots.AxesSubplot at 0x7f899af8a850>"
      ]
     },
     "execution_count": 87,
     "metadata": {},
     "output_type": "execute_result"
    },
    {
     "data": {
      "image/png": "[encoded data removed]",
      "text/plain": [
       "<Figure size 432x288 with 1 Axes>"
      ]
     },
     "metadata": {
      "needs_background": "light"
     },
     "output_type": "display_data"
    }
   ],
   "source": [
    "sns.distplot(xgb_submission.target)\n",
    "# sns.distplot(mlp_submission.target)"
   ]
  },
  {
   "cell_type": "code",
   "execution_count": 88,
   "metadata": {},
   "outputs": [],
   "source": [
    "ensemble_pred = xgb_best_param_with_full_data_training.target + xgb_submission.target\n",
    "ensemble_pred /= 2"
   ]
  },
  {
   "cell_type": "code",
   "execution_count": 89,
   "metadata": {},
   "outputs": [
    {
     "name": "stdout",
     "output_type": "stream",
     "text": [
      "Saving submission file\n"
     ]
    }
   ],
   "source": [
    "test_ids = sample_sub.enrollee_id.values\n",
    "print(\"Saving submission file\")\n",
    "ensemble_xgb_mlp = pd.DataFrame.from_dict({\n",
    "    'enrollee_id': test_ids,\n",
    "    'target': ensemble_pred\n",
    "})\n",
    "ensemble_xgb_mlp.to_csv(\"ensemble_submission.csv\", index=False)"
   ]
  },
  {
   "cell_type": "code",
   "execution_count": 90,
   "metadata": {},
   "outputs": [
    {
     "data": {
      "text/plain": [
       "<matplotlib.axes._subplots.AxesSubplot at 0x7f899ad22b90>"
      ]
     },
     "execution_count": 90,
     "metadata": {},
     "output_type": "execute_result"
    },
    {
     "data": {
      "image/png": "[encoded data removed]",
      "text/plain": [
       "<Figure size 432x288 with 1 Axes>"
      ]
     },
     "metadata": {
      "needs_background": "light"
     },
     "output_type": "display_data"
    }
   ],
   "source": [
    "sns.distplot(ensemble_xgb_mlp.target)"
   ]
  },
  {
   "cell_type": "code",
   "execution_count": null,
   "metadata": {},
   "outputs": [],
   "source": []
  },
  {
   "cell_type": "code",
   "execution_count": null,
   "metadata": {},
   "outputs": [],
   "source": []
  }
 ],
 "metadata": {
  "kernelspec": {
   "display_name": "Python 3",
   "language": "python",
   "name": "python3"
  },
  "language_info": {
   "codemirror_mode": {
    "name": "ipython",
    "version": 3
   },
   "file_extension": ".py",
   "mimetype": "text/x-python",
   "name": "python",
   "nbconvert_exporter": "python",
   "pygments_lexer": "ipython3",
   "version": "3.7.6"
  }
 },
 "nbformat": 4,
 "nbformat_minor": 4
}
