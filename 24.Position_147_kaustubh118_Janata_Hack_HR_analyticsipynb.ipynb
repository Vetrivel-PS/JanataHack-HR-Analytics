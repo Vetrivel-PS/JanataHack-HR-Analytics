{
  "nbformat": 4,
  "nbformat_minor": 0,
  "metadata": {
    "colab": {
      "name": "HR Analytics Hcak.ipynb",
      "provenance": []
    },
    "kernelspec": {
      "name": "python3",
      "display_name": "Python 3"
    }
  },
  "cells": [
    {
      "cell_type": "code",
      "metadata": {
        "id": "kdKOxsfjiCHT",
        "colab_type": "code",
        "colab": {}
      },
      "source": [
        "import pandas as pd\n",
        "import numpy as np\n",
        "import matplotlib.pyplot as plt\n",
        "import seaborn as sns"
      ],
      "execution_count": 0,
      "outputs": []
    },
    {
      "cell_type": "code",
      "metadata": {
        "id": "2t-CMlVDmegH",
        "colab_type": "code",
        "colab": {}
      },
      "source": [
        "HR_train = pd.read_csv('train_jqd04QH.csv')\n",
        "HR_test = pd.read_csv('test_KaymcHn.csv')"
      ],
      "execution_count": 0,
      "outputs": []
    },
    {
      "cell_type": "code",
      "metadata": {
        "id": "9BAwqdGbsnQj",
        "colab_type": "code",
        "colab": {
          "base_uri": "https://localhost:8080/",
          "height": 268
        },
        "outputId": "e2d3dc76-5e2d-440d-9f84-1f0ea98c09bf"
      },
      "source": [
        "HR_train.isnull().sum()"
      ],
      "execution_count": 10,
      "outputs": [
        {
          "output_type": "execute_result",
          "data": {
            "text/plain": [
              "enrollee_id                  0\n",
              "city                         0\n",
              "city_development_index       0\n",
              "gender                    4098\n",
              "relevent_experience          0\n",
              "enrolled_university        342\n",
              "education_level            457\n",
              "major_discipline          2838\n",
              "experience                  59\n",
              "company_size              4779\n",
              "company_type              5039\n",
              "last_new_job               367\n",
              "training_hours               0\n",
              "target                       0\n",
              "dtype: int64"
            ]
          },
          "metadata": {
            "tags": []
          },
          "execution_count": 10
        }
      ]
    },
    {
      "cell_type": "code",
      "metadata": {
        "id": "OxFDZfCEs2TS",
        "colab_type": "code",
        "colab": {
          "base_uri": "https://localhost:8080/",
          "height": 50
        },
        "outputId": "26852848-c69c-4c61-b451-9d9767e3b21d"
      },
      "source": [
        "print(HR_train.shape)\n",
        "print(HR_test.shape)"
      ],
      "execution_count": 11,
      "outputs": [
        {
          "output_type": "stream",
          "text": [
            "(18359, 14)\n",
            "(15021, 13)\n"
          ],
          "name": "stdout"
        }
      ]
    },
    {
      "cell_type": "code",
      "metadata": {
        "id": "vKGr5x0QuiO1",
        "colab_type": "code",
        "colab": {
          "base_uri": "https://localhost:8080/",
          "height": 368
        },
        "outputId": "aeb033e5-1569-4faf-87f8-87ef3b114acf"
      },
      "source": [
        "HR_train.info()"
      ],
      "execution_count": 12,
      "outputs": [
        {
          "output_type": "stream",
          "text": [
            "<class 'pandas.core.frame.DataFrame'>\n",
            "RangeIndex: 18359 entries, 0 to 18358\n",
            "Data columns (total 14 columns):\n",
            " #   Column                  Non-Null Count  Dtype  \n",
            "---  ------                  --------------  -----  \n",
            " 0   enrollee_id             18359 non-null  int64  \n",
            " 1   city                    18359 non-null  object \n",
            " 2   city_development_index  18359 non-null  float64\n",
            " 3   gender                  14261 non-null  object \n",
            " 4   relevent_experience     18359 non-null  object \n",
            " 5   enrolled_university     18017 non-null  object \n",
            " 6   education_level         17902 non-null  object \n",
            " 7   major_discipline        15521 non-null  object \n",
            " 8   experience              18300 non-null  object \n",
            " 9   company_size            13580 non-null  object \n",
            " 10  company_type            13320 non-null  object \n",
            " 11  last_new_job            17992 non-null  object \n",
            " 12  training_hours          18359 non-null  int64  \n",
            " 13  target                  18359 non-null  int64  \n",
            "dtypes: float64(1), int64(3), object(10)\n",
            "memory usage: 2.0+ MB\n"
          ],
          "name": "stdout"
        }
      ]
    },
    {
      "cell_type": "code",
      "metadata": {
        "id": "mRkq6CcI1_zO",
        "colab_type": "code",
        "colab": {}
      },
      "source": [
        "#Below Function gives missing values and their Percentage  from each column. \n",
        "\n",
        "def missing_values_table(df):\n",
        "        mis_val = df.isnull().sum()\n",
        "        mis_val_percent = 100 * df.isnull().sum() / len(df)\n",
        "        mis_val_table = pd.concat([mis_val, mis_val_percent], axis=1)\n",
        "        mis_val_table_ren_columns = mis_val_table.rename(\n",
        "        columns = {0 : 'Missing Values', 1 : '% of Total Values'})\n",
        "        mis_val_table_ren_columns = mis_val_table_ren_columns[\n",
        "            mis_val_table_ren_columns.iloc[:,1] != 0].sort_values(\n",
        "        '% of Total Values', ascending=False).round(1)\n",
        "        print (\"Your selected dataframe has \"+ str(df.shape[0]) +\" rows and \" + str(df.shape[1]) + \" columns.\\n\"      \n",
        "            \"There are \" + str(mis_val_table_ren_columns.shape[0]) +\n",
        "              \" columns that have missing values.\")\n",
        "        return mis_val_table_ren_columns"
      ],
      "execution_count": 0,
      "outputs": []
    },
    {
      "cell_type": "code",
      "metadata": {
        "id": "vmeDXaUGrI-S",
        "colab_type": "code",
        "colab": {
          "base_uri": "https://localhost:8080/",
          "height": 81
        },
        "outputId": "2d717b7d-4b8d-4d18-ea6a-78538b01c72d"
      },
      "source": [
        "missing_values_table(HR_train)"
      ],
      "execution_count": 27,
      "outputs": [
        {
          "output_type": "stream",
          "text": [
            "Your selected dataframe has 18359 rows and 14 columns.\n",
            "There are 0 columns that have missing values.\n"
          ],
          "name": "stdout"
        },
        {
          "output_type": "execute_result",
          "data": {
            "text/html": [
              "<div>\n",
              "<style scoped>\n",
              "    .dataframe tbody tr th:only-of-type {\n",
              "        vertical-align: middle;\n",
              "    }\n",
              "\n",
              "    .dataframe tbody tr th {\n",
              "        vertical-align: top;\n",
              "    }\n",
              "\n",
              "    .dataframe thead th {\n",
              "        text-align: right;\n",
              "    }\n",
              "</style>\n",
              "<table border=\"1\" class=\"dataframe\">\n",
              "  <thead>\n",
              "    <tr style=\"text-align: right;\">\n",
              "      <th></th>\n",
              "      <th>Missing Values</th>\n",
              "      <th>% of Total Values</th>\n",
              "    </tr>\n",
              "  </thead>\n",
              "  <tbody>\n",
              "  </tbody>\n",
              "</table>\n",
              "</div>"
            ],
            "text/plain": [
              "Empty DataFrame\n",
              "Columns: [Missing Values, % of Total Values]\n",
              "Index: []"
            ]
          },
          "metadata": {
            "tags": []
          },
          "execution_count": 27
        }
      ]
    },
    {
      "cell_type": "code",
      "metadata": {
        "id": "LTbEgOO42Ckt",
        "colab_type": "code",
        "colab": {
          "base_uri": "https://localhost:8080/",
          "height": 81
        },
        "outputId": "d12b138a-cd5b-40a9-9e9b-29db7476def3"
      },
      "source": [
        "missing_values_table(HR_test)"
      ],
      "execution_count": 28,
      "outputs": [
        {
          "output_type": "stream",
          "text": [
            "Your selected dataframe has 15021 rows and 13 columns.\n",
            "There are 0 columns that have missing values.\n"
          ],
          "name": "stdout"
        },
        {
          "output_type": "execute_result",
          "data": {
            "text/html": [
              "<div>\n",
              "<style scoped>\n",
              "    .dataframe tbody tr th:only-of-type {\n",
              "        vertical-align: middle;\n",
              "    }\n",
              "\n",
              "    .dataframe tbody tr th {\n",
              "        vertical-align: top;\n",
              "    }\n",
              "\n",
              "    .dataframe thead th {\n",
              "        text-align: right;\n",
              "    }\n",
              "</style>\n",
              "<table border=\"1\" class=\"dataframe\">\n",
              "  <thead>\n",
              "    <tr style=\"text-align: right;\">\n",
              "      <th></th>\n",
              "      <th>Missing Values</th>\n",
              "      <th>% of Total Values</th>\n",
              "    </tr>\n",
              "  </thead>\n",
              "  <tbody>\n",
              "  </tbody>\n",
              "</table>\n",
              "</div>"
            ],
            "text/plain": [
              "Empty DataFrame\n",
              "Columns: [Missing Values, % of Total Values]\n",
              "Index: []"
            ]
          },
          "metadata": {
            "tags": []
          },
          "execution_count": 28
        }
      ]
    },
    {
      "cell_type": "markdown",
      "metadata": {
        "id": "YCvCZiSci09j",
        "colab_type": "text"
      },
      "source": [
        "#### **Data Type Conversion**"
      ]
    },
    {
      "cell_type": "code",
      "metadata": {
        "id": "Gn4ETnGEzv0_",
        "colab_type": "code",
        "colab": {}
      },
      "source": [
        "cat_cols = ['gender','city', 'education_level','relevent_experience', 'enrolled_university',\n",
        "       'major_discipline','company_size','company_type','target']\n",
        "\n",
        "cat_col = ['gender','city', 'education_level','relevent_experience', 'enrolled_university',\n",
        "       'major_discipline','company_size','company_type']\n",
        "\n",
        "num_col = ['experience','last_new_job'] "
      ],
      "execution_count": 0,
      "outputs": []
    },
    {
      "cell_type": "code",
      "metadata": {
        "id": "B_Ys90AY2REw",
        "colab_type": "code",
        "colab": {}
      },
      "source": [
        "HR_train[cat_cols] = HR_train[cat_cols].apply(lambda x: x.astype('category'))\n",
        "HR_test[cat_col] = HR_test[cat_col].apply(lambda x: x.astype('category'))"
      ],
      "execution_count": 0,
      "outputs": []
    },
    {
      "cell_type": "code",
      "metadata": {
        "id": "yLvPDfPiiPl3",
        "colab_type": "code",
        "colab": {}
      },
      "source": [
        "HR_train['experience'] = pd.to_numeric(HR_train['experience'],errors='coerce')\n",
        "HR_train['last_new_job'] = pd.to_numeric(HR_train['last_new_job'],errors='coerce')\n",
        "#### Test \n",
        "HR_test['experience'] = pd.to_numeric(HR_test['experience'],errors='coerce')\n",
        "HR_test['last_new_job'] = pd.to_numeric(HR_test['last_new_job'],errors='coerce')\n"
      ],
      "execution_count": 0,
      "outputs": []
    },
    {
      "cell_type": "code",
      "metadata": {
        "id": "8MRwM14c23xf",
        "colab_type": "code",
        "colab": {
          "base_uri": "https://localhost:8080/",
          "height": 268
        },
        "outputId": "6d2df7fd-c217-42f3-b313-e0d11aee1331"
      },
      "source": [
        "HR_train.dtypes"
      ],
      "execution_count": 19,
      "outputs": [
        {
          "output_type": "execute_result",
          "data": {
            "text/plain": [
              "enrollee_id                  int64\n",
              "city                      category\n",
              "city_development_index     float64\n",
              "gender                    category\n",
              "relevent_experience       category\n",
              "enrolled_university       category\n",
              "education_level           category\n",
              "major_discipline          category\n",
              "experience                 float64\n",
              "company_size              category\n",
              "company_type              category\n",
              "last_new_job               float64\n",
              "training_hours               int64\n",
              "target                    category\n",
              "dtype: object"
            ]
          },
          "metadata": {
            "tags": []
          },
          "execution_count": 19
        }
      ]
    },
    {
      "cell_type": "markdown",
      "metadata": {
        "id": "bCtgVK83W_D-",
        "colab_type": "text"
      },
      "source": [
        "#### **Test Data Missing Values Imputation**"
      ]
    },
    {
      "cell_type": "markdown",
      "metadata": {
        "id": "ujejBOEPtgCK",
        "colab_type": "text"
      },
      "source": [
        "#### Train Data"
      ]
    },
    {
      "cell_type": "code",
      "metadata": {
        "id": "leuu8ki_tTtI",
        "colab_type": "code",
        "colab": {}
      },
      "source": [
        "HR_train['company_size'].fillna(HR_train['company_size'].value_counts().index[0],inplace=True)\n",
        "HR_train['company_type'].fillna(HR_train['company_type'].value_counts().index[0],inplace=True)\n",
        "HR_train['gender'].fillna(HR_train['gender'].value_counts().index[0],inplace=True)\n",
        "HR_train['major_discipline'].fillna(HR_train['major_discipline'].value_counts().index[0],inplace=True)\n",
        "HR_train['education_level'].fillna(HR_train['education_level'].value_counts().index[0],inplace=True)\n",
        "HR_train['enrolled_university'].fillna(HR_train['enrolled_university'].value_counts().index[0],inplace=True)\n",
        "## Num data\n",
        "HR_train.experience.fillna(HR_train['experience'].mean(),inplace=True)\n",
        "HR_train.last_new_job.fillna(HR_train['last_new_job'].mean(),inplace=True)"
      ],
      "execution_count": 0,
      "outputs": []
    },
    {
      "cell_type": "markdown",
      "metadata": {
        "id": "LgTE3WwQtj10",
        "colab_type": "text"
      },
      "source": [
        "#### Test Data"
      ]
    },
    {
      "cell_type": "code",
      "metadata": {
        "id": "E4CKE_0JlbMU",
        "colab_type": "code",
        "colab": {}
      },
      "source": [
        "HR_test['company_size'].fillna(HR_test['company_size'].value_counts().index[0],inplace=True)\n",
        "HR_test['company_type'].fillna(HR_test['company_type'].value_counts().index[0],inplace=True)\n",
        "HR_test['gender'].fillna(HR_test['gender'].value_counts().index[0],inplace=True)\n",
        "HR_test['major_discipline'].fillna(HR_test['major_discipline'].value_counts().index[0],inplace=True)\n",
        "HR_test['education_level'].fillna(HR_test['education_level'].value_counts().index[0],inplace=True)\n",
        "HR_test['enrolled_university'].fillna(HR_test['enrolled_university'].value_counts().index[0],inplace=True)\n",
        "## Num data \n",
        "HR_test.experience.fillna(HR_test['experience'].mean(),inplace=True)\n",
        "HR_test.last_new_job.fillna(HR_test['last_new_job'].mean(),inplace=True)"
      ],
      "execution_count": 0,
      "outputs": []
    },
    {
      "cell_type": "code",
      "metadata": {
        "id": "6Bb3jForIudf",
        "colab_type": "code",
        "colab": {
          "base_uri": "https://localhost:8080/",
          "height": 134
        },
        "outputId": "754cbe29-c327-4765-bd41-9ecff968f927"
      },
      "source": [
        "HR_test.major_discipline.value_counts()"
      ],
      "execution_count": 18,
      "outputs": [
        {
          "output_type": "execute_result",
          "data": {
            "text/plain": [
              "STEM               11117\n",
              "Humanities           524\n",
              "Other                335\n",
              "Business Degree      278\n",
              "Arts                 193\n",
              "No Major             181\n",
              "Name: major_discipline, dtype: int64"
            ]
          },
          "metadata": {
            "tags": []
          },
          "execution_count": 18
        }
      ]
    },
    {
      "cell_type": "code",
      "metadata": {
        "id": "4JXbHWztKHD9",
        "colab_type": "code",
        "colab": {
          "base_uri": "https://localhost:8080/",
          "height": 286
        },
        "outputId": "d9acceac-c4fc-4fc8-fc56-26dff88a2b13"
      },
      "source": [
        "HR_train.describe()\n"
      ],
      "execution_count": 35,
      "outputs": [
        {
          "output_type": "execute_result",
          "data": {
            "text/html": [
              "<div>\n",
              "<style scoped>\n",
              "    .dataframe tbody tr th:only-of-type {\n",
              "        vertical-align: middle;\n",
              "    }\n",
              "\n",
              "    .dataframe tbody tr th {\n",
              "        vertical-align: top;\n",
              "    }\n",
              "\n",
              "    .dataframe thead th {\n",
              "        text-align: right;\n",
              "    }\n",
              "</style>\n",
              "<table border=\"1\" class=\"dataframe\">\n",
              "  <thead>\n",
              "    <tr style=\"text-align: right;\">\n",
              "      <th></th>\n",
              "      <th>enrollee_id</th>\n",
              "      <th>city_development_index</th>\n",
              "      <th>experience</th>\n",
              "      <th>last_new_job</th>\n",
              "      <th>training_hours</th>\n",
              "    </tr>\n",
              "  </thead>\n",
              "  <tbody>\n",
              "    <tr>\n",
              "      <th>count</th>\n",
              "      <td>18359.000000</td>\n",
              "      <td>18359.000000</td>\n",
              "      <td>14447.000000</td>\n",
              "      <td>12467.000000</td>\n",
              "      <td>18359.000000</td>\n",
              "    </tr>\n",
              "    <tr>\n",
              "      <th>mean</th>\n",
              "      <td>16729.360096</td>\n",
              "      <td>0.847140</td>\n",
              "      <td>8.409497</td>\n",
              "      <td>1.641935</td>\n",
              "      <td>65.899014</td>\n",
              "    </tr>\n",
              "    <tr>\n",
              "      <th>std</th>\n",
              "      <td>9643.749725</td>\n",
              "      <td>0.110189</td>\n",
              "      <td>4.968455</td>\n",
              "      <td>0.945643</td>\n",
              "      <td>60.885300</td>\n",
              "    </tr>\n",
              "    <tr>\n",
              "      <th>min</th>\n",
              "      <td>1.000000</td>\n",
              "      <td>0.448000</td>\n",
              "      <td>1.000000</td>\n",
              "      <td>1.000000</td>\n",
              "      <td>1.000000</td>\n",
              "    </tr>\n",
              "    <tr>\n",
              "      <th>25%</th>\n",
              "      <td>8378.500000</td>\n",
              "      <td>0.796000</td>\n",
              "      <td>4.000000</td>\n",
              "      <td>1.000000</td>\n",
              "      <td>23.000000</td>\n",
              "    </tr>\n",
              "    <tr>\n",
              "      <th>50%</th>\n",
              "      <td>16706.000000</td>\n",
              "      <td>0.910000</td>\n",
              "      <td>7.000000</td>\n",
              "      <td>1.000000</td>\n",
              "      <td>47.000000</td>\n",
              "    </tr>\n",
              "    <tr>\n",
              "      <th>75%</th>\n",
              "      <td>25148.500000</td>\n",
              "      <td>0.920000</td>\n",
              "      <td>12.000000</td>\n",
              "      <td>2.000000</td>\n",
              "      <td>89.000000</td>\n",
              "    </tr>\n",
              "    <tr>\n",
              "      <th>max</th>\n",
              "      <td>33380.000000</td>\n",
              "      <td>0.949000</td>\n",
              "      <td>20.000000</td>\n",
              "      <td>4.000000</td>\n",
              "      <td>336.000000</td>\n",
              "    </tr>\n",
              "  </tbody>\n",
              "</table>\n",
              "</div>"
            ],
            "text/plain": [
              "        enrollee_id  city_development_index  ...  last_new_job  training_hours\n",
              "count  18359.000000            18359.000000  ...  12467.000000    18359.000000\n",
              "mean   16729.360096                0.847140  ...      1.641935       65.899014\n",
              "std     9643.749725                0.110189  ...      0.945643       60.885300\n",
              "min        1.000000                0.448000  ...      1.000000        1.000000\n",
              "25%     8378.500000                0.796000  ...      1.000000       23.000000\n",
              "50%    16706.000000                0.910000  ...      1.000000       47.000000\n",
              "75%    25148.500000                0.920000  ...      2.000000       89.000000\n",
              "max    33380.000000                0.949000  ...      4.000000      336.000000\n",
              "\n",
              "[8 rows x 5 columns]"
            ]
          },
          "metadata": {
            "tags": []
          },
          "execution_count": 35
        }
      ]
    },
    {
      "cell_type": "markdown",
      "metadata": {
        "id": "LlUc32bkwaQc",
        "colab_type": "text"
      },
      "source": [
        "#### **Feature Details**\n",
        "\n",
        "Variable - Description\n",
        "\n",
        "\n",
        "\n",
        "\n",
        "* enrollee_id- Unique ID for enrollee\n",
        "* city - City code\n",
        "* city_development_index - Developement index of the city (scaled)\n",
        "* gender - Gender\n",
        "* relevent_experience - Relevent experience\n",
        "* enrolled_university - Type of University course enrolled if any\n",
        "* education_level - Education level\n",
        "* major_discipline - Major discipline\n",
        "* experience Total - experience in years\n",
        "* company_size - No of employees in current employer's company\n",
        "* company_type - Type of current employer\n",
        "* last_new_job - Difference in years between previous job and current job\n",
        "* training_hours - training hours completed\n",
        "* target 0 – Not looking for job change, 1 – Looking for a job change"
      ]
    },
    {
      "cell_type": "code",
      "metadata": {
        "id": "zgnnlngJun7j",
        "colab_type": "code",
        "colab": {
          "base_uri": "https://localhost:8080/",
          "height": 114
        },
        "outputId": "cc988176-fc20-4f11-c0a0-077caf024315"
      },
      "source": [
        "HR_train.head(1)"
      ],
      "execution_count": 22,
      "outputs": [
        {
          "output_type": "execute_result",
          "data": {
            "text/html": [
              "<div>\n",
              "<style scoped>\n",
              "    .dataframe tbody tr th:only-of-type {\n",
              "        vertical-align: middle;\n",
              "    }\n",
              "\n",
              "    .dataframe tbody tr th {\n",
              "        vertical-align: top;\n",
              "    }\n",
              "\n",
              "    .dataframe thead th {\n",
              "        text-align: right;\n",
              "    }\n",
              "</style>\n",
              "<table border=\"1\" class=\"dataframe\">\n",
              "  <thead>\n",
              "    <tr style=\"text-align: right;\">\n",
              "      <th></th>\n",
              "      <th>enrollee_id</th>\n",
              "      <th>city</th>\n",
              "      <th>city_development_index</th>\n",
              "      <th>gender</th>\n",
              "      <th>relevent_experience</th>\n",
              "      <th>enrolled_university</th>\n",
              "      <th>education_level</th>\n",
              "      <th>major_discipline</th>\n",
              "      <th>experience</th>\n",
              "      <th>company_size</th>\n",
              "      <th>company_type</th>\n",
              "      <th>last_new_job</th>\n",
              "      <th>training_hours</th>\n",
              "      <th>target</th>\n",
              "    </tr>\n",
              "  </thead>\n",
              "  <tbody>\n",
              "    <tr>\n",
              "      <th>0</th>\n",
              "      <td>23798</td>\n",
              "      <td>city_149</td>\n",
              "      <td>0.689</td>\n",
              "      <td>Male</td>\n",
              "      <td>Has relevent experience</td>\n",
              "      <td>no_enrollment</td>\n",
              "      <td>Graduate</td>\n",
              "      <td>STEM</td>\n",
              "      <td>3.0</td>\n",
              "      <td>100-500</td>\n",
              "      <td>Pvt Ltd</td>\n",
              "      <td>1.0</td>\n",
              "      <td>106</td>\n",
              "      <td>0</td>\n",
              "    </tr>\n",
              "  </tbody>\n",
              "</table>\n",
              "</div>"
            ],
            "text/plain": [
              "   enrollee_id      city  ...  training_hours target\n",
              "0        23798  city_149  ...             106      0\n",
              "\n",
              "[1 rows x 14 columns]"
            ]
          },
          "metadata": {
            "tags": []
          },
          "execution_count": 22
        }
      ]
    },
    {
      "cell_type": "code",
      "metadata": {
        "id": "1EbNG6RUwP3E",
        "colab_type": "code",
        "colab": {
          "base_uri": "https://localhost:8080/",
          "height": 100
        },
        "outputId": "8b382c65-2a31-4d25-c2c0-d870d9752715"
      },
      "source": [
        "HR_train.columns"
      ],
      "execution_count": 23,
      "outputs": [
        {
          "output_type": "execute_result",
          "data": {
            "text/plain": [
              "Index(['enrollee_id', 'city', 'city_development_index', 'gender',\n",
              "       'relevent_experience', 'enrolled_university', 'education_level',\n",
              "       'major_discipline', 'experience', 'company_size', 'company_type',\n",
              "       'last_new_job', 'training_hours', 'target'],\n",
              "      dtype='object')"
            ]
          },
          "metadata": {
            "tags": []
          },
          "execution_count": 23
        }
      ]
    },
    {
      "cell_type": "markdown",
      "metadata": {
        "id": "lHLtXDdWnEft",
        "colab_type": "text"
      },
      "source": [
        "#### **EDA and Visualization**"
      ]
    },
    {
      "cell_type": "code",
      "metadata": {
        "id": "axoDh5ev3Bth",
        "colab_type": "code",
        "colab": {
          "base_uri": "https://localhost:8080/",
          "height": 487
        },
        "outputId": "c29c0fad-4e8a-446b-ce40-74ba07254f77"
      },
      "source": [
        "labels = 'Looking_For_Job', 'Not_Looking_Job'\n",
        "sizes = [HR_train.target[HR_train['target']==1].count(),HR_train.target[HR_train['target']==0].count()]\n",
        "explode = (0, 0.1)\n",
        "fig1, ax1 = plt.subplots(figsize=(10, 8))\n",
        "ax1.pie(sizes, explode=explode, labels=labels, autopct='%1.1f%%',\n",
        "        shadow=True, startangle=90)\n",
        "ax1.axis('equal')\n",
        "plt.title(\"Proportion of Trainees looking for Job\", size = 20)\n",
        "plt.show()"
      ],
      "execution_count": 24,
      "outputs": [
        {
          "output_type": "display_data",
          "data": {
            "image/png": "[encoded data removed]",
            "text/plain": [
              "<Figure size 720x576 with 1 Axes>"
            ]
          },
          "metadata": {
            "tags": []
          }
        }
      ]
    },
    {
      "cell_type": "code",
      "metadata": {
        "id": "mobYIV0L6P6f",
        "colab_type": "code",
        "colab": {
          "base_uri": "https://localhost:8080/",
          "height": 268
        },
        "outputId": "bbcb61e0-08cc-4b7f-e2b3-21b09d18b0ff"
      },
      "source": [
        "HR_train.nunique()"
      ],
      "execution_count": 25,
      "outputs": [
        {
          "output_type": "execute_result",
          "data": {
            "text/plain": [
              "enrollee_id               18359\n",
              "city                        123\n",
              "city_development_index       93\n",
              "gender                        3\n",
              "relevent_experience           2\n",
              "enrolled_university           3\n",
              "education_level               5\n",
              "major_discipline              6\n",
              "experience                   21\n",
              "company_size                  8\n",
              "company_type                  6\n",
              "last_new_job                  5\n",
              "training_hours              241\n",
              "target                        2\n",
              "dtype: int64"
            ]
          },
          "metadata": {
            "tags": []
          },
          "execution_count": 25
        }
      ]
    },
    {
      "cell_type": "code",
      "metadata": {
        "id": "OG3bvO_VAVd9",
        "colab_type": "code",
        "colab": {
          "base_uri": "https://localhost:8080/",
          "height": 251
        },
        "outputId": "0b0e9dc2-b256-42c8-c726-91784a07838a"
      },
      "source": [
        "HR_test.nunique()"
      ],
      "execution_count": 26,
      "outputs": [
        {
          "output_type": "execute_result",
          "data": {
            "text/plain": [
              "enrollee_id               15021\n",
              "city                        123\n",
              "city_development_index       93\n",
              "gender                        3\n",
              "relevent_experience           2\n",
              "enrolled_university           3\n",
              "education_level               5\n",
              "major_discipline              6\n",
              "experience                   21\n",
              "company_size                  8\n",
              "company_type                  6\n",
              "last_new_job                  5\n",
              "training_hours              241\n",
              "dtype: int64"
            ]
          },
          "metadata": {
            "tags": []
          },
          "execution_count": 26
        }
      ]
    },
    {
      "cell_type": "code",
      "metadata": {
        "id": "BVR-njJ3BvGP",
        "colab_type": "code",
        "colab": {
          "base_uri": "https://localhost:8080/",
          "height": 610
        },
        "outputId": "36968c53-4fd1-4383-e099-d41b6fae1a2a"
      },
      "source": [
        "    fig, axarr = plt.subplots(3, 2, figsize=(20, 12))\n",
        "    sns.countplot(x='education_level', hue = 'target',data = HR_train, ax=axarr[0][0])\n",
        "    sns.countplot(x='gender', hue = 'target',data = HR_train, ax=axarr[0][1])\n",
        "    sns.countplot(x='relevent_experience', hue = 'target',data = HR_train, ax=axarr[1][0])\n",
        "    sns.countplot(x='company_size', hue = 'target',data = HR_train, ax=axarr[1][1])\n",
        "    sns.countplot(x='company_type', hue = 'target',data = HR_train, ax=axarr[2][0])\n",
        "    sns.countplot(x='enrolled_university', hue = 'target',data = HR_train, ax=axarr[2][1])"
      ],
      "execution_count": 71,
      "outputs": [
        {
          "output_type": "execute_result",
          "data": {
            "text/plain": [
              "<matplotlib.axes._subplots.AxesSubplot at 0x7f145feb20b8>"
            ]
          },
          "metadata": {
            "tags": []
          },
          "execution_count": 71
        },
        {
          "output_type": "display_data",
          "data": {
            "image/png": "[encoded data removed]",
            "text/plain": [
              "<Figure size 1440x864 with 6 Axes>"
            ]
          },
          "metadata": {
            "tags": [],
            "needs_background": "light"
          }
        }
      ]
    },
    {
      "cell_type": "code",
      "metadata": {
        "id": "MVTsQIl4G8e8",
        "colab_type": "code",
        "colab": {}
      },
      "source": [
        "from sklearn.preprocessing import OneHotEncoder,LabelEncoder\n",
        "from sklearn.compose import ColumnTransformer"
      ],
      "execution_count": 0,
      "outputs": []
    },
    {
      "cell_type": "code",
      "metadata": {
        "id": "7H1rqEm5oNiv",
        "colab_type": "code",
        "colab": {
          "base_uri": "https://localhost:8080/",
          "height": 268
        },
        "outputId": "beb56643-8a8e-4b38-9349-c384ecc16a75"
      },
      "source": [
        "HR_train.dtypes"
      ],
      "execution_count": 64,
      "outputs": [
        {
          "output_type": "execute_result",
          "data": {
            "text/plain": [
              "enrollee_id                  int64\n",
              "city                      category\n",
              "city_development_index     float64\n",
              "gender                    category\n",
              "relevent_experience       category\n",
              "enrolled_university       category\n",
              "education_level           category\n",
              "major_discipline          category\n",
              "experience                 float64\n",
              "company_size              category\n",
              "company_type              category\n",
              "last_new_job               float64\n",
              "training_hours               int64\n",
              "target                    category\n",
              "dtype: object"
            ]
          },
          "metadata": {
            "tags": []
          },
          "execution_count": 64
        }
      ]
    },
    {
      "cell_type": "markdown",
      "metadata": {
        "id": "0ITJW-cpnba5",
        "colab_type": "text"
      },
      "source": [
        "#### **Dummification oof categorical columns**"
      ]
    },
    {
      "cell_type": "code",
      "metadata": {
        "id": "9Ho5o2eqahYK",
        "colab_type": "code",
        "colab": {}
      },
      "source": [
        "dumm_cat_cols = ['gender','relevent_experience', 'city','enrolled_university','major_discipline','company_type']\n",
        "other_req_cols = ['city_development_index','last_new_job','training_hours','target']\n",
        "other_req_cols_tst = ['city_development_index','last_new_job','training_hours']"
      ],
      "execution_count": 0,
      "outputs": []
    },
    {
      "cell_type": "code",
      "metadata": {
        "id": "npfjGV83mnu7",
        "colab_type": "code",
        "colab": {}
      },
      "source": [
        "HR_train_other = HR_train.loc[:,other_req_cols]\n",
        "HR_train_cat = HR_train.loc[:,dumm_cat_cols]\n",
        "#### Test Data\n",
        "HR_test_other = HR_test.loc[:,other_req_cols_tst]\n",
        "HR_test_cat = HR_test.loc[:,dumm_cat_cols]"
      ],
      "execution_count": 0,
      "outputs": []
    },
    {
      "cell_type": "code",
      "metadata": {
        "id": "sxJ8AyaMmggg",
        "colab_type": "code",
        "colab": {}
      },
      "source": [
        "HR_train_data = pd.get_dummies(HR_train_cat,drop_first = True)\n",
        "HR_test_data = pd.get_dummies(HR_test_cat,drop_first = True)"
      ],
      "execution_count": 0,
      "outputs": []
    },
    {
      "cell_type": "code",
      "metadata": {
        "id": "Jv-emJbWpKwo",
        "colab_type": "code",
        "colab": {
          "base_uri": "https://localhost:8080/",
          "height": 262
        },
        "outputId": "0223371a-e153-4621-fff3-1c0817f6162d"
      },
      "source": [
        "HR_train_data.head()"
      ],
      "execution_count": 38,
      "outputs": [
        {
          "output_type": "execute_result",
          "data": {
            "text/html": [
              "<div>\n",
              "<style scoped>\n",
              "    .dataframe tbody tr th:only-of-type {\n",
              "        vertical-align: middle;\n",
              "    }\n",
              "\n",
              "    .dataframe tbody tr th {\n",
              "        vertical-align: top;\n",
              "    }\n",
              "\n",
              "    .dataframe thead th {\n",
              "        text-align: right;\n",
              "    }\n",
              "</style>\n",
              "<table border=\"1\" class=\"dataframe\">\n",
              "  <thead>\n",
              "    <tr style=\"text-align: right;\">\n",
              "      <th></th>\n",
              "      <th>gender_Male</th>\n",
              "      <th>gender_Other</th>\n",
              "      <th>relevent_experience_No relevent experience</th>\n",
              "      <th>city_city_10</th>\n",
              "      <th>city_city_100</th>\n",
              "      <th>city_city_101</th>\n",
              "      <th>city_city_102</th>\n",
              "      <th>city_city_103</th>\n",
              "      <th>city_city_104</th>\n",
              "      <th>city_city_105</th>\n",
              "      <th>city_city_106</th>\n",
              "      <th>city_city_107</th>\n",
              "      <th>city_city_109</th>\n",
              "      <th>city_city_11</th>\n",
              "      <th>city_city_111</th>\n",
              "      <th>city_city_114</th>\n",
              "      <th>city_city_115</th>\n",
              "      <th>city_city_116</th>\n",
              "      <th>city_city_117</th>\n",
              "      <th>city_city_118</th>\n",
              "      <th>city_city_12</th>\n",
              "      <th>city_city_120</th>\n",
              "      <th>city_city_121</th>\n",
              "      <th>city_city_123</th>\n",
              "      <th>city_city_126</th>\n",
              "      <th>city_city_127</th>\n",
              "      <th>city_city_128</th>\n",
              "      <th>city_city_129</th>\n",
              "      <th>city_city_13</th>\n",
              "      <th>city_city_131</th>\n",
              "      <th>city_city_133</th>\n",
              "      <th>city_city_134</th>\n",
              "      <th>city_city_136</th>\n",
              "      <th>city_city_138</th>\n",
              "      <th>city_city_139</th>\n",
              "      <th>city_city_14</th>\n",
              "      <th>city_city_140</th>\n",
              "      <th>city_city_141</th>\n",
              "      <th>city_city_142</th>\n",
              "      <th>city_city_143</th>\n",
              "      <th>...</th>\n",
              "      <th>city_city_67</th>\n",
              "      <th>city_city_69</th>\n",
              "      <th>city_city_7</th>\n",
              "      <th>city_city_70</th>\n",
              "      <th>city_city_71</th>\n",
              "      <th>city_city_72</th>\n",
              "      <th>city_city_73</th>\n",
              "      <th>city_city_74</th>\n",
              "      <th>city_city_75</th>\n",
              "      <th>city_city_76</th>\n",
              "      <th>city_city_77</th>\n",
              "      <th>city_city_78</th>\n",
              "      <th>city_city_79</th>\n",
              "      <th>city_city_8</th>\n",
              "      <th>city_city_80</th>\n",
              "      <th>city_city_81</th>\n",
              "      <th>city_city_82</th>\n",
              "      <th>city_city_83</th>\n",
              "      <th>city_city_84</th>\n",
              "      <th>city_city_89</th>\n",
              "      <th>city_city_9</th>\n",
              "      <th>city_city_90</th>\n",
              "      <th>city_city_91</th>\n",
              "      <th>city_city_93</th>\n",
              "      <th>city_city_94</th>\n",
              "      <th>city_city_97</th>\n",
              "      <th>city_city_98</th>\n",
              "      <th>city_city_99</th>\n",
              "      <th>enrolled_university_Part time course</th>\n",
              "      <th>enrolled_university_no_enrollment</th>\n",
              "      <th>major_discipline_Business Degree</th>\n",
              "      <th>major_discipline_Humanities</th>\n",
              "      <th>major_discipline_No Major</th>\n",
              "      <th>major_discipline_Other</th>\n",
              "      <th>major_discipline_STEM</th>\n",
              "      <th>company_type_Funded Startup</th>\n",
              "      <th>company_type_NGO</th>\n",
              "      <th>company_type_Other</th>\n",
              "      <th>company_type_Public Sector</th>\n",
              "      <th>company_type_Pvt Ltd</th>\n",
              "    </tr>\n",
              "  </thead>\n",
              "  <tbody>\n",
              "    <tr>\n",
              "      <th>0</th>\n",
              "      <td>1</td>\n",
              "      <td>0</td>\n",
              "      <td>0</td>\n",
              "      <td>0</td>\n",
              "      <td>0</td>\n",
              "      <td>0</td>\n",
              "      <td>0</td>\n",
              "      <td>0</td>\n",
              "      <td>0</td>\n",
              "      <td>0</td>\n",
              "      <td>0</td>\n",
              "      <td>0</td>\n",
              "      <td>0</td>\n",
              "      <td>0</td>\n",
              "      <td>0</td>\n",
              "      <td>0</td>\n",
              "      <td>0</td>\n",
              "      <td>0</td>\n",
              "      <td>0</td>\n",
              "      <td>0</td>\n",
              "      <td>0</td>\n",
              "      <td>0</td>\n",
              "      <td>0</td>\n",
              "      <td>0</td>\n",
              "      <td>0</td>\n",
              "      <td>0</td>\n",
              "      <td>0</td>\n",
              "      <td>0</td>\n",
              "      <td>0</td>\n",
              "      <td>0</td>\n",
              "      <td>0</td>\n",
              "      <td>0</td>\n",
              "      <td>0</td>\n",
              "      <td>0</td>\n",
              "      <td>0</td>\n",
              "      <td>0</td>\n",
              "      <td>0</td>\n",
              "      <td>0</td>\n",
              "      <td>0</td>\n",
              "      <td>0</td>\n",
              "      <td>...</td>\n",
              "      <td>0</td>\n",
              "      <td>0</td>\n",
              "      <td>0</td>\n",
              "      <td>0</td>\n",
              "      <td>0</td>\n",
              "      <td>0</td>\n",
              "      <td>0</td>\n",
              "      <td>0</td>\n",
              "      <td>0</td>\n",
              "      <td>0</td>\n",
              "      <td>0</td>\n",
              "      <td>0</td>\n",
              "      <td>0</td>\n",
              "      <td>0</td>\n",
              "      <td>0</td>\n",
              "      <td>0</td>\n",
              "      <td>0</td>\n",
              "      <td>0</td>\n",
              "      <td>0</td>\n",
              "      <td>0</td>\n",
              "      <td>0</td>\n",
              "      <td>0</td>\n",
              "      <td>0</td>\n",
              "      <td>0</td>\n",
              "      <td>0</td>\n",
              "      <td>0</td>\n",
              "      <td>0</td>\n",
              "      <td>0</td>\n",
              "      <td>0</td>\n",
              "      <td>1</td>\n",
              "      <td>0</td>\n",
              "      <td>0</td>\n",
              "      <td>0</td>\n",
              "      <td>0</td>\n",
              "      <td>1</td>\n",
              "      <td>0</td>\n",
              "      <td>0</td>\n",
              "      <td>0</td>\n",
              "      <td>0</td>\n",
              "      <td>1</td>\n",
              "    </tr>\n",
              "    <tr>\n",
              "      <th>1</th>\n",
              "      <td>1</td>\n",
              "      <td>0</td>\n",
              "      <td>0</td>\n",
              "      <td>0</td>\n",
              "      <td>0</td>\n",
              "      <td>0</td>\n",
              "      <td>0</td>\n",
              "      <td>0</td>\n",
              "      <td>0</td>\n",
              "      <td>0</td>\n",
              "      <td>0</td>\n",
              "      <td>0</td>\n",
              "      <td>0</td>\n",
              "      <td>0</td>\n",
              "      <td>0</td>\n",
              "      <td>0</td>\n",
              "      <td>0</td>\n",
              "      <td>0</td>\n",
              "      <td>0</td>\n",
              "      <td>0</td>\n",
              "      <td>0</td>\n",
              "      <td>0</td>\n",
              "      <td>0</td>\n",
              "      <td>0</td>\n",
              "      <td>0</td>\n",
              "      <td>0</td>\n",
              "      <td>0</td>\n",
              "      <td>0</td>\n",
              "      <td>0</td>\n",
              "      <td>0</td>\n",
              "      <td>0</td>\n",
              "      <td>0</td>\n",
              "      <td>0</td>\n",
              "      <td>0</td>\n",
              "      <td>0</td>\n",
              "      <td>0</td>\n",
              "      <td>0</td>\n",
              "      <td>0</td>\n",
              "      <td>0</td>\n",
              "      <td>0</td>\n",
              "      <td>...</td>\n",
              "      <td>0</td>\n",
              "      <td>0</td>\n",
              "      <td>0</td>\n",
              "      <td>0</td>\n",
              "      <td>0</td>\n",
              "      <td>0</td>\n",
              "      <td>0</td>\n",
              "      <td>0</td>\n",
              "      <td>0</td>\n",
              "      <td>0</td>\n",
              "      <td>0</td>\n",
              "      <td>0</td>\n",
              "      <td>0</td>\n",
              "      <td>0</td>\n",
              "      <td>0</td>\n",
              "      <td>0</td>\n",
              "      <td>0</td>\n",
              "      <td>1</td>\n",
              "      <td>0</td>\n",
              "      <td>0</td>\n",
              "      <td>0</td>\n",
              "      <td>0</td>\n",
              "      <td>0</td>\n",
              "      <td>0</td>\n",
              "      <td>0</td>\n",
              "      <td>0</td>\n",
              "      <td>0</td>\n",
              "      <td>0</td>\n",
              "      <td>0</td>\n",
              "      <td>1</td>\n",
              "      <td>0</td>\n",
              "      <td>0</td>\n",
              "      <td>0</td>\n",
              "      <td>0</td>\n",
              "      <td>1</td>\n",
              "      <td>1</td>\n",
              "      <td>0</td>\n",
              "      <td>0</td>\n",
              "      <td>0</td>\n",
              "      <td>0</td>\n",
              "    </tr>\n",
              "    <tr>\n",
              "      <th>2</th>\n",
              "      <td>1</td>\n",
              "      <td>0</td>\n",
              "      <td>0</td>\n",
              "      <td>0</td>\n",
              "      <td>0</td>\n",
              "      <td>0</td>\n",
              "      <td>0</td>\n",
              "      <td>0</td>\n",
              "      <td>0</td>\n",
              "      <td>0</td>\n",
              "      <td>0</td>\n",
              "      <td>0</td>\n",
              "      <td>0</td>\n",
              "      <td>0</td>\n",
              "      <td>0</td>\n",
              "      <td>0</td>\n",
              "      <td>0</td>\n",
              "      <td>0</td>\n",
              "      <td>0</td>\n",
              "      <td>0</td>\n",
              "      <td>0</td>\n",
              "      <td>0</td>\n",
              "      <td>0</td>\n",
              "      <td>0</td>\n",
              "      <td>0</td>\n",
              "      <td>0</td>\n",
              "      <td>0</td>\n",
              "      <td>0</td>\n",
              "      <td>0</td>\n",
              "      <td>0</td>\n",
              "      <td>0</td>\n",
              "      <td>0</td>\n",
              "      <td>0</td>\n",
              "      <td>0</td>\n",
              "      <td>0</td>\n",
              "      <td>0</td>\n",
              "      <td>0</td>\n",
              "      <td>0</td>\n",
              "      <td>0</td>\n",
              "      <td>0</td>\n",
              "      <td>...</td>\n",
              "      <td>0</td>\n",
              "      <td>0</td>\n",
              "      <td>0</td>\n",
              "      <td>0</td>\n",
              "      <td>0</td>\n",
              "      <td>0</td>\n",
              "      <td>0</td>\n",
              "      <td>0</td>\n",
              "      <td>0</td>\n",
              "      <td>0</td>\n",
              "      <td>0</td>\n",
              "      <td>0</td>\n",
              "      <td>0</td>\n",
              "      <td>0</td>\n",
              "      <td>0</td>\n",
              "      <td>0</td>\n",
              "      <td>0</td>\n",
              "      <td>0</td>\n",
              "      <td>0</td>\n",
              "      <td>0</td>\n",
              "      <td>0</td>\n",
              "      <td>0</td>\n",
              "      <td>0</td>\n",
              "      <td>0</td>\n",
              "      <td>0</td>\n",
              "      <td>0</td>\n",
              "      <td>0</td>\n",
              "      <td>0</td>\n",
              "      <td>0</td>\n",
              "      <td>1</td>\n",
              "      <td>0</td>\n",
              "      <td>0</td>\n",
              "      <td>0</td>\n",
              "      <td>0</td>\n",
              "      <td>1</td>\n",
              "      <td>0</td>\n",
              "      <td>0</td>\n",
              "      <td>0</td>\n",
              "      <td>1</td>\n",
              "      <td>0</td>\n",
              "    </tr>\n",
              "    <tr>\n",
              "      <th>3</th>\n",
              "      <td>1</td>\n",
              "      <td>0</td>\n",
              "      <td>0</td>\n",
              "      <td>0</td>\n",
              "      <td>0</td>\n",
              "      <td>0</td>\n",
              "      <td>0</td>\n",
              "      <td>0</td>\n",
              "      <td>0</td>\n",
              "      <td>0</td>\n",
              "      <td>0</td>\n",
              "      <td>0</td>\n",
              "      <td>0</td>\n",
              "      <td>0</td>\n",
              "      <td>0</td>\n",
              "      <td>0</td>\n",
              "      <td>0</td>\n",
              "      <td>0</td>\n",
              "      <td>0</td>\n",
              "      <td>0</td>\n",
              "      <td>0</td>\n",
              "      <td>0</td>\n",
              "      <td>0</td>\n",
              "      <td>0</td>\n",
              "      <td>0</td>\n",
              "      <td>0</td>\n",
              "      <td>0</td>\n",
              "      <td>0</td>\n",
              "      <td>0</td>\n",
              "      <td>0</td>\n",
              "      <td>0</td>\n",
              "      <td>0</td>\n",
              "      <td>0</td>\n",
              "      <td>0</td>\n",
              "      <td>0</td>\n",
              "      <td>0</td>\n",
              "      <td>0</td>\n",
              "      <td>0</td>\n",
              "      <td>0</td>\n",
              "      <td>0</td>\n",
              "      <td>...</td>\n",
              "      <td>0</td>\n",
              "      <td>0</td>\n",
              "      <td>0</td>\n",
              "      <td>0</td>\n",
              "      <td>0</td>\n",
              "      <td>0</td>\n",
              "      <td>0</td>\n",
              "      <td>0</td>\n",
              "      <td>0</td>\n",
              "      <td>0</td>\n",
              "      <td>0</td>\n",
              "      <td>0</td>\n",
              "      <td>0</td>\n",
              "      <td>0</td>\n",
              "      <td>0</td>\n",
              "      <td>0</td>\n",
              "      <td>0</td>\n",
              "      <td>0</td>\n",
              "      <td>0</td>\n",
              "      <td>0</td>\n",
              "      <td>0</td>\n",
              "      <td>0</td>\n",
              "      <td>0</td>\n",
              "      <td>0</td>\n",
              "      <td>0</td>\n",
              "      <td>0</td>\n",
              "      <td>0</td>\n",
              "      <td>0</td>\n",
              "      <td>0</td>\n",
              "      <td>1</td>\n",
              "      <td>0</td>\n",
              "      <td>0</td>\n",
              "      <td>0</td>\n",
              "      <td>0</td>\n",
              "      <td>1</td>\n",
              "      <td>0</td>\n",
              "      <td>0</td>\n",
              "      <td>0</td>\n",
              "      <td>0</td>\n",
              "      <td>1</td>\n",
              "    </tr>\n",
              "    <tr>\n",
              "      <th>4</th>\n",
              "      <td>1</td>\n",
              "      <td>0</td>\n",
              "      <td>1</td>\n",
              "      <td>0</td>\n",
              "      <td>1</td>\n",
              "      <td>0</td>\n",
              "      <td>0</td>\n",
              "      <td>0</td>\n",
              "      <td>0</td>\n",
              "      <td>0</td>\n",
              "      <td>0</td>\n",
              "      <td>0</td>\n",
              "      <td>0</td>\n",
              "      <td>0</td>\n",
              "      <td>0</td>\n",
              "      <td>0</td>\n",
              "      <td>0</td>\n",
              "      <td>0</td>\n",
              "      <td>0</td>\n",
              "      <td>0</td>\n",
              "      <td>0</td>\n",
              "      <td>0</td>\n",
              "      <td>0</td>\n",
              "      <td>0</td>\n",
              "      <td>0</td>\n",
              "      <td>0</td>\n",
              "      <td>0</td>\n",
              "      <td>0</td>\n",
              "      <td>0</td>\n",
              "      <td>0</td>\n",
              "      <td>0</td>\n",
              "      <td>0</td>\n",
              "      <td>0</td>\n",
              "      <td>0</td>\n",
              "      <td>0</td>\n",
              "      <td>0</td>\n",
              "      <td>0</td>\n",
              "      <td>0</td>\n",
              "      <td>0</td>\n",
              "      <td>0</td>\n",
              "      <td>...</td>\n",
              "      <td>0</td>\n",
              "      <td>0</td>\n",
              "      <td>0</td>\n",
              "      <td>0</td>\n",
              "      <td>0</td>\n",
              "      <td>0</td>\n",
              "      <td>0</td>\n",
              "      <td>0</td>\n",
              "      <td>0</td>\n",
              "      <td>0</td>\n",
              "      <td>0</td>\n",
              "      <td>0</td>\n",
              "      <td>0</td>\n",
              "      <td>0</td>\n",
              "      <td>0</td>\n",
              "      <td>0</td>\n",
              "      <td>0</td>\n",
              "      <td>0</td>\n",
              "      <td>0</td>\n",
              "      <td>0</td>\n",
              "      <td>0</td>\n",
              "      <td>0</td>\n",
              "      <td>0</td>\n",
              "      <td>0</td>\n",
              "      <td>0</td>\n",
              "      <td>0</td>\n",
              "      <td>0</td>\n",
              "      <td>0</td>\n",
              "      <td>0</td>\n",
              "      <td>1</td>\n",
              "      <td>0</td>\n",
              "      <td>0</td>\n",
              "      <td>0</td>\n",
              "      <td>0</td>\n",
              "      <td>1</td>\n",
              "      <td>0</td>\n",
              "      <td>0</td>\n",
              "      <td>0</td>\n",
              "      <td>0</td>\n",
              "      <td>1</td>\n",
              "    </tr>\n",
              "  </tbody>\n",
              "</table>\n",
              "<p>5 rows × 137 columns</p>\n",
              "</div>"
            ],
            "text/plain": [
              "   gender_Male  gender_Other  ...  company_type_Public Sector  company_type_Pvt Ltd\n",
              "0            1             0  ...                           0                     1\n",
              "1            1             0  ...                           0                     0\n",
              "2            1             0  ...                           1                     0\n",
              "3            1             0  ...                           0                     1\n",
              "4            1             0  ...                           0                     1\n",
              "\n",
              "[5 rows x 137 columns]"
            ]
          },
          "metadata": {
            "tags": []
          },
          "execution_count": 38
        }
      ]
    },
    {
      "cell_type": "code",
      "metadata": {
        "id": "yAjQQVlEmVGk",
        "colab_type": "code",
        "colab": {}
      },
      "source": [
        "HR_train_data.reset_index(drop=True, inplace=True)\n",
        "HR_train_other.reset_index(drop=True, inplace=True)"
      ],
      "execution_count": 0,
      "outputs": []
    },
    {
      "cell_type": "code",
      "metadata": {
        "id": "qN_TvpVimnqu",
        "colab_type": "code",
        "colab": {}
      },
      "source": [
        "HR_train_data = pd.concat([HR_train_data,HR_train_other],axis=1)\n",
        "### Test Data \n",
        "HR_test_data = pd.concat([HR_test_data,HR_test_other],axis=1)"
      ],
      "execution_count": 0,
      "outputs": []
    },
    {
      "cell_type": "code",
      "metadata": {
        "id": "6Ekyqd0joVuQ",
        "colab_type": "code",
        "colab": {
          "base_uri": "https://localhost:8080/",
          "height": 217
        },
        "outputId": "c0cc98d7-c249-4587-bb25-6ec6c63c05c8"
      },
      "source": [
        "HR_test_data.isnull().sum()"
      ],
      "execution_count": 41,
      "outputs": [
        {
          "output_type": "execute_result",
          "data": {
            "text/plain": [
              "gender_Male                                   0\n",
              "gender_Other                                  0\n",
              "relevent_experience_No relevent experience    0\n",
              "city_city_10                                  0\n",
              "city_city_100                                 0\n",
              "                                             ..\n",
              "company_type_Public Sector                    0\n",
              "company_type_Pvt Ltd                          0\n",
              "city_development_index                        0\n",
              "last_new_job                                  0\n",
              "training_hours                                0\n",
              "Length: 140, dtype: int64"
            ]
          },
          "metadata": {
            "tags": []
          },
          "execution_count": 41
        }
      ]
    },
    {
      "cell_type": "code",
      "metadata": {
        "id": "_OkJYSE2mnks",
        "colab_type": "code",
        "colab": {
          "base_uri": "https://localhost:8080/",
          "height": 217
        },
        "outputId": "e930a953-b4b4-4c78-ccc6-816f19cde462"
      },
      "source": [
        "HR_train_data.isnull().sum()"
      ],
      "execution_count": 42,
      "outputs": [
        {
          "output_type": "execute_result",
          "data": {
            "text/plain": [
              "gender_Male                                   0\n",
              "gender_Other                                  0\n",
              "relevent_experience_No relevent experience    0\n",
              "city_city_10                                  0\n",
              "city_city_100                                 0\n",
              "                                             ..\n",
              "company_type_Pvt Ltd                          0\n",
              "city_development_index                        0\n",
              "last_new_job                                  0\n",
              "training_hours                                0\n",
              "target                                        0\n",
              "Length: 141, dtype: int64"
            ]
          },
          "metadata": {
            "tags": []
          },
          "execution_count": 42
        }
      ]
    },
    {
      "cell_type": "code",
      "metadata": {
        "id": "mJtYKV7Rmni9",
        "colab_type": "code",
        "colab": {
          "base_uri": "https://localhost:8080/",
          "height": 50
        },
        "outputId": "aa3051b6-d432-43d1-a83e-df7d792bf553"
      },
      "source": [
        "print(HR_train_data.shape)\n",
        "print(HR_test_data.shape)"
      ],
      "execution_count": 43,
      "outputs": [
        {
          "output_type": "stream",
          "text": [
            "(18359, 141)\n",
            "(15021, 140)\n"
          ],
          "name": "stdout"
        }
      ]
    },
    {
      "cell_type": "markdown",
      "metadata": {
        "id": "l0ajitFGvPAE",
        "colab_type": "text"
      },
      "source": [
        "#### **Train/Validation Split**"
      ]
    },
    {
      "cell_type": "code",
      "metadata": {
        "id": "j8nA-B7WwB8S",
        "colab_type": "code",
        "colab": {}
      },
      "source": [
        "from sklearn.model_selection import train_test_split "
      ],
      "execution_count": 0,
      "outputs": []
    },
    {
      "cell_type": "code",
      "metadata": {
        "id": "r3mD5RGsvUWA",
        "colab_type": "code",
        "colab": {
          "base_uri": "https://localhost:8080/",
          "height": 67
        },
        "outputId": "5c082aef-408f-4f93-ba30-efde8f6026db"
      },
      "source": [
        "train_x,val_x,train_y,val_y = train_test_split(HR_train_data.iloc[:,:-1],HR_train_data.iloc[:,-1],test_size=0.3,random_state=1)\n",
        "print(HR_train_data.shape)\n",
        "print(train_x.shape)\n",
        "print(val_x.shape)"
      ],
      "execution_count": 47,
      "outputs": [
        {
          "output_type": "stream",
          "text": [
            "(18359, 141)\n",
            "(12851, 140)\n",
            "(5508, 140)\n"
          ],
          "name": "stdout"
        }
      ]
    },
    {
      "cell_type": "markdown",
      "metadata": {
        "id": "9PaPJSTfvIMN",
        "colab_type": "text"
      },
      "source": [
        "#### **Start Model Building**"
      ]
    },
    {
      "cell_type": "code",
      "metadata": {
        "id": "97M-TV-8wp6D",
        "colab_type": "code",
        "colab": {}
      },
      "source": [
        "from sklearn.metrics import accuracy_score,classification_report\n",
        "from sklearn.linear_model import LogisticRegression"
      ],
      "execution_count": 0,
      "outputs": []
    },
    {
      "cell_type": "code",
      "metadata": {
        "id": "2Gfa8iummnfH",
        "colab_type": "code",
        "colab": {
          "base_uri": "https://localhost:8080/",
          "height": 150
        },
        "outputId": "06aebc31-8abd-41ae-e84b-7d0aade03df5"
      },
      "source": [
        "\n",
        "# Fitting a simple Logistic Regression on CountVect\n",
        "logreg = LogisticRegression()\n",
        "lr_clf = logreg.fit(train_x,train_y)"
      ],
      "execution_count": 48,
      "outputs": [
        {
          "output_type": "stream",
          "text": [
            "/usr/local/lib/python3.6/dist-packages/sklearn/linear_model/_logistic.py:940: ConvergenceWarning: lbfgs failed to converge (status=1):\n",
            "STOP: TOTAL NO. of ITERATIONS REACHED LIMIT.\n",
            "\n",
            "Increase the number of iterations (max_iter) or scale the data as shown in:\n",
            "    https://scikit-learn.org/stable/modules/preprocessing.html\n",
            "Please also refer to the documentation for alternative solver options:\n",
            "    https://scikit-learn.org/stable/modules/linear_model.html#logistic-regression\n",
            "  extra_warning_msg=_LOGISTIC_SOLVER_CONVERGENCE_MSG)\n"
          ],
          "name": "stderr"
        }
      ]
    },
    {
      "cell_type": "code",
      "metadata": {
        "id": "FZlE4wsMmnct",
        "colab_type": "code",
        "colab": {}
      },
      "source": [
        "#Predicting on train data\n",
        "train_pred = lr_clf.predict(train_x)\n",
        "#Predicting on val data\n",
        "val_pred=lr_clf.predict(val_x)\n",
        "# Predict on Test data\n",
        "#test_pred=lr_clf.predict()"
      ],
      "execution_count": 0,
      "outputs": []
    },
    {
      "cell_type": "code",
      "metadata": {
        "id": "KtgZ1H-CmnaA",
        "colab_type": "code",
        "colab": {
          "base_uri": "https://localhost:8080/",
          "height": 472
        },
        "outputId": "b99039ea-4440-489c-db8c-95c77c1949bf"
      },
      "source": [
        "print(\"Train_Classification Report: \\n\\n\", classification_report(train_y,train_pred))\n",
        "print(\"\\n\\nTest_Classification Report: \\n\\n\", classification_report(val_y,val_pred))"
      ],
      "execution_count": 52,
      "outputs": [
        {
          "output_type": "stream",
          "text": [
            "Train_Classification Report: \n",
            "\n",
            "               precision    recall  f1-score   support\n",
            "\n",
            "           0       0.87      1.00      0.93     11148\n",
            "           1       0.00      0.00      0.00      1703\n",
            "\n",
            "    accuracy                           0.87     12851\n",
            "   macro avg       0.43      0.50      0.46     12851\n",
            "weighted avg       0.75      0.87      0.81     12851\n",
            "\n",
            "\n",
            "\n",
            "Test_Classification Report: \n",
            "\n",
            "               precision    recall  f1-score   support\n",
            "\n",
            "           0       0.87      1.00      0.93      4786\n",
            "           1       0.00      0.00      0.00       722\n",
            "\n",
            "    accuracy                           0.87      5508\n",
            "   macro avg       0.43      0.50      0.46      5508\n",
            "weighted avg       0.76      0.87      0.81      5508\n",
            "\n"
          ],
          "name": "stdout"
        },
        {
          "output_type": "stream",
          "text": [
            "/usr/local/lib/python3.6/dist-packages/sklearn/metrics/_classification.py:1272: UndefinedMetricWarning: Precision and F-score are ill-defined and being set to 0.0 in labels with no predicted samples. Use `zero_division` parameter to control this behavior.\n",
            "  _warn_prf(average, modifier, msg_start, len(result))\n"
          ],
          "name": "stderr"
        }
      ]
    },
    {
      "cell_type": "code",
      "metadata": {
        "id": "2zyHRamXmnX_",
        "colab_type": "code",
        "colab": {}
      },
      "source": [
        ""
      ],
      "execution_count": 0,
      "outputs": []
    }
  ]
}