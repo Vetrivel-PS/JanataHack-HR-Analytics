{
  "nbformat": 4,
  "nbformat_minor": 0,
  "metadata": {
    "colab": {
      "name": "AV-JanataHack-HR Analytics.ipynb",
      "provenance": [],
      "collapsed_sections": [
        "dVTi3Cthp-D2",
        "We5U6DRbIeaf",
        "3PZnNUL0ZCYf"
      ]
    },
    "kernelspec": {
      "name": "python3",
      "display_name": "Python 3"
    }
  },
  "cells": [
    {
      "cell_type": "code",
      "metadata": {
        "id": "HPsOLQBk5bR7",
        "colab_type": "code",
        "outputId": "7036f794-e550-4d71-99ba-511e6bab83b2",
        "colab": {
          "base_uri": "https://localhost:8080/",
          "height": 33
        }
      },
      "source": [
        "from google.colab import drive\n",
        "drive.mount('/content/drive')"
      ],
      "execution_count": 23,
      "outputs": [
        {
          "output_type": "stream",
          "text": [
            "Drive already mounted at /content/drive; to attempt to forcibly remount, call drive.mount(\"/content/drive\", force_remount=True).\n"
          ],
          "name": "stdout"
        }
      ]
    },
    {
      "cell_type": "code",
      "metadata": {
        "id": "aLq6c2Kb5xJt",
        "colab_type": "code",
        "colab": {}
      },
      "source": [
        "import pandas as pd\n",
        "import numpy as np"
      ],
      "execution_count": 0,
      "outputs": []
    },
    {
      "cell_type": "code",
      "metadata": {
        "id": "_QHfvkp45szR",
        "colab_type": "code",
        "colab": {}
      },
      "source": [
        "train = pd.read_csv('/content/drive/My Drive/Competitions - Neha/AV-JanataHack-HR Analytics/data/train.csv')\n",
        "test = pd.read_csv('/content/drive/My Drive/Competitions - Neha/AV-JanataHack-HR Analytics/data/test.csv')\n",
        "\n",
        "sample = pd.read_csv('/content/drive/My Drive/Competitions - Neha/AV-JanataHack-HR Analytics/data/sample_submission.csv')"
      ],
      "execution_count": 0,
      "outputs": []
    },
    {
      "cell_type": "code",
      "metadata": {
        "id": "ddWB2hOw5x-4",
        "colab_type": "code",
        "outputId": "e9148233-39b5-4860-ef65-b8f535bbf7e3",
        "colab": {
          "base_uri": "https://localhost:8080/",
          "height": 33
        }
      },
      "source": [
        "print(train.shape, test.shape, sample.shape)"
      ],
      "execution_count": 64,
      "outputs": [
        {
          "output_type": "stream",
          "text": [
            "(18359, 14) (15021, 13) (15021, 2)\n"
          ],
          "name": "stdout"
        }
      ]
    },
    {
      "cell_type": "code",
      "metadata": {
        "id": "1jFNlNx96C_M",
        "colab_type": "code",
        "outputId": "897d5020-a68f-4b26-b809-224c67d34739",
        "colab": {
          "base_uri": "https://localhost:8080/",
          "height": 283
        }
      },
      "source": [
        "train.head()"
      ],
      "execution_count": 65,
      "outputs": [
        {
          "output_type": "execute_result",
          "data": {
            "text/html": [
              "<div>\n",
              "<style scoped>\n",
              "    .dataframe tbody tr th:only-of-type {\n",
              "        vertical-align: middle;\n",
              "    }\n",
              "\n",
              "    .dataframe tbody tr th {\n",
              "        vertical-align: top;\n",
              "    }\n",
              "\n",
              "    .dataframe thead th {\n",
              "        text-align: right;\n",
              "    }\n",
              "</style>\n",
              "<table border=\"1\" class=\"dataframe\">\n",
              "  <thead>\n",
              "    <tr style=\"text-align: right;\">\n",
              "      <th></th>\n",
              "      <th>enrollee_id</th>\n",
              "      <th>city</th>\n",
              "      <th>city_development_index</th>\n",
              "      <th>gender</th>\n",
              "      <th>relevent_experience</th>\n",
              "      <th>enrolled_university</th>\n",
              "      <th>education_level</th>\n",
              "      <th>major_discipline</th>\n",
              "      <th>experience</th>\n",
              "      <th>company_size</th>\n",
              "      <th>company_type</th>\n",
              "      <th>last_new_job</th>\n",
              "      <th>training_hours</th>\n",
              "      <th>target</th>\n",
              "    </tr>\n",
              "  </thead>\n",
              "  <tbody>\n",
              "    <tr>\n",
              "      <th>0</th>\n",
              "      <td>23798</td>\n",
              "      <td>city_149</td>\n",
              "      <td>0.689</td>\n",
              "      <td>Male</td>\n",
              "      <td>Has relevent experience</td>\n",
              "      <td>no_enrollment</td>\n",
              "      <td>Graduate</td>\n",
              "      <td>STEM</td>\n",
              "      <td>3</td>\n",
              "      <td>100-500</td>\n",
              "      <td>Pvt Ltd</td>\n",
              "      <td>1</td>\n",
              "      <td>106</td>\n",
              "      <td>0</td>\n",
              "    </tr>\n",
              "    <tr>\n",
              "      <th>1</th>\n",
              "      <td>29166</td>\n",
              "      <td>city_83</td>\n",
              "      <td>0.923</td>\n",
              "      <td>Male</td>\n",
              "      <td>Has relevent experience</td>\n",
              "      <td>no_enrollment</td>\n",
              "      <td>Graduate</td>\n",
              "      <td>STEM</td>\n",
              "      <td>14</td>\n",
              "      <td>&lt;10</td>\n",
              "      <td>Funded Startup</td>\n",
              "      <td>1</td>\n",
              "      <td>69</td>\n",
              "      <td>0</td>\n",
              "    </tr>\n",
              "    <tr>\n",
              "      <th>2</th>\n",
              "      <td>46</td>\n",
              "      <td>city_16</td>\n",
              "      <td>0.910</td>\n",
              "      <td>NaN</td>\n",
              "      <td>Has relevent experience</td>\n",
              "      <td>no_enrollment</td>\n",
              "      <td>Graduate</td>\n",
              "      <td>STEM</td>\n",
              "      <td>6</td>\n",
              "      <td>50-99</td>\n",
              "      <td>Public Sector</td>\n",
              "      <td>2</td>\n",
              "      <td>4</td>\n",
              "      <td>0</td>\n",
              "    </tr>\n",
              "    <tr>\n",
              "      <th>3</th>\n",
              "      <td>18527</td>\n",
              "      <td>city_64</td>\n",
              "      <td>0.666</td>\n",
              "      <td>Male</td>\n",
              "      <td>Has relevent experience</td>\n",
              "      <td>no_enrollment</td>\n",
              "      <td>Graduate</td>\n",
              "      <td>STEM</td>\n",
              "      <td>14</td>\n",
              "      <td>50-99</td>\n",
              "      <td>Pvt Ltd</td>\n",
              "      <td>1</td>\n",
              "      <td>26</td>\n",
              "      <td>0</td>\n",
              "    </tr>\n",
              "    <tr>\n",
              "      <th>4</th>\n",
              "      <td>21751</td>\n",
              "      <td>city_100</td>\n",
              "      <td>0.887</td>\n",
              "      <td>NaN</td>\n",
              "      <td>No relevent experience</td>\n",
              "      <td>no_enrollment</td>\n",
              "      <td>Masters</td>\n",
              "      <td>STEM</td>\n",
              "      <td>8</td>\n",
              "      <td>NaN</td>\n",
              "      <td>NaN</td>\n",
              "      <td>2</td>\n",
              "      <td>88</td>\n",
              "      <td>1</td>\n",
              "    </tr>\n",
              "  </tbody>\n",
              "</table>\n",
              "</div>"
            ],
            "text/plain": [
              "   enrollee_id      city  ...  training_hours target\n",
              "0        23798  city_149  ...             106      0\n",
              "1        29166   city_83  ...              69      0\n",
              "2           46   city_16  ...               4      0\n",
              "3        18527   city_64  ...              26      0\n",
              "4        21751  city_100  ...              88      1\n",
              "\n",
              "[5 rows x 14 columns]"
            ]
          },
          "metadata": {
            "tags": []
          },
          "execution_count": 65
        }
      ]
    },
    {
      "cell_type": "code",
      "metadata": {
        "id": "Os462OZe6FhA",
        "colab_type": "code",
        "outputId": "62942930-054d-4148-98e1-833c410688b8",
        "colab": {
          "base_uri": "https://localhost:8080/",
          "height": 268
        }
      },
      "source": [
        "train.isna().sum()"
      ],
      "execution_count": 66,
      "outputs": [
        {
          "output_type": "execute_result",
          "data": {
            "text/plain": [
              "enrollee_id                  0\n",
              "city                         0\n",
              "city_development_index       0\n",
              "gender                    4098\n",
              "relevent_experience          0\n",
              "enrolled_university        342\n",
              "education_level            457\n",
              "major_discipline          2838\n",
              "experience                  59\n",
              "company_size              4779\n",
              "company_type              5039\n",
              "last_new_job               367\n",
              "training_hours               0\n",
              "target                       0\n",
              "dtype: int64"
            ]
          },
          "metadata": {
            "tags": []
          },
          "execution_count": 66
        }
      ]
    },
    {
      "cell_type": "code",
      "metadata": {
        "id": "NEu8FpqYU8q9",
        "colab_type": "code",
        "outputId": "6294f70d-4b8c-4be0-a223-8b8a996c38ab",
        "colab": {
          "base_uri": "https://localhost:8080/",
          "height": 160
        }
      },
      "source": [
        "train.head(2)"
      ],
      "execution_count": 67,
      "outputs": [
        {
          "output_type": "execute_result",
          "data": {
            "text/html": [
              "<div>\n",
              "<style scoped>\n",
              "    .dataframe tbody tr th:only-of-type {\n",
              "        vertical-align: middle;\n",
              "    }\n",
              "\n",
              "    .dataframe tbody tr th {\n",
              "        vertical-align: top;\n",
              "    }\n",
              "\n",
              "    .dataframe thead th {\n",
              "        text-align: right;\n",
              "    }\n",
              "</style>\n",
              "<table border=\"1\" class=\"dataframe\">\n",
              "  <thead>\n",
              "    <tr style=\"text-align: right;\">\n",
              "      <th></th>\n",
              "      <th>enrollee_id</th>\n",
              "      <th>city</th>\n",
              "      <th>city_development_index</th>\n",
              "      <th>gender</th>\n",
              "      <th>relevent_experience</th>\n",
              "      <th>enrolled_university</th>\n",
              "      <th>education_level</th>\n",
              "      <th>major_discipline</th>\n",
              "      <th>experience</th>\n",
              "      <th>company_size</th>\n",
              "      <th>company_type</th>\n",
              "      <th>last_new_job</th>\n",
              "      <th>training_hours</th>\n",
              "      <th>target</th>\n",
              "    </tr>\n",
              "  </thead>\n",
              "  <tbody>\n",
              "    <tr>\n",
              "      <th>0</th>\n",
              "      <td>23798</td>\n",
              "      <td>city_149</td>\n",
              "      <td>0.689</td>\n",
              "      <td>Male</td>\n",
              "      <td>Has relevent experience</td>\n",
              "      <td>no_enrollment</td>\n",
              "      <td>Graduate</td>\n",
              "      <td>STEM</td>\n",
              "      <td>3</td>\n",
              "      <td>100-500</td>\n",
              "      <td>Pvt Ltd</td>\n",
              "      <td>1</td>\n",
              "      <td>106</td>\n",
              "      <td>0</td>\n",
              "    </tr>\n",
              "    <tr>\n",
              "      <th>1</th>\n",
              "      <td>29166</td>\n",
              "      <td>city_83</td>\n",
              "      <td>0.923</td>\n",
              "      <td>Male</td>\n",
              "      <td>Has relevent experience</td>\n",
              "      <td>no_enrollment</td>\n",
              "      <td>Graduate</td>\n",
              "      <td>STEM</td>\n",
              "      <td>14</td>\n",
              "      <td>&lt;10</td>\n",
              "      <td>Funded Startup</td>\n",
              "      <td>1</td>\n",
              "      <td>69</td>\n",
              "      <td>0</td>\n",
              "    </tr>\n",
              "  </tbody>\n",
              "</table>\n",
              "</div>"
            ],
            "text/plain": [
              "   enrollee_id      city  ...  training_hours target\n",
              "0        23798  city_149  ...             106      0\n",
              "1        29166   city_83  ...              69      0\n",
              "\n",
              "[2 rows x 14 columns]"
            ]
          },
          "metadata": {
            "tags": []
          },
          "execution_count": 67
        }
      ]
    },
    {
      "cell_type": "code",
      "metadata": {
        "id": "VmwUB1uma7xC",
        "colab_type": "code",
        "outputId": "50c98362-57e6-4ab1-beb4-3303f8def5b3",
        "colab": {
          "base_uri": "https://localhost:8080/",
          "height": 268
        }
      },
      "source": [
        "train.dtypes"
      ],
      "execution_count": 68,
      "outputs": [
        {
          "output_type": "execute_result",
          "data": {
            "text/plain": [
              "enrollee_id                 int64\n",
              "city                       object\n",
              "city_development_index    float64\n",
              "gender                     object\n",
              "relevent_experience        object\n",
              "enrolled_university        object\n",
              "education_level            object\n",
              "major_discipline           object\n",
              "experience                 object\n",
              "company_size               object\n",
              "company_type               object\n",
              "last_new_job               object\n",
              "training_hours              int64\n",
              "target                      int64\n",
              "dtype: object"
            ]
          },
          "metadata": {
            "tags": []
          },
          "execution_count": 68
        }
      ]
    },
    {
      "cell_type": "code",
      "metadata": {
        "id": "fhtY-JSzU8uD",
        "colab_type": "code",
        "outputId": "45dd21f7-fa0d-4df1-88af-6291ac39276c",
        "colab": {
          "base_uri": "https://localhost:8080/",
          "height": 33
        }
      },
      "source": [
        "'gender',\n",
        "'enrolled_university', \n",
        "'education_level',\n",
        "'major_discipline', \n",
        "'experience', \n",
        "'company_size', \n",
        "'company_type',\n",
        "'last_new_job'"
      ],
      "execution_count": 69,
      "outputs": [
        {
          "output_type": "execute_result",
          "data": {
            "text/plain": [
              "'last_new_job'"
            ]
          },
          "metadata": {
            "tags": []
          },
          "execution_count": 69
        }
      ]
    },
    {
      "cell_type": "code",
      "metadata": {
        "id": "y-qq3rF8U8nw",
        "colab_type": "code",
        "outputId": "73f998bd-c636-41ad-a836-a72e17458e84",
        "colab": {
          "base_uri": "https://localhost:8080/",
          "height": 33
        }
      },
      "source": [
        "train['city'].nunique()"
      ],
      "execution_count": 70,
      "outputs": [
        {
          "output_type": "execute_result",
          "data": {
            "text/plain": [
              "123"
            ]
          },
          "metadata": {
            "tags": []
          },
          "execution_count": 70
        }
      ]
    },
    {
      "cell_type": "code",
      "metadata": {
        "id": "PzESDHsyU8kW",
        "colab_type": "code",
        "outputId": "f51eba92-0287-488b-c7ff-fcbc8a6fa1d5",
        "colab": {
          "base_uri": "https://localhost:8080/",
          "height": 33
        }
      },
      "source": [
        "train['gender'].nunique()"
      ],
      "execution_count": 71,
      "outputs": [
        {
          "output_type": "execute_result",
          "data": {
            "text/plain": [
              "3"
            ]
          },
          "metadata": {
            "tags": []
          },
          "execution_count": 71
        }
      ]
    },
    {
      "cell_type": "code",
      "metadata": {
        "id": "-1rdyySFbjye",
        "colab_type": "code",
        "outputId": "9ba36064-129f-408f-fd09-520b71d8711e",
        "colab": {
          "base_uri": "https://localhost:8080/",
          "height": 84
        }
      },
      "source": [
        "train['gender'].value_counts()"
      ],
      "execution_count": 72,
      "outputs": [
        {
          "output_type": "execute_result",
          "data": {
            "text/plain": [
              "Male      12884\n",
              "Female     1188\n",
              "Other       189\n",
              "Name: gender, dtype: int64"
            ]
          },
          "metadata": {
            "tags": []
          },
          "execution_count": 72
        }
      ]
    },
    {
      "cell_type": "code",
      "metadata": {
        "id": "TKQ4R420U8gz",
        "colab_type": "code",
        "outputId": "fbf9148c-9075-4d0b-b025-4fc0ce653ab6",
        "colab": {
          "base_uri": "https://localhost:8080/",
          "height": 33
        }
      },
      "source": [
        "train['relevent_experience'].nunique()"
      ],
      "execution_count": 73,
      "outputs": [
        {
          "output_type": "execute_result",
          "data": {
            "text/plain": [
              "2"
            ]
          },
          "metadata": {
            "tags": []
          },
          "execution_count": 73
        }
      ]
    },
    {
      "cell_type": "code",
      "metadata": {
        "id": "EyxMGCNdU8dc",
        "colab_type": "code",
        "outputId": "14a1698a-17bb-4616-b63c-26d077e3f1a6",
        "colab": {
          "base_uri": "https://localhost:8080/",
          "height": 33
        }
      },
      "source": [
        "train['enrolled_university'].nunique()"
      ],
      "execution_count": 74,
      "outputs": [
        {
          "output_type": "execute_result",
          "data": {
            "text/plain": [
              "3"
            ]
          },
          "metadata": {
            "tags": []
          },
          "execution_count": 74
        }
      ]
    },
    {
      "cell_type": "code",
      "metadata": {
        "id": "J8hZqneCU8aT",
        "colab_type": "code",
        "outputId": "96eebda1-ac7a-4e73-992c-4725617cb0db",
        "colab": {
          "base_uri": "https://localhost:8080/",
          "height": 33
        }
      },
      "source": [
        "train['education_level'].nunique()"
      ],
      "execution_count": 75,
      "outputs": [
        {
          "output_type": "execute_result",
          "data": {
            "text/plain": [
              "5"
            ]
          },
          "metadata": {
            "tags": []
          },
          "execution_count": 75
        }
      ]
    },
    {
      "cell_type": "code",
      "metadata": {
        "id": "YiMSGh2fU8TW",
        "colab_type": "code",
        "outputId": "ade7fa5d-a16e-48ae-e505-8984d022d81c",
        "colab": {
          "base_uri": "https://localhost:8080/",
          "height": 33
        }
      },
      "source": [
        "train['major_discipline'].nunique()"
      ],
      "execution_count": 76,
      "outputs": [
        {
          "output_type": "execute_result",
          "data": {
            "text/plain": [
              "6"
            ]
          },
          "metadata": {
            "tags": []
          },
          "execution_count": 76
        }
      ]
    },
    {
      "cell_type": "code",
      "metadata": {
        "id": "ldLHQSTmU8QF",
        "colab_type": "code",
        "outputId": "f509edcd-c41d-4000-9a43-9645d4d45d4b",
        "colab": {
          "base_uri": "https://localhost:8080/",
          "height": 33
        }
      },
      "source": [
        "train['company_size'].nunique()"
      ],
      "execution_count": 77,
      "outputs": [
        {
          "output_type": "execute_result",
          "data": {
            "text/plain": [
              "8"
            ]
          },
          "metadata": {
            "tags": []
          },
          "execution_count": 77
        }
      ]
    },
    {
      "cell_type": "code",
      "metadata": {
        "id": "6l6VjLD1U8Mz",
        "colab_type": "code",
        "outputId": "41b149a8-c7a3-48e5-bb8c-743e7945bfd3",
        "colab": {
          "base_uri": "https://localhost:8080/",
          "height": 33
        }
      },
      "source": [
        "train['company_type'].nunique()"
      ],
      "execution_count": 78,
      "outputs": [
        {
          "output_type": "execute_result",
          "data": {
            "text/plain": [
              "6"
            ]
          },
          "metadata": {
            "tags": []
          },
          "execution_count": 78
        }
      ]
    },
    {
      "cell_type": "code",
      "metadata": {
        "id": "RpkkmT56U8Jh",
        "colab_type": "code",
        "outputId": "5887ab03-4931-4ba9-d9bd-549afbf4d081",
        "colab": {
          "base_uri": "https://localhost:8080/",
          "height": 160
        }
      },
      "source": [
        "train.head(2)"
      ],
      "execution_count": 79,
      "outputs": [
        {
          "output_type": "execute_result",
          "data": {
            "text/html": [
              "<div>\n",
              "<style scoped>\n",
              "    .dataframe tbody tr th:only-of-type {\n",
              "        vertical-align: middle;\n",
              "    }\n",
              "\n",
              "    .dataframe tbody tr th {\n",
              "        vertical-align: top;\n",
              "    }\n",
              "\n",
              "    .dataframe thead th {\n",
              "        text-align: right;\n",
              "    }\n",
              "</style>\n",
              "<table border=\"1\" class=\"dataframe\">\n",
              "  <thead>\n",
              "    <tr style=\"text-align: right;\">\n",
              "      <th></th>\n",
              "      <th>enrollee_id</th>\n",
              "      <th>city</th>\n",
              "      <th>city_development_index</th>\n",
              "      <th>gender</th>\n",
              "      <th>relevent_experience</th>\n",
              "      <th>enrolled_university</th>\n",
              "      <th>education_level</th>\n",
              "      <th>major_discipline</th>\n",
              "      <th>experience</th>\n",
              "      <th>company_size</th>\n",
              "      <th>company_type</th>\n",
              "      <th>last_new_job</th>\n",
              "      <th>training_hours</th>\n",
              "      <th>target</th>\n",
              "    </tr>\n",
              "  </thead>\n",
              "  <tbody>\n",
              "    <tr>\n",
              "      <th>0</th>\n",
              "      <td>23798</td>\n",
              "      <td>city_149</td>\n",
              "      <td>0.689</td>\n",
              "      <td>Male</td>\n",
              "      <td>Has relevent experience</td>\n",
              "      <td>no_enrollment</td>\n",
              "      <td>Graduate</td>\n",
              "      <td>STEM</td>\n",
              "      <td>3</td>\n",
              "      <td>100-500</td>\n",
              "      <td>Pvt Ltd</td>\n",
              "      <td>1</td>\n",
              "      <td>106</td>\n",
              "      <td>0</td>\n",
              "    </tr>\n",
              "    <tr>\n",
              "      <th>1</th>\n",
              "      <td>29166</td>\n",
              "      <td>city_83</td>\n",
              "      <td>0.923</td>\n",
              "      <td>Male</td>\n",
              "      <td>Has relevent experience</td>\n",
              "      <td>no_enrollment</td>\n",
              "      <td>Graduate</td>\n",
              "      <td>STEM</td>\n",
              "      <td>14</td>\n",
              "      <td>&lt;10</td>\n",
              "      <td>Funded Startup</td>\n",
              "      <td>1</td>\n",
              "      <td>69</td>\n",
              "      <td>0</td>\n",
              "    </tr>\n",
              "  </tbody>\n",
              "</table>\n",
              "</div>"
            ],
            "text/plain": [
              "   enrollee_id      city  ...  training_hours target\n",
              "0        23798  city_149  ...             106      0\n",
              "1        29166   city_83  ...              69      0\n",
              "\n",
              "[2 rows x 14 columns]"
            ]
          },
          "metadata": {
            "tags": []
          },
          "execution_count": 79
        }
      ]
    },
    {
      "cell_type": "code",
      "metadata": {
        "id": "5BR3iOkPU8GN",
        "colab_type": "code",
        "outputId": "d41a5bea-c3a8-408b-edf8-08edc0666287",
        "colab": {
          "base_uri": "https://localhost:8080/",
          "height": 268
        }
      },
      "source": [
        "train.dtypes"
      ],
      "execution_count": 80,
      "outputs": [
        {
          "output_type": "execute_result",
          "data": {
            "text/plain": [
              "enrollee_id                 int64\n",
              "city                       object\n",
              "city_development_index    float64\n",
              "gender                     object\n",
              "relevent_experience        object\n",
              "enrolled_university        object\n",
              "education_level            object\n",
              "major_discipline           object\n",
              "experience                 object\n",
              "company_size               object\n",
              "company_type               object\n",
              "last_new_job               object\n",
              "training_hours              int64\n",
              "target                      int64\n",
              "dtype: object"
            ]
          },
          "metadata": {
            "tags": []
          },
          "execution_count": 80
        }
      ]
    },
    {
      "cell_type": "code",
      "metadata": {
        "id": "kVU7Lt-6jiz8",
        "colab_type": "code",
        "outputId": "e7f3c2d7-179b-45c5-8bb7-7acb62b9ecd0",
        "colab": {
          "base_uri": "https://localhost:8080/",
          "height": 134
        }
      },
      "source": [
        "train['last_new_job'].value_counts()"
      ],
      "execution_count": 81,
      "outputs": [
        {
          "output_type": "execute_result",
          "data": {
            "text/plain": [
              "1        7567\n",
              ">4       3339\n",
              "2        2835\n",
              "never    2186\n",
              "4        1038\n",
              "3        1027\n",
              "Name: last_new_job, dtype: int64"
            ]
          },
          "metadata": {
            "tags": []
          },
          "execution_count": 81
        }
      ]
    },
    {
      "cell_type": "code",
      "metadata": {
        "id": "MuEHOmm2jKK9",
        "colab_type": "code",
        "outputId": "f1a8fd0b-886c-4ebe-98bf-457008095e10",
        "colab": {
          "base_uri": "https://localhost:8080/",
          "height": 401
        }
      },
      "source": [
        "train['experience'].value_counts()"
      ],
      "execution_count": 82,
      "outputs": [
        {
          "output_type": "execute_result",
          "data": {
            "text/plain": [
              ">20    3437\n",
              "5      1309\n",
              "4      1250\n",
              "3      1159\n",
              "6      1125\n",
              "2       992\n",
              "9       979\n",
              "10      967\n",
              "7       950\n",
              "8       755\n",
              "15      695\n",
              "11      667\n",
              "14      602\n",
              "16      549\n",
              "12      497\n",
              "1       452\n",
              "<1      416\n",
              "13      412\n",
              "17      347\n",
              "19      308\n",
              "18      286\n",
              "20      146\n",
              "Name: experience, dtype: int64"
            ]
          },
          "metadata": {
            "tags": []
          },
          "execution_count": 82
        }
      ]
    },
    {
      "cell_type": "markdown",
      "metadata": {
        "id": "r2EDgPMjoeD7",
        "colab_type": "text"
      },
      "source": [
        " # CatBoost LGBM, XGBoost , RandomForest"
      ]
    },
    {
      "cell_type": "markdown",
      "metadata": {
        "id": "E08cVc9lk5gq",
        "colab_type": "text"
      },
      "source": [
        "# 1. Missing value imputation with mode"
      ]
    },
    {
      "cell_type": "code",
      "metadata": {
        "id": "3Tqs8oxNlVGB",
        "colab_type": "code",
        "colab": {}
      },
      "source": [
        "trainc = train.copy()"
      ],
      "execution_count": 0,
      "outputs": []
    },
    {
      "cell_type": "code",
      "metadata": {
        "id": "qDuaSvPrlMy7",
        "colab_type": "code",
        "colab": {}
      },
      "source": [
        "cols_with_missing = [col for col in train.columns \n",
        "                                 if train[col].isnull().any()]\n",
        "for col in cols_with_missing:\n",
        "  trainc[col] = trainc[col].fillna(trainc[col].mode()[0])                                "
      ],
      "execution_count": 0,
      "outputs": []
    },
    {
      "cell_type": "code",
      "metadata": {
        "id": "x2AsUT3eU78E",
        "colab_type": "code",
        "outputId": "5b923fe0-f904-41f0-eed6-f636e93064ea",
        "colab": {
          "base_uri": "https://localhost:8080/",
          "height": 268
        }
      },
      "source": [
        "trainc.isna().sum()"
      ],
      "execution_count": 85,
      "outputs": [
        {
          "output_type": "execute_result",
          "data": {
            "text/plain": [
              "enrollee_id               0\n",
              "city                      0\n",
              "city_development_index    0\n",
              "gender                    0\n",
              "relevent_experience       0\n",
              "enrolled_university       0\n",
              "education_level           0\n",
              "major_discipline          0\n",
              "experience                0\n",
              "company_size              0\n",
              "company_type              0\n",
              "last_new_job              0\n",
              "training_hours            0\n",
              "target                    0\n",
              "dtype: int64"
            ]
          },
          "metadata": {
            "tags": []
          },
          "execution_count": 85
        }
      ]
    },
    {
      "cell_type": "code",
      "metadata": {
        "id": "TbsEIJ8uU74o",
        "colab_type": "code",
        "outputId": "2bf82bb0-9b13-424a-eb77-2a8e13b7b88d",
        "colab": {
          "base_uri": "https://localhost:8080/",
          "height": 127
        }
      },
      "source": [
        "test.head(2)"
      ],
      "execution_count": 86,
      "outputs": [
        {
          "output_type": "execute_result",
          "data": {
            "text/html": [
              "<div>\n",
              "<style scoped>\n",
              "    .dataframe tbody tr th:only-of-type {\n",
              "        vertical-align: middle;\n",
              "    }\n",
              "\n",
              "    .dataframe tbody tr th {\n",
              "        vertical-align: top;\n",
              "    }\n",
              "\n",
              "    .dataframe thead th {\n",
              "        text-align: right;\n",
              "    }\n",
              "</style>\n",
              "<table border=\"1\" class=\"dataframe\">\n",
              "  <thead>\n",
              "    <tr style=\"text-align: right;\">\n",
              "      <th></th>\n",
              "      <th>enrollee_id</th>\n",
              "      <th>city</th>\n",
              "      <th>city_development_index</th>\n",
              "      <th>gender</th>\n",
              "      <th>relevent_experience</th>\n",
              "      <th>enrolled_university</th>\n",
              "      <th>education_level</th>\n",
              "      <th>major_discipline</th>\n",
              "      <th>experience</th>\n",
              "      <th>company_size</th>\n",
              "      <th>company_type</th>\n",
              "      <th>last_new_job</th>\n",
              "      <th>training_hours</th>\n",
              "    </tr>\n",
              "  </thead>\n",
              "  <tbody>\n",
              "    <tr>\n",
              "      <th>0</th>\n",
              "      <td>16548</td>\n",
              "      <td>city_33</td>\n",
              "      <td>0.448</td>\n",
              "      <td>NaN</td>\n",
              "      <td>No relevent experience</td>\n",
              "      <td>Full time course</td>\n",
              "      <td>Graduate</td>\n",
              "      <td>STEM</td>\n",
              "      <td>&lt;1</td>\n",
              "      <td>1000-4999</td>\n",
              "      <td>Public Sector</td>\n",
              "      <td>NaN</td>\n",
              "      <td>15</td>\n",
              "    </tr>\n",
              "    <tr>\n",
              "      <th>1</th>\n",
              "      <td>12036</td>\n",
              "      <td>city_28</td>\n",
              "      <td>0.939</td>\n",
              "      <td>Male</td>\n",
              "      <td>No relevent experience</td>\n",
              "      <td>no_enrollment</td>\n",
              "      <td>Graduate</td>\n",
              "      <td>STEM</td>\n",
              "      <td>&gt;20</td>\n",
              "      <td>50-99</td>\n",
              "      <td>Pvt Ltd</td>\n",
              "      <td>1</td>\n",
              "      <td>94</td>\n",
              "    </tr>\n",
              "  </tbody>\n",
              "</table>\n",
              "</div>"
            ],
            "text/plain": [
              "   enrollee_id     city  ...  last_new_job training_hours\n",
              "0        16548  city_33  ...           NaN             15\n",
              "1        12036  city_28  ...             1             94\n",
              "\n",
              "[2 rows x 13 columns]"
            ]
          },
          "metadata": {
            "tags": []
          },
          "execution_count": 86
        }
      ]
    },
    {
      "cell_type": "code",
      "metadata": {
        "id": "2VR4AG6AU7x9",
        "colab_type": "code",
        "colab": {}
      },
      "source": [
        "testc = test.copy()\n",
        "cols_with_missing = [col for col in testc.columns \n",
        "                                 if testc[col].isnull().any()]\n",
        "\n",
        "for col in cols_with_missing:\n",
        "  testc[col] = testc[col].fillna(testc[col].mode()[0])"
      ],
      "execution_count": 0,
      "outputs": []
    },
    {
      "cell_type": "code",
      "metadata": {
        "id": "QhelpdoqU71D",
        "colab_type": "code",
        "outputId": "78c84661-42d7-42e8-d235-8ea4afdeab0e",
        "colab": {
          "base_uri": "https://localhost:8080/",
          "height": 251
        }
      },
      "source": [
        "testc.isna().sum()"
      ],
      "execution_count": 88,
      "outputs": [
        {
          "output_type": "execute_result",
          "data": {
            "text/plain": [
              "enrollee_id               0\n",
              "city                      0\n",
              "city_development_index    0\n",
              "gender                    0\n",
              "relevent_experience       0\n",
              "enrolled_university       0\n",
              "education_level           0\n",
              "major_discipline          0\n",
              "experience                0\n",
              "company_size              0\n",
              "company_type              0\n",
              "last_new_job              0\n",
              "training_hours            0\n",
              "dtype: int64"
            ]
          },
          "metadata": {
            "tags": []
          },
          "execution_count": 88
        }
      ]
    },
    {
      "cell_type": "code",
      "metadata": {
        "id": "hOq4VyEKonrS",
        "colab_type": "code",
        "colab": {}
      },
      "source": [
        "trainc = pd.get_dummies(trainc, columns = ['city','gender', 'relevent_experience','enrolled_university','education_level','major_discipline','experience','company_size','company_type','last_new_job'])\n",
        "testc = pd.get_dummies(testc, columns = ['city','gender', 'relevent_experience','enrolled_university','education_level','major_discipline','experience','company_size','company_type','last_new_job'])"
      ],
      "execution_count": 0,
      "outputs": []
    },
    {
      "cell_type": "code",
      "metadata": {
        "id": "oEW14c_5nqpO",
        "colab_type": "code",
        "colab": {}
      },
      "source": [
        "X_train = trainc.drop(['target'], axis=1)\n",
        "y_train = trainc['target']\n",
        "X_test = testc"
      ],
      "execution_count": 0,
      "outputs": []
    },
    {
      "cell_type": "code",
      "metadata": {
        "id": "oq8ICNQNoAOX",
        "colab_type": "code",
        "outputId": "d842898d-66e1-466c-c3e5-0339c23a84f7",
        "colab": {
          "base_uri": "https://localhost:8080/",
          "height": 107
        }
      },
      "source": [
        "sample.head(2)"
      ],
      "execution_count": 91,
      "outputs": [
        {
          "output_type": "execute_result",
          "data": {
            "text/html": [
              "<div>\n",
              "<style scoped>\n",
              "    .dataframe tbody tr th:only-of-type {\n",
              "        vertical-align: middle;\n",
              "    }\n",
              "\n",
              "    .dataframe tbody tr th {\n",
              "        vertical-align: top;\n",
              "    }\n",
              "\n",
              "    .dataframe thead th {\n",
              "        text-align: right;\n",
              "    }\n",
              "</style>\n",
              "<table border=\"1\" class=\"dataframe\">\n",
              "  <thead>\n",
              "    <tr style=\"text-align: right;\">\n",
              "      <th></th>\n",
              "      <th>enrollee_id</th>\n",
              "      <th>target</th>\n",
              "    </tr>\n",
              "  </thead>\n",
              "  <tbody>\n",
              "    <tr>\n",
              "      <th>0</th>\n",
              "      <td>16548</td>\n",
              "      <td>0</td>\n",
              "    </tr>\n",
              "    <tr>\n",
              "      <th>1</th>\n",
              "      <td>12036</td>\n",
              "      <td>0</td>\n",
              "    </tr>\n",
              "  </tbody>\n",
              "</table>\n",
              "</div>"
            ],
            "text/plain": [
              "   enrollee_id  target\n",
              "0        16548       0\n",
              "1        12036       0"
            ]
          },
          "metadata": {
            "tags": []
          },
          "execution_count": 91
        }
      ]
    },
    {
      "cell_type": "markdown",
      "metadata": {
        "id": "dVTi3Cthp-D2",
        "colab_type": "text"
      },
      "source": [
        "## 1. RandomForest"
      ]
    },
    {
      "cell_type": "code",
      "metadata": {
        "id": "BWd5UFVPU7ub",
        "colab_type": "code",
        "colab": {}
      },
      "source": [
        "from sklearn.ensemble import RandomForestClassifier\n",
        "\n",
        "#build the classifier\n",
        "clf = RandomForestClassifier()\n",
        "\n",
        "#train the classifier\n",
        "clf.fit(X_train, y_train)\n",
        "\n",
        "#test the classifier\n",
        "preds_rf = clf.predict(X_test)\n",
        "\n",
        "sample['enrollee_id'] = X_test['enrollee_id']\n",
        "sample['target'] = preds_rf\n",
        "\n",
        "sample.to_csv('/content/drive/My Drive/Competitions - Neha/AV-JanataHack-HR Analytics/sub1.csv', index=None, header= True)"
      ],
      "execution_count": 0,
      "outputs": []
    },
    {
      "cell_type": "markdown",
      "metadata": {
        "id": "tkEpJl5YqCrf",
        "colab_type": "text"
      },
      "source": [
        "## 2. LightGBM"
      ]
    },
    {
      "cell_type": "code",
      "metadata": {
        "id": "oa-RQSKvqgI9",
        "colab_type": "code",
        "colab": {}
      },
      "source": [
        "X_train = trainc.drop(['target'], axis=1)\n",
        "y_train = trainc['target']\n",
        "X_test = testc"
      ],
      "execution_count": 0,
      "outputs": []
    },
    {
      "cell_type": "code",
      "metadata": {
        "id": "oakmXd6SU7m5",
        "colab_type": "code",
        "colab": {}
      },
      "source": [
        "import lightgbm as lgbm\n",
        "d_train = lgbm.Dataset(X_train, label=y_train)\n",
        "\n",
        "params = {}\n",
        "params['learning_rate'] = 0.003\n",
        "params['boosting_type'] = 'gbdt'\n",
        "params['objective'] = 'binary'\n",
        "params['metric'] = 'binary_logloss'\n",
        "params['sub_feature'] = 0.5\n",
        "params['num_leaves'] = 20\n",
        "params['min_data'] = 20\n",
        "params['max_depth'] = 20\n",
        "\n",
        "clf = lgbm.train(params, d_train)\n",
        "\n",
        "#Prediction\n",
        "y_pred_lgbm = clf.predict(X_test)"
      ],
      "execution_count": 0,
      "outputs": []
    },
    {
      "cell_type": "code",
      "metadata": {
        "id": "MqZLWJtAU7jf",
        "colab_type": "code",
        "colab": {}
      },
      "source": [
        "sample['enrollee_id'] = X_test['enrollee_id']\n",
        "sample['target'] = y_pred_lgbm\n",
        "\n",
        "sample.to_csv('/content/drive/My Drive/Competitions - Neha/AV-JanataHack-HR Analytics/sub3.csv', index=None, header= True)"
      ],
      "execution_count": 0,
      "outputs": []
    },
    {
      "cell_type": "code",
      "metadata": {
        "id": "qFt5b9lYXx72",
        "colab_type": "code",
        "colab": {}
      },
      "source": [
        "import lightgbm as lgbm\n",
        "d_train = lgbm.Dataset(X_train, label=y_train)\n",
        "\n",
        "params = {}\n",
        "params['learning_rate'] = 0.001\n",
        "params['boosting_type'] = 'gbdt'\n",
        "params['objective'] = 'binary'\n",
        "params['metric'] = 'auc'\n",
        "params['sub_feature'] = 0.8\n",
        "params['num_leaves'] = 50\n",
        "params['min_data'] = 10\n",
        "params['max_depth'] = 50\n",
        "\n",
        "clf = lgbm.train(params, d_train)\n",
        "\n",
        "#Prediction\n",
        "y_pred_lgbm1 = clf.predict(X_test)"
      ],
      "execution_count": 0,
      "outputs": []
    },
    {
      "cell_type": "code",
      "metadata": {
        "id": "aXX307cZX27N",
        "colab_type": "code",
        "colab": {}
      },
      "source": [
        "sample['enrollee_id'] = X_test['enrollee_id']\n",
        "sample['target'] = y_pred_lgbm1\n",
        "\n",
        "sample.to_csv('/content/drive/My Drive/Competitions - Neha/AV-JanataHack-HR Analytics/sub7.csv', index=None, header= True)"
      ],
      "execution_count": 0,
      "outputs": []
    },
    {
      "cell_type": "markdown",
      "metadata": {
        "id": "We5U6DRbIeaf",
        "colab_type": "text"
      },
      "source": [
        "## 3.Neural Net"
      ]
    },
    {
      "cell_type": "code",
      "metadata": {
        "id": "U-8oPUghIyTH",
        "colab_type": "code",
        "colab": {}
      },
      "source": [
        "X_train = trainc.drop(['target'], axis=1)\n",
        "y_train = trainc['target']\n",
        "X_test = testc"
      ],
      "execution_count": 0,
      "outputs": []
    },
    {
      "cell_type": "code",
      "metadata": {
        "id": "ktR4heMTKFus",
        "colab_type": "code",
        "outputId": "90aab147-04a4-4220-fbb9-9df472c300e1",
        "colab": {
          "base_uri": "https://localhost:8080/",
          "height": 33
        }
      },
      "source": [
        "print(X_train.shape, y_train.shape)"
      ],
      "execution_count": 0,
      "outputs": [
        {
          "output_type": "stream",
          "text": [
            "(18359, 187) (18359,)\n"
          ],
          "name": "stdout"
        }
      ]
    },
    {
      "cell_type": "code",
      "metadata": {
        "id": "Iw2U7Z-JU7gL",
        "colab_type": "code",
        "colab": {}
      },
      "source": [
        "#standardizing the input feature\n",
        "from sklearn.preprocessing import StandardScaler\n",
        "sc = StandardScaler()\n",
        "X_train = sc.fit_transform(X_train)\n",
        "X_test = sc.fit_transform(X_test)"
      ],
      "execution_count": 0,
      "outputs": []
    },
    {
      "cell_type": "code",
      "metadata": {
        "id": "2YunMClOU7Z0",
        "colab_type": "code",
        "colab": {}
      },
      "source": [
        "from keras import Sequential\n",
        "from keras.layers import Dense"
      ],
      "execution_count": 0,
      "outputs": []
    },
    {
      "cell_type": "code",
      "metadata": {
        "id": "04Oz2NttU7WO",
        "colab_type": "code",
        "colab": {}
      },
      "source": [
        "classifier = Sequential()\n",
        "#First Hidden Layer\n",
        "classifier.add(Dense(100, activation='relu', kernel_initializer='random_normal', input_dim=187))\n",
        "#Second  Hidden Layer\n",
        "classifier.add(Dense(100, activation='relu', kernel_initializer='random_normal'))\n",
        "#Output Layer\n",
        "classifier.add(Dense(1, activation='sigmoid', kernel_initializer='random_normal'))"
      ],
      "execution_count": 0,
      "outputs": []
    },
    {
      "cell_type": "code",
      "metadata": {
        "id": "CmeFr_8AU7TB",
        "colab_type": "code",
        "colab": {}
      },
      "source": [
        "#Compiling the neural network\n",
        "classifier.compile(optimizer ='adam',loss='binary_crossentropy', metrics =['accuracy'])"
      ],
      "execution_count": 0,
      "outputs": []
    },
    {
      "cell_type": "code",
      "metadata": {
        "id": "gdGo-SDhU7Pv",
        "colab_type": "code",
        "outputId": "d5d18142-58dd-4ff9-a757-453e8f5b7663",
        "colab": {
          "base_uri": "https://localhost:8080/",
          "height": 1000
        }
      },
      "source": [
        "#Fitting the data to the training dataset\n",
        "classifier.fit(X_train,y_train, batch_size=10, epochs=100)"
      ],
      "execution_count": 0,
      "outputs": [
        {
          "output_type": "stream",
          "text": [
            "Epoch 1/100\n",
            "18359/18359 [==============================] - 3s 156us/step - loss: 0.3890 - accuracy: 0.8677\n",
            "Epoch 2/100\n",
            "18359/18359 [==============================] - 2s 134us/step - loss: 0.3726 - accuracy: 0.8678\n",
            "Epoch 3/100\n",
            "18359/18359 [==============================] - 2s 135us/step - loss: 0.3684 - accuracy: 0.8680\n",
            "Epoch 4/100\n",
            "18359/18359 [==============================] - 3s 137us/step - loss: 0.3637 - accuracy: 0.8679\n",
            "Epoch 5/100\n",
            "18359/18359 [==============================] - 2s 134us/step - loss: 0.3585 - accuracy: 0.8685\n",
            "Epoch 6/100\n",
            "18359/18359 [==============================] - 2s 132us/step - loss: 0.3512 - accuracy: 0.8687\n",
            "Epoch 7/100\n",
            "18359/18359 [==============================] - 2s 133us/step - loss: 0.3413 - accuracy: 0.8701\n",
            "Epoch 8/100\n",
            "18359/18359 [==============================] - 3s 136us/step - loss: 0.3296 - accuracy: 0.8712\n",
            "Epoch 9/100\n",
            "18359/18359 [==============================] - 2s 134us/step - loss: 0.3172 - accuracy: 0.8748\n",
            "Epoch 10/100\n",
            "18359/18359 [==============================] - 2s 131us/step - loss: 0.3029 - accuracy: 0.8779\n",
            "Epoch 11/100\n",
            "18359/18359 [==============================] - 2s 135us/step - loss: 0.2886 - accuracy: 0.8829\n",
            "Epoch 12/100\n",
            "18359/18359 [==============================] - 2s 129us/step - loss: 0.2744 - accuracy: 0.8859\n",
            "Epoch 13/100\n",
            "18359/18359 [==============================] - 2s 132us/step - loss: 0.2612 - accuracy: 0.8898\n",
            "Epoch 14/100\n",
            "18359/18359 [==============================] - 2s 130us/step - loss: 0.2464 - accuracy: 0.8975\n",
            "Epoch 15/100\n",
            "18359/18359 [==============================] - 2s 135us/step - loss: 0.2348 - accuracy: 0.9016\n",
            "Epoch 16/100\n",
            "18359/18359 [==============================] - 2s 132us/step - loss: 0.2206 - accuracy: 0.9084\n",
            "Epoch 17/100\n",
            "18359/18359 [==============================] - 2s 136us/step - loss: 0.2091 - accuracy: 0.9131\n",
            "Epoch 18/100\n",
            "18359/18359 [==============================] - 3s 140us/step - loss: 0.1970 - accuracy: 0.9189\n",
            "Epoch 19/100\n",
            "18359/18359 [==============================] - 3s 137us/step - loss: 0.1863 - accuracy: 0.9219\n",
            "Epoch 20/100\n",
            "18359/18359 [==============================] - 3s 141us/step - loss: 0.1760 - accuracy: 0.9277\n",
            "Epoch 21/100\n",
            "18359/18359 [==============================] - 2s 132us/step - loss: 0.1705 - accuracy: 0.9298\n",
            "Epoch 22/100\n",
            "18359/18359 [==============================] - 2s 135us/step - loss: 0.1589 - accuracy: 0.9351\n",
            "Epoch 23/100\n",
            "18359/18359 [==============================] - 2s 131us/step - loss: 0.1544 - accuracy: 0.9384\n",
            "Epoch 24/100\n",
            "18359/18359 [==============================] - 2s 129us/step - loss: 0.1444 - accuracy: 0.9424\n",
            "Epoch 25/100\n",
            "18359/18359 [==============================] - 2s 130us/step - loss: 0.1399 - accuracy: 0.9428\n",
            "Epoch 26/100\n",
            "18359/18359 [==============================] - 3s 140us/step - loss: 0.1358 - accuracy: 0.9459\n",
            "Epoch 27/100\n",
            "18359/18359 [==============================] - 2s 130us/step - loss: 0.1284 - accuracy: 0.9499\n",
            "Epoch 28/100\n",
            "18359/18359 [==============================] - 3s 139us/step - loss: 0.1259 - accuracy: 0.9491\n",
            "Epoch 29/100\n",
            "18359/18359 [==============================] - 2s 132us/step - loss: 0.1197 - accuracy: 0.9514\n",
            "Epoch 30/100\n",
            "18359/18359 [==============================] - 2s 132us/step - loss: 0.1133 - accuracy: 0.9538\n",
            "Epoch 31/100\n",
            "18359/18359 [==============================] - 3s 136us/step - loss: 0.1146 - accuracy: 0.9532\n",
            "Epoch 32/100\n",
            "18359/18359 [==============================] - 2s 135us/step - loss: 0.1103 - accuracy: 0.9554\n",
            "Epoch 33/100\n",
            "18359/18359 [==============================] - 2s 135us/step - loss: 0.1046 - accuracy: 0.9576\n",
            "Epoch 34/100\n",
            "18359/18359 [==============================] - 2s 131us/step - loss: 0.1046 - accuracy: 0.9575\n",
            "Epoch 35/100\n",
            "18359/18359 [==============================] - 2s 128us/step - loss: 0.1041 - accuracy: 0.9575\n",
            "Epoch 36/100\n",
            "18359/18359 [==============================] - 2s 128us/step - loss: 0.1018 - accuracy: 0.9581\n",
            "Epoch 37/100\n",
            "18359/18359 [==============================] - 2s 129us/step - loss: 0.0937 - accuracy: 0.9635\n",
            "Epoch 38/100\n",
            "18359/18359 [==============================] - 2s 129us/step - loss: 0.0908 - accuracy: 0.9625\n",
            "Epoch 39/100\n",
            "18359/18359 [==============================] - 2s 132us/step - loss: 0.0975 - accuracy: 0.9620\n",
            "Epoch 40/100\n",
            "18359/18359 [==============================] - 2s 131us/step - loss: 0.0902 - accuracy: 0.9646\n",
            "Epoch 41/100\n",
            "18359/18359 [==============================] - 3s 142us/step - loss: 0.0894 - accuracy: 0.9632\n",
            "Epoch 42/100\n",
            "18359/18359 [==============================] - 2s 130us/step - loss: 0.0878 - accuracy: 0.9645\n",
            "Epoch 43/100\n",
            "18359/18359 [==============================] - 3s 139us/step - loss: 0.0912 - accuracy: 0.9643\n",
            "Epoch 44/100\n",
            "18359/18359 [==============================] - 3s 138us/step - loss: 0.0838 - accuracy: 0.9673\n",
            "Epoch 45/100\n",
            "18359/18359 [==============================] - 3s 138us/step - loss: 0.0858 - accuracy: 0.9671\n",
            "Epoch 46/100\n",
            "18359/18359 [==============================] - 2s 135us/step - loss: 0.0828 - accuracy: 0.9676\n",
            "Epoch 47/100\n",
            "18359/18359 [==============================] - 2s 129us/step - loss: 0.0860 - accuracy: 0.9673\n",
            "Epoch 48/100\n",
            "18359/18359 [==============================] - 3s 138us/step - loss: 0.0769 - accuracy: 0.9702\n",
            "Epoch 49/100\n",
            "18359/18359 [==============================] - 2s 132us/step - loss: 0.0770 - accuracy: 0.9701\n",
            "Epoch 50/100\n",
            "18359/18359 [==============================] - 2s 135us/step - loss: 0.0760 - accuracy: 0.9694\n",
            "Epoch 51/100\n",
            "18359/18359 [==============================] - 2s 129us/step - loss: 0.0748 - accuracy: 0.9697\n",
            "Epoch 52/100\n",
            "18359/18359 [==============================] - 2s 136us/step - loss: 0.0804 - accuracy: 0.9691\n",
            "Epoch 53/100\n",
            "18359/18359 [==============================] - 2s 130us/step - loss: 0.0732 - accuracy: 0.9711\n",
            "Epoch 54/100\n",
            "18359/18359 [==============================] - 2s 134us/step - loss: 0.0715 - accuracy: 0.9711\n",
            "Epoch 55/100\n",
            "18359/18359 [==============================] - 2s 132us/step - loss: 0.0699 - accuracy: 0.9718\n",
            "Epoch 56/100\n",
            "18359/18359 [==============================] - 3s 142us/step - loss: 0.0705 - accuracy: 0.9723\n",
            "Epoch 57/100\n",
            "18359/18359 [==============================] - 2s 132us/step - loss: 0.0708 - accuracy: 0.9717\n",
            "Epoch 58/100\n",
            "18359/18359 [==============================] - 2s 129us/step - loss: 0.0660 - accuracy: 0.9739\n",
            "Epoch 59/100\n",
            "18359/18359 [==============================] - 2s 131us/step - loss: 0.0689 - accuracy: 0.9726\n",
            "Epoch 60/100\n",
            "18359/18359 [==============================] - 3s 140us/step - loss: 0.0665 - accuracy: 0.9736\n",
            "Epoch 61/100\n",
            "18359/18359 [==============================] - 3s 139us/step - loss: 0.0650 - accuracy: 0.9735\n",
            "Epoch 62/100\n",
            "18359/18359 [==============================] - 2s 128us/step - loss: 0.0654 - accuracy: 0.9739\n",
            "Epoch 63/100\n",
            "18359/18359 [==============================] - 2s 135us/step - loss: 0.0609 - accuracy: 0.9753\n",
            "Epoch 64/100\n",
            "18359/18359 [==============================] - 2s 135us/step - loss: 0.0619 - accuracy: 0.9755\n",
            "Epoch 65/100\n",
            "18359/18359 [==============================] - 3s 136us/step - loss: 0.0603 - accuracy: 0.9755\n",
            "Epoch 66/100\n",
            "18359/18359 [==============================] - 2s 134us/step - loss: 0.0603 - accuracy: 0.9760\n",
            "Epoch 67/100\n",
            "18359/18359 [==============================] - 2s 131us/step - loss: 0.0621 - accuracy: 0.9761\n",
            "Epoch 68/100\n",
            "18359/18359 [==============================] - 3s 138us/step - loss: 0.0606 - accuracy: 0.9760\n",
            "Epoch 69/100\n",
            "18359/18359 [==============================] - 2s 129us/step - loss: 0.0589 - accuracy: 0.9757\n",
            "Epoch 70/100\n",
            "18359/18359 [==============================] - 3s 136us/step - loss: 0.0595 - accuracy: 0.9763\n",
            "Epoch 71/100\n",
            "18359/18359 [==============================] - 2s 129us/step - loss: 0.0657 - accuracy: 0.9754\n",
            "Epoch 72/100\n",
            "18359/18359 [==============================] - 2s 135us/step - loss: 0.0631 - accuracy: 0.9765\n",
            "Epoch 73/100\n",
            "18359/18359 [==============================] - 3s 139us/step - loss: 0.0561 - accuracy: 0.9782\n",
            "Epoch 74/100\n",
            "18359/18359 [==============================] - 3s 137us/step - loss: 0.0588 - accuracy: 0.9771\n",
            "Epoch 75/100\n",
            "18359/18359 [==============================] - 2s 134us/step - loss: 0.0581 - accuracy: 0.9767\n",
            "Epoch 76/100\n",
            "18359/18359 [==============================] - 2s 130us/step - loss: 0.0533 - accuracy: 0.9794\n",
            "Epoch 77/100\n",
            "18359/18359 [==============================] - 2s 130us/step - loss: 0.0599 - accuracy: 0.9779\n",
            "Epoch 78/100\n",
            "18359/18359 [==============================] - 2s 136us/step - loss: 0.0614 - accuracy: 0.9756\n",
            "Epoch 79/100\n",
            "18359/18359 [==============================] - 2s 131us/step - loss: 0.0525 - accuracy: 0.9797\n",
            "Epoch 80/100\n",
            "18359/18359 [==============================] - 3s 141us/step - loss: 0.0550 - accuracy: 0.9794\n",
            "Epoch 81/100\n",
            "18359/18359 [==============================] - 2s 131us/step - loss: 0.0526 - accuracy: 0.9794\n",
            "Epoch 82/100\n",
            "18359/18359 [==============================] - 2s 134us/step - loss: 0.0531 - accuracy: 0.9800\n",
            "Epoch 83/100\n",
            "18359/18359 [==============================] - 2s 130us/step - loss: 0.0546 - accuracy: 0.9779\n",
            "Epoch 84/100\n",
            "18359/18359 [==============================] - 2s 134us/step - loss: 0.0502 - accuracy: 0.9798\n",
            "Epoch 85/100\n",
            "18359/18359 [==============================] - 2s 133us/step - loss: 0.0510 - accuracy: 0.9801\n",
            "Epoch 86/100\n",
            "18359/18359 [==============================] - 2s 133us/step - loss: 0.0512 - accuracy: 0.9798\n",
            "Epoch 87/100\n",
            "18359/18359 [==============================] - 3s 142us/step - loss: 0.0513 - accuracy: 0.9798\n",
            "Epoch 88/100\n",
            "18359/18359 [==============================] - 3s 144us/step - loss: 0.0504 - accuracy: 0.9801\n",
            "Epoch 89/100\n",
            "18359/18359 [==============================] - 3s 146us/step - loss: 0.0540 - accuracy: 0.9795\n",
            "Epoch 90/100\n",
            "18359/18359 [==============================] - 3s 149us/step - loss: 0.0491 - accuracy: 0.9804\n",
            "Epoch 91/100\n",
            "18359/18359 [==============================] - 2s 134us/step - loss: 0.0475 - accuracy: 0.9812\n",
            "Epoch 92/100\n",
            "18359/18359 [==============================] - 2s 132us/step - loss: 0.0518 - accuracy: 0.9819\n",
            "Epoch 93/100\n",
            "18359/18359 [==============================] - 3s 139us/step - loss: 0.0502 - accuracy: 0.9808\n",
            "Epoch 94/100\n",
            "18359/18359 [==============================] - 2s 135us/step - loss: 0.0498 - accuracy: 0.9793\n",
            "Epoch 95/100\n",
            "18359/18359 [==============================] - 3s 139us/step - loss: 0.0452 - accuracy: 0.9812\n",
            "Epoch 96/100\n",
            "18359/18359 [==============================] - 3s 137us/step - loss: 0.0475 - accuracy: 0.9815\n",
            "Epoch 97/100\n",
            "18359/18359 [==============================] - 2s 127us/step - loss: 0.0481 - accuracy: 0.9815\n",
            "Epoch 98/100\n",
            "18359/18359 [==============================] - 2s 129us/step - loss: 0.0458 - accuracy: 0.9819\n",
            "Epoch 99/100\n",
            "18359/18359 [==============================] - 3s 139us/step - loss: 0.0490 - accuracy: 0.9805\n",
            "Epoch 100/100\n",
            "18359/18359 [==============================] - 2s 132us/step - loss: 0.0480 - accuracy: 0.9820\n"
          ],
          "name": "stdout"
        },
        {
          "output_type": "execute_result",
          "data": {
            "text/plain": [
              "<keras.callbacks.callbacks.History at 0x7f5d694c0588>"
            ]
          },
          "metadata": {
            "tags": []
          },
          "execution_count": 41
        }
      ]
    },
    {
      "cell_type": "code",
      "metadata": {
        "id": "5sdOWVYmU7Mp",
        "colab_type": "code",
        "outputId": "d9929681-78a7-4feb-804a-8f9e8334755c",
        "colab": {
          "base_uri": "https://localhost:8080/",
          "height": 50
        }
      },
      "source": [
        "eval_model=classifier.evaluate(X_train, y_train)\n",
        "eval_model\n"
      ],
      "execution_count": 0,
      "outputs": [
        {
          "output_type": "stream",
          "text": [
            "18359/18359 [==============================] - 0s 21us/step\n"
          ],
          "name": "stdout"
        },
        {
          "output_type": "execute_result",
          "data": {
            "text/plain": [
              "[0.04211109913158402, 0.983495831489563]"
            ]
          },
          "metadata": {
            "tags": []
          },
          "execution_count": 43
        }
      ]
    },
    {
      "cell_type": "code",
      "metadata": {
        "id": "zoRf_DceU7JG",
        "colab_type": "code",
        "colab": {}
      },
      "source": [
        "y_pred=classifier.predict(X_test)\n",
        "y_pred =(y_pred>0.5)"
      ],
      "execution_count": 0,
      "outputs": []
    },
    {
      "cell_type": "code",
      "metadata": {
        "id": "dEKNeWw4TmfJ",
        "colab_type": "code",
        "outputId": "b2e3e5e1-f777-4240-8b0e-c1c4ca599290",
        "colab": {
          "base_uri": "https://localhost:8080/",
          "height": 134
        }
      },
      "source": [
        "y_pred"
      ],
      "execution_count": 0,
      "outputs": [
        {
          "output_type": "execute_result",
          "data": {
            "text/plain": [
              "array([[False],\n",
              "       [False],\n",
              "       [False],\n",
              "       ...,\n",
              "       [False],\n",
              "       [False],\n",
              "       [ True]])"
            ]
          },
          "metadata": {
            "tags": []
          },
          "execution_count": 100
        }
      ]
    },
    {
      "cell_type": "code",
      "metadata": {
        "id": "_S4w2PzdPjf4",
        "colab_type": "code",
        "outputId": "bd41fa2b-221d-4aac-a335-b0a7a2167b61",
        "colab": {
          "base_uri": "https://localhost:8080/",
          "height": 196
        }
      },
      "source": [
        "type(y_pred)\n",
        "y_pred = pd.DataFrame(y_pred)\n",
        "y_pred.head()"
      ],
      "execution_count": 0,
      "outputs": [
        {
          "output_type": "execute_result",
          "data": {
            "text/html": [
              "<div>\n",
              "<style scoped>\n",
              "    .dataframe tbody tr th:only-of-type {\n",
              "        vertical-align: middle;\n",
              "    }\n",
              "\n",
              "    .dataframe tbody tr th {\n",
              "        vertical-align: top;\n",
              "    }\n",
              "\n",
              "    .dataframe thead th {\n",
              "        text-align: right;\n",
              "    }\n",
              "</style>\n",
              "<table border=\"1\" class=\"dataframe\">\n",
              "  <thead>\n",
              "    <tr style=\"text-align: right;\">\n",
              "      <th></th>\n",
              "      <th>0</th>\n",
              "    </tr>\n",
              "  </thead>\n",
              "  <tbody>\n",
              "    <tr>\n",
              "      <th>0</th>\n",
              "      <td>False</td>\n",
              "    </tr>\n",
              "    <tr>\n",
              "      <th>1</th>\n",
              "      <td>False</td>\n",
              "    </tr>\n",
              "    <tr>\n",
              "      <th>2</th>\n",
              "      <td>False</td>\n",
              "    </tr>\n",
              "    <tr>\n",
              "      <th>3</th>\n",
              "      <td>False</td>\n",
              "    </tr>\n",
              "    <tr>\n",
              "      <th>4</th>\n",
              "      <td>False</td>\n",
              "    </tr>\n",
              "  </tbody>\n",
              "</table>\n",
              "</div>"
            ],
            "text/plain": [
              "       0\n",
              "0  False\n",
              "1  False\n",
              "2  False\n",
              "3  False\n",
              "4  False"
            ]
          },
          "metadata": {
            "tags": []
          },
          "execution_count": 101
        }
      ]
    },
    {
      "cell_type": "code",
      "metadata": {
        "id": "95CrqcjNWoOD",
        "colab_type": "code",
        "colab": {}
      },
      "source": [
        "y_pred.columns = ['target']"
      ],
      "execution_count": 0,
      "outputs": []
    },
    {
      "cell_type": "code",
      "metadata": {
        "id": "tXDXiQWgWvv1",
        "colab_type": "code",
        "outputId": "d2529e04-6140-4ad2-f8e5-a222e5315da9",
        "colab": {
          "base_uri": "https://localhost:8080/",
          "height": 107
        }
      },
      "source": [
        "y_pred.head(2)"
      ],
      "execution_count": 0,
      "outputs": [
        {
          "output_type": "execute_result",
          "data": {
            "text/html": [
              "<div>\n",
              "<style scoped>\n",
              "    .dataframe tbody tr th:only-of-type {\n",
              "        vertical-align: middle;\n",
              "    }\n",
              "\n",
              "    .dataframe tbody tr th {\n",
              "        vertical-align: top;\n",
              "    }\n",
              "\n",
              "    .dataframe thead th {\n",
              "        text-align: right;\n",
              "    }\n",
              "</style>\n",
              "<table border=\"1\" class=\"dataframe\">\n",
              "  <thead>\n",
              "    <tr style=\"text-align: right;\">\n",
              "      <th></th>\n",
              "      <th>target</th>\n",
              "    </tr>\n",
              "  </thead>\n",
              "  <tbody>\n",
              "    <tr>\n",
              "      <th>0</th>\n",
              "      <td>False</td>\n",
              "    </tr>\n",
              "    <tr>\n",
              "      <th>1</th>\n",
              "      <td>False</td>\n",
              "    </tr>\n",
              "  </tbody>\n",
              "</table>\n",
              "</div>"
            ],
            "text/plain": [
              "   target\n",
              "0   False\n",
              "1   False"
            ]
          },
          "metadata": {
            "tags": []
          },
          "execution_count": 103
        }
      ]
    },
    {
      "cell_type": "code",
      "metadata": {
        "id": "wYwoywMiLgNm",
        "colab_type": "code",
        "colab": {}
      },
      "source": [
        "y_pred['target'].replace(False, 0,inplace=True)\n",
        "y_pred['target'].replace(True, 1,inplace=True)"
      ],
      "execution_count": 0,
      "outputs": []
    },
    {
      "cell_type": "code",
      "metadata": {
        "id": "xzn5BLXvXSSI",
        "colab_type": "code",
        "outputId": "4ac24339-2ab1-408e-bf10-c114241e736d",
        "colab": {
          "base_uri": "https://localhost:8080/",
          "height": 107
        }
      },
      "source": [
        "y_pred['target'] = y_pred['target'].astype(int)\n",
        "y_pred.head(2)"
      ],
      "execution_count": 0,
      "outputs": [
        {
          "output_type": "execute_result",
          "data": {
            "text/html": [
              "<div>\n",
              "<style scoped>\n",
              "    .dataframe tbody tr th:only-of-type {\n",
              "        vertical-align: middle;\n",
              "    }\n",
              "\n",
              "    .dataframe tbody tr th {\n",
              "        vertical-align: top;\n",
              "    }\n",
              "\n",
              "    .dataframe thead th {\n",
              "        text-align: right;\n",
              "    }\n",
              "</style>\n",
              "<table border=\"1\" class=\"dataframe\">\n",
              "  <thead>\n",
              "    <tr style=\"text-align: right;\">\n",
              "      <th></th>\n",
              "      <th>target</th>\n",
              "    </tr>\n",
              "  </thead>\n",
              "  <tbody>\n",
              "    <tr>\n",
              "      <th>0</th>\n",
              "      <td>0</td>\n",
              "    </tr>\n",
              "    <tr>\n",
              "      <th>1</th>\n",
              "      <td>0</td>\n",
              "    </tr>\n",
              "  </tbody>\n",
              "</table>\n",
              "</div>"
            ],
            "text/plain": [
              "   target\n",
              "0       0\n",
              "1       0"
            ]
          },
          "metadata": {
            "tags": []
          },
          "execution_count": 105
        }
      ]
    },
    {
      "cell_type": "code",
      "metadata": {
        "id": "BW4lXCeqU7Ft",
        "colab_type": "code",
        "colab": {}
      },
      "source": [
        "sample['enrollee_id'] = test['enrollee_id']\n",
        "sample['target'] = y_pred\n",
        "\n",
        "sample.to_csv('/content/drive/My Drive/Competitions - Neha/AV-JanataHack-HR Analytics/sub4.csv', index=None, header= True)"
      ],
      "execution_count": 0,
      "outputs": []
    },
    {
      "cell_type": "markdown",
      "metadata": {
        "id": "3PZnNUL0ZCYf",
        "colab_type": "text"
      },
      "source": [
        "## 4. XGBoost"
      ]
    },
    {
      "cell_type": "code",
      "metadata": {
        "id": "RIOcNxoUpE3q",
        "colab_type": "code",
        "colab": {}
      },
      "source": [
        "import re\n",
        "\n",
        "regex = re.compile(r\"\\[|\\]|<\", re.IGNORECASE)\n",
        "\n",
        "X_train.columns = [regex.sub(\"_\", col) if any(x in str(col) for x in set(('[', ']', '<'))) else col for col in X_train.columns.values]\n",
        "X_test.columns = [regex.sub(\"_\", col) if any(x in str(col) for x in set(('[', ']', '<'))) else col for col in X_test.columns.values]"
      ],
      "execution_count": 0,
      "outputs": []
    },
    {
      "cell_type": "code",
      "metadata": {
        "id": "JRoO-z5rhrkW",
        "colab_type": "code",
        "colab": {}
      },
      "source": [
        "import xgboost as xgb"
      ],
      "execution_count": 0,
      "outputs": []
    },
    {
      "cell_type": "code",
      "metadata": {
        "id": "oOHsg16dU674",
        "colab_type": "code",
        "colab": {}
      },
      "source": [
        "model1 = xgb.XGBClassifier()\n",
        "model2 = xgb.XGBClassifier(n_estimators=100, max_depth=8, learning_rate=0.1, subsample=0.5)"
      ],
      "execution_count": 0,
      "outputs": []
    },
    {
      "cell_type": "code",
      "metadata": {
        "id": "QgHBp9J8U64r",
        "colab_type": "code",
        "colab": {}
      },
      "source": [
        "train_model1 = model1.fit(X_train, y_train)\n",
        "train_model2 = model2.fit(X_train, y_train)\n",
        "\n",
        "pred1 = train_model1.predict(X_test)\n",
        "pred2 = train_model2.predict(X_test)"
      ],
      "execution_count": 0,
      "outputs": []
    },
    {
      "cell_type": "code",
      "metadata": {
        "id": "LGTf0QXviWaO",
        "colab_type": "code",
        "colab": {}
      },
      "source": [
        "sample['enrollee_id'] = X_test['enrollee_id']\n",
        "sample['target'] = pred1\n",
        "\n",
        "sample.to_csv('/content/drive/My Drive/Competitions - Neha/AV-JanataHack-HR Analytics/sub8.csv', index=None, header= True)"
      ],
      "execution_count": 0,
      "outputs": []
    },
    {
      "cell_type": "code",
      "metadata": {
        "id": "mULhOs4IiXYC",
        "colab_type": "code",
        "colab": {}
      },
      "source": [
        "sample['enrollee_id'] = X_test['enrollee_id']\n",
        "sample['target'] = pred2\n",
        "\n",
        "sample.to_csv('/content/drive/My Drive/Competitions - Neha/AV-JanataHack-HR Analytics/sub9.csv', index=None, header= True)"
      ],
      "execution_count": 0,
      "outputs": []
    },
    {
      "cell_type": "code",
      "metadata": {
        "id": "FyHYxsTjU6ls",
        "colab_type": "code",
        "colab": {}
      },
      "source": [
        "#Let's do a little Gridsearch, Hyperparameter Tunning\n",
        "model3 = xgb.XGBClassifier(\n",
        " learning_rate =0.1,\n",
        " n_estimators=1000,\n",
        " max_depth=5,\n",
        " min_child_weight=1,\n",
        " gamma=0,\n",
        " subsample=0.8,\n",
        " colsample_bytree=0.8,\n",
        " objective= 'binary:logistic',\n",
        " nthread=4,\n",
        " scale_pos_weight=1,\n",
        " seed=27)\n",
        "\n",
        "train_model3 = model3.fit(X_train, y_train)\n",
        "pred3 = train_model3.predict(X_test)"
      ],
      "execution_count": 0,
      "outputs": []
    },
    {
      "cell_type": "code",
      "metadata": {
        "id": "dn5RhxEQieEz",
        "colab_type": "code",
        "colab": {}
      },
      "source": [
        "sample['enrollee_id'] = X_test['enrollee_id']\n",
        "sample['target'] = pred3\n",
        "sample.to_csv('/content/drive/My Drive/Competitions - Neha/AV-JanataHack-HR Analytics/sub10.csv', index=None, header= True)"
      ],
      "execution_count": 0,
      "outputs": []
    },
    {
      "cell_type": "code",
      "metadata": {
        "id": "EWk1NH_9U6hp",
        "colab_type": "code",
        "colab": {
          "base_uri": "https://localhost:8080/",
          "height": 353
        },
        "outputId": "42947c30-5df6-4337-f03a-a166fa75d631"
      },
      "source": [
        "from sklearn.model_selection import GridSearchCV\n",
        "\n",
        "param_test = {\n",
        " 'max_depth':[4,5,6],\n",
        " 'min_child_weight':[4,5,6]\n",
        "}\n",
        "gsearch = GridSearchCV(estimator = xgb.XGBClassifier( learning_rate=0.1, n_estimators=140, max_depth=5,\n",
        " min_child_weight=2, gamma=0, subsample=0.8, colsample_bytree=0.8,\n",
        " objective= 'binary:logistic', nthread=4, scale_pos_weight=1,seed=27), \n",
        " param_grid = param_test, scoring='roc_auc',n_jobs=4,iid=False, cv=5)\n",
        "\n",
        "train_model4 = gsearch.fit(X_train, y_train)\n",
        "pred4 = train_model4.predict(X_test)"
      ],
      "execution_count": 112,
      "outputs": [
        {
          "output_type": "error",
          "ename": "KeyboardInterrupt",
          "evalue": "ignored",
          "traceback": [
            "\u001b[0;31m---------------------------------------------------------------------------\u001b[0m",
            "\u001b[0;31mKeyboardInterrupt\u001b[0m                         Traceback (most recent call last)",
            "\u001b[0;32m<ipython-input-112-5a5729be0edf>\u001b[0m in \u001b[0;36m<module>\u001b[0;34m()\u001b[0m\n\u001b[1;32m     10\u001b[0m  param_grid = param_test, scoring='roc_auc',n_jobs=4,iid=False, cv=5)\n\u001b[1;32m     11\u001b[0m \u001b[0;34m\u001b[0m\u001b[0m\n\u001b[0;32m---> 12\u001b[0;31m \u001b[0mtrain_model4\u001b[0m \u001b[0;34m=\u001b[0m \u001b[0mgsearch\u001b[0m\u001b[0;34m.\u001b[0m\u001b[0mfit\u001b[0m\u001b[0;34m(\u001b[0m\u001b[0mX_train\u001b[0m\u001b[0;34m,\u001b[0m \u001b[0my_train\u001b[0m\u001b[0;34m)\u001b[0m\u001b[0;34m\u001b[0m\u001b[0;34m\u001b[0m\u001b[0m\n\u001b[0m\u001b[1;32m     13\u001b[0m \u001b[0mpred4\u001b[0m \u001b[0;34m=\u001b[0m \u001b[0mtrain_model4\u001b[0m\u001b[0;34m.\u001b[0m\u001b[0mpredict\u001b[0m\u001b[0;34m(\u001b[0m\u001b[0mX_test\u001b[0m\u001b[0;34m)\u001b[0m\u001b[0;34m\u001b[0m\u001b[0;34m\u001b[0m\u001b[0m\n",
            "\u001b[0;32m/usr/local/lib/python3.6/dist-packages/sklearn/model_selection/_search.py\u001b[0m in \u001b[0;36mfit\u001b[0;34m(self, X, y, groups, **fit_params)\u001b[0m\n\u001b[1;32m    708\u001b[0m                 \u001b[0;32mreturn\u001b[0m \u001b[0mresults\u001b[0m\u001b[0;34m\u001b[0m\u001b[0;34m\u001b[0m\u001b[0m\n\u001b[1;32m    709\u001b[0m \u001b[0;34m\u001b[0m\u001b[0m\n\u001b[0;32m--> 710\u001b[0;31m             \u001b[0mself\u001b[0m\u001b[0;34m.\u001b[0m\u001b[0m_run_search\u001b[0m\u001b[0;34m(\u001b[0m\u001b[0mevaluate_candidates\u001b[0m\u001b[0;34m)\u001b[0m\u001b[0;34m\u001b[0m\u001b[0;34m\u001b[0m\u001b[0m\n\u001b[0m\u001b[1;32m    711\u001b[0m \u001b[0;34m\u001b[0m\u001b[0m\n\u001b[1;32m    712\u001b[0m         \u001b[0;31m# For multi-metric evaluation, store the best_index_, best_params_ and\u001b[0m\u001b[0;34m\u001b[0m\u001b[0;34m\u001b[0m\u001b[0;34m\u001b[0m\u001b[0m\n",
            "\u001b[0;32m/usr/local/lib/python3.6/dist-packages/sklearn/model_selection/_search.py\u001b[0m in \u001b[0;36m_run_search\u001b[0;34m(self, evaluate_candidates)\u001b[0m\n\u001b[1;32m   1149\u001b[0m     \u001b[0;32mdef\u001b[0m \u001b[0m_run_search\u001b[0m\u001b[0;34m(\u001b[0m\u001b[0mself\u001b[0m\u001b[0;34m,\u001b[0m \u001b[0mevaluate_candidates\u001b[0m\u001b[0;34m)\u001b[0m\u001b[0;34m:\u001b[0m\u001b[0;34m\u001b[0m\u001b[0;34m\u001b[0m\u001b[0m\n\u001b[1;32m   1150\u001b[0m         \u001b[0;34m\"\"\"Search all candidates in param_grid\"\"\"\u001b[0m\u001b[0;34m\u001b[0m\u001b[0;34m\u001b[0m\u001b[0m\n\u001b[0;32m-> 1151\u001b[0;31m         \u001b[0mevaluate_candidates\u001b[0m\u001b[0;34m(\u001b[0m\u001b[0mParameterGrid\u001b[0m\u001b[0;34m(\u001b[0m\u001b[0mself\u001b[0m\u001b[0;34m.\u001b[0m\u001b[0mparam_grid\u001b[0m\u001b[0;34m)\u001b[0m\u001b[0;34m)\u001b[0m\u001b[0;34m\u001b[0m\u001b[0;34m\u001b[0m\u001b[0m\n\u001b[0m\u001b[1;32m   1152\u001b[0m \u001b[0;34m\u001b[0m\u001b[0m\n\u001b[1;32m   1153\u001b[0m \u001b[0;34m\u001b[0m\u001b[0m\n",
            "\u001b[0;32m/usr/local/lib/python3.6/dist-packages/sklearn/model_selection/_search.py\u001b[0m in \u001b[0;36mevaluate_candidates\u001b[0;34m(candidate_params)\u001b[0m\n\u001b[1;32m    687\u001b[0m                                \u001b[0;32mfor\u001b[0m \u001b[0mparameters\u001b[0m\u001b[0;34m,\u001b[0m \u001b[0;34m(\u001b[0m\u001b[0mtrain\u001b[0m\u001b[0;34m,\u001b[0m \u001b[0mtest\u001b[0m\u001b[0;34m)\u001b[0m\u001b[0;34m\u001b[0m\u001b[0;34m\u001b[0m\u001b[0m\n\u001b[1;32m    688\u001b[0m                                in product(candidate_params,\n\u001b[0;32m--> 689\u001b[0;31m                                           cv.split(X, y, groups)))\n\u001b[0m\u001b[1;32m    690\u001b[0m \u001b[0;34m\u001b[0m\u001b[0m\n\u001b[1;32m    691\u001b[0m                 \u001b[0;32mif\u001b[0m \u001b[0mlen\u001b[0m\u001b[0;34m(\u001b[0m\u001b[0mout\u001b[0m\u001b[0;34m)\u001b[0m \u001b[0;34m<\u001b[0m \u001b[0;36m1\u001b[0m\u001b[0;34m:\u001b[0m\u001b[0;34m\u001b[0m\u001b[0;34m\u001b[0m\u001b[0m\n",
            "\u001b[0;32m/usr/local/lib/python3.6/dist-packages/joblib/parallel.py\u001b[0m in \u001b[0;36m__call__\u001b[0;34m(self, iterable)\u001b[0m\n\u001b[1;32m   1015\u001b[0m \u001b[0;34m\u001b[0m\u001b[0m\n\u001b[1;32m   1016\u001b[0m             \u001b[0;32mwith\u001b[0m \u001b[0mself\u001b[0m\u001b[0;34m.\u001b[0m\u001b[0m_backend\u001b[0m\u001b[0;34m.\u001b[0m\u001b[0mretrieval_context\u001b[0m\u001b[0;34m(\u001b[0m\u001b[0;34m)\u001b[0m\u001b[0;34m:\u001b[0m\u001b[0;34m\u001b[0m\u001b[0;34m\u001b[0m\u001b[0m\n\u001b[0;32m-> 1017\u001b[0;31m                 \u001b[0mself\u001b[0m\u001b[0;34m.\u001b[0m\u001b[0mretrieve\u001b[0m\u001b[0;34m(\u001b[0m\u001b[0;34m)\u001b[0m\u001b[0;34m\u001b[0m\u001b[0;34m\u001b[0m\u001b[0m\n\u001b[0m\u001b[1;32m   1018\u001b[0m             \u001b[0;31m# Make sure that we get a last message telling us we are done\u001b[0m\u001b[0;34m\u001b[0m\u001b[0;34m\u001b[0m\u001b[0;34m\u001b[0m\u001b[0m\n\u001b[1;32m   1019\u001b[0m             \u001b[0melapsed_time\u001b[0m \u001b[0;34m=\u001b[0m \u001b[0mtime\u001b[0m\u001b[0;34m.\u001b[0m\u001b[0mtime\u001b[0m\u001b[0;34m(\u001b[0m\u001b[0;34m)\u001b[0m \u001b[0;34m-\u001b[0m \u001b[0mself\u001b[0m\u001b[0;34m.\u001b[0m\u001b[0m_start_time\u001b[0m\u001b[0;34m\u001b[0m\u001b[0;34m\u001b[0m\u001b[0m\n",
            "\u001b[0;32m/usr/local/lib/python3.6/dist-packages/joblib/parallel.py\u001b[0m in \u001b[0;36mretrieve\u001b[0;34m(self)\u001b[0m\n\u001b[1;32m    907\u001b[0m             \u001b[0;32mtry\u001b[0m\u001b[0;34m:\u001b[0m\u001b[0;34m\u001b[0m\u001b[0;34m\u001b[0m\u001b[0m\n\u001b[1;32m    908\u001b[0m                 \u001b[0;32mif\u001b[0m \u001b[0mgetattr\u001b[0m\u001b[0;34m(\u001b[0m\u001b[0mself\u001b[0m\u001b[0;34m.\u001b[0m\u001b[0m_backend\u001b[0m\u001b[0;34m,\u001b[0m \u001b[0;34m'supports_timeout'\u001b[0m\u001b[0;34m,\u001b[0m \u001b[0;32mFalse\u001b[0m\u001b[0;34m)\u001b[0m\u001b[0;34m:\u001b[0m\u001b[0;34m\u001b[0m\u001b[0;34m\u001b[0m\u001b[0m\n\u001b[0;32m--> 909\u001b[0;31m                     \u001b[0mself\u001b[0m\u001b[0;34m.\u001b[0m\u001b[0m_output\u001b[0m\u001b[0;34m.\u001b[0m\u001b[0mextend\u001b[0m\u001b[0;34m(\u001b[0m\u001b[0mjob\u001b[0m\u001b[0;34m.\u001b[0m\u001b[0mget\u001b[0m\u001b[0;34m(\u001b[0m\u001b[0mtimeout\u001b[0m\u001b[0;34m=\u001b[0m\u001b[0mself\u001b[0m\u001b[0;34m.\u001b[0m\u001b[0mtimeout\u001b[0m\u001b[0;34m)\u001b[0m\u001b[0;34m)\u001b[0m\u001b[0;34m\u001b[0m\u001b[0;34m\u001b[0m\u001b[0m\n\u001b[0m\u001b[1;32m    910\u001b[0m                 \u001b[0;32melse\u001b[0m\u001b[0;34m:\u001b[0m\u001b[0;34m\u001b[0m\u001b[0;34m\u001b[0m\u001b[0m\n\u001b[1;32m    911\u001b[0m                     \u001b[0mself\u001b[0m\u001b[0;34m.\u001b[0m\u001b[0m_output\u001b[0m\u001b[0;34m.\u001b[0m\u001b[0mextend\u001b[0m\u001b[0;34m(\u001b[0m\u001b[0mjob\u001b[0m\u001b[0;34m.\u001b[0m\u001b[0mget\u001b[0m\u001b[0;34m(\u001b[0m\u001b[0;34m)\u001b[0m\u001b[0;34m)\u001b[0m\u001b[0;34m\u001b[0m\u001b[0;34m\u001b[0m\u001b[0m\n",
            "\u001b[0;32m/usr/local/lib/python3.6/dist-packages/joblib/_parallel_backends.py\u001b[0m in \u001b[0;36mwrap_future_result\u001b[0;34m(future, timeout)\u001b[0m\n\u001b[1;32m    560\u001b[0m         AsyncResults.get from multiprocessing.\"\"\"\n\u001b[1;32m    561\u001b[0m         \u001b[0;32mtry\u001b[0m\u001b[0;34m:\u001b[0m\u001b[0;34m\u001b[0m\u001b[0;34m\u001b[0m\u001b[0m\n\u001b[0;32m--> 562\u001b[0;31m             \u001b[0;32mreturn\u001b[0m \u001b[0mfuture\u001b[0m\u001b[0;34m.\u001b[0m\u001b[0mresult\u001b[0m\u001b[0;34m(\u001b[0m\u001b[0mtimeout\u001b[0m\u001b[0;34m=\u001b[0m\u001b[0mtimeout\u001b[0m\u001b[0;34m)\u001b[0m\u001b[0;34m\u001b[0m\u001b[0;34m\u001b[0m\u001b[0m\n\u001b[0m\u001b[1;32m    563\u001b[0m         \u001b[0;32mexcept\u001b[0m \u001b[0mLokyTimeoutError\u001b[0m\u001b[0;34m:\u001b[0m\u001b[0;34m\u001b[0m\u001b[0;34m\u001b[0m\u001b[0m\n\u001b[1;32m    564\u001b[0m             \u001b[0;32mraise\u001b[0m \u001b[0mTimeoutError\u001b[0m\u001b[0;34m(\u001b[0m\u001b[0;34m)\u001b[0m\u001b[0;34m\u001b[0m\u001b[0;34m\u001b[0m\u001b[0m\n",
            "\u001b[0;32m/usr/lib/python3.6/concurrent/futures/_base.py\u001b[0m in \u001b[0;36mresult\u001b[0;34m(self, timeout)\u001b[0m\n\u001b[1;32m    425\u001b[0m                 \u001b[0;32mreturn\u001b[0m \u001b[0mself\u001b[0m\u001b[0;34m.\u001b[0m\u001b[0m__get_result\u001b[0m\u001b[0;34m(\u001b[0m\u001b[0;34m)\u001b[0m\u001b[0;34m\u001b[0m\u001b[0;34m\u001b[0m\u001b[0m\n\u001b[1;32m    426\u001b[0m \u001b[0;34m\u001b[0m\u001b[0m\n\u001b[0;32m--> 427\u001b[0;31m             \u001b[0mself\u001b[0m\u001b[0;34m.\u001b[0m\u001b[0m_condition\u001b[0m\u001b[0;34m.\u001b[0m\u001b[0mwait\u001b[0m\u001b[0;34m(\u001b[0m\u001b[0mtimeout\u001b[0m\u001b[0;34m)\u001b[0m\u001b[0;34m\u001b[0m\u001b[0;34m\u001b[0m\u001b[0m\n\u001b[0m\u001b[1;32m    428\u001b[0m \u001b[0;34m\u001b[0m\u001b[0m\n\u001b[1;32m    429\u001b[0m             \u001b[0;32mif\u001b[0m \u001b[0mself\u001b[0m\u001b[0;34m.\u001b[0m\u001b[0m_state\u001b[0m \u001b[0;32min\u001b[0m \u001b[0;34m[\u001b[0m\u001b[0mCANCELLED\u001b[0m\u001b[0;34m,\u001b[0m \u001b[0mCANCELLED_AND_NOTIFIED\u001b[0m\u001b[0;34m]\u001b[0m\u001b[0;34m:\u001b[0m\u001b[0;34m\u001b[0m\u001b[0;34m\u001b[0m\u001b[0m\n",
            "\u001b[0;32m/usr/lib/python3.6/threading.py\u001b[0m in \u001b[0;36mwait\u001b[0;34m(self, timeout)\u001b[0m\n\u001b[1;32m    293\u001b[0m         \u001b[0;32mtry\u001b[0m\u001b[0;34m:\u001b[0m    \u001b[0;31m# restore state no matter what (e.g., KeyboardInterrupt)\u001b[0m\u001b[0;34m\u001b[0m\u001b[0;34m\u001b[0m\u001b[0m\n\u001b[1;32m    294\u001b[0m             \u001b[0;32mif\u001b[0m \u001b[0mtimeout\u001b[0m \u001b[0;32mis\u001b[0m \u001b[0;32mNone\u001b[0m\u001b[0;34m:\u001b[0m\u001b[0;34m\u001b[0m\u001b[0;34m\u001b[0m\u001b[0m\n\u001b[0;32m--> 295\u001b[0;31m                 \u001b[0mwaiter\u001b[0m\u001b[0;34m.\u001b[0m\u001b[0macquire\u001b[0m\u001b[0;34m(\u001b[0m\u001b[0;34m)\u001b[0m\u001b[0;34m\u001b[0m\u001b[0;34m\u001b[0m\u001b[0m\n\u001b[0m\u001b[1;32m    296\u001b[0m                 \u001b[0mgotit\u001b[0m \u001b[0;34m=\u001b[0m \u001b[0;32mTrue\u001b[0m\u001b[0;34m\u001b[0m\u001b[0;34m\u001b[0m\u001b[0m\n\u001b[1;32m    297\u001b[0m             \u001b[0;32melse\u001b[0m\u001b[0;34m:\u001b[0m\u001b[0;34m\u001b[0m\u001b[0;34m\u001b[0m\u001b[0m\n",
            "\u001b[0;31mKeyboardInterrupt\u001b[0m: "
          ]
        }
      ]
    },
    {
      "cell_type": "code",
      "metadata": {
        "id": "2XFiaR4pijcG",
        "colab_type": "code",
        "colab": {}
      },
      "source": [
        "sample['enrollee_id'] = X_test['enrollee_id']\n",
        "sample['target'] = pred4\n",
        "sample.to_csv('/content/drive/My Drive/Competitions - Neha/AV-JanataHack-HR Analytics/sub11.csv', index=None, header= True)"
      ],
      "execution_count": 0,
      "outputs": []
    },
    {
      "cell_type": "code",
      "metadata": {
        "id": "dcxVncI8U6eZ",
        "colab_type": "code",
        "colab": {}
      },
      "source": [
        "param_test2b = {\n",
        " 'min_child_weight':[6,8,10,12]\n",
        "}\n",
        "gsearch2b = GridSearchCV(estimator = xgb.XGBClassifier( learning_rate=0.1, n_estimators=140, max_depth=4,\n",
        " min_child_weight=2, gamma=0, subsample=0.8, colsample_bytree=0.8,\n",
        " objective= 'binary:logistic', nthread=4, scale_pos_weight=1,seed=27), \n",
        " param_grid = param_test2b, scoring='roc_auc',n_jobs=4,iid=False, cv=5)\n",
        "\n",
        "train_model5 = gsearch2b.fit(X_trian, y_train)\n",
        "pred5 = train_model5.predict(X_test)"
      ],
      "execution_count": 0,
      "outputs": []
    },
    {
      "cell_type": "code",
      "metadata": {
        "id": "IRQiVb7fU6a5",
        "colab_type": "code",
        "colab": {}
      },
      "source": [
        "sample['enrollee_id'] = X_test['enrollee_id']\n",
        "sample['target'] = pred5\n",
        "sample.to_csv('/content/drive/My Drive/Competitions - Neha/AV-JanataHack-HR Analytics/sub12.csv', index=None, header= True)"
      ],
      "execution_count": 0,
      "outputs": []
    },
    {
      "cell_type": "code",
      "metadata": {
        "id": "qojU-aeJU6XY",
        "colab_type": "code",
        "colab": {}
      },
      "source": [
        "#Tune Gamma\n",
        "param_test3 = {\n",
        " 'gamma':[i/10.0 for i in range(0,5)]\n",
        "}\n",
        "gsearch3 = GridSearchCV(estimator = xgb.XGBClassifier( learning_rate =0.1, n_estimators=140, max_depth=4,\n",
        " min_child_weight=6, gamma=0, subsample=0.8, colsample_bytree=0.8,\n",
        " objective= 'binary:logistic', nthread=4, scale_pos_weight=1,seed=27), \n",
        " param_grid = param_test3, scoring='roc_auc',n_jobs=4,iid=False, cv=5)\n",
        "\n",
        "train_model6 = gsearch3.fit(X_trian, y_train)\n",
        "pred6 = train_model6.predict(X_test)"
      ],
      "execution_count": 0,
      "outputs": []
    },
    {
      "cell_type": "code",
      "metadata": {
        "id": "o5jWnbpqU6Ua",
        "colab_type": "code",
        "colab": {}
      },
      "source": [
        "sample['enrollee_id'] = X_test['enrollee_id']\n",
        "sample['target'] = pred6\n",
        "sample.to_csv('/content/drive/My Drive/Competitions - Neha/AV-JanataHack-HR Analytics/sub13.csv', index=None, header= True)"
      ],
      "execution_count": 0,
      "outputs": []
    },
    {
      "cell_type": "code",
      "metadata": {
        "id": "Mr_saW_AU6RZ",
        "colab_type": "code",
        "colab": {}
      },
      "source": [
        ""
      ],
      "execution_count": 0,
      "outputs": []
    },
    {
      "cell_type": "markdown",
      "metadata": {
        "id": "MItmtXVnrfaY",
        "colab_type": "text"
      },
      "source": [
        "## Lgbm Hyperparameter tuning"
      ]
    },
    {
      "cell_type": "code",
      "metadata": {
        "colab_type": "code",
        "id": "XX4brrRzrpBD",
        "colab": {}
      },
      "source": [
        "X_train = trainc.drop(['target'], axis=1)\n",
        "y_train = trainc['target']\n",
        "X_test = testc"
      ],
      "execution_count": 0,
      "outputs": []
    },
    {
      "cell_type": "code",
      "metadata": {
        "colab_type": "code",
        "id": "YOMyKELPrpBG",
        "colab": {}
      },
      "source": [
        "import lightgbm as lgbm\n",
        "d_train = lgbm.Dataset(X_train, label=y_train)\n",
        "\n",
        "params = {}\n",
        "params['learning_rate'] = 0.001\n",
        "params['boosting_type'] = 'gbdt'\n",
        "params['objective'] = 'binary'\n",
        "params['metric'] = 'auc'\n",
        "params['sub_feature'] = 0.8\n",
        "params['num_leaves'] = 50\n",
        "params['min_data'] = 10\n",
        "params['max_depth'] = 50\n",
        "\n",
        "clf = lgbm.train(params, d_train)\n",
        "\n",
        "#Prediction\n",
        "y_pred_lgbm1 = clf.predict(X_test)"
      ],
      "execution_count": 0,
      "outputs": []
    },
    {
      "cell_type": "code",
      "metadata": {
        "id": "lKf_ZDylU6KO",
        "colab_type": "code",
        "colab": {}
      },
      "source": [
        "import lightgbm as lgbm\n",
        "d_train = lgbm.Dataset(X_train, label=y_train)\n",
        "\n",
        "params = {}\n",
        "params['learning_rate'] = 0.0001\n",
        "params['boosting_type'] = 'gbdt'\n",
        "params['objective'] = 'binary'\n",
        "params['metric'] = 'roc_auc'\n",
        "params['sub_feature'] = 0.1\n",
        "params['num_leaves'] = 40\n",
        "params['min_data'] = 5\n",
        "params['max_depth'] = 100\n",
        "\n",
        "clf = lgbm.train(params, d_train)\n",
        "\n",
        "#Prediction\n",
        "y_pred2 = clf.predict(X_test)"
      ],
      "execution_count": 0,
      "outputs": []
    },
    {
      "cell_type": "code",
      "metadata": {
        "id": "yu-tavFPU6G4",
        "colab_type": "code",
        "colab": {}
      },
      "source": [
        "sample['enrollee_id'] = X_test['enrollee_id']\n",
        "sample['target'] = y_pred2\n",
        "\n",
        "sample.to_csv('/content/drive/My Drive/Competitions - Neha/AV-JanataHack-HR Analytics/subb4.csv', index=None, header= True)"
      ],
      "execution_count": 0,
      "outputs": []
    },
    {
      "cell_type": "code",
      "metadata": {
        "id": "xhkHCMSTUqoL",
        "colab_type": "code",
        "colab": {}
      },
      "source": [
        "model = lgbm.LGBMClassifier( \n",
        "    boosting_type=\"gbdt\",\n",
        "    objective='binary',\n",
        "    #is_unbalance=True, \n",
        "    random_state=10, \n",
        "    n_estimators=50,\n",
        "    num_leaves=30, \n",
        "    max_depth=8,\n",
        "    feature_fraction=0.5,  \n",
        "    bagging_fraction=0.8, \n",
        "    bagging_freq=15, \n",
        "    learning_rate=0.001,    \n",
        ")\n",
        "\n",
        "params_opt = {'n_estimators':range(200, 600, 80), 'num_leaves':range(20,60,10)}\n",
        "gridSearchCV = GridSearchCV(estimator = model, \n",
        "    param_grid = params_opt, \n",
        "    scoring='roc_auc')\n",
        "gridSearchCV.fit(X_train,y_train)\n",
        "\n",
        "y_pred3 = gridSearchCV.predict(X_test)"
      ],
      "execution_count": 0,
      "outputs": []
    },
    {
      "cell_type": "code",
      "metadata": {
        "id": "0K-iFoQ-xx-w",
        "colab_type": "code",
        "colab": {}
      },
      "source": [
        "sample['enrollee_id'] = X_test['enrollee_id']\n",
        "sample['target'] = y_pred3\n",
        "\n",
        "sample.to_csv('/content/drive/My Drive/Competitions - Neha/AV-JanataHack-HR Analytics/subb5.csv', index=None, header= True)"
      ],
      "execution_count": 0,
      "outputs": []
    }
  ]
}