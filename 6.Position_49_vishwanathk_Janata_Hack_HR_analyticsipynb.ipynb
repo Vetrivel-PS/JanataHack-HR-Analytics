{
 "cells": [
  {
   "cell_type": "code",
   "execution_count": 2082,
   "metadata": {},
   "outputs": [],
   "source": [
    "import pandas as pd\n",
    "import numpy as np\n",
    "import matplotlib.pyplot as plt\n",
    "%matplotlib inline\n",
    "import seaborn as sns\n",
    "plt.style.use('ggplot')\n",
    "\n",
    "from sklearn.ensemble import RandomForestClassifier\n",
    "from sklearn.metrics import roc_auc_score,roc_curve,auc\n",
    "from sklearn.preprocessing import LabelEncoder,MinMaxScaler\n",
    "from sklearn.model_selection import train_test_split,KFold,RandomizedSearchCV,StratifiedKFold\n",
    "\n",
    "pd.options.display.max_columns = 100\n",
    "pd.options.display.max_rows = 200\n",
    "\n",
    "import plotly\n",
    "import plotly.express as px        # A wrapper of plotly\n",
    "import plotly.graph_objects as go  # Used for plotly in a object oriented way\n",
    "\n",
    "import cufflinks as cf             # Binds pandas and plotly\n",
    "import plotly.offline as pyo       # using plotly offline\n",
    "from plotly.offline import init_notebook_mode,plot,iplot\n",
    "\n",
    "from plotly.subplots import make_subplots\n",
    "pd.set_option('display.max_columns', 500)"
   ]
  },
  {
   "cell_type": "code",
   "execution_count": 2083,
   "metadata": {},
   "outputs": [
    {
     "data": {
      "text/html": [
       "        <script type=\"text/javascript\">\n",
       "        window.PlotlyConfig = {MathJaxConfig: 'local'};\n",
       "        if (window.MathJax) {MathJax.Hub.Config({SVG: {font: \"STIX-Web\"}});}\n",
       "        if (typeof require !== 'undefined') {\n",
       "        require.undef(\"plotly\");\n",
       "        requirejs.config({\n",
       "            paths: {\n",
       "                'plotly': ['https://cdn.plot.ly/plotly-latest.min']\n",
       "            }\n",
       "        });\n",
       "        require(['plotly'], function(Plotly) {\n",
       "            window._Plotly = Plotly;\n",
       "        });\n",
       "        }\n",
       "        </script>\n",
       "        "
      ]
     },
     "metadata": {},
     "output_type": "display_data"
    },
    {
     "data": {
      "text/html": [
       "        <script type=\"text/javascript\">\n",
       "        window.PlotlyConfig = {MathJaxConfig: 'local'};\n",
       "        if (window.MathJax) {MathJax.Hub.Config({SVG: {font: \"STIX-Web\"}});}\n",
       "        if (typeof require !== 'undefined') {\n",
       "        require.undef(\"plotly\");\n",
       "        requirejs.config({\n",
       "            paths: {\n",
       "                'plotly': ['https://cdn.plot.ly/plotly-latest.min']\n",
       "            }\n",
       "        });\n",
       "        require(['plotly'], function(Plotly) {\n",
       "            window._Plotly = Plotly;\n",
       "        });\n",
       "        }\n",
       "        </script>\n",
       "        "
      ]
     },
     "metadata": {},
     "output_type": "display_data"
    }
   ],
   "source": [
    "pyo.init_notebook_mode(connected=True)\n",
    "cf.go_offline()"
   ]
  },
  {
   "cell_type": "code",
   "execution_count": 2084,
   "metadata": {},
   "outputs": [],
   "source": [
    "train = pd.read_csv(r\"C:/Users/kulka/Desktop/AV_Hackathon_Codes/HR_Analytics_Janatahack/Data/train_jqd04QH.csv\")\n",
    "test  = pd.read_csv(r\"C:/Users/kulka/Desktop/AV_Hackathon_Codes/HR_Analytics_Janatahack/Data/test_KaymcHn.csv\")"
   ]
  },
  {
   "cell_type": "code",
   "execution_count": 2085,
   "metadata": {},
   "outputs": [
    {
     "data": {
      "text/plain": [
       "(18359, 15021)"
      ]
     },
     "execution_count": 2085,
     "metadata": {},
     "output_type": "execute_result"
    }
   ],
   "source": [
    "train.enrollee_id.nunique(), test.enrollee_id.nunique()"
   ]
  },
  {
   "cell_type": "code",
   "execution_count": 2086,
   "metadata": {},
   "outputs": [],
   "source": [
    "Submission = test[['enrollee_id']]\n",
    "train.drop('enrollee_id',axis=1,inplace=True)\n",
    "test.drop('enrollee_id',axis=1,inplace=True)"
   ]
  },
  {
   "cell_type": "code",
   "execution_count": 2087,
   "metadata": {},
   "outputs": [
    {
     "data": {
      "text/plain": [
       "((18359, 13), (15021, 12))"
      ]
     },
     "execution_count": 2087,
     "metadata": {},
     "output_type": "execute_result"
    }
   ],
   "source": [
    "train.shape, test.shape"
   ]
  },
  {
   "cell_type": "markdown",
   "metadata": {},
   "source": [
    "1. Train data contains 18359 records and Test data contains 15021 records, so both are almost same in dimensions."
   ]
  },
  {
   "cell_type": "code",
   "execution_count": 2088,
   "metadata": {},
   "outputs": [
    {
     "name": "stdout",
     "output_type": "stream",
     "text": [
      "<class 'pandas.core.frame.DataFrame'>\n",
      "RangeIndex: 18359 entries, 0 to 18358\n",
      "Data columns (total 13 columns):\n",
      " #   Column                  Non-Null Count  Dtype  \n",
      "---  ------                  --------------  -----  \n",
      " 0   city                    18359 non-null  object \n",
      " 1   city_development_index  18359 non-null  float64\n",
      " 2   gender                  14261 non-null  object \n",
      " 3   relevent_experience     18359 non-null  object \n",
      " 4   enrolled_university     18017 non-null  object \n",
      " 5   education_level         17902 non-null  object \n",
      " 6   major_discipline        15521 non-null  object \n",
      " 7   experience              18300 non-null  object \n",
      " 8   company_size            13580 non-null  object \n",
      " 9   company_type            13320 non-null  object \n",
      " 10  last_new_job            17992 non-null  object \n",
      " 11  training_hours          18359 non-null  int64  \n",
      " 12  target                  18359 non-null  int64  \n",
      "dtypes: float64(1), int64(2), object(10)\n",
      "memory usage: 1.8+ MB\n"
     ]
    }
   ],
   "source": [
    "train.info()"
   ]
  },
  {
   "cell_type": "markdown",
   "metadata": {},
   "source": [
    "1. Missing values in Gender, Enrolled_University, Education_Level, Major_Discipline, Experience, Company_Size, Company_Type, Last_New_Job variables.\n",
    "2. Most of the columns except id variable, development index, training_hours and target variable are categorical in nature. "
   ]
  },
  {
   "cell_type": "code",
   "execution_count": 2089,
   "metadata": {},
   "outputs": [
    {
     "data": {
      "text/plain": [
       "city                         0\n",
       "city_development_index       0\n",
       "gender                    4098\n",
       "relevent_experience          0\n",
       "enrolled_university        342\n",
       "education_level            457\n",
       "major_discipline          2838\n",
       "experience                  59\n",
       "company_size              4779\n",
       "company_type              5039\n",
       "last_new_job               367\n",
       "training_hours               0\n",
       "target                       0\n",
       "dtype: int64"
      ]
     },
     "execution_count": 2089,
     "metadata": {},
     "output_type": "execute_result"
    }
   ],
   "source": [
    "train.isna().sum()"
   ]
  },
  {
   "cell_type": "code",
   "execution_count": 2090,
   "metadata": {},
   "outputs": [
    {
     "data": {
      "text/plain": [
       "city                         0\n",
       "city_development_index       0\n",
       "gender                    3388\n",
       "relevent_experience          0\n",
       "enrolled_university        279\n",
       "education_level            395\n",
       "major_discipline          2393\n",
       "experience                  44\n",
       "company_size              4051\n",
       "company_type              4330\n",
       "last_new_job               304\n",
       "training_hours               0\n",
       "dtype: int64"
      ]
     },
     "execution_count": 2090,
     "metadata": {},
     "output_type": "execute_result"
    }
   ],
   "source": [
    "test.isna().sum()"
   ]
  },
  {
   "cell_type": "markdown",
   "metadata": {},
   "source": [
    "### Target Variable"
   ]
  },
  {
   "cell_type": "code",
   "execution_count": 2091,
   "metadata": {},
   "outputs": [
    {
     "data": {
      "image/png": "[encoded data removed]",
      "text/plain": [
       "<Figure size 432x288 with 1 Axes>"
      ]
     },
     "metadata": {},
     "output_type": "display_data"
    }
   ],
   "source": [
    "sns.countplot(train['target']);\n",
    "plt.title(\"Distribution of Target Variable\");"
   ]
  },
  {
   "cell_type": "markdown",
   "metadata": {},
   "source": [
    "1. Looks like there is class imbalance in the target variable.\n",
    "2. As we can see below, almost 87% of the values are of one class and the rest are of another class.\n",
    "3. So most of the candidates in the train data are not looking for a job change and few are looking for job change."
   ]
  },
  {
   "cell_type": "code",
   "execution_count": 2092,
   "metadata": {},
   "outputs": [
    {
     "data": {
      "text/plain": [
       "0    0.867912\n",
       "1    0.132088\n",
       "Name: target, dtype: float64"
      ]
     },
     "execution_count": 2092,
     "metadata": {},
     "output_type": "execute_result"
    }
   ],
   "source": [
    "train['target'].value_counts(dropna=False)/len(train)"
   ]
  },
  {
   "cell_type": "markdown",
   "metadata": {},
   "source": [
    "### Dependent Variables"
   ]
  },
  {
   "cell_type": "markdown",
   "metadata": {},
   "source": [
    "#### city_id"
   ]
  },
  {
   "cell_type": "code",
   "execution_count": 2093,
   "metadata": {},
   "outputs": [
    {
     "data": {
      "text/plain": [
       "(123, 123)"
      ]
     },
     "execution_count": 2093,
     "metadata": {},
     "output_type": "execute_result"
    }
   ],
   "source": [
    "train['city'].nunique(), test['city'].nunique()"
   ]
  },
  {
   "cell_type": "markdown",
   "metadata": {},
   "source": [
    "Both Train and Test datasets have same number of Unique Values"
   ]
  },
  {
   "cell_type": "code",
   "execution_count": 2094,
   "metadata": {},
   "outputs": [
    {
     "data": {
      "image/png": "[encoded data removed]",
      "text/plain": [
       "<Figure size 1152x432 with 1 Axes>"
      ]
     },
     "metadata": {},
     "output_type": "display_data"
    }
   ],
   "source": [
    "plt.figure(figsize=(16,6));\n",
    "sns.barplot(x=train['city'].value_counts(dropna=False).index.values,y=train['city'].value_counts(dropna=False).values);\n",
    "plt.xticks(rotation=90);\n",
    "plt.xlabel(\"City_Id\");\n",
    "plt.ylabel(\"Count\");\n",
    "plt.title(\"Count of City_Id's\");"
   ]
  },
  {
   "cell_type": "markdown",
   "metadata": {},
   "source": [
    "1. No Missing values here in city_id variable.\n",
    "2. Few of the city_id's are accounting for most of the values."
   ]
  },
  {
   "cell_type": "markdown",
   "metadata": {},
   "source": [
    "#### city_development_index"
   ]
  },
  {
   "cell_type": "code",
   "execution_count": 2095,
   "metadata": {},
   "outputs": [
    {
     "data": {
      "text/plain": [
       "count    18359.000000\n",
       "mean         0.847140\n",
       "std          0.110189\n",
       "min          0.448000\n",
       "25%          0.796000\n",
       "50%          0.910000\n",
       "75%          0.920000\n",
       "max          0.949000\n",
       "Name: city_development_index, dtype: float64"
      ]
     },
     "execution_count": 2095,
     "metadata": {},
     "output_type": "execute_result"
    }
   ],
   "source": [
    "train['city_development_index'].describe()"
   ]
  },
  {
   "cell_type": "markdown",
   "metadata": {},
   "source": [
    "1. Maximum city_development_index rating is 0.949, and minimum value is 0.448.\n",
    "2. Median value is 0.91, so a lot of values are towards the right. the distribution is slightly right skewed. \n",
    "3. Average value of city_development index is 0.847, this is expected as most of the values are upwards of 0.90 and it drives the average towards that value."
   ]
  },
  {
   "cell_type": "code",
   "execution_count": 2096,
   "metadata": {},
   "outputs": [
    {
     "data": {
      "image/png": "[encoded data removed]",
      "text/plain": [
       "<Figure size 432x288 with 1 Axes>"
      ]
     },
     "metadata": {},
     "output_type": "display_data"
    }
   ],
   "source": [
    "sns.distplot(train['city_development_index']);\n",
    "plt.title(\"Distribution plot of City_Development_Index variable.\");"
   ]
  },
  {
   "cell_type": "markdown",
   "metadata": {},
   "source": [
    "#### gender"
   ]
  },
  {
   "cell_type": "code",
   "execution_count": 2097,
   "metadata": {},
   "outputs": [
    {
     "data": {
      "text/plain": [
       "Male      12884\n",
       "NaN        4098\n",
       "Female     1188\n",
       "Other       189\n",
       "Name: gender, dtype: int64"
      ]
     },
     "execution_count": 2097,
     "metadata": {},
     "output_type": "execute_result"
    }
   ],
   "source": [
    "train['gender'].value_counts(dropna=False).sort_values(ascending=False)"
   ]
  },
  {
   "cell_type": "code",
   "execution_count": 2098,
   "metadata": {},
   "outputs": [
    {
     "data": {
      "text/plain": [
       "Male      10578\n",
       "NaN        3388\n",
       "Female      897\n",
       "Other       158\n",
       "Name: gender, dtype: int64"
      ]
     },
     "execution_count": 2098,
     "metadata": {},
     "output_type": "execute_result"
    }
   ],
   "source": [
    "test['gender'].value_counts(dropna=False).sort_values(ascending=False)"
   ]
  },
  {
   "cell_type": "code",
   "execution_count": 2099,
   "metadata": {},
   "outputs": [
    {
     "data": {
      "text/plain": [
       "Text(0.5, 1.0, 'Bar plot of Gender Variable')"
      ]
     },
     "execution_count": 2099,
     "metadata": {},
     "output_type": "execute_result"
    },
    {
     "data": {
      "image/png": "[encoded data removed]",
      "text/plain": [
       "<Figure size 432x288 with 1 Axes>"
      ]
     },
     "metadata": {},
     "output_type": "display_data"
    }
   ],
   "source": [
    "train['gender'].value_counts(dropna=False).sort_values(ascending=False).plot(kind='bar');\n",
    "plt.xticks(rotation=360);\n",
    "plt.ylabel(\"Count\");\n",
    "plt.title(\"Bar plot of Gender Variable\")"
   ]
  },
  {
   "cell_type": "markdown",
   "metadata": {},
   "source": [
    "1. Lot of Missing values in gender, approximately 22% of the values are missing.\n",
    "2. There is also another gender apart from Male and Female. \n",
    "3. Missing values can either be imputed with the mode (Which will lead to the variable being highly skewed towards Male), or missing values can be placed in another category."
   ]
  },
  {
   "cell_type": "markdown",
   "metadata": {},
   "source": [
    "#### relevent_experience"
   ]
  },
  {
   "cell_type": "code",
   "execution_count": 2100,
   "metadata": {},
   "outputs": [
    {
     "data": {
      "text/plain": [
       "Has relevent experience    13596\n",
       "No relevent experience      4763\n",
       "Name: relevent_experience, dtype: int64"
      ]
     },
     "execution_count": 2100,
     "metadata": {},
     "output_type": "execute_result"
    }
   ],
   "source": [
    "train['relevent_experience'].value_counts(dropna=False).sort_values(ascending=False)"
   ]
  },
  {
   "cell_type": "code",
   "execution_count": 2101,
   "metadata": {},
   "outputs": [
    {
     "data": {
      "text/plain": [
       "Has relevent experience    11102\n",
       "No relevent experience      3919\n",
       "Name: relevent_experience, dtype: int64"
      ]
     },
     "execution_count": 2101,
     "metadata": {},
     "output_type": "execute_result"
    }
   ],
   "source": [
    "test['relevent_experience'].value_counts(dropna=False).sort_values(ascending=False)"
   ]
  },
  {
   "cell_type": "markdown",
   "metadata": {},
   "source": [
    "1. Approximately 74% of students have relevant experience in the field and 25% do not."
   ]
  },
  {
   "cell_type": "markdown",
   "metadata": {},
   "source": [
    "#### enrolled_university"
   ]
  },
  {
   "cell_type": "code",
   "execution_count": 2102,
   "metadata": {},
   "outputs": [
    {
     "data": {
      "text/plain": [
       "no_enrollment       13659\n",
       "Full time course     3187\n",
       "Part time course     1171\n",
       "NaN                   342\n",
       "Name: enrolled_university, dtype: int64"
      ]
     },
     "execution_count": 2102,
     "metadata": {},
     "output_type": "execute_result"
    }
   ],
   "source": [
    "train['enrolled_university'].value_counts(dropna=False).sort_values(ascending=False)"
   ]
  },
  {
   "cell_type": "code",
   "execution_count": 2103,
   "metadata": {},
   "outputs": [
    {
     "data": {
      "text/plain": [
       "no_enrollment       11228\n",
       "Full time course     2565\n",
       "Part time course      949\n",
       "NaN                   279\n",
       "Name: enrolled_university, dtype: int64"
      ]
     },
     "execution_count": 2103,
     "metadata": {},
     "output_type": "execute_result"
    }
   ],
   "source": [
    "test['enrolled_university'].value_counts(dropna=False).sort_values(ascending=False)"
   ]
  },
  {
   "cell_type": "markdown",
   "metadata": {},
   "source": [
    "1. Most of the students have not enrolled in any university course.\n",
    "2. There are smoe missing values in this variable.\n",
    "3. Few of the students have enrolled in a Full Time course and some have enrolled in Part Time course."
   ]
  },
  {
   "cell_type": "markdown",
   "metadata": {},
   "source": [
    "#### education_level"
   ]
  },
  {
   "cell_type": "code",
   "execution_count": 2104,
   "metadata": {},
   "outputs": [
    {
     "data": {
      "text/plain": [
       "Graduate          10769\n",
       "Masters            4319\n",
       "High School        2032\n",
       "Phd                 459\n",
       "NaN                 457\n",
       "Primary School      323\n",
       "Name: education_level, dtype: int64"
      ]
     },
     "execution_count": 2104,
     "metadata": {},
     "output_type": "execute_result"
    }
   ],
   "source": [
    "train['education_level'].value_counts(dropna=False).sort_values(ascending=False)"
   ]
  },
  {
   "cell_type": "code",
   "execution_count": 2105,
   "metadata": {},
   "outputs": [
    {
     "data": {
      "text/plain": [
       "Graduate          8743\n",
       "Masters           3478\n",
       "High School       1676\n",
       "Phd                422\n",
       "NaN                395\n",
       "Primary School     307\n",
       "Name: education_level, dtype: int64"
      ]
     },
     "execution_count": 2105,
     "metadata": {},
     "output_type": "execute_result"
    }
   ],
   "source": [
    "test['education_level'].value_counts(dropna=False).sort_values(ascending=False)"
   ]
  },
  {
   "cell_type": "markdown",
   "metadata": {},
   "source": [
    "1. Missing values in this variable too.\n",
    "2. More than half of them are Graduates, with almost 25% of them having Masters degree.\n",
    "3. 11% of them are just High School graduates and few of them have just passed primary school.\n",
    "4. There are 459 people with Phd."
   ]
  },
  {
   "cell_type": "markdown",
   "metadata": {},
   "source": [
    "#### major_discipline"
   ]
  },
  {
   "cell_type": "code",
   "execution_count": null,
   "metadata": {},
   "outputs": [],
   "source": [
    "train['major_discipline'].value_counts(dropna=False).sort_values(ascending=False)"
   ]
  },
  {
   "cell_type": "code",
   "execution_count": null,
   "metadata": {},
   "outputs": [],
   "source": [
    "test['major_discipline'].value_counts(dropna=False).sort_values(ascending=False)"
   ]
  },
  {
   "cell_type": "markdown",
   "metadata": {},
   "source": [
    "1. 15% missing values in this variable.\n",
    "2. Around 75% of them have their major discipline as STEM.\n",
    "3. Humanities, Business Degree, Arts form a minor percentage.\n",
    "4. A small percentage of them hav no major."
   ]
  },
  {
   "cell_type": "markdown",
   "metadata": {},
   "source": [
    "#### experience"
   ]
  },
  {
   "cell_type": "code",
   "execution_count": null,
   "metadata": {},
   "outputs": [],
   "source": [
    "train['experience'].value_counts(dropna=False).sort_values(ascending=False)"
   ]
  },
  {
   "cell_type": "code",
   "execution_count": null,
   "metadata": {},
   "outputs": [],
   "source": [
    "plt.figure(figsize=(10,6));\n",
    "train['experience'].value_counts(dropna=False).sort_values(ascending=False).plot(kind='bar');\n",
    "plt.xticks(rotation=360);\n",
    "plt.ylabel(\"Count\");\n",
    "plt.title(\"Bar plot of Experience Variable\")"
   ]
  },
  {
   "cell_type": "markdown",
   "metadata": {},
   "source": [
    "1. Around 20% of them have more than 20 years of experience.\n",
    "2. There are few missing values here as well.\n",
    "3. Looking at the experience summary above it can be said that most of the people with more than 15 years of experience might not be lookiing for a job change and might just want to learn things. \n",
    "4. There are 416 people with less than 1 year of experience."
   ]
  },
  {
   "cell_type": "markdown",
   "metadata": {},
   "source": [
    "#### company_size"
   ]
  },
  {
   "cell_type": "code",
   "execution_count": null,
   "metadata": {},
   "outputs": [],
   "source": [
    "plt.figure(figsize=(10,6));\n",
    "train['company_size'].value_counts(dropna=False).sort_values(ascending=False).plot(kind='bar');\n",
    "plt.xticks(rotation=360);\n",
    "plt.ylabel(\"Count\");\n",
    "plt.title(\"Bar plot of Company Size Variable\")"
   ]
  },
  {
   "cell_type": "markdown",
   "metadata": {},
   "source": [
    "1. Lot of missing values here.\n",
    "2. Most of the students work for companies with 50-100 strength.\n",
    "3. 10-49 is entered as 10/49 which needs modification.\n",
    "4. Since missing values is itself a mode, it can be changed to another category."
   ]
  },
  {
   "cell_type": "markdown",
   "metadata": {},
   "source": [
    "#### company_type"
   ]
  },
  {
   "cell_type": "code",
   "execution_count": null,
   "metadata": {},
   "outputs": [],
   "source": [
    "plt.figure(figsize=(12,6));\n",
    "train['company_type'].value_counts(dropna=False).sort_values(ascending=False).plot(kind='bar');\n",
    "plt.xticks(rotation=360);\n",
    "plt.ylabel(\"Count\");\n",
    "plt.title(\"Bar plot of Company Type Variable\")"
   ]
  },
  {
   "cell_type": "markdown",
   "metadata": {},
   "source": [
    "1. Most of the students work for Pvt companies. Lot of missing values here."
   ]
  },
  {
   "cell_type": "markdown",
   "metadata": {},
   "source": [
    "#### last_new_job"
   ]
  },
  {
   "cell_type": "code",
   "execution_count": null,
   "metadata": {},
   "outputs": [],
   "source": [
    "plt.figure(figsize=(12,6));\n",
    "train['last_new_job'].value_counts(dropna=False).sort_values(ascending=False).plot(kind='bar');\n",
    "plt.xticks(rotation=360);\n",
    "plt.ylabel(\"Count\");\n",
    "plt.title(\"Bar plot of last_new_job Variable\")"
   ]
  },
  {
   "cell_type": "markdown",
   "metadata": {},
   "source": [
    "1. Majority of them have less than a year of difference between their current job and the previous one.\n",
    "2. Some of them have not changed their job at all.\n",
    "3. There are missing values in this variable as well."
   ]
  },
  {
   "cell_type": "markdown",
   "metadata": {},
   "source": [
    "#### training_hours"
   ]
  },
  {
   "cell_type": "code",
   "execution_count": null,
   "metadata": {},
   "outputs": [],
   "source": [
    "train['training_hours'].describe()"
   ]
  },
  {
   "cell_type": "markdown",
   "metadata": {},
   "source": [
    "1. Minimum training Hour is 1 which is surprising value and doesn't make sense.\n",
    "2. Maximum training hours is 336 hours and average training hours is 66 hours with median being 47 hours.\n",
    "3. The maximum value might be an outlier by considering the other values.\n",
    "4. It's a negatively skewed distribution as can be seen below from the distribution plot."
   ]
  },
  {
   "cell_type": "code",
   "execution_count": null,
   "metadata": {},
   "outputs": [],
   "source": [
    "Q3 = train['training_hours'].quantile(0.75)\n",
    "Q1 = train['training_hours'].quantile(0.25)\n",
    "IQR = Q3-Q1\n",
    "lower_outlier = Q1-(1.5*IQR)\n",
    "upper_outlier = Q3+(1.5*IQR)\n",
    "print (\"Values below {} and values above {} can be considered as outliers\".format(lower_outlier,upper_outlier))"
   ]
  },
  {
   "cell_type": "code",
   "execution_count": null,
   "metadata": {},
   "outputs": [],
   "source": [
    "sns.distplot(train['training_hours'])"
   ]
  },
  {
   "cell_type": "code",
   "execution_count": null,
   "metadata": {},
   "outputs": [],
   "source": [
    "train['training_hours'].value_counts(dropna=False).sort_values(ascending=False).head(20)"
   ]
  },
  {
   "cell_type": "markdown",
   "metadata": {},
   "source": [
    "### Bi-Variate Analysis"
   ]
  },
  {
   "cell_type": "code",
   "execution_count": null,
   "metadata": {},
   "outputs": [],
   "source": [
    "train.groupby('gender')['target'].value_counts().unstack().plot(kind='bar',title=\"Distribution of Target Variable by gender\")\n",
    "plt.xlabel(\"gender\")\n",
    "plt.ylabel(\"Count\")\n",
    "plt.xticks(rotation=360)"
   ]
  },
  {
   "cell_type": "code",
   "execution_count": null,
   "metadata": {},
   "outputs": [],
   "source": [
    "train.groupby('relevent_experience')['target'].value_counts().unstack().plot(kind='bar',title=\"Distribution of Target Variable by relevent_experience\")\n",
    "plt.xlabel(\"relevent_experience\")\n",
    "plt.ylabel(\"Count\")\n",
    "plt.xticks(rotation=360)"
   ]
  },
  {
   "cell_type": "markdown",
   "metadata": {},
   "source": [
    "1. As we can see in the above plot, Most of the students having relevant experience, do not need a new job.\n",
    "2. Even in the case with no relevant experience, most of them don't need a new job."
   ]
  },
  {
   "cell_type": "code",
   "execution_count": null,
   "metadata": {
    "scrolled": false
   },
   "outputs": [],
   "source": [
    "train.groupby('enrolled_university')['target'].value_counts().unstack().plot(kind='bar',title=\"Distribution of Target Variable by enrolled_university\")\n",
    "plt.xlabel(\"enrolled_university\")\n",
    "plt.ylabel(\"Count\")\n",
    "plt.xticks(rotation=360)"
   ]
  },
  {
   "cell_type": "markdown",
   "metadata": {},
   "source": [
    "We can see above that majority of the job seekers have no enrollment in the university."
   ]
  },
  {
   "cell_type": "code",
   "execution_count": null,
   "metadata": {},
   "outputs": [],
   "source": [
    "train.groupby('education_level')['target'].value_counts().unstack().plot(kind='bar',title=\"Distribution of Target Variable by education_level\")\n",
    "plt.xlabel(\"education_level\")\n",
    "plt.ylabel(\"Count\")\n",
    "plt.xticks(rotation=45)"
   ]
  },
  {
   "cell_type": "markdown",
   "metadata": {},
   "source": [
    "1. We can see that majority of the students looking for job are Graduates followed by people with Masters degree."
   ]
  },
  {
   "cell_type": "code",
   "execution_count": null,
   "metadata": {},
   "outputs": [],
   "source": [
    "train.groupby('major_discipline')['target'].value_counts().unstack().plot(kind='bar',title=\"Distribution of Target Variable by major_discipline\")\n",
    "plt.xlabel(\"major_discipline\")\n",
    "plt.ylabel(\"Count\")\n",
    "plt.xticks(rotation=45)"
   ]
  },
  {
   "cell_type": "code",
   "execution_count": null,
   "metadata": {},
   "outputs": [],
   "source": [
    "train.groupby('company_size')['target'].value_counts().unstack().plot(kind='bar',title=\"Distribution of Target Variable by Company Size\")\n",
    "plt.xlabel(\"Company Size\")\n",
    "plt.ylabel(\"Count\")\n",
    "plt.xticks(rotation=45)"
   ]
  },
  {
   "cell_type": "code",
   "execution_count": null,
   "metadata": {},
   "outputs": [],
   "source": [
    "train.groupby('company_type')['target'].value_counts().unstack().plot(kind='bar',title=\"Distribution of Target Variable by Company Type\")\n",
    "plt.xlabel(\"Company Type\")\n",
    "plt.ylabel(\"Count\")\n",
    "plt.xticks(rotation=360)"
   ]
  },
  {
   "cell_type": "code",
   "execution_count": null,
   "metadata": {},
   "outputs": [],
   "source": [
    "train.groupby('last_new_job')['target'].value_counts().unstack().plot(kind='bar',title=\"Distribution of Target Variable by last_new_job\")\n",
    "plt.xlabel(\"last_new_job\")\n",
    "plt.ylabel(\"Count\")\n",
    "plt.xticks(rotation=360)"
   ]
  },
  {
   "cell_type": "markdown",
   "metadata": {},
   "source": [
    "### Missing Value treatment, Feature Generation."
   ]
  },
  {
   "cell_type": "code",
   "execution_count": null,
   "metadata": {},
   "outputs": [],
   "source": [
    "def experience_binning(x):\n",
    "    if x<=5:\n",
    "        return \"Low\"\n",
    "    elif (x>5 and x<=10):\n",
    "        return \"Medium\"\n",
    "    elif (x>10 and x<=15):\n",
    "        return \"High\"\n",
    "    else:\n",
    "        return \"Very_High\"\n",
    "\n",
    "def company_size_binning(x):\n",
    "    if x==\"<10\":\n",
    "        return \"Low\"\n",
    "    elif x==\"10-49\":\n",
    "        return \"Low\"\n",
    "    elif x==\"50-99\":\n",
    "        return \"Low\"\n",
    "    elif x==\"100-500\":\n",
    "        return \"Low\"\n",
    "    elif x==\"500-999\":\n",
    "        return \"Low\"\n",
    "    elif x==\"1000-4999\":\n",
    "        return \"Medium\"\n",
    "    elif x==\"5000-9999\":\n",
    "        return \"Medium\"\n",
    "    elif x==\"10000+\":\n",
    "        return \"High\"\n",
    "    else:\n",
    "        return \"Missing\"\n",
    "    \n",
    "def city_development_index_binning(x):\n",
    "    if x<=0.75:\n",
    "        return \"Low\"\n",
    "    elif (x>0.75 and x<=0.90):\n",
    "        return \"Medium\"\n",
    "    else:\n",
    "        return \"High\""
   ]
  },
  {
   "cell_type": "code",
   "execution_count": null,
   "metadata": {},
   "outputs": [],
   "source": [
    "for df in [train,test]:\n",
    "    df['experience'] = df['experience'].replace({\"<1\":\"0\",\">20\":\"21\"})\n",
    "    df['experience'].fillna(\"20\",inplace=True)\n",
    "    df['experience'] = df['experience'].astype(int)\n",
    "    df['Experience_Binning'] = df['experience'].apply(experience_binning)\n",
    "    \n",
    "    df['gender'].fillna(\"Missing\",inplace=True)\n",
    "    df['enrolled_university'].fillna(\"Missing\",inplace=True)\n",
    "    df['education_level'].fillna(\"Missing\",inplace=True)\n",
    "    df['major_discipline'].fillna(\"Missing\",inplace=True)\n",
    "    \n",
    "    df['company_size'].fillna(\"Missing\",inplace=True)\n",
    "    df['company_size'].replace({\"10/49\":\"10-49\"},inplace=True)\n",
    "    df['Company_Size_Binning'] = df['company_size'].apply(company_size_binning)\n",
    "    \n",
    "    df['company_type'].fillna(\"Missing\",inplace=True)\n",
    "    df['last_new_job'].fillna(\"Missing\",inplace=True)\n",
    "    df['City_Development_Index_Binning'] = df['city_development_index'].apply(city_development_index_binning)"
   ]
  },
  {
   "cell_type": "code",
   "execution_count": null,
   "metadata": {},
   "outputs": [],
   "source": [
    "train.isna().sum()"
   ]
  },
  {
   "cell_type": "code",
   "execution_count": null,
   "metadata": {},
   "outputs": [],
   "source": [
    "test.isna().sum()"
   ]
  },
  {
   "cell_type": "code",
   "execution_count": null,
   "metadata": {},
   "outputs": [],
   "source": [
    "# Let's check the categorical columns that have high cardinality."
   ]
  },
  {
   "cell_type": "code",
   "execution_count": null,
   "metadata": {},
   "outputs": [],
   "source": [
    "for col in train.columns:\n",
    "    if train[col].dtype == \"object\":\n",
    "        print (\"Number of Unique Values in {} Variable in Train data are:{}\".format(col,train[col].nunique()))"
   ]
  },
  {
   "cell_type": "code",
   "execution_count": null,
   "metadata": {},
   "outputs": [],
   "source": [
    "for col in train.columns:\n",
    "    if train[col].dtype == \"object\":\n",
    "        print (\"Number of Unique Values in {} Variable in Test data are:{}\".format(col,test[col].nunique()))"
   ]
  },
  {
   "cell_type": "markdown",
   "metadata": {},
   "source": [
    "1. We can see that all the variables in both Train and Test data have same cardinality. \n",
    "2. Cardinality of City variable is very high and hence doesn't make sense to create dummy variables out of it."
   ]
  },
  {
   "cell_type": "code",
   "execution_count": null,
   "metadata": {},
   "outputs": [],
   "source": [
    "# Creating Mean Encoded features."
   ]
  },
  {
   "cell_type": "code",
   "execution_count": null,
   "metadata": {},
   "outputs": [],
   "source": [
    "target_mean_grouped_by_gender = np.round(train.groupby('gender')['target'].mean(),2).to_dict()\n",
    "train['target_mean_grouped_by_gender'] = train['gender'].map(target_mean_grouped_by_gender)\n",
    "\n",
    "target_mean_grouped_by_relevent_exp = np.round(train.groupby('relevent_experience')['target'].mean(),2).to_dict()\n",
    "train['target_mean_grouped_by_relevent_exp'] = train['relevent_experience'].map(target_mean_grouped_by_relevent_exp)\n",
    "\n",
    "target_mean_grouped_by_enrolled_university = np.round(train.groupby('enrolled_university')['target'].mean(),2).to_dict()\n",
    "train['target_mean_grouped_by_enrolled_university'] = train['enrolled_university'].map(target_mean_grouped_by_enrolled_university)\n",
    "\n",
    "target_mean_grouped_by_education_level = np.round(train.groupby('education_level')['target'].mean(),2).to_dict()\n",
    "train['target_mean_grouped_by_education_level'] = train['education_level'].map(target_mean_grouped_by_education_level)\n",
    "\n",
    "target_mean_grouped_by_major_discipline = np.round(train.groupby('major_discipline')['target'].mean(),2).to_dict()\n",
    "train['target_mean_grouped_by_major_discipline'] = train['major_discipline'].map(target_mean_grouped_by_major_discipline)\n",
    "\n",
    "target_mean_grouped_by_experience = np.round(train.groupby('experience')['target'].mean(),2).to_dict()\n",
    "train['target_mean_grouped_by_experience'] = train['experience'].map(target_mean_grouped_by_experience)\n",
    "\n",
    "target_mean_grouped_by_company_size = np.round(train.groupby('company_size')['target'].mean(),2).to_dict()\n",
    "train['target_mean_grouped_by_company_size'] = train['company_size'].map(target_mean_grouped_by_company_size)\n",
    "\n",
    "target_mean_grouped_by_company_type = np.round(train.groupby('company_type')['target'].mean(),2).to_dict()\n",
    "train['target_mean_grouped_by_company_type'] = train['company_type'].map(target_mean_grouped_by_company_type)\n",
    "\n",
    "test['target_mean_grouped_by_gender'] = test['gender'].map(target_mean_grouped_by_gender)\n",
    "test['target_mean_grouped_by_relevent_exp'] = test['relevent_experience'].map(target_mean_grouped_by_relevent_exp)\n",
    "test['target_mean_grouped_by_enrolled_university'] = test['enrolled_university'].map(target_mean_grouped_by_enrolled_university)\n",
    "test['target_mean_grouped_by_education_level'] = test['education_level'].map(target_mean_grouped_by_education_level)\n",
    "test['target_mean_grouped_by_major_discipline'] = test['major_discipline'].map(target_mean_grouped_by_major_discipline)\n",
    "test['target_mean_grouped_by_experience'] = test['experience'].map(target_mean_grouped_by_experience)\n",
    "test['target_mean_grouped_by_company_size'] = test['company_size'].map(target_mean_grouped_by_company_size)\n",
    "test['target_mean_grouped_by_company_type'] = test['company_type'].map(target_mean_grouped_by_company_type)"
   ]
  },
  {
   "cell_type": "code",
   "execution_count": null,
   "metadata": {},
   "outputs": [],
   "source": [
    "# Converting object ariables into categorical types"
   ]
  },
  {
   "cell_type": "code",
   "execution_count": null,
   "metadata": {},
   "outputs": [],
   "source": [
    "train = pd.get_dummies(train)\n",
    "test = pd.get_dummies(test)"
   ]
  },
  {
   "cell_type": "code",
   "execution_count": null,
   "metadata": {},
   "outputs": [],
   "source": [
    "train.shape, test.shape"
   ]
  },
  {
   "cell_type": "code",
   "execution_count": null,
   "metadata": {},
   "outputs": [],
   "source": [
    "# Splitting data"
   ]
  },
  {
   "cell_type": "code",
   "execution_count": null,
   "metadata": {},
   "outputs": [],
   "source": [
    "y = train['target']\n",
    "X = train[[col for col in train.columns if col!=\"target\"]]"
   ]
  },
  {
   "cell_type": "code",
   "execution_count": null,
   "metadata": {},
   "outputs": [],
   "source": [
    "scaler = MinMaxScaler()\n",
    "X[['training_hours','experience']] = scaler.fit_transform(X[['training_hours','experience']])\n",
    "test[['training_hours','experience']] = scaler.fit_transform(test[['training_hours','experience']])"
   ]
  },
  {
   "cell_type": "markdown",
   "metadata": {},
   "source": [
    "### Modelling"
   ]
  },
  {
   "cell_type": "code",
   "execution_count": null,
   "metadata": {},
   "outputs": [],
   "source": [
    "kf = StratifiedKFold(n_splits=5,shuffle=False,random_state=42)\n",
    "pred_test_full = np.zeros(test.shape[0])\n",
    "cv_score =[]\n",
    "i=1\n",
    "for train_index,test_index in kf.split(X,y):\n",
    "    X_Train,X_Val = X.loc[train_index],X.loc[test_index]\n",
    "    y_Train,y_Val = y.loc[train_index],y.loc[test_index]\n",
    "    \n",
    "    #model\n",
    "    cls = RandomForestClassifier(n_estimators=200,n_jobs=-1,random_state=42,class_weight='balanced',max_features=0.5,max_depth=6,min_samples_leaf=7,min_samples_split=5)\n",
    "    cls.fit(X_Train,y_Train)\n",
    "    \n",
    "    score_train = roc_auc_score(y_Train,cls.predict_proba(X_Train)[:,1])\n",
    "    score_val = roc_auc_score(y_Val,cls.predict_proba(X_Val)[:,1])\n",
    "    print('{} of KFold {}'.format(i,kf.n_splits))\n",
    "    print('Training ROC AUC score:',score_train)\n",
    "    print('Validation ROC AUC score:',score_val)\n",
    "    print(\"-----------------------------------\")\n",
    "    cv_score.append(score_val)    \n",
    "    pred_test_full += cls.predict_proba(test)[:, 1] / kf.n_splits\n",
    "    i+=1\n",
    "print (\"Mean Cross Validation ROC AUC Score:{}\".format(np.array(cv_score).mean()))"
   ]
  },
  {
   "cell_type": "code",
   "execution_count": null,
   "metadata": {},
   "outputs": [],
   "source": [
    "probability = cls.predict_proba(X_Val)[:,1]\n",
    "frp,trp, threshold = roc_curve(y_Val,probability)\n",
    "roc_auc_ = auc(frp,trp)\n",
    "\n",
    "plt.figure(figsize=(14,8))\n",
    "plt.title('Reciever Operating Characteristics Curve')\n",
    "plt.plot(frp,trp,'r',label = 'AUC = %0.3f' % roc_auc_)\n",
    "plt.legend(loc='lower right')\n",
    "plt.plot([0,1],[0,1],'b--')\n",
    "plt.ylabel('True positive rate')\n",
    "plt.xlabel('False positive rate')"
   ]
  },
  {
   "cell_type": "code",
   "execution_count": null,
   "metadata": {},
   "outputs": [],
   "source": [
    "plt.figure(figsize=(18,6))\n",
    "ser = pd.Series(cls.feature_importances_,X_Train.columns).sort_values()\n",
    "ser.plot(kind='bar')"
   ]
  },
  {
   "cell_type": "code",
   "execution_count": null,
   "metadata": {},
   "outputs": [],
   "source": [
    "# Fetching variables with highest feature importance (top 50)\n",
    "lst = list(ser.sort_values(ascending=False)[:50].index)\n",
    "X = X[lst]\n",
    "test = test[lst]"
   ]
  },
  {
   "cell_type": "code",
   "execution_count": null,
   "metadata": {},
   "outputs": [],
   "source": [
    "kf = StratifiedKFold(n_splits=5,shuffle=False,random_state=42)\n",
    "pred_test_full = np.zeros(test.shape[0])\n",
    "cv_score =[]\n",
    "i=1\n",
    "for train_index,test_index in kf.split(X,y):\n",
    "    X_Train,X_Val = X.loc[train_index],X.loc[test_index]\n",
    "    y_Train,y_Val = y.loc[train_index],y.loc[test_index]\n",
    "    \n",
    "    #model\n",
    "    cls = RandomForestClassifier(n_estimators=200,n_jobs=-1,random_state=42,class_weight='balanced',max_features=0.5,max_depth=6,min_samples_leaf=7,min_samples_split=5)\n",
    "    cls.fit(X_Train,y_Train)\n",
    "    \n",
    "    score_train = roc_auc_score(y_Train,cls.predict_proba(X_Train)[:,1])\n",
    "    score_val = roc_auc_score(y_Val,cls.predict_proba(X_Val)[:,1])\n",
    "    print('{} of KFold {}'.format(i,kf.n_splits))\n",
    "    print('Training ROC AUC score:',score_train)\n",
    "    print('Validation ROC AUC score:',score_val)\n",
    "    print(\"-----------------------------------\")\n",
    "    cv_score.append(score_val)    \n",
    "    pred_test_full += cls.predict_proba(test)[:, 1] / kf.n_splits\n",
    "    i+=1\n",
    "print (\"Mean Cross Validation ROC AUC Score:{}\".format(np.array(cv_score).mean()))"
   ]
  },
  {
   "cell_type": "code",
   "execution_count": null,
   "metadata": {},
   "outputs": [],
   "source": [
    "probability = cls.predict_proba(X_Val)[:,1]\n",
    "frp,trp, threshold = roc_curve(y_Val,probability)\n",
    "roc_auc_ = auc(frp,trp)\n",
    "\n",
    "plt.figure(figsize=(14,8))\n",
    "plt.title('Reciever Operating Characteristics Curve')\n",
    "plt.plot(frp,trp,'r',label = 'AUC = %0.3f' % roc_auc_)\n",
    "plt.legend(loc='lower right')\n",
    "plt.plot([0,1],[0,1],'b--')\n",
    "plt.ylabel('True positive rate')\n",
    "plt.xlabel('False positive rate')"
   ]
  },
  {
   "cell_type": "code",
   "execution_count": null,
   "metadata": {},
   "outputs": [],
   "source": [
    "plt.figure(figsize=(18,6))\n",
    "ser = pd.Series(cls.feature_importances_,X_Train.columns).sort_values()\n",
    "ser.plot(kind='bar')"
   ]
  },
  {
   "cell_type": "code",
   "execution_count": null,
   "metadata": {},
   "outputs": [],
   "source": [
    "Submission['target'] = pred_test_full\n",
    "#Submission.to_csv(\"Sub_30.csv\",index=None)"
   ]
  },
  {
   "cell_type": "code",
   "execution_count": null,
   "metadata": {},
   "outputs": [],
   "source": [
    "Submission.head()"
   ]
  }
 ],
 "metadata": {
  "kernelspec": {
   "display_name": "Python 3",
   "language": "python",
   "name": "python3"
  },
  "language_info": {
   "codemirror_mode": {
    "name": "ipython",
    "version": 3
   },
   "file_extension": ".py",
   "mimetype": "text/x-python",
   "name": "python",
   "nbconvert_exporter": "python",
   "pygments_lexer": "ipython3",
   "version": "3.7.6"
  }
 },
 "nbformat": 4,
 "nbformat_minor": 4
}
